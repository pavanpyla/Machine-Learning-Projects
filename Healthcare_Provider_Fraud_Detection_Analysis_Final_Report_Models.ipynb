{
 "cells": [
  {
   "cell_type": "raw",
   "metadata": {
    "id": "ikzW3NL-ZWdy"
   },
   "source": [
    "Importing the required libraries"
   ]
  },
  {
   "cell_type": "code",
   "execution_count": 16,
   "metadata": {
    "id": "lZHaUG1EIyPn"
   },
   "outputs": [],
   "source": [
    "import numpy as np\n",
    "import pandas as pd\n",
    "import matplotlib.pyplot as plt\n",
    "import seaborn as sns\n",
    "\n",
    "from sklearn.preprocessing import MinMaxScaler\n",
    "from sklearn.preprocessing import StandardScaler\n",
    "\n",
    "from sklearn.model_selection import train_test_split\n",
    "\n",
    "from sklearn.metrics import confusion_matrix\n",
    "from sklearn.metrics import accuracy_score\n",
    "from sklearn.metrics import classification_report\n",
    "from sklearn.metrics import roc_auc_score\n",
    "\n",
    "from sklearn.linear_model import LogisticRegression\n",
    "from sklearn.tree import DecisionTreeClassifier\n",
    "\n",
    "from sklearn.ensemble import RandomForestClassifier\n",
    "\n",
    "import statsmodels\n",
    "import statsmodels.api as sm\n",
    "\n",
    "from sklearn import svm\n",
    "from sklearn.svm import SVC, LinearSVC\n",
    "\n",
    "from sklearn.model_selection import RandomizedSearchCV\n",
    "from sklearn.model_selection import GridSearchCV\n",
    "\n",
    "from sklearn import metrics\n",
    "from sklearn.metrics import roc_curve, auc , f1_score\n",
    "from sklearn.metrics import confusion_matrix\n",
    "from sklearn.metrics import accuracy_score\n",
    "\n",
    "from sklearn.linear_model import LogisticRegression\n",
    "from sklearn.tree import DecisionTreeClassifier\n",
    "from sklearn.calibration import CalibratedClassifierCV\n",
    "from sklearn.ensemble import RandomForestClassifier\n",
    "from sklearn.naive_bayes import GaussianNB\n",
    "from sklearn.model_selection import GridSearchCV\n",
    "from sklearn.ensemble import AdaBoostClassifier\n",
    "from sklearn.ensemble import GradientBoostingClassifier\n",
    "from sklearn.ensemble import StackingClassifier\n",
    "from sklearn.neighbors import KNeighborsClassifier\n",
    "from sklearn.model_selection import cross_val_score \n",
    "from xgboost import XGBClassifier\n",
    "from sklearn.metrics import cohen_kappa_score\n",
    "from sklearn.metrics import roc_curve\n",
    "from sklearn.feature_selection import RFE\n",
    "\n",
    "from warnings import filterwarnings\n",
    "filterwarnings('ignore')\n",
    "\n"
   ]
  },
  {
   "cell_type": "code",
   "execution_count": 17,
   "metadata": {},
   "outputs": [
    {
     "name": "stdout",
     "output_type": "stream",
     "text": [
      "C:\\Users\\Msc 1\\Documents\\prj\n"
     ]
    }
   ],
   "source": [
    "%cd C:\\Users\\Msc 1\\Documents\\prj"
   ]
  },
  {
   "cell_type": "markdown",
   "metadata": {
    "id": "ETxh18J9ZWd7"
   },
   "source": [
    "## **Importing the Beneficiary, Inpatient and Outpatient Dataset**"
   ]
  },
  {
   "cell_type": "code",
   "execution_count": 20,
   "metadata": {
    "id": "XonESzAgLN26"
   },
   "outputs": [],
   "source": [
    "df_inpatient=pd.read_csv(r\"C:\\Users\\Msc 1\\Downloads\\prj\\Train_Inpatientdata-1542865627584.csv\")"
   ]
  },
  {
   "cell_type": "code",
   "execution_count": 21,
   "metadata": {
    "id": "VU0V4FlwU7bQ"
   },
   "outputs": [],
   "source": [
    "df_outpatient=pd.read_csv(r\"C:\\Users\\Msc 1\\Downloads\\prj\\Train_Outpatientdata-1542865627584.csv\")"
   ]
  },
  {
   "cell_type": "code",
   "execution_count": 22,
   "metadata": {
    "id": "VCZmmWjbYJsF"
   },
   "outputs": [],
   "source": [
    "df_beneficiary=pd.read_csv(r\"C:\\Users\\Msc 1\\Downloads\\prj\\Train_Beneficiarydata-1542865627584.csv\")"
   ]
  },
  {
   "cell_type": "code",
   "execution_count": 23,
   "metadata": {
    "id": "egBltuMiQFzK"
   },
   "outputs": [],
   "source": [
    "df_train=pd.read_csv(r\"C:\\Users\\Msc 1\\Downloads\\prj\\Train-1542865627584.csv\")"
   ]
  },
  {
   "cell_type": "code",
   "execution_count": 24,
   "metadata": {
    "id": "KemD_QCSJP0F"
   },
   "outputs": [],
   "source": [
    "df_train['PotentialFraud']=pd.get_dummies(df_train['PotentialFraud'],drop_first=True)"
   ]
  },
  {
   "cell_type": "code",
   "execution_count": 25,
   "metadata": {
    "colab": {
     "base_uri": "https://localhost:8080/"
    },
    "id": "ads_sWgyThr1",
    "outputId": "40a59cb7-1a39-4b3d-e2f8-241d7f3508c9"
   },
   "outputs": [
    {
     "data": {
      "text/plain": [
       "Index(['BeneID', 'ClaimID', 'ClaimStartDt', 'ClaimEndDt', 'Provider',\n",
       "       'InscClaimAmtReimbursed', 'AttendingPhysician', 'OperatingPhysician',\n",
       "       'OtherPhysician', 'AdmissionDt', 'ClmAdmitDiagnosisCode',\n",
       "       'DeductibleAmtPaid', 'DischargeDt', 'DiagnosisGroupCode',\n",
       "       'ClmDiagnosisCode_1', 'ClmDiagnosisCode_2', 'ClmDiagnosisCode_3',\n",
       "       'ClmDiagnosisCode_4', 'ClmDiagnosisCode_5', 'ClmDiagnosisCode_6',\n",
       "       'ClmDiagnosisCode_7', 'ClmDiagnosisCode_8', 'ClmDiagnosisCode_9',\n",
       "       'ClmDiagnosisCode_10', 'ClmProcedureCode_1', 'ClmProcedureCode_2',\n",
       "       'ClmProcedureCode_3', 'ClmProcedureCode_4', 'ClmProcedureCode_5',\n",
       "       'ClmProcedureCode_6'],\n",
       "      dtype='object')"
      ]
     },
     "execution_count": 25,
     "metadata": {},
     "output_type": "execute_result"
    }
   ],
   "source": [
    "df_inpatient.columns"
   ]
  },
  {
   "cell_type": "code",
   "execution_count": 26,
   "metadata": {
    "colab": {
     "base_uri": "https://localhost:8080/"
    },
    "id": "wU_XBswTXWRb",
    "outputId": "c4952004-591b-4e07-ba87-d2d7ffcaac0e"
   },
   "outputs": [
    {
     "data": {
      "text/plain": [
       "Index(['BeneID', 'ClaimID', 'ClaimStartDt', 'ClaimEndDt', 'Provider',\n",
       "       'InscClaimAmtReimbursed', 'AttendingPhysician', 'OperatingPhysician',\n",
       "       'OtherPhysician', 'ClmDiagnosisCode_1', 'ClmDiagnosisCode_2',\n",
       "       'ClmDiagnosisCode_3', 'ClmDiagnosisCode_4', 'ClmDiagnosisCode_5',\n",
       "       'ClmDiagnosisCode_6', 'ClmDiagnosisCode_7', 'ClmDiagnosisCode_8',\n",
       "       'ClmDiagnosisCode_9', 'ClmDiagnosisCode_10', 'ClmProcedureCode_1',\n",
       "       'ClmProcedureCode_2', 'ClmProcedureCode_3', 'ClmProcedureCode_4',\n",
       "       'ClmProcedureCode_5', 'ClmProcedureCode_6', 'DeductibleAmtPaid',\n",
       "       'ClmAdmitDiagnosisCode'],\n",
       "      dtype='object')"
      ]
     },
     "execution_count": 26,
     "metadata": {},
     "output_type": "execute_result"
    }
   ],
   "source": [
    "df_outpatient.columns"
   ]
  },
  {
   "cell_type": "code",
   "execution_count": 27,
   "metadata": {
    "colab": {
     "base_uri": "https://localhost:8080/"
    },
    "id": "LFpfFRKVYTEB",
    "outputId": "de652e4e-d7cf-47b9-fa11-91528b20498f"
   },
   "outputs": [
    {
     "data": {
      "text/plain": [
       "Index(['BeneID', 'DOB', 'DOD', 'Gender', 'Race', 'RenalDiseaseIndicator',\n",
       "       'State', 'County', 'NoOfMonths_PartACov', 'NoOfMonths_PartBCov',\n",
       "       'ChronicCond_Alzheimer', 'ChronicCond_Heartfailure',\n",
       "       'ChronicCond_KidneyDisease', 'ChronicCond_Cancer',\n",
       "       'ChronicCond_ObstrPulmonary', 'ChronicCond_Depression',\n",
       "       'ChronicCond_Diabetes', 'ChronicCond_IschemicHeart',\n",
       "       'ChronicCond_Osteoporasis', 'ChronicCond_rheumatoidarthritis',\n",
       "       'ChronicCond_stroke', 'IPAnnualReimbursementAmt',\n",
       "       'IPAnnualDeductibleAmt', 'OPAnnualReimbursementAmt',\n",
       "       'OPAnnualDeductibleAmt'],\n",
       "      dtype='object')"
      ]
     },
     "execution_count": 27,
     "metadata": {},
     "output_type": "execute_result"
    }
   ],
   "source": [
    "df_beneficiary.columns"
   ]
  },
  {
   "cell_type": "markdown",
   "metadata": {
    "id": "ZyuxokAlarfu"
   },
   "source": [
    "## **Merging the Datasets**"
   ]
  },
  {
   "cell_type": "code",
   "execution_count": 28,
   "metadata": {
    "id": "Fi0ZnvDbceWn"
   },
   "outputs": [],
   "source": [
    "# The .isin() method compares if the first series object is present in second series\n",
    "# We will compare initially to avoide duplicates "
   ]
  },
  {
   "cell_type": "code",
   "execution_count": 29,
   "metadata": {
    "colab": {
     "base_uri": "https://localhost:8080/"
    },
    "id": "u-9MzmqpbzzN",
    "outputId": "1d0e904e-eb75-4505-9e32-cb940b2f24db"
   },
   "outputs": [
    {
     "data": {
      "text/plain": [
       "True     36727\n",
       "False     3747\n",
       "Name: Provider, dtype: int64"
      ]
     },
     "execution_count": 29,
     "metadata": {},
     "output_type": "execute_result"
    }
   ],
   "source": [
    "df_inpatient['Provider'].isin(df_outpatient['Provider']).value_counts()"
   ]
  },
  {
   "cell_type": "code",
   "execution_count": 30,
   "metadata": {
    "colab": {
     "base_uri": "https://localhost:8080/"
    },
    "id": "lgJO1qtJfGeW",
    "outputId": "6f379ce6-a4a3-4e59-d63f-ddc2680b7232"
   },
   "outputs": [
    {
     "data": {
      "text/plain": [
       "False    29270\n",
       "True     11204\n",
       "Name: AttendingPhysician, dtype: int64"
      ]
     },
     "execution_count": 30,
     "metadata": {},
     "output_type": "execute_result"
    }
   ],
   "source": [
    "df_inpatient['AttendingPhysician'].isin(df_outpatient['AttendingPhysician']).value_counts()"
   ]
  },
  {
   "cell_type": "code",
   "execution_count": 31,
   "metadata": {
    "colab": {
     "base_uri": "https://localhost:8080/"
    },
    "id": "LPnxFhgdfcYH",
    "outputId": "5b00d6fb-bcdb-4907-a661-8ad994d6ebcf"
   },
   "outputs": [
    {
     "data": {
      "text/plain": [
       "True     20601\n",
       "False    19873\n",
       "Name: OperatingPhysician, dtype: int64"
      ]
     },
     "execution_count": 31,
     "metadata": {},
     "output_type": "execute_result"
    }
   ],
   "source": [
    "df_inpatient['OperatingPhysician'].isin(df_outpatient['OperatingPhysician']).value_counts()"
   ]
  },
  {
   "cell_type": "code",
   "execution_count": 32,
   "metadata": {
    "colab": {
     "base_uri": "https://localhost:8080/"
    },
    "id": "dXxuIfEXddXz",
    "outputId": "844ae285-0c51-4bf2-f9c2-009f7d79de8f"
   },
   "outputs": [
    {
     "data": {
      "text/plain": [
       "False    107267\n",
       "True      31289\n",
       "Name: BeneID, dtype: int64"
      ]
     },
     "execution_count": 32,
     "metadata": {},
     "output_type": "execute_result"
    }
   ],
   "source": [
    "df_beneficiary['BeneID'].isin(df_inpatient['BeneID']).value_counts()"
   ]
  },
  {
   "cell_type": "code",
   "execution_count": 33,
   "metadata": {
    "colab": {
     "base_uri": "https://localhost:8080/"
    },
    "id": "4g78SjVtdonb",
    "outputId": "3df3b116-0a9a-485b-a92e-34c9e1ea9ea0"
   },
   "outputs": [
    {
     "data": {
      "text/plain": [
       "True     133980\n",
       "False      4576\n",
       "Name: BeneID, dtype: int64"
      ]
     },
     "execution_count": 33,
     "metadata": {},
     "output_type": "execute_result"
    }
   ],
   "source": [
    "df_beneficiary['BeneID'].isin(df_outpatient['BeneID']).value_counts()"
   ]
  },
  {
   "cell_type": "code",
   "execution_count": 34,
   "metadata": {
    "id": "ujZnDOkAgmO9"
   },
   "outputs": [],
   "source": [
    "pd.set_option('display.max_columns',None)"
   ]
  },
  {
   "cell_type": "code",
   "execution_count": 35,
   "metadata": {
    "colab": {
     "base_uri": "https://localhost:8080/"
    },
    "id": "VUAgL4zJhP0W",
    "outputId": "4048779f-cec6-4e7b-85fc-bdf5cebbdfa9"
   },
   "outputs": [
    {
     "name": "stdout",
     "output_type": "stream",
     "text": [
      "<class 'pandas.core.frame.DataFrame'>\n",
      "RangeIndex: 40474 entries, 0 to 40473\n",
      "Data columns (total 30 columns):\n",
      " #   Column                  Non-Null Count  Dtype  \n",
      "---  ------                  --------------  -----  \n",
      " 0   BeneID                  40474 non-null  object \n",
      " 1   ClaimID                 40474 non-null  object \n",
      " 2   ClaimStartDt            40474 non-null  object \n",
      " 3   ClaimEndDt              40474 non-null  object \n",
      " 4   Provider                40474 non-null  object \n",
      " 5   InscClaimAmtReimbursed  40474 non-null  int64  \n",
      " 6   AttendingPhysician      40362 non-null  object \n",
      " 7   OperatingPhysician      23830 non-null  object \n",
      " 8   OtherPhysician          4690 non-null   object \n",
      " 9   AdmissionDt             40474 non-null  object \n",
      " 10  ClmAdmitDiagnosisCode   40474 non-null  object \n",
      " 11  DeductibleAmtPaid       39575 non-null  float64\n",
      " 12  DischargeDt             40474 non-null  object \n",
      " 13  DiagnosisGroupCode      40474 non-null  object \n",
      " 14  ClmDiagnosisCode_1      40474 non-null  object \n",
      " 15  ClmDiagnosisCode_2      40248 non-null  object \n",
      " 16  ClmDiagnosisCode_3      39798 non-null  object \n",
      " 17  ClmDiagnosisCode_4      38940 non-null  object \n",
      " 18  ClmDiagnosisCode_5      37580 non-null  object \n",
      " 19  ClmDiagnosisCode_6      35636 non-null  object \n",
      " 20  ClmDiagnosisCode_7      33216 non-null  object \n",
      " 21  ClmDiagnosisCode_8      30532 non-null  object \n",
      " 22  ClmDiagnosisCode_9      26977 non-null  object \n",
      " 23  ClmDiagnosisCode_10     3927 non-null   object \n",
      " 24  ClmProcedureCode_1      23148 non-null  float64\n",
      " 25  ClmProcedureCode_2      5454 non-null   float64\n",
      " 26  ClmProcedureCode_3      965 non-null    float64\n",
      " 27  ClmProcedureCode_4      116 non-null    float64\n",
      " 28  ClmProcedureCode_5      9 non-null      float64\n",
      " 29  ClmProcedureCode_6      0 non-null      float64\n",
      "dtypes: float64(7), int64(1), object(22)\n",
      "memory usage: 9.3+ MB\n"
     ]
    }
   ],
   "source": [
    "df_inpatient.info()"
   ]
  },
  {
   "cell_type": "code",
   "execution_count": 36,
   "metadata": {
    "colab": {
     "base_uri": "https://localhost:8080/"
    },
    "id": "QiJAsZLWS9JX",
    "outputId": "349b8174-40a3-404e-998f-a682717d6d92"
   },
   "outputs": [
    {
     "data": {
      "text/plain": [
       "(40474, 30)"
      ]
     },
     "execution_count": 36,
     "metadata": {},
     "output_type": "execute_result"
    }
   ],
   "source": [
    "df_inpatient.shape"
   ]
  },
  {
   "cell_type": "code",
   "execution_count": 37,
   "metadata": {
    "colab": {
     "base_uri": "https://localhost:8080/"
    },
    "id": "jCwvVWeXTCgr",
    "outputId": "772206af-2161-4d72-f8c3-cc530661e16b"
   },
   "outputs": [
    {
     "data": {
      "text/plain": [
       "(517737, 27)"
      ]
     },
     "execution_count": 37,
     "metadata": {},
     "output_type": "execute_result"
    }
   ],
   "source": [
    "df_outpatient.shape"
   ]
  },
  {
   "cell_type": "code",
   "execution_count": 38,
   "metadata": {
    "colab": {
     "base_uri": "https://localhost:8080/"
    },
    "id": "gA_TdxfeTF6B",
    "outputId": "72fa59b4-ce7a-4612-e180-da4a322b2da2"
   },
   "outputs": [
    {
     "data": {
      "text/plain": [
       "(138556, 25)"
      ]
     },
     "execution_count": 38,
     "metadata": {},
     "output_type": "execute_result"
    }
   ],
   "source": [
    "df_beneficiary.shape"
   ]
  },
  {
   "cell_type": "code",
   "execution_count": 39,
   "metadata": {
    "colab": {
     "base_uri": "https://localhost:8080/",
     "height": 270
    },
    "id": "IABcCbmhdqif",
    "outputId": "d7f20c06-e226-46e8-e103-511adea4aaa3"
   },
   "outputs": [
    {
     "data": {
      "text/html": [
       "<div>\n",
       "<style scoped>\n",
       "    .dataframe tbody tr th:only-of-type {\n",
       "        vertical-align: middle;\n",
       "    }\n",
       "\n",
       "    .dataframe tbody tr th {\n",
       "        vertical-align: top;\n",
       "    }\n",
       "\n",
       "    .dataframe thead th {\n",
       "        text-align: right;\n",
       "    }\n",
       "</style>\n",
       "<table border=\"1\" class=\"dataframe\">\n",
       "  <thead>\n",
       "    <tr style=\"text-align: right;\">\n",
       "      <th></th>\n",
       "      <th>BeneID</th>\n",
       "      <th>ClaimID</th>\n",
       "      <th>ClaimStartDt</th>\n",
       "      <th>ClaimEndDt</th>\n",
       "      <th>Provider</th>\n",
       "      <th>InscClaimAmtReimbursed</th>\n",
       "      <th>AttendingPhysician</th>\n",
       "      <th>OperatingPhysician</th>\n",
       "      <th>OtherPhysician</th>\n",
       "      <th>AdmissionDt</th>\n",
       "      <th>ClmAdmitDiagnosisCode</th>\n",
       "      <th>DeductibleAmtPaid</th>\n",
       "      <th>DischargeDt</th>\n",
       "      <th>DiagnosisGroupCode</th>\n",
       "      <th>ClmDiagnosisCode_1</th>\n",
       "      <th>ClmDiagnosisCode_2</th>\n",
       "      <th>ClmDiagnosisCode_3</th>\n",
       "      <th>ClmDiagnosisCode_4</th>\n",
       "      <th>ClmDiagnosisCode_5</th>\n",
       "      <th>ClmDiagnosisCode_6</th>\n",
       "      <th>ClmDiagnosisCode_7</th>\n",
       "      <th>ClmDiagnosisCode_8</th>\n",
       "      <th>ClmDiagnosisCode_9</th>\n",
       "      <th>ClmDiagnosisCode_10</th>\n",
       "      <th>ClmProcedureCode_1</th>\n",
       "      <th>ClmProcedureCode_2</th>\n",
       "      <th>ClmProcedureCode_3</th>\n",
       "      <th>ClmProcedureCode_4</th>\n",
       "      <th>ClmProcedureCode_5</th>\n",
       "      <th>ClmProcedureCode_6</th>\n",
       "    </tr>\n",
       "  </thead>\n",
       "  <tbody>\n",
       "    <tr>\n",
       "      <th>0</th>\n",
       "      <td>BENE11001</td>\n",
       "      <td>CLM46614</td>\n",
       "      <td>2009-04-12</td>\n",
       "      <td>2009-04-18</td>\n",
       "      <td>PRV55912</td>\n",
       "      <td>26000</td>\n",
       "      <td>PHY390922</td>\n",
       "      <td>NaN</td>\n",
       "      <td>NaN</td>\n",
       "      <td>2009-04-12</td>\n",
       "      <td>7866</td>\n",
       "      <td>1068.0</td>\n",
       "      <td>2009-04-18</td>\n",
       "      <td>201</td>\n",
       "      <td>1970</td>\n",
       "      <td>4019</td>\n",
       "      <td>5853</td>\n",
       "      <td>7843</td>\n",
       "      <td>2768</td>\n",
       "      <td>71590</td>\n",
       "      <td>2724</td>\n",
       "      <td>19889</td>\n",
       "      <td>5849</td>\n",
       "      <td>NaN</td>\n",
       "      <td>NaN</td>\n",
       "      <td>NaN</td>\n",
       "      <td>NaN</td>\n",
       "      <td>NaN</td>\n",
       "      <td>NaN</td>\n",
       "      <td>NaN</td>\n",
       "    </tr>\n",
       "    <tr>\n",
       "      <th>1</th>\n",
       "      <td>BENE11001</td>\n",
       "      <td>CLM66048</td>\n",
       "      <td>2009-08-31</td>\n",
       "      <td>2009-09-02</td>\n",
       "      <td>PRV55907</td>\n",
       "      <td>5000</td>\n",
       "      <td>PHY318495</td>\n",
       "      <td>PHY318495</td>\n",
       "      <td>NaN</td>\n",
       "      <td>2009-08-31</td>\n",
       "      <td>6186</td>\n",
       "      <td>1068.0</td>\n",
       "      <td>2009-09-02</td>\n",
       "      <td>750</td>\n",
       "      <td>6186</td>\n",
       "      <td>2948</td>\n",
       "      <td>56400</td>\n",
       "      <td>NaN</td>\n",
       "      <td>NaN</td>\n",
       "      <td>NaN</td>\n",
       "      <td>NaN</td>\n",
       "      <td>NaN</td>\n",
       "      <td>NaN</td>\n",
       "      <td>NaN</td>\n",
       "      <td>7092.0</td>\n",
       "      <td>NaN</td>\n",
       "      <td>NaN</td>\n",
       "      <td>NaN</td>\n",
       "      <td>NaN</td>\n",
       "      <td>NaN</td>\n",
       "    </tr>\n",
       "    <tr>\n",
       "      <th>2</th>\n",
       "      <td>BENE11001</td>\n",
       "      <td>CLM68358</td>\n",
       "      <td>2009-09-17</td>\n",
       "      <td>2009-09-20</td>\n",
       "      <td>PRV56046</td>\n",
       "      <td>5000</td>\n",
       "      <td>PHY372395</td>\n",
       "      <td>NaN</td>\n",
       "      <td>PHY324689</td>\n",
       "      <td>2009-09-17</td>\n",
       "      <td>29590</td>\n",
       "      <td>1068.0</td>\n",
       "      <td>2009-09-20</td>\n",
       "      <td>883</td>\n",
       "      <td>29623</td>\n",
       "      <td>30390</td>\n",
       "      <td>71690</td>\n",
       "      <td>34590</td>\n",
       "      <td>V1581</td>\n",
       "      <td>32723</td>\n",
       "      <td>NaN</td>\n",
       "      <td>NaN</td>\n",
       "      <td>NaN</td>\n",
       "      <td>NaN</td>\n",
       "      <td>NaN</td>\n",
       "      <td>NaN</td>\n",
       "      <td>NaN</td>\n",
       "      <td>NaN</td>\n",
       "      <td>NaN</td>\n",
       "      <td>NaN</td>\n",
       "    </tr>\n",
       "    <tr>\n",
       "      <th>3</th>\n",
       "      <td>BENE11011</td>\n",
       "      <td>CLM38412</td>\n",
       "      <td>2009-02-14</td>\n",
       "      <td>2009-02-22</td>\n",
       "      <td>PRV52405</td>\n",
       "      <td>5000</td>\n",
       "      <td>PHY369659</td>\n",
       "      <td>PHY392961</td>\n",
       "      <td>PHY349768</td>\n",
       "      <td>2009-02-14</td>\n",
       "      <td>431</td>\n",
       "      <td>1068.0</td>\n",
       "      <td>2009-02-22</td>\n",
       "      <td>067</td>\n",
       "      <td>43491</td>\n",
       "      <td>2762</td>\n",
       "      <td>7843</td>\n",
       "      <td>32723</td>\n",
       "      <td>V1041</td>\n",
       "      <td>4254</td>\n",
       "      <td>25062</td>\n",
       "      <td>40390</td>\n",
       "      <td>4019</td>\n",
       "      <td>NaN</td>\n",
       "      <td>331.0</td>\n",
       "      <td>NaN</td>\n",
       "      <td>NaN</td>\n",
       "      <td>NaN</td>\n",
       "      <td>NaN</td>\n",
       "      <td>NaN</td>\n",
       "    </tr>\n",
       "    <tr>\n",
       "      <th>4</th>\n",
       "      <td>BENE11014</td>\n",
       "      <td>CLM63689</td>\n",
       "      <td>2009-08-13</td>\n",
       "      <td>2009-08-30</td>\n",
       "      <td>PRV56614</td>\n",
       "      <td>10000</td>\n",
       "      <td>PHY379376</td>\n",
       "      <td>PHY398258</td>\n",
       "      <td>NaN</td>\n",
       "      <td>2009-08-13</td>\n",
       "      <td>78321</td>\n",
       "      <td>1068.0</td>\n",
       "      <td>2009-08-30</td>\n",
       "      <td>975</td>\n",
       "      <td>042</td>\n",
       "      <td>3051</td>\n",
       "      <td>34400</td>\n",
       "      <td>5856</td>\n",
       "      <td>42732</td>\n",
       "      <td>486</td>\n",
       "      <td>5119</td>\n",
       "      <td>29620</td>\n",
       "      <td>20300</td>\n",
       "      <td>NaN</td>\n",
       "      <td>3893.0</td>\n",
       "      <td>NaN</td>\n",
       "      <td>NaN</td>\n",
       "      <td>NaN</td>\n",
       "      <td>NaN</td>\n",
       "      <td>NaN</td>\n",
       "    </tr>\n",
       "  </tbody>\n",
       "</table>\n",
       "</div>"
      ],
      "text/plain": [
       "      BeneID   ClaimID ClaimStartDt  ClaimEndDt  Provider  \\\n",
       "0  BENE11001  CLM46614   2009-04-12  2009-04-18  PRV55912   \n",
       "1  BENE11001  CLM66048   2009-08-31  2009-09-02  PRV55907   \n",
       "2  BENE11001  CLM68358   2009-09-17  2009-09-20  PRV56046   \n",
       "3  BENE11011  CLM38412   2009-02-14  2009-02-22  PRV52405   \n",
       "4  BENE11014  CLM63689   2009-08-13  2009-08-30  PRV56614   \n",
       "\n",
       "   InscClaimAmtReimbursed AttendingPhysician OperatingPhysician  \\\n",
       "0                   26000          PHY390922                NaN   \n",
       "1                    5000          PHY318495          PHY318495   \n",
       "2                    5000          PHY372395                NaN   \n",
       "3                    5000          PHY369659          PHY392961   \n",
       "4                   10000          PHY379376          PHY398258   \n",
       "\n",
       "  OtherPhysician AdmissionDt ClmAdmitDiagnosisCode  DeductibleAmtPaid  \\\n",
       "0            NaN  2009-04-12                  7866             1068.0   \n",
       "1            NaN  2009-08-31                  6186             1068.0   \n",
       "2      PHY324689  2009-09-17                 29590             1068.0   \n",
       "3      PHY349768  2009-02-14                   431             1068.0   \n",
       "4            NaN  2009-08-13                 78321             1068.0   \n",
       "\n",
       "  DischargeDt DiagnosisGroupCode ClmDiagnosisCode_1 ClmDiagnosisCode_2  \\\n",
       "0  2009-04-18                201               1970               4019   \n",
       "1  2009-09-02                750               6186               2948   \n",
       "2  2009-09-20                883              29623              30390   \n",
       "3  2009-02-22                067              43491               2762   \n",
       "4  2009-08-30                975                042               3051   \n",
       "\n",
       "  ClmDiagnosisCode_3 ClmDiagnosisCode_4 ClmDiagnosisCode_5 ClmDiagnosisCode_6  \\\n",
       "0               5853               7843               2768              71590   \n",
       "1              56400                NaN                NaN                NaN   \n",
       "2              71690              34590              V1581              32723   \n",
       "3               7843              32723              V1041               4254   \n",
       "4              34400               5856              42732                486   \n",
       "\n",
       "  ClmDiagnosisCode_7 ClmDiagnosisCode_8 ClmDiagnosisCode_9  \\\n",
       "0               2724              19889               5849   \n",
       "1                NaN                NaN                NaN   \n",
       "2                NaN                NaN                NaN   \n",
       "3              25062              40390               4019   \n",
       "4               5119              29620              20300   \n",
       "\n",
       "  ClmDiagnosisCode_10  ClmProcedureCode_1  ClmProcedureCode_2  \\\n",
       "0                 NaN                 NaN                 NaN   \n",
       "1                 NaN              7092.0                 NaN   \n",
       "2                 NaN                 NaN                 NaN   \n",
       "3                 NaN               331.0                 NaN   \n",
       "4                 NaN              3893.0                 NaN   \n",
       "\n",
       "   ClmProcedureCode_3  ClmProcedureCode_4  ClmProcedureCode_5  \\\n",
       "0                 NaN                 NaN                 NaN   \n",
       "1                 NaN                 NaN                 NaN   \n",
       "2                 NaN                 NaN                 NaN   \n",
       "3                 NaN                 NaN                 NaN   \n",
       "4                 NaN                 NaN                 NaN   \n",
       "\n",
       "   ClmProcedureCode_6  \n",
       "0                 NaN  \n",
       "1                 NaN  \n",
       "2                 NaN  \n",
       "3                 NaN  \n",
       "4                 NaN  "
      ]
     },
     "execution_count": 39,
     "metadata": {},
     "output_type": "execute_result"
    }
   ],
   "source": [
    "df_inpatient.head()"
   ]
  },
  {
   "cell_type": "code",
   "execution_count": 40,
   "metadata": {
    "colab": {
     "base_uri": "https://localhost:8080/"
    },
    "id": "JZHMYl9GkS0T",
    "outputId": "68b4c5a5-b53a-4e68-a95d-62abfe4b18c0"
   },
   "outputs": [
    {
     "name": "stdout",
     "output_type": "stream",
     "text": [
      "<class 'pandas.core.frame.DataFrame'>\n",
      "RangeIndex: 138556 entries, 0 to 138555\n",
      "Data columns (total 25 columns):\n",
      " #   Column                           Non-Null Count   Dtype \n",
      "---  ------                           --------------   ----- \n",
      " 0   BeneID                           138556 non-null  object\n",
      " 1   DOB                              138556 non-null  object\n",
      " 2   DOD                              1421 non-null    object\n",
      " 3   Gender                           138556 non-null  int64 \n",
      " 4   Race                             138556 non-null  int64 \n",
      " 5   RenalDiseaseIndicator            138556 non-null  object\n",
      " 6   State                            138556 non-null  int64 \n",
      " 7   County                           138556 non-null  int64 \n",
      " 8   NoOfMonths_PartACov              138556 non-null  int64 \n",
      " 9   NoOfMonths_PartBCov              138556 non-null  int64 \n",
      " 10  ChronicCond_Alzheimer            138556 non-null  int64 \n",
      " 11  ChronicCond_Heartfailure         138556 non-null  int64 \n",
      " 12  ChronicCond_KidneyDisease        138556 non-null  int64 \n",
      " 13  ChronicCond_Cancer               138556 non-null  int64 \n",
      " 14  ChronicCond_ObstrPulmonary       138556 non-null  int64 \n",
      " 15  ChronicCond_Depression           138556 non-null  int64 \n",
      " 16  ChronicCond_Diabetes             138556 non-null  int64 \n",
      " 17  ChronicCond_IschemicHeart        138556 non-null  int64 \n",
      " 18  ChronicCond_Osteoporasis         138556 non-null  int64 \n",
      " 19  ChronicCond_rheumatoidarthritis  138556 non-null  int64 \n",
      " 20  ChronicCond_stroke               138556 non-null  int64 \n",
      " 21  IPAnnualReimbursementAmt         138556 non-null  int64 \n",
      " 22  IPAnnualDeductibleAmt            138556 non-null  int64 \n",
      " 23  OPAnnualReimbursementAmt         138556 non-null  int64 \n",
      " 24  OPAnnualDeductibleAmt            138556 non-null  int64 \n",
      "dtypes: int64(21), object(4)\n",
      "memory usage: 26.4+ MB\n"
     ]
    }
   ],
   "source": [
    "df_beneficiary.info()"
   ]
  },
  {
   "cell_type": "code",
   "execution_count": 41,
   "metadata": {
    "colab": {
     "base_uri": "https://localhost:8080/"
    },
    "id": "45ZxEOaigTou",
    "outputId": "1edc4239-6f08-4d76-f94a-1b6f34031362"
   },
   "outputs": [
    {
     "data": {
      "text/plain": [
       "True    40474\n",
       "Name: BeneID, dtype: int64"
      ]
     },
     "execution_count": 41,
     "metadata": {},
     "output_type": "execute_result"
    }
   ],
   "source": [
    "df_inpatient['BeneID'].isin(df_beneficiary['BeneID']).value_counts()"
   ]
  },
  {
   "cell_type": "markdown",
   "metadata": {
    "id": "z3KPe0XNazEU"
   },
   "source": [
    "**Merging beneficiary and inpatient dataset**"
   ]
  },
  {
   "cell_type": "code",
   "execution_count": 42,
   "metadata": {
    "id": "UAve3aqUh2Po"
   },
   "outputs": [],
   "source": [
    "df_BI=pd.merge(left=df_beneficiary,right=df_inpatient,how='inner',on='BeneID')"
   ]
  },
  {
   "cell_type": "code",
   "execution_count": 43,
   "metadata": {
    "colab": {
     "base_uri": "https://localhost:8080/"
    },
    "id": "4wr71SBvVlLw",
    "outputId": "f5fc6963-356c-4826-e497-fa8b04d7e20f"
   },
   "outputs": [
    {
     "data": {
      "text/plain": [
       "(40474, 54)"
      ]
     },
     "execution_count": 43,
     "metadata": {},
     "output_type": "execute_result"
    }
   ],
   "source": [
    "df_BI.shape"
   ]
  },
  {
   "cell_type": "code",
   "execution_count": 44,
   "metadata": {
    "colab": {
     "base_uri": "https://localhost:8080/"
    },
    "id": "iooC_Z1tkzz7",
    "outputId": "e1c49829-e405-49b3-90db-ace1d8a9e5f5"
   },
   "outputs": [
    {
     "data": {
      "text/plain": [
       "BeneID                                 0\n",
       "DOB                                    0\n",
       "DOD                                40156\n",
       "Gender                                 0\n",
       "Race                                   0\n",
       "RenalDiseaseIndicator                  0\n",
       "State                                  0\n",
       "County                                 0\n",
       "NoOfMonths_PartACov                    0\n",
       "NoOfMonths_PartBCov                    0\n",
       "ChronicCond_Alzheimer                  0\n",
       "ChronicCond_Heartfailure               0\n",
       "ChronicCond_KidneyDisease              0\n",
       "ChronicCond_Cancer                     0\n",
       "ChronicCond_ObstrPulmonary             0\n",
       "ChronicCond_Depression                 0\n",
       "ChronicCond_Diabetes                   0\n",
       "ChronicCond_IschemicHeart              0\n",
       "ChronicCond_Osteoporasis               0\n",
       "ChronicCond_rheumatoidarthritis        0\n",
       "ChronicCond_stroke                     0\n",
       "IPAnnualReimbursementAmt               0\n",
       "IPAnnualDeductibleAmt                  0\n",
       "OPAnnualReimbursementAmt               0\n",
       "OPAnnualDeductibleAmt                  0\n",
       "ClaimID                                0\n",
       "ClaimStartDt                           0\n",
       "ClaimEndDt                             0\n",
       "Provider                               0\n",
       "InscClaimAmtReimbursed                 0\n",
       "AttendingPhysician                   112\n",
       "OperatingPhysician                 16644\n",
       "OtherPhysician                     35784\n",
       "AdmissionDt                            0\n",
       "ClmAdmitDiagnosisCode                  0\n",
       "DeductibleAmtPaid                    899\n",
       "DischargeDt                            0\n",
       "DiagnosisGroupCode                     0\n",
       "ClmDiagnosisCode_1                     0\n",
       "ClmDiagnosisCode_2                   226\n",
       "ClmDiagnosisCode_3                   676\n",
       "ClmDiagnosisCode_4                  1534\n",
       "ClmDiagnosisCode_5                  2894\n",
       "ClmDiagnosisCode_6                  4838\n",
       "ClmDiagnosisCode_7                  7258\n",
       "ClmDiagnosisCode_8                  9942\n",
       "ClmDiagnosisCode_9                 13497\n",
       "ClmDiagnosisCode_10                36547\n",
       "ClmProcedureCode_1                 17326\n",
       "ClmProcedureCode_2                 35020\n",
       "ClmProcedureCode_3                 39509\n",
       "ClmProcedureCode_4                 40358\n",
       "ClmProcedureCode_5                 40465\n",
       "ClmProcedureCode_6                 40474\n",
       "dtype: int64"
      ]
     },
     "execution_count": 44,
     "metadata": {},
     "output_type": "execute_result"
    }
   ],
   "source": [
    "df_BI.isnull().sum()"
   ]
  },
  {
   "cell_type": "markdown",
   "metadata": {
    "id": "MK2RIwsBbtsE"
   },
   "source": [
    "**Merging beneficiary and outpatient dataset**"
   ]
  },
  {
   "cell_type": "code",
   "execution_count": 45,
   "metadata": {
    "id": "QtoFggrik6HS"
   },
   "outputs": [],
   "source": [
    "df_BO=pd.merge(left=df_beneficiary,right=df_outpatient,how='inner',on='BeneID')"
   ]
  },
  {
   "cell_type": "code",
   "execution_count": 46,
   "metadata": {
    "colab": {
     "base_uri": "https://localhost:8080/"
    },
    "id": "dAHQIASjorD3",
    "outputId": "7c9602f0-34bc-42c7-c0aa-604aad6e32a8"
   },
   "outputs": [
    {
     "data": {
      "text/plain": [
       "(517737, 51)"
      ]
     },
     "execution_count": 46,
     "metadata": {},
     "output_type": "execute_result"
    }
   ],
   "source": [
    "df_BO.shape"
   ]
  },
  {
   "cell_type": "code",
   "execution_count": 47,
   "metadata": {
    "colab": {
     "base_uri": "https://localhost:8080/"
    },
    "id": "bWMec9VJmSin",
    "outputId": "f941872c-7fdf-46cd-8fff-502674052051"
   },
   "outputs": [
    {
     "data": {
      "text/plain": [
       "BeneID                                  0\n",
       "DOB                                     0\n",
       "DOD                                513924\n",
       "Gender                                  0\n",
       "Race                                    0\n",
       "RenalDiseaseIndicator                   0\n",
       "State                                   0\n",
       "County                                  0\n",
       "NoOfMonths_PartACov                     0\n",
       "NoOfMonths_PartBCov                     0\n",
       "ChronicCond_Alzheimer                   0\n",
       "ChronicCond_Heartfailure                0\n",
       "ChronicCond_KidneyDisease               0\n",
       "ChronicCond_Cancer                      0\n",
       "ChronicCond_ObstrPulmonary              0\n",
       "ChronicCond_Depression                  0\n",
       "ChronicCond_Diabetes                    0\n",
       "ChronicCond_IschemicHeart               0\n",
       "ChronicCond_Osteoporasis                0\n",
       "ChronicCond_rheumatoidarthritis         0\n",
       "ChronicCond_stroke                      0\n",
       "IPAnnualReimbursementAmt                0\n",
       "IPAnnualDeductibleAmt                   0\n",
       "OPAnnualReimbursementAmt                0\n",
       "OPAnnualDeductibleAmt                   0\n",
       "ClaimID                                 0\n",
       "ClaimStartDt                            0\n",
       "ClaimEndDt                              0\n",
       "Provider                                0\n",
       "InscClaimAmtReimbursed                  0\n",
       "AttendingPhysician                   1396\n",
       "OperatingPhysician                 427120\n",
       "OtherPhysician                     322691\n",
       "ClmDiagnosisCode_1                  10453\n",
       "ClmDiagnosisCode_2                 195380\n",
       "ClmDiagnosisCode_3                 314480\n",
       "ClmDiagnosisCode_4                 392141\n",
       "ClmDiagnosisCode_5                 443393\n",
       "ClmDiagnosisCode_6                 468981\n",
       "ClmDiagnosisCode_7                 484776\n",
       "ClmDiagnosisCode_8                 494825\n",
       "ClmDiagnosisCode_9                 502899\n",
       "ClmDiagnosisCode_10                516654\n",
       "ClmProcedureCode_1                 517575\n",
       "ClmProcedureCode_2                 517701\n",
       "ClmProcedureCode_3                 517733\n",
       "ClmProcedureCode_4                 517735\n",
       "ClmProcedureCode_5                 517737\n",
       "ClmProcedureCode_6                 517737\n",
       "DeductibleAmtPaid                       0\n",
       "ClmAdmitDiagnosisCode              412312\n",
       "dtype: int64"
      ]
     },
     "execution_count": 47,
     "metadata": {},
     "output_type": "execute_result"
    }
   ],
   "source": [
    "df_BO.isnull().sum()"
   ]
  },
  {
   "cell_type": "markdown",
   "metadata": {
    "id": "-RVWZaRub6Qx"
   },
   "source": [
    "**Merging bene-inpatient and bene-outpatient dataset**"
   ]
  },
  {
   "cell_type": "code",
   "execution_count": 48,
   "metadata": {
    "id": "ZD9ceoibmVNc"
   },
   "outputs": [],
   "source": [
    "df_BIO=pd.merge(left=df_BI,right=df_BO,how='outer')"
   ]
  },
  {
   "cell_type": "code",
   "execution_count": 49,
   "metadata": {
    "colab": {
     "base_uri": "https://localhost:8080/"
    },
    "id": "PZGQ0QCvm-AI",
    "outputId": "7ff50c63-5c94-4b09-c3f3-8a063d8c66ff"
   },
   "outputs": [
    {
     "data": {
      "text/plain": [
       "BeneID                                  0\n",
       "DOB                                     0\n",
       "DOD                                554080\n",
       "Gender                                  0\n",
       "Race                                    0\n",
       "RenalDiseaseIndicator                   0\n",
       "State                                   0\n",
       "County                                  0\n",
       "NoOfMonths_PartACov                     0\n",
       "NoOfMonths_PartBCov                     0\n",
       "ChronicCond_Alzheimer                   0\n",
       "ChronicCond_Heartfailure                0\n",
       "ChronicCond_KidneyDisease               0\n",
       "ChronicCond_Cancer                      0\n",
       "ChronicCond_ObstrPulmonary              0\n",
       "ChronicCond_Depression                  0\n",
       "ChronicCond_Diabetes                    0\n",
       "ChronicCond_IschemicHeart               0\n",
       "ChronicCond_Osteoporasis                0\n",
       "ChronicCond_rheumatoidarthritis         0\n",
       "ChronicCond_stroke                      0\n",
       "IPAnnualReimbursementAmt                0\n",
       "IPAnnualDeductibleAmt                   0\n",
       "OPAnnualReimbursementAmt                0\n",
       "OPAnnualDeductibleAmt                   0\n",
       "ClaimID                                 0\n",
       "ClaimStartDt                            0\n",
       "ClaimEndDt                              0\n",
       "Provider                                0\n",
       "InscClaimAmtReimbursed                  0\n",
       "AttendingPhysician                   1508\n",
       "OperatingPhysician                 443764\n",
       "OtherPhysician                     358475\n",
       "AdmissionDt                        517737\n",
       "ClmAdmitDiagnosisCode              412312\n",
       "DeductibleAmtPaid                     899\n",
       "DischargeDt                        517737\n",
       "DiagnosisGroupCode                 517737\n",
       "ClmDiagnosisCode_1                  10453\n",
       "ClmDiagnosisCode_2                 195606\n",
       "ClmDiagnosisCode_3                 315156\n",
       "ClmDiagnosisCode_4                 393675\n",
       "ClmDiagnosisCode_5                 446287\n",
       "ClmDiagnosisCode_6                 473819\n",
       "ClmDiagnosisCode_7                 492034\n",
       "ClmDiagnosisCode_8                 504767\n",
       "ClmDiagnosisCode_9                 516396\n",
       "ClmDiagnosisCode_10                553201\n",
       "ClmProcedureCode_1                 534901\n",
       "ClmProcedureCode_2                 552721\n",
       "ClmProcedureCode_3                 557242\n",
       "ClmProcedureCode_4                 558093\n",
       "ClmProcedureCode_5                 558202\n",
       "ClmProcedureCode_6                 558211\n",
       "dtype: int64"
      ]
     },
     "execution_count": 49,
     "metadata": {},
     "output_type": "execute_result"
    }
   ],
   "source": [
    "df_BIO.isnull().sum()"
   ]
  },
  {
   "cell_type": "code",
   "execution_count": 50,
   "metadata": {
    "colab": {
     "base_uri": "https://localhost:8080/"
    },
    "id": "37uPLJjknA43",
    "outputId": "546764fc-5ab3-4550-9005-e02929dc045c"
   },
   "outputs": [
    {
     "data": {
      "text/plain": [
       "(40474, 54)"
      ]
     },
     "execution_count": 50,
     "metadata": {},
     "output_type": "execute_result"
    }
   ],
   "source": [
    "df_BI.shape"
   ]
  },
  {
   "cell_type": "code",
   "execution_count": 51,
   "metadata": {
    "colab": {
     "base_uri": "https://localhost:8080/"
    },
    "id": "CGEIahlTougL",
    "outputId": "1bb04336-e71e-425a-de45-b76cd8824d89"
   },
   "outputs": [
    {
     "data": {
      "text/plain": [
       "(517737, 51)"
      ]
     },
     "execution_count": 51,
     "metadata": {},
     "output_type": "execute_result"
    }
   ],
   "source": [
    "df_BO.shape"
   ]
  },
  {
   "cell_type": "code",
   "execution_count": 52,
   "metadata": {
    "colab": {
     "base_uri": "https://localhost:8080/"
    },
    "id": "Kxkz2--noxQM",
    "outputId": "d6c122e1-dd03-466a-9bab-1f25bb977c36"
   },
   "outputs": [
    {
     "data": {
      "text/plain": [
       "(558211, 54)"
      ]
     },
     "execution_count": 52,
     "metadata": {},
     "output_type": "execute_result"
    }
   ],
   "source": [
    "df_BIO.shape"
   ]
  },
  {
   "cell_type": "code",
   "execution_count": 53,
   "metadata": {
    "colab": {
     "base_uri": "https://localhost:8080/",
     "height": 357
    },
    "id": "tzG6-Sn-oz7C",
    "outputId": "b49dc729-690f-47e4-a737-d854a6dad0e4"
   },
   "outputs": [
    {
     "data": {
      "text/html": [
       "<div>\n",
       "<style scoped>\n",
       "    .dataframe tbody tr th:only-of-type {\n",
       "        vertical-align: middle;\n",
       "    }\n",
       "\n",
       "    .dataframe tbody tr th {\n",
       "        vertical-align: top;\n",
       "    }\n",
       "\n",
       "    .dataframe thead th {\n",
       "        text-align: right;\n",
       "    }\n",
       "</style>\n",
       "<table border=\"1\" class=\"dataframe\">\n",
       "  <thead>\n",
       "    <tr style=\"text-align: right;\">\n",
       "      <th></th>\n",
       "      <th>BeneID</th>\n",
       "      <th>DOB</th>\n",
       "      <th>DOD</th>\n",
       "      <th>Gender</th>\n",
       "      <th>Race</th>\n",
       "      <th>RenalDiseaseIndicator</th>\n",
       "      <th>State</th>\n",
       "      <th>County</th>\n",
       "      <th>NoOfMonths_PartACov</th>\n",
       "      <th>NoOfMonths_PartBCov</th>\n",
       "      <th>ChronicCond_Alzheimer</th>\n",
       "      <th>ChronicCond_Heartfailure</th>\n",
       "      <th>ChronicCond_KidneyDisease</th>\n",
       "      <th>ChronicCond_Cancer</th>\n",
       "      <th>ChronicCond_ObstrPulmonary</th>\n",
       "      <th>ChronicCond_Depression</th>\n",
       "      <th>ChronicCond_Diabetes</th>\n",
       "      <th>ChronicCond_IschemicHeart</th>\n",
       "      <th>ChronicCond_Osteoporasis</th>\n",
       "      <th>ChronicCond_rheumatoidarthritis</th>\n",
       "      <th>ChronicCond_stroke</th>\n",
       "      <th>IPAnnualReimbursementAmt</th>\n",
       "      <th>IPAnnualDeductibleAmt</th>\n",
       "      <th>OPAnnualReimbursementAmt</th>\n",
       "      <th>OPAnnualDeductibleAmt</th>\n",
       "      <th>ClaimID</th>\n",
       "      <th>ClaimStartDt</th>\n",
       "      <th>ClaimEndDt</th>\n",
       "      <th>Provider</th>\n",
       "      <th>InscClaimAmtReimbursed</th>\n",
       "      <th>AttendingPhysician</th>\n",
       "      <th>OperatingPhysician</th>\n",
       "      <th>OtherPhysician</th>\n",
       "      <th>AdmissionDt</th>\n",
       "      <th>ClmAdmitDiagnosisCode</th>\n",
       "      <th>DeductibleAmtPaid</th>\n",
       "      <th>DischargeDt</th>\n",
       "      <th>DiagnosisGroupCode</th>\n",
       "      <th>ClmDiagnosisCode_1</th>\n",
       "      <th>ClmDiagnosisCode_2</th>\n",
       "      <th>ClmDiagnosisCode_3</th>\n",
       "      <th>ClmDiagnosisCode_4</th>\n",
       "      <th>ClmDiagnosisCode_5</th>\n",
       "      <th>ClmDiagnosisCode_6</th>\n",
       "      <th>ClmDiagnosisCode_7</th>\n",
       "      <th>ClmDiagnosisCode_8</th>\n",
       "      <th>ClmDiagnosisCode_9</th>\n",
       "      <th>ClmDiagnosisCode_10</th>\n",
       "      <th>ClmProcedureCode_1</th>\n",
       "      <th>ClmProcedureCode_2</th>\n",
       "      <th>ClmProcedureCode_3</th>\n",
       "      <th>ClmProcedureCode_4</th>\n",
       "      <th>ClmProcedureCode_5</th>\n",
       "      <th>ClmProcedureCode_6</th>\n",
       "    </tr>\n",
       "  </thead>\n",
       "  <tbody>\n",
       "    <tr>\n",
       "      <th>0</th>\n",
       "      <td>BENE11001</td>\n",
       "      <td>1943-01-01</td>\n",
       "      <td>NaN</td>\n",
       "      <td>1</td>\n",
       "      <td>1</td>\n",
       "      <td>0</td>\n",
       "      <td>39</td>\n",
       "      <td>230</td>\n",
       "      <td>12</td>\n",
       "      <td>12</td>\n",
       "      <td>1</td>\n",
       "      <td>2</td>\n",
       "      <td>1</td>\n",
       "      <td>2</td>\n",
       "      <td>2</td>\n",
       "      <td>1</td>\n",
       "      <td>1</td>\n",
       "      <td>1</td>\n",
       "      <td>2</td>\n",
       "      <td>1</td>\n",
       "      <td>1</td>\n",
       "      <td>36000</td>\n",
       "      <td>3204</td>\n",
       "      <td>60</td>\n",
       "      <td>70</td>\n",
       "      <td>CLM46614</td>\n",
       "      <td>2009-04-12</td>\n",
       "      <td>2009-04-18</td>\n",
       "      <td>PRV55912</td>\n",
       "      <td>26000</td>\n",
       "      <td>PHY390922</td>\n",
       "      <td>NaN</td>\n",
       "      <td>NaN</td>\n",
       "      <td>2009-04-12</td>\n",
       "      <td>7866</td>\n",
       "      <td>1068.0</td>\n",
       "      <td>2009-04-18</td>\n",
       "      <td>201</td>\n",
       "      <td>1970</td>\n",
       "      <td>4019</td>\n",
       "      <td>5853</td>\n",
       "      <td>7843</td>\n",
       "      <td>2768</td>\n",
       "      <td>71590</td>\n",
       "      <td>2724</td>\n",
       "      <td>19889</td>\n",
       "      <td>5849</td>\n",
       "      <td>NaN</td>\n",
       "      <td>NaN</td>\n",
       "      <td>NaN</td>\n",
       "      <td>NaN</td>\n",
       "      <td>NaN</td>\n",
       "      <td>NaN</td>\n",
       "      <td>NaN</td>\n",
       "    </tr>\n",
       "    <tr>\n",
       "      <th>1</th>\n",
       "      <td>BENE11001</td>\n",
       "      <td>1943-01-01</td>\n",
       "      <td>NaN</td>\n",
       "      <td>1</td>\n",
       "      <td>1</td>\n",
       "      <td>0</td>\n",
       "      <td>39</td>\n",
       "      <td>230</td>\n",
       "      <td>12</td>\n",
       "      <td>12</td>\n",
       "      <td>1</td>\n",
       "      <td>2</td>\n",
       "      <td>1</td>\n",
       "      <td>2</td>\n",
       "      <td>2</td>\n",
       "      <td>1</td>\n",
       "      <td>1</td>\n",
       "      <td>1</td>\n",
       "      <td>2</td>\n",
       "      <td>1</td>\n",
       "      <td>1</td>\n",
       "      <td>36000</td>\n",
       "      <td>3204</td>\n",
       "      <td>60</td>\n",
       "      <td>70</td>\n",
       "      <td>CLM66048</td>\n",
       "      <td>2009-08-31</td>\n",
       "      <td>2009-09-02</td>\n",
       "      <td>PRV55907</td>\n",
       "      <td>5000</td>\n",
       "      <td>PHY318495</td>\n",
       "      <td>PHY318495</td>\n",
       "      <td>NaN</td>\n",
       "      <td>2009-08-31</td>\n",
       "      <td>6186</td>\n",
       "      <td>1068.0</td>\n",
       "      <td>2009-09-02</td>\n",
       "      <td>750</td>\n",
       "      <td>6186</td>\n",
       "      <td>2948</td>\n",
       "      <td>56400</td>\n",
       "      <td>NaN</td>\n",
       "      <td>NaN</td>\n",
       "      <td>NaN</td>\n",
       "      <td>NaN</td>\n",
       "      <td>NaN</td>\n",
       "      <td>NaN</td>\n",
       "      <td>NaN</td>\n",
       "      <td>7092.0</td>\n",
       "      <td>NaN</td>\n",
       "      <td>NaN</td>\n",
       "      <td>NaN</td>\n",
       "      <td>NaN</td>\n",
       "      <td>NaN</td>\n",
       "    </tr>\n",
       "    <tr>\n",
       "      <th>2</th>\n",
       "      <td>BENE11001</td>\n",
       "      <td>1943-01-01</td>\n",
       "      <td>NaN</td>\n",
       "      <td>1</td>\n",
       "      <td>1</td>\n",
       "      <td>0</td>\n",
       "      <td>39</td>\n",
       "      <td>230</td>\n",
       "      <td>12</td>\n",
       "      <td>12</td>\n",
       "      <td>1</td>\n",
       "      <td>2</td>\n",
       "      <td>1</td>\n",
       "      <td>2</td>\n",
       "      <td>2</td>\n",
       "      <td>1</td>\n",
       "      <td>1</td>\n",
       "      <td>1</td>\n",
       "      <td>2</td>\n",
       "      <td>1</td>\n",
       "      <td>1</td>\n",
       "      <td>36000</td>\n",
       "      <td>3204</td>\n",
       "      <td>60</td>\n",
       "      <td>70</td>\n",
       "      <td>CLM68358</td>\n",
       "      <td>2009-09-17</td>\n",
       "      <td>2009-09-20</td>\n",
       "      <td>PRV56046</td>\n",
       "      <td>5000</td>\n",
       "      <td>PHY372395</td>\n",
       "      <td>NaN</td>\n",
       "      <td>PHY324689</td>\n",
       "      <td>2009-09-17</td>\n",
       "      <td>29590</td>\n",
       "      <td>1068.0</td>\n",
       "      <td>2009-09-20</td>\n",
       "      <td>883</td>\n",
       "      <td>29623</td>\n",
       "      <td>30390</td>\n",
       "      <td>71690</td>\n",
       "      <td>34590</td>\n",
       "      <td>V1581</td>\n",
       "      <td>32723</td>\n",
       "      <td>NaN</td>\n",
       "      <td>NaN</td>\n",
       "      <td>NaN</td>\n",
       "      <td>NaN</td>\n",
       "      <td>NaN</td>\n",
       "      <td>NaN</td>\n",
       "      <td>NaN</td>\n",
       "      <td>NaN</td>\n",
       "      <td>NaN</td>\n",
       "      <td>NaN</td>\n",
       "    </tr>\n",
       "    <tr>\n",
       "      <th>3</th>\n",
       "      <td>BENE11011</td>\n",
       "      <td>1914-03-01</td>\n",
       "      <td>NaN</td>\n",
       "      <td>2</td>\n",
       "      <td>2</td>\n",
       "      <td>0</td>\n",
       "      <td>1</td>\n",
       "      <td>360</td>\n",
       "      <td>12</td>\n",
       "      <td>12</td>\n",
       "      <td>2</td>\n",
       "      <td>1</td>\n",
       "      <td>1</td>\n",
       "      <td>2</td>\n",
       "      <td>2</td>\n",
       "      <td>1</td>\n",
       "      <td>1</td>\n",
       "      <td>2</td>\n",
       "      <td>2</td>\n",
       "      <td>1</td>\n",
       "      <td>1</td>\n",
       "      <td>5000</td>\n",
       "      <td>1068</td>\n",
       "      <td>250</td>\n",
       "      <td>320</td>\n",
       "      <td>CLM38412</td>\n",
       "      <td>2009-02-14</td>\n",
       "      <td>2009-02-22</td>\n",
       "      <td>PRV52405</td>\n",
       "      <td>5000</td>\n",
       "      <td>PHY369659</td>\n",
       "      <td>PHY392961</td>\n",
       "      <td>PHY349768</td>\n",
       "      <td>2009-02-14</td>\n",
       "      <td>431</td>\n",
       "      <td>1068.0</td>\n",
       "      <td>2009-02-22</td>\n",
       "      <td>067</td>\n",
       "      <td>43491</td>\n",
       "      <td>2762</td>\n",
       "      <td>7843</td>\n",
       "      <td>32723</td>\n",
       "      <td>V1041</td>\n",
       "      <td>4254</td>\n",
       "      <td>25062</td>\n",
       "      <td>40390</td>\n",
       "      <td>4019</td>\n",
       "      <td>NaN</td>\n",
       "      <td>331.0</td>\n",
       "      <td>NaN</td>\n",
       "      <td>NaN</td>\n",
       "      <td>NaN</td>\n",
       "      <td>NaN</td>\n",
       "      <td>NaN</td>\n",
       "    </tr>\n",
       "    <tr>\n",
       "      <th>4</th>\n",
       "      <td>BENE11014</td>\n",
       "      <td>1938-04-01</td>\n",
       "      <td>NaN</td>\n",
       "      <td>2</td>\n",
       "      <td>1</td>\n",
       "      <td>Y</td>\n",
       "      <td>45</td>\n",
       "      <td>780</td>\n",
       "      <td>12</td>\n",
       "      <td>12</td>\n",
       "      <td>2</td>\n",
       "      <td>1</td>\n",
       "      <td>1</td>\n",
       "      <td>2</td>\n",
       "      <td>1</td>\n",
       "      <td>1</td>\n",
       "      <td>2</td>\n",
       "      <td>1</td>\n",
       "      <td>2</td>\n",
       "      <td>2</td>\n",
       "      <td>2</td>\n",
       "      <td>21260</td>\n",
       "      <td>2136</td>\n",
       "      <td>120</td>\n",
       "      <td>100</td>\n",
       "      <td>CLM63689</td>\n",
       "      <td>2009-08-13</td>\n",
       "      <td>2009-08-30</td>\n",
       "      <td>PRV56614</td>\n",
       "      <td>10000</td>\n",
       "      <td>PHY379376</td>\n",
       "      <td>PHY398258</td>\n",
       "      <td>NaN</td>\n",
       "      <td>2009-08-13</td>\n",
       "      <td>78321</td>\n",
       "      <td>1068.0</td>\n",
       "      <td>2009-08-30</td>\n",
       "      <td>975</td>\n",
       "      <td>042</td>\n",
       "      <td>3051</td>\n",
       "      <td>34400</td>\n",
       "      <td>5856</td>\n",
       "      <td>42732</td>\n",
       "      <td>486</td>\n",
       "      <td>5119</td>\n",
       "      <td>29620</td>\n",
       "      <td>20300</td>\n",
       "      <td>NaN</td>\n",
       "      <td>3893.0</td>\n",
       "      <td>NaN</td>\n",
       "      <td>NaN</td>\n",
       "      <td>NaN</td>\n",
       "      <td>NaN</td>\n",
       "      <td>NaN</td>\n",
       "    </tr>\n",
       "  </tbody>\n",
       "</table>\n",
       "</div>"
      ],
      "text/plain": [
       "      BeneID         DOB  DOD  Gender  Race RenalDiseaseIndicator  State  \\\n",
       "0  BENE11001  1943-01-01  NaN       1     1                     0     39   \n",
       "1  BENE11001  1943-01-01  NaN       1     1                     0     39   \n",
       "2  BENE11001  1943-01-01  NaN       1     1                     0     39   \n",
       "3  BENE11011  1914-03-01  NaN       2     2                     0      1   \n",
       "4  BENE11014  1938-04-01  NaN       2     1                     Y     45   \n",
       "\n",
       "   County  NoOfMonths_PartACov  NoOfMonths_PartBCov  ChronicCond_Alzheimer  \\\n",
       "0     230                   12                   12                      1   \n",
       "1     230                   12                   12                      1   \n",
       "2     230                   12                   12                      1   \n",
       "3     360                   12                   12                      2   \n",
       "4     780                   12                   12                      2   \n",
       "\n",
       "   ChronicCond_Heartfailure  ChronicCond_KidneyDisease  ChronicCond_Cancer  \\\n",
       "0                         2                          1                   2   \n",
       "1                         2                          1                   2   \n",
       "2                         2                          1                   2   \n",
       "3                         1                          1                   2   \n",
       "4                         1                          1                   2   \n",
       "\n",
       "   ChronicCond_ObstrPulmonary  ChronicCond_Depression  ChronicCond_Diabetes  \\\n",
       "0                           2                       1                     1   \n",
       "1                           2                       1                     1   \n",
       "2                           2                       1                     1   \n",
       "3                           2                       1                     1   \n",
       "4                           1                       1                     2   \n",
       "\n",
       "   ChronicCond_IschemicHeart  ChronicCond_Osteoporasis  \\\n",
       "0                          1                         2   \n",
       "1                          1                         2   \n",
       "2                          1                         2   \n",
       "3                          2                         2   \n",
       "4                          1                         2   \n",
       "\n",
       "   ChronicCond_rheumatoidarthritis  ChronicCond_stroke  \\\n",
       "0                                1                   1   \n",
       "1                                1                   1   \n",
       "2                                1                   1   \n",
       "3                                1                   1   \n",
       "4                                2                   2   \n",
       "\n",
       "   IPAnnualReimbursementAmt  IPAnnualDeductibleAmt  OPAnnualReimbursementAmt  \\\n",
       "0                     36000                   3204                        60   \n",
       "1                     36000                   3204                        60   \n",
       "2                     36000                   3204                        60   \n",
       "3                      5000                   1068                       250   \n",
       "4                     21260                   2136                       120   \n",
       "\n",
       "   OPAnnualDeductibleAmt   ClaimID ClaimStartDt  ClaimEndDt  Provider  \\\n",
       "0                     70  CLM46614   2009-04-12  2009-04-18  PRV55912   \n",
       "1                     70  CLM66048   2009-08-31  2009-09-02  PRV55907   \n",
       "2                     70  CLM68358   2009-09-17  2009-09-20  PRV56046   \n",
       "3                    320  CLM38412   2009-02-14  2009-02-22  PRV52405   \n",
       "4                    100  CLM63689   2009-08-13  2009-08-30  PRV56614   \n",
       "\n",
       "   InscClaimAmtReimbursed AttendingPhysician OperatingPhysician  \\\n",
       "0                   26000          PHY390922                NaN   \n",
       "1                    5000          PHY318495          PHY318495   \n",
       "2                    5000          PHY372395                NaN   \n",
       "3                    5000          PHY369659          PHY392961   \n",
       "4                   10000          PHY379376          PHY398258   \n",
       "\n",
       "  OtherPhysician AdmissionDt ClmAdmitDiagnosisCode  DeductibleAmtPaid  \\\n",
       "0            NaN  2009-04-12                  7866             1068.0   \n",
       "1            NaN  2009-08-31                  6186             1068.0   \n",
       "2      PHY324689  2009-09-17                 29590             1068.0   \n",
       "3      PHY349768  2009-02-14                   431             1068.0   \n",
       "4            NaN  2009-08-13                 78321             1068.0   \n",
       "\n",
       "  DischargeDt DiagnosisGroupCode ClmDiagnosisCode_1 ClmDiagnosisCode_2  \\\n",
       "0  2009-04-18                201               1970               4019   \n",
       "1  2009-09-02                750               6186               2948   \n",
       "2  2009-09-20                883              29623              30390   \n",
       "3  2009-02-22                067              43491               2762   \n",
       "4  2009-08-30                975                042               3051   \n",
       "\n",
       "  ClmDiagnosisCode_3 ClmDiagnosisCode_4 ClmDiagnosisCode_5 ClmDiagnosisCode_6  \\\n",
       "0               5853               7843               2768              71590   \n",
       "1              56400                NaN                NaN                NaN   \n",
       "2              71690              34590              V1581              32723   \n",
       "3               7843              32723              V1041               4254   \n",
       "4              34400               5856              42732                486   \n",
       "\n",
       "  ClmDiagnosisCode_7 ClmDiagnosisCode_8 ClmDiagnosisCode_9  \\\n",
       "0               2724              19889               5849   \n",
       "1                NaN                NaN                NaN   \n",
       "2                NaN                NaN                NaN   \n",
       "3              25062              40390               4019   \n",
       "4               5119              29620              20300   \n",
       "\n",
       "  ClmDiagnosisCode_10  ClmProcedureCode_1  ClmProcedureCode_2  \\\n",
       "0                 NaN                 NaN                 NaN   \n",
       "1                 NaN              7092.0                 NaN   \n",
       "2                 NaN                 NaN                 NaN   \n",
       "3                 NaN               331.0                 NaN   \n",
       "4                 NaN              3893.0                 NaN   \n",
       "\n",
       "   ClmProcedureCode_3  ClmProcedureCode_4  ClmProcedureCode_5  \\\n",
       "0                 NaN                 NaN                 NaN   \n",
       "1                 NaN                 NaN                 NaN   \n",
       "2                 NaN                 NaN                 NaN   \n",
       "3                 NaN                 NaN                 NaN   \n",
       "4                 NaN                 NaN                 NaN   \n",
       "\n",
       "   ClmProcedureCode_6  \n",
       "0                 NaN  \n",
       "1                 NaN  \n",
       "2                 NaN  \n",
       "3                 NaN  \n",
       "4                 NaN  "
      ]
     },
     "execution_count": 53,
     "metadata": {},
     "output_type": "execute_result"
    }
   ],
   "source": [
    "df_BIO.head()"
   ]
  },
  {
   "cell_type": "markdown",
   "metadata": {
    "id": "db9b7jVmcHjj"
   },
   "source": [
    "**Merging df_BIO and Train (Traget) dataset**"
   ]
  },
  {
   "cell_type": "code",
   "execution_count": 54,
   "metadata": {
    "id": "70RqZEaIpPf5"
   },
   "outputs": [],
   "source": [
    "df_BIOP=pd.merge(left=df_BIO,right=df_train,how='inner',on='Provider')"
   ]
  },
  {
   "cell_type": "code",
   "execution_count": 55,
   "metadata": {
    "colab": {
     "base_uri": "https://localhost:8080/"
    },
    "id": "EOVZynEPuzu1",
    "outputId": "10d2a3e4-103c-428d-b89e-e80e4d01ff17"
   },
   "outputs": [
    {
     "data": {
      "text/plain": [
       "(558211, 55)"
      ]
     },
     "execution_count": 55,
     "metadata": {},
     "output_type": "execute_result"
    }
   ],
   "source": [
    "df_BIOP.shape"
   ]
  },
  {
   "cell_type": "code",
   "execution_count": 56,
   "metadata": {
    "colab": {
     "base_uri": "https://localhost:8080/"
    },
    "id": "XYELR0WbqwYZ",
    "outputId": "1c473d30-f6de-4c41-cd10-b27bfc0ac579"
   },
   "outputs": [
    {
     "data": {
      "text/plain": [
       "0    345415\n",
       "1    212796\n",
       "Name: PotentialFraud, dtype: int64"
      ]
     },
     "execution_count": 56,
     "metadata": {},
     "output_type": "execute_result"
    }
   ],
   "source": [
    "df_BIOP['PotentialFraud'].value_counts()"
   ]
  },
  {
   "cell_type": "markdown",
   "metadata": {
    "id": "wYu-I8e1cXLG"
   },
   "source": [
    "## **Final Merged Dataset - df_BIOP**"
   ]
  },
  {
   "cell_type": "code",
   "execution_count": 57,
   "metadata": {
    "colab": {
     "base_uri": "https://localhost:8080/",
     "height": 357
    },
    "id": "e7HNNIM7q8Vq",
    "outputId": "8ef7fbc7-8b04-4691-bfa7-73adafd6c217"
   },
   "outputs": [
    {
     "data": {
      "text/html": [
       "<div>\n",
       "<style scoped>\n",
       "    .dataframe tbody tr th:only-of-type {\n",
       "        vertical-align: middle;\n",
       "    }\n",
       "\n",
       "    .dataframe tbody tr th {\n",
       "        vertical-align: top;\n",
       "    }\n",
       "\n",
       "    .dataframe thead th {\n",
       "        text-align: right;\n",
       "    }\n",
       "</style>\n",
       "<table border=\"1\" class=\"dataframe\">\n",
       "  <thead>\n",
       "    <tr style=\"text-align: right;\">\n",
       "      <th></th>\n",
       "      <th>BeneID</th>\n",
       "      <th>DOB</th>\n",
       "      <th>DOD</th>\n",
       "      <th>Gender</th>\n",
       "      <th>Race</th>\n",
       "      <th>RenalDiseaseIndicator</th>\n",
       "      <th>State</th>\n",
       "      <th>County</th>\n",
       "      <th>NoOfMonths_PartACov</th>\n",
       "      <th>NoOfMonths_PartBCov</th>\n",
       "      <th>ChronicCond_Alzheimer</th>\n",
       "      <th>ChronicCond_Heartfailure</th>\n",
       "      <th>ChronicCond_KidneyDisease</th>\n",
       "      <th>ChronicCond_Cancer</th>\n",
       "      <th>ChronicCond_ObstrPulmonary</th>\n",
       "      <th>ChronicCond_Depression</th>\n",
       "      <th>ChronicCond_Diabetes</th>\n",
       "      <th>ChronicCond_IschemicHeart</th>\n",
       "      <th>ChronicCond_Osteoporasis</th>\n",
       "      <th>ChronicCond_rheumatoidarthritis</th>\n",
       "      <th>ChronicCond_stroke</th>\n",
       "      <th>IPAnnualReimbursementAmt</th>\n",
       "      <th>IPAnnualDeductibleAmt</th>\n",
       "      <th>OPAnnualReimbursementAmt</th>\n",
       "      <th>OPAnnualDeductibleAmt</th>\n",
       "      <th>ClaimID</th>\n",
       "      <th>ClaimStartDt</th>\n",
       "      <th>ClaimEndDt</th>\n",
       "      <th>Provider</th>\n",
       "      <th>InscClaimAmtReimbursed</th>\n",
       "      <th>AttendingPhysician</th>\n",
       "      <th>OperatingPhysician</th>\n",
       "      <th>OtherPhysician</th>\n",
       "      <th>AdmissionDt</th>\n",
       "      <th>ClmAdmitDiagnosisCode</th>\n",
       "      <th>DeductibleAmtPaid</th>\n",
       "      <th>DischargeDt</th>\n",
       "      <th>DiagnosisGroupCode</th>\n",
       "      <th>ClmDiagnosisCode_1</th>\n",
       "      <th>ClmDiagnosisCode_2</th>\n",
       "      <th>ClmDiagnosisCode_3</th>\n",
       "      <th>ClmDiagnosisCode_4</th>\n",
       "      <th>ClmDiagnosisCode_5</th>\n",
       "      <th>ClmDiagnosisCode_6</th>\n",
       "      <th>ClmDiagnosisCode_7</th>\n",
       "      <th>ClmDiagnosisCode_8</th>\n",
       "      <th>ClmDiagnosisCode_9</th>\n",
       "      <th>ClmDiagnosisCode_10</th>\n",
       "      <th>ClmProcedureCode_1</th>\n",
       "      <th>ClmProcedureCode_2</th>\n",
       "      <th>ClmProcedureCode_3</th>\n",
       "      <th>ClmProcedureCode_4</th>\n",
       "      <th>ClmProcedureCode_5</th>\n",
       "      <th>ClmProcedureCode_6</th>\n",
       "      <th>PotentialFraud</th>\n",
       "    </tr>\n",
       "  </thead>\n",
       "  <tbody>\n",
       "    <tr>\n",
       "      <th>0</th>\n",
       "      <td>BENE11001</td>\n",
       "      <td>1943-01-01</td>\n",
       "      <td>NaN</td>\n",
       "      <td>1</td>\n",
       "      <td>1</td>\n",
       "      <td>0</td>\n",
       "      <td>39</td>\n",
       "      <td>230</td>\n",
       "      <td>12</td>\n",
       "      <td>12</td>\n",
       "      <td>1</td>\n",
       "      <td>2</td>\n",
       "      <td>1</td>\n",
       "      <td>2</td>\n",
       "      <td>2</td>\n",
       "      <td>1</td>\n",
       "      <td>1</td>\n",
       "      <td>1</td>\n",
       "      <td>2</td>\n",
       "      <td>1</td>\n",
       "      <td>1</td>\n",
       "      <td>36000</td>\n",
       "      <td>3204</td>\n",
       "      <td>60</td>\n",
       "      <td>70</td>\n",
       "      <td>CLM46614</td>\n",
       "      <td>2009-04-12</td>\n",
       "      <td>2009-04-18</td>\n",
       "      <td>PRV55912</td>\n",
       "      <td>26000</td>\n",
       "      <td>PHY390922</td>\n",
       "      <td>NaN</td>\n",
       "      <td>NaN</td>\n",
       "      <td>2009-04-12</td>\n",
       "      <td>7866</td>\n",
       "      <td>1068.0</td>\n",
       "      <td>2009-04-18</td>\n",
       "      <td>201</td>\n",
       "      <td>1970</td>\n",
       "      <td>4019</td>\n",
       "      <td>5853</td>\n",
       "      <td>7843</td>\n",
       "      <td>2768</td>\n",
       "      <td>71590</td>\n",
       "      <td>2724</td>\n",
       "      <td>19889</td>\n",
       "      <td>5849</td>\n",
       "      <td>NaN</td>\n",
       "      <td>NaN</td>\n",
       "      <td>NaN</td>\n",
       "      <td>NaN</td>\n",
       "      <td>NaN</td>\n",
       "      <td>NaN</td>\n",
       "      <td>NaN</td>\n",
       "      <td>1</td>\n",
       "    </tr>\n",
       "    <tr>\n",
       "      <th>1</th>\n",
       "      <td>BENE17521</td>\n",
       "      <td>1913-12-01</td>\n",
       "      <td>NaN</td>\n",
       "      <td>2</td>\n",
       "      <td>1</td>\n",
       "      <td>0</td>\n",
       "      <td>39</td>\n",
       "      <td>230</td>\n",
       "      <td>12</td>\n",
       "      <td>12</td>\n",
       "      <td>1</td>\n",
       "      <td>1</td>\n",
       "      <td>1</td>\n",
       "      <td>2</td>\n",
       "      <td>1</td>\n",
       "      <td>2</td>\n",
       "      <td>2</td>\n",
       "      <td>1</td>\n",
       "      <td>2</td>\n",
       "      <td>2</td>\n",
       "      <td>2</td>\n",
       "      <td>19000</td>\n",
       "      <td>1068</td>\n",
       "      <td>100</td>\n",
       "      <td>20</td>\n",
       "      <td>CLM34721</td>\n",
       "      <td>2009-01-20</td>\n",
       "      <td>2009-02-01</td>\n",
       "      <td>PRV55912</td>\n",
       "      <td>19000</td>\n",
       "      <td>PHY349293</td>\n",
       "      <td>PHY370861</td>\n",
       "      <td>PHY363291</td>\n",
       "      <td>2009-01-20</td>\n",
       "      <td>45340</td>\n",
       "      <td>1068.0</td>\n",
       "      <td>2009-02-01</td>\n",
       "      <td>987</td>\n",
       "      <td>4240</td>\n",
       "      <td>2639</td>\n",
       "      <td>2948</td>\n",
       "      <td>40390</td>\n",
       "      <td>45821</td>\n",
       "      <td>28489</td>\n",
       "      <td>5854</td>\n",
       "      <td>2753</td>\n",
       "      <td>E9305</td>\n",
       "      <td>NaN</td>\n",
       "      <td>7769.0</td>\n",
       "      <td>5849.0</td>\n",
       "      <td>NaN</td>\n",
       "      <td>NaN</td>\n",
       "      <td>NaN</td>\n",
       "      <td>NaN</td>\n",
       "      <td>1</td>\n",
       "    </tr>\n",
       "    <tr>\n",
       "      <th>2</th>\n",
       "      <td>BENE21718</td>\n",
       "      <td>1922-10-01</td>\n",
       "      <td>NaN</td>\n",
       "      <td>1</td>\n",
       "      <td>1</td>\n",
       "      <td>0</td>\n",
       "      <td>39</td>\n",
       "      <td>600</td>\n",
       "      <td>12</td>\n",
       "      <td>12</td>\n",
       "      <td>2</td>\n",
       "      <td>2</td>\n",
       "      <td>2</td>\n",
       "      <td>2</td>\n",
       "      <td>2</td>\n",
       "      <td>2</td>\n",
       "      <td>2</td>\n",
       "      <td>1</td>\n",
       "      <td>1</td>\n",
       "      <td>2</td>\n",
       "      <td>2</td>\n",
       "      <td>17000</td>\n",
       "      <td>1068</td>\n",
       "      <td>1050</td>\n",
       "      <td>540</td>\n",
       "      <td>CLM72336</td>\n",
       "      <td>2009-10-17</td>\n",
       "      <td>2009-11-04</td>\n",
       "      <td>PRV55912</td>\n",
       "      <td>17000</td>\n",
       "      <td>PHY334706</td>\n",
       "      <td>PHY334706</td>\n",
       "      <td>NaN</td>\n",
       "      <td>2009-10-17</td>\n",
       "      <td>V5789</td>\n",
       "      <td>1068.0</td>\n",
       "      <td>2009-11-04</td>\n",
       "      <td>941</td>\n",
       "      <td>V5789</td>\n",
       "      <td>4168</td>\n",
       "      <td>73313</td>\n",
       "      <td>7812</td>\n",
       "      <td>7993</td>\n",
       "      <td>78830</td>\n",
       "      <td>72273</td>\n",
       "      <td>43812</td>\n",
       "      <td>4019</td>\n",
       "      <td>NaN</td>\n",
       "      <td>9338.0</td>\n",
       "      <td>NaN</td>\n",
       "      <td>NaN</td>\n",
       "      <td>NaN</td>\n",
       "      <td>NaN</td>\n",
       "      <td>NaN</td>\n",
       "      <td>1</td>\n",
       "    </tr>\n",
       "    <tr>\n",
       "      <th>3</th>\n",
       "      <td>BENE22934</td>\n",
       "      <td>1930-07-01</td>\n",
       "      <td>NaN</td>\n",
       "      <td>2</td>\n",
       "      <td>1</td>\n",
       "      <td>0</td>\n",
       "      <td>39</td>\n",
       "      <td>280</td>\n",
       "      <td>12</td>\n",
       "      <td>12</td>\n",
       "      <td>2</td>\n",
       "      <td>1</td>\n",
       "      <td>2</td>\n",
       "      <td>2</td>\n",
       "      <td>1</td>\n",
       "      <td>2</td>\n",
       "      <td>1</td>\n",
       "      <td>1</td>\n",
       "      <td>1</td>\n",
       "      <td>1</td>\n",
       "      <td>2</td>\n",
       "      <td>27000</td>\n",
       "      <td>2136</td>\n",
       "      <td>450</td>\n",
       "      <td>160</td>\n",
       "      <td>CLM73394</td>\n",
       "      <td>2009-10-25</td>\n",
       "      <td>2009-10-29</td>\n",
       "      <td>PRV55912</td>\n",
       "      <td>13000</td>\n",
       "      <td>PHY390614</td>\n",
       "      <td>PHY323689</td>\n",
       "      <td>PHY363291</td>\n",
       "      <td>2009-10-25</td>\n",
       "      <td>71946</td>\n",
       "      <td>1068.0</td>\n",
       "      <td>2009-10-29</td>\n",
       "      <td>506</td>\n",
       "      <td>71535</td>\n",
       "      <td>71960</td>\n",
       "      <td>4019</td>\n",
       "      <td>V1202</td>\n",
       "      <td>4240</td>\n",
       "      <td>2449</td>\n",
       "      <td>2768</td>\n",
       "      <td>NaN</td>\n",
       "      <td>NaN</td>\n",
       "      <td>NaN</td>\n",
       "      <td>8154.0</td>\n",
       "      <td>NaN</td>\n",
       "      <td>NaN</td>\n",
       "      <td>NaN</td>\n",
       "      <td>NaN</td>\n",
       "      <td>NaN</td>\n",
       "      <td>1</td>\n",
       "    </tr>\n",
       "    <tr>\n",
       "      <th>4</th>\n",
       "      <td>BENE24402</td>\n",
       "      <td>1925-09-01</td>\n",
       "      <td>NaN</td>\n",
       "      <td>2</td>\n",
       "      <td>2</td>\n",
       "      <td>0</td>\n",
       "      <td>39</td>\n",
       "      <td>510</td>\n",
       "      <td>12</td>\n",
       "      <td>12</td>\n",
       "      <td>1</td>\n",
       "      <td>2</td>\n",
       "      <td>2</td>\n",
       "      <td>1</td>\n",
       "      <td>2</td>\n",
       "      <td>2</td>\n",
       "      <td>2</td>\n",
       "      <td>1</td>\n",
       "      <td>2</td>\n",
       "      <td>2</td>\n",
       "      <td>2</td>\n",
       "      <td>3000</td>\n",
       "      <td>1068</td>\n",
       "      <td>8900</td>\n",
       "      <td>740</td>\n",
       "      <td>CLM32911</td>\n",
       "      <td>2009-01-08</td>\n",
       "      <td>2009-01-12</td>\n",
       "      <td>PRV55912</td>\n",
       "      <td>3000</td>\n",
       "      <td>PHY380413</td>\n",
       "      <td>PHY432598</td>\n",
       "      <td>NaN</td>\n",
       "      <td>2009-01-08</td>\n",
       "      <td>1748</td>\n",
       "      <td>1068.0</td>\n",
       "      <td>2009-01-12</td>\n",
       "      <td>593</td>\n",
       "      <td>2330</td>\n",
       "      <td>NaN</td>\n",
       "      <td>NaN</td>\n",
       "      <td>NaN</td>\n",
       "      <td>NaN</td>\n",
       "      <td>NaN</td>\n",
       "      <td>NaN</td>\n",
       "      <td>NaN</td>\n",
       "      <td>NaN</td>\n",
       "      <td>NaN</td>\n",
       "      <td>8543.0</td>\n",
       "      <td>NaN</td>\n",
       "      <td>NaN</td>\n",
       "      <td>NaN</td>\n",
       "      <td>NaN</td>\n",
       "      <td>NaN</td>\n",
       "      <td>1</td>\n",
       "    </tr>\n",
       "  </tbody>\n",
       "</table>\n",
       "</div>"
      ],
      "text/plain": [
       "      BeneID         DOB  DOD  Gender  Race RenalDiseaseIndicator  State  \\\n",
       "0  BENE11001  1943-01-01  NaN       1     1                     0     39   \n",
       "1  BENE17521  1913-12-01  NaN       2     1                     0     39   \n",
       "2  BENE21718  1922-10-01  NaN       1     1                     0     39   \n",
       "3  BENE22934  1930-07-01  NaN       2     1                     0     39   \n",
       "4  BENE24402  1925-09-01  NaN       2     2                     0     39   \n",
       "\n",
       "   County  NoOfMonths_PartACov  NoOfMonths_PartBCov  ChronicCond_Alzheimer  \\\n",
       "0     230                   12                   12                      1   \n",
       "1     230                   12                   12                      1   \n",
       "2     600                   12                   12                      2   \n",
       "3     280                   12                   12                      2   \n",
       "4     510                   12                   12                      1   \n",
       "\n",
       "   ChronicCond_Heartfailure  ChronicCond_KidneyDisease  ChronicCond_Cancer  \\\n",
       "0                         2                          1                   2   \n",
       "1                         1                          1                   2   \n",
       "2                         2                          2                   2   \n",
       "3                         1                          2                   2   \n",
       "4                         2                          2                   1   \n",
       "\n",
       "   ChronicCond_ObstrPulmonary  ChronicCond_Depression  ChronicCond_Diabetes  \\\n",
       "0                           2                       1                     1   \n",
       "1                           1                       2                     2   \n",
       "2                           2                       2                     2   \n",
       "3                           1                       2                     1   \n",
       "4                           2                       2                     2   \n",
       "\n",
       "   ChronicCond_IschemicHeart  ChronicCond_Osteoporasis  \\\n",
       "0                          1                         2   \n",
       "1                          1                         2   \n",
       "2                          1                         1   \n",
       "3                          1                         1   \n",
       "4                          1                         2   \n",
       "\n",
       "   ChronicCond_rheumatoidarthritis  ChronicCond_stroke  \\\n",
       "0                                1                   1   \n",
       "1                                2                   2   \n",
       "2                                2                   2   \n",
       "3                                1                   2   \n",
       "4                                2                   2   \n",
       "\n",
       "   IPAnnualReimbursementAmt  IPAnnualDeductibleAmt  OPAnnualReimbursementAmt  \\\n",
       "0                     36000                   3204                        60   \n",
       "1                     19000                   1068                       100   \n",
       "2                     17000                   1068                      1050   \n",
       "3                     27000                   2136                       450   \n",
       "4                      3000                   1068                      8900   \n",
       "\n",
       "   OPAnnualDeductibleAmt   ClaimID ClaimStartDt  ClaimEndDt  Provider  \\\n",
       "0                     70  CLM46614   2009-04-12  2009-04-18  PRV55912   \n",
       "1                     20  CLM34721   2009-01-20  2009-02-01  PRV55912   \n",
       "2                    540  CLM72336   2009-10-17  2009-11-04  PRV55912   \n",
       "3                    160  CLM73394   2009-10-25  2009-10-29  PRV55912   \n",
       "4                    740  CLM32911   2009-01-08  2009-01-12  PRV55912   \n",
       "\n",
       "   InscClaimAmtReimbursed AttendingPhysician OperatingPhysician  \\\n",
       "0                   26000          PHY390922                NaN   \n",
       "1                   19000          PHY349293          PHY370861   \n",
       "2                   17000          PHY334706          PHY334706   \n",
       "3                   13000          PHY390614          PHY323689   \n",
       "4                    3000          PHY380413          PHY432598   \n",
       "\n",
       "  OtherPhysician AdmissionDt ClmAdmitDiagnosisCode  DeductibleAmtPaid  \\\n",
       "0            NaN  2009-04-12                  7866             1068.0   \n",
       "1      PHY363291  2009-01-20                 45340             1068.0   \n",
       "2            NaN  2009-10-17                 V5789             1068.0   \n",
       "3      PHY363291  2009-10-25                 71946             1068.0   \n",
       "4            NaN  2009-01-08                  1748             1068.0   \n",
       "\n",
       "  DischargeDt DiagnosisGroupCode ClmDiagnosisCode_1 ClmDiagnosisCode_2  \\\n",
       "0  2009-04-18                201               1970               4019   \n",
       "1  2009-02-01                987               4240               2639   \n",
       "2  2009-11-04                941              V5789               4168   \n",
       "3  2009-10-29                506              71535              71960   \n",
       "4  2009-01-12                593               2330                NaN   \n",
       "\n",
       "  ClmDiagnosisCode_3 ClmDiagnosisCode_4 ClmDiagnosisCode_5 ClmDiagnosisCode_6  \\\n",
       "0               5853               7843               2768              71590   \n",
       "1               2948              40390              45821              28489   \n",
       "2              73313               7812               7993              78830   \n",
       "3               4019              V1202               4240               2449   \n",
       "4                NaN                NaN                NaN                NaN   \n",
       "\n",
       "  ClmDiagnosisCode_7 ClmDiagnosisCode_8 ClmDiagnosisCode_9  \\\n",
       "0               2724              19889               5849   \n",
       "1               5854               2753              E9305   \n",
       "2              72273              43812               4019   \n",
       "3               2768                NaN                NaN   \n",
       "4                NaN                NaN                NaN   \n",
       "\n",
       "  ClmDiagnosisCode_10  ClmProcedureCode_1  ClmProcedureCode_2  \\\n",
       "0                 NaN                 NaN                 NaN   \n",
       "1                 NaN              7769.0              5849.0   \n",
       "2                 NaN              9338.0                 NaN   \n",
       "3                 NaN              8154.0                 NaN   \n",
       "4                 NaN              8543.0                 NaN   \n",
       "\n",
       "   ClmProcedureCode_3  ClmProcedureCode_4  ClmProcedureCode_5  \\\n",
       "0                 NaN                 NaN                 NaN   \n",
       "1                 NaN                 NaN                 NaN   \n",
       "2                 NaN                 NaN                 NaN   \n",
       "3                 NaN                 NaN                 NaN   \n",
       "4                 NaN                 NaN                 NaN   \n",
       "\n",
       "   ClmProcedureCode_6  PotentialFraud  \n",
       "0                 NaN               1  \n",
       "1                 NaN               1  \n",
       "2                 NaN               1  \n",
       "3                 NaN               1  \n",
       "4                 NaN               1  "
      ]
     },
     "execution_count": 57,
     "metadata": {},
     "output_type": "execute_result"
    }
   ],
   "source": [
    "df_BIOP.head()"
   ]
  },
  {
   "cell_type": "code",
   "execution_count": 58,
   "metadata": {
    "id": "kKDPlCZ0rI9Y"
   },
   "outputs": [],
   "source": [
    "# Hence, df_BIOP is the proper dataset. Target variable is 'PotentialFraud. all other variables are independent variable"
   ]
  },
  {
   "cell_type": "markdown",
   "metadata": {
    "id": "H4XEA7f9cioK"
   },
   "source": [
    "## **Outlier Analysis and Treatment**"
   ]
  },
  {
   "cell_type": "code",
   "execution_count": 59,
   "metadata": {
    "colab": {
     "base_uri": "https://localhost:8080/"
    },
    "id": "3Z1UAFg2yZWN",
    "outputId": "e1c509fd-5ba3-4c21-b6a3-bf39e8b782bf"
   },
   "outputs": [
    {
     "data": {
      "text/plain": [
       "0    448363\n",
       "Y    109848\n",
       "Name: RenalDiseaseIndicator, dtype: int64"
      ]
     },
     "execution_count": 59,
     "metadata": {},
     "output_type": "execute_result"
    }
   ],
   "source": [
    "df_BIOP['RenalDiseaseIndicator'].value_counts()"
   ]
  },
  {
   "cell_type": "code",
   "execution_count": 60,
   "metadata": {
    "id": "yB2kHzbUyZPl"
   },
   "outputs": [],
   "source": [
    "# Replacing the Y as 1 in the RenalDiseaseIndicator column\n",
    "\n",
    "df_BIOP['RenalDiseaseIndicator']=df_BIOP['RenalDiseaseIndicator'].replace({'Y':1,'0':0})"
   ]
  },
  {
   "cell_type": "code",
   "execution_count": 61,
   "metadata": {
    "colab": {
     "base_uri": "https://localhost:8080/"
    },
    "id": "wuY7ex9eyZNL",
    "outputId": "d08bdd36-0b68-4357-8e1d-f2452bfb8c22"
   },
   "outputs": [
    {
     "data": {
      "text/plain": [
       "0    448363\n",
       "1    109848\n",
       "Name: RenalDiseaseIndicator, dtype: int64"
      ]
     },
     "execution_count": 61,
     "metadata": {},
     "output_type": "execute_result"
    }
   ],
   "source": [
    "df_BIOP['RenalDiseaseIndicator'].value_counts()"
   ]
  },
  {
   "cell_type": "code",
   "execution_count": 62,
   "metadata": {
    "id": "9viXJzZhyZKg"
   },
   "outputs": [],
   "source": [
    "df_BIOP['RenalDiseaseIndicator']=df_BIOP['RenalDiseaseIndicator'].astype('int')"
   ]
  },
  {
   "cell_type": "code",
   "execution_count": 63,
   "metadata": {
    "id": "mmmVBGP90_Jb"
   },
   "outputs": [],
   "source": [
    "df_BIOP['PotentialFraud']=df_BIOP['PotentialFraud'].astype('int')"
   ]
  },
  {
   "cell_type": "code",
   "execution_count": 64,
   "metadata": {
    "colab": {
     "base_uri": "https://localhost:8080/"
    },
    "id": "6rxnczbU0_FE",
    "outputId": "7283a079-9aa2-4b94-cee8-f1d3a723a6e9"
   },
   "outputs": [
    {
     "name": "stdout",
     "output_type": "stream",
     "text": [
      "<class 'pandas.core.frame.DataFrame'>\n",
      "Int64Index: 558211 entries, 0 to 558210\n",
      "Data columns (total 55 columns):\n",
      " #   Column                           Non-Null Count   Dtype  \n",
      "---  ------                           --------------   -----  \n",
      " 0   BeneID                           558211 non-null  object \n",
      " 1   DOB                              558211 non-null  object \n",
      " 2   DOD                              4131 non-null    object \n",
      " 3   Gender                           558211 non-null  int64  \n",
      " 4   Race                             558211 non-null  int64  \n",
      " 5   RenalDiseaseIndicator            558211 non-null  int32  \n",
      " 6   State                            558211 non-null  int64  \n",
      " 7   County                           558211 non-null  int64  \n",
      " 8   NoOfMonths_PartACov              558211 non-null  int64  \n",
      " 9   NoOfMonths_PartBCov              558211 non-null  int64  \n",
      " 10  ChronicCond_Alzheimer            558211 non-null  int64  \n",
      " 11  ChronicCond_Heartfailure         558211 non-null  int64  \n",
      " 12  ChronicCond_KidneyDisease        558211 non-null  int64  \n",
      " 13  ChronicCond_Cancer               558211 non-null  int64  \n",
      " 14  ChronicCond_ObstrPulmonary       558211 non-null  int64  \n",
      " 15  ChronicCond_Depression           558211 non-null  int64  \n",
      " 16  ChronicCond_Diabetes             558211 non-null  int64  \n",
      " 17  ChronicCond_IschemicHeart        558211 non-null  int64  \n",
      " 18  ChronicCond_Osteoporasis         558211 non-null  int64  \n",
      " 19  ChronicCond_rheumatoidarthritis  558211 non-null  int64  \n",
      " 20  ChronicCond_stroke               558211 non-null  int64  \n",
      " 21  IPAnnualReimbursementAmt         558211 non-null  int64  \n",
      " 22  IPAnnualDeductibleAmt            558211 non-null  int64  \n",
      " 23  OPAnnualReimbursementAmt         558211 non-null  int64  \n",
      " 24  OPAnnualDeductibleAmt            558211 non-null  int64  \n",
      " 25  ClaimID                          558211 non-null  object \n",
      " 26  ClaimStartDt                     558211 non-null  object \n",
      " 27  ClaimEndDt                       558211 non-null  object \n",
      " 28  Provider                         558211 non-null  object \n",
      " 29  InscClaimAmtReimbursed           558211 non-null  int64  \n",
      " 30  AttendingPhysician               556703 non-null  object \n",
      " 31  OperatingPhysician               114447 non-null  object \n",
      " 32  OtherPhysician                   199736 non-null  object \n",
      " 33  AdmissionDt                      40474 non-null   object \n",
      " 34  ClmAdmitDiagnosisCode            145899 non-null  object \n",
      " 35  DeductibleAmtPaid                557312 non-null  float64\n",
      " 36  DischargeDt                      40474 non-null   object \n",
      " 37  DiagnosisGroupCode               40474 non-null   object \n",
      " 38  ClmDiagnosisCode_1               547758 non-null  object \n",
      " 39  ClmDiagnosisCode_2               362605 non-null  object \n",
      " 40  ClmDiagnosisCode_3               243055 non-null  object \n",
      " 41  ClmDiagnosisCode_4               164536 non-null  object \n",
      " 42  ClmDiagnosisCode_5               111924 non-null  object \n",
      " 43  ClmDiagnosisCode_6               84392 non-null   object \n",
      " 44  ClmDiagnosisCode_7               66177 non-null   object \n",
      " 45  ClmDiagnosisCode_8               53444 non-null   object \n",
      " 46  ClmDiagnosisCode_9               41815 non-null   object \n",
      " 47  ClmDiagnosisCode_10              5010 non-null    object \n",
      " 48  ClmProcedureCode_1               23310 non-null   float64\n",
      " 49  ClmProcedureCode_2               5490 non-null    float64\n",
      " 50  ClmProcedureCode_3               969 non-null     float64\n",
      " 51  ClmProcedureCode_4               118 non-null     float64\n",
      " 52  ClmProcedureCode_5               9 non-null       float64\n",
      " 53  ClmProcedureCode_6               0 non-null       float64\n",
      " 54  PotentialFraud                   558211 non-null  int32  \n",
      "dtypes: float64(7), int32(2), int64(22), object(24)\n",
      "memory usage: 234.2+ MB\n"
     ]
    }
   ],
   "source": [
    "df_BIOP.info()"
   ]
  },
  {
   "cell_type": "code",
   "execution_count": 65,
   "metadata": {
    "id": "JAeSmReZ0-_G"
   },
   "outputs": [],
   "source": [
    "df_BIOP_number=df_BIOP.select_dtypes(include=[np.number])"
   ]
  },
  {
   "cell_type": "code",
   "execution_count": 66,
   "metadata": {
    "id": "skMIoKJd0-6t"
   },
   "outputs": [],
   "source": [
    "df_BIOP_cat=df_BIOP.select_dtypes(include=[object])"
   ]
  },
  {
   "cell_type": "code",
   "execution_count": 67,
   "metadata": {
    "colab": {
     "base_uri": "https://localhost:8080/"
    },
    "id": "BrIv9p2j0-3T",
    "outputId": "7cc224a8-a6f1-4eb5-8fb9-930a3f9ba07e"
   },
   "outputs": [
    {
     "data": {
      "text/plain": [
       "(558211, 24)"
      ]
     },
     "execution_count": 67,
     "metadata": {},
     "output_type": "execute_result"
    }
   ],
   "source": [
    "df_BIOP_cat.shape"
   ]
  },
  {
   "cell_type": "code",
   "execution_count": 68,
   "metadata": {
    "colab": {
     "base_uri": "https://localhost:8080/"
    },
    "id": "sl8G6fDg0-1A",
    "outputId": "f9761b81-b757-46c1-855c-0fe55b0fbfc7"
   },
   "outputs": [
    {
     "data": {
      "text/plain": [
       "(558211, 31)"
      ]
     },
     "execution_count": 68,
     "metadata": {},
     "output_type": "execute_result"
    }
   ],
   "source": [
    "df_BIOP_number.shape"
   ]
  },
  {
   "cell_type": "markdown",
   "metadata": {
    "id": "2QV9UG4bc15J"
   },
   "source": [
    "**Removing Outliers using IQR Method**"
   ]
  },
  {
   "cell_type": "code",
   "execution_count": 69,
   "metadata": {
    "colab": {
     "base_uri": "https://localhost:8080/",
     "height": 1000
    },
    "id": "o0BZr7ol9Zw0",
    "outputId": "9f9ed9c3-e524-4b3d-e187-b1ac47bfc00d"
   },
   "outputs": [
    {
     "data": {
      "text/plain": [
       "(array([ 1,  2,  3,  4,  5,  6,  7,  8,  9, 10, 11, 12, 13, 14, 15, 16, 17,\n",
       "        18, 19, 20, 21, 22, 23, 24, 25, 26, 27, 28, 29, 30, 31]),\n",
       " [Text(1, 0, 'Gender'),\n",
       "  Text(2, 0, 'Race'),\n",
       "  Text(3, 0, 'RenalDiseaseIndicator'),\n",
       "  Text(4, 0, 'State'),\n",
       "  Text(5, 0, 'County'),\n",
       "  Text(6, 0, 'NoOfMonths_PartACov'),\n",
       "  Text(7, 0, 'NoOfMonths_PartBCov'),\n",
       "  Text(8, 0, 'ChronicCond_Alzheimer'),\n",
       "  Text(9, 0, 'ChronicCond_Heartfailure'),\n",
       "  Text(10, 0, 'ChronicCond_KidneyDisease'),\n",
       "  Text(11, 0, 'ChronicCond_Cancer'),\n",
       "  Text(12, 0, 'ChronicCond_ObstrPulmonary'),\n",
       "  Text(13, 0, 'ChronicCond_Depression'),\n",
       "  Text(14, 0, 'ChronicCond_Diabetes'),\n",
       "  Text(15, 0, 'ChronicCond_IschemicHeart'),\n",
       "  Text(16, 0, 'ChronicCond_Osteoporasis'),\n",
       "  Text(17, 0, 'ChronicCond_rheumatoidarthritis'),\n",
       "  Text(18, 0, 'ChronicCond_stroke'),\n",
       "  Text(19, 0, 'IPAnnualReimbursementAmt'),\n",
       "  Text(20, 0, 'IPAnnualDeductibleAmt'),\n",
       "  Text(21, 0, 'OPAnnualReimbursementAmt'),\n",
       "  Text(22, 0, 'OPAnnualDeductibleAmt'),\n",
       "  Text(23, 0, 'InscClaimAmtReimbursed'),\n",
       "  Text(24, 0, 'DeductibleAmtPaid'),\n",
       "  Text(25, 0, 'ClmProcedureCode_1'),\n",
       "  Text(26, 0, 'ClmProcedureCode_2'),\n",
       "  Text(27, 0, 'ClmProcedureCode_3'),\n",
       "  Text(28, 0, 'ClmProcedureCode_4'),\n",
       "  Text(29, 0, 'ClmProcedureCode_5'),\n",
       "  Text(30, 0, 'ClmProcedureCode_6'),\n",
       "  Text(31, 0, 'PotentialFraud')])"
      ]
     },
     "execution_count": 69,
     "metadata": {},
     "output_type": "execute_result"
    },
    {
     "data": {
      "image/png": "[encoded data removed]",
      "text/plain": [
       "<Figure size 1200x800 with 1 Axes>"
      ]
     },
     "metadata": {},
     "output_type": "display_data"
    }
   ],
   "source": [
    "plt.figure(figsize=(12,8))\n",
    "df_BIOP_number.boxplot()\n",
    "plt.xticks(rotation=90)"
   ]
  },
  {
   "cell_type": "code",
   "execution_count": 70,
   "metadata": {
    "colab": {
     "base_uri": "https://localhost:8080/",
     "height": 296
    },
    "id": "7SiKDof_-o4C",
    "outputId": "35cbe216-8378-4691-9786-c1f87d7bbca1"
   },
   "outputs": [
    {
     "data": {
      "text/plain": [
       "<AxesSubplot: xlabel='IPAnnualReimbursementAmt', ylabel='Density'>"
      ]
     },
     "execution_count": 70,
     "metadata": {},
     "output_type": "execute_result"
    },
    {
     "data": {
      "image/png": "[encoded data removed]",
      "text/plain": [
       "<Figure size 640x480 with 1 Axes>"
      ]
     },
     "metadata": {},
     "output_type": "display_data"
    }
   ],
   "source": [
    "sns.distplot(df_BIOP_number['IPAnnualReimbursementAmt'])"
   ]
  },
  {
   "cell_type": "code",
   "execution_count": 71,
   "metadata": {
    "id": "1EDBtIhi4BrI"
   },
   "outputs": [],
   "source": [
    "q1=df_BIOP_number.quantile(0.25)\n",
    "q3=df_BIOP_number.quantile(0.75)\n",
    "\n",
    "IQR= q3-q1\n",
    "\n",
    "LL=q1-1.5*IQR\n",
    "UL=q3+1.5*IQR\n",
    "\n",
    "len(df_BIOP_number['IPAnnualReimbursementAmt'][df_BIOP_number['IPAnnualReimbursementAmt']>UL.IPAnnualReimbursementAmt])/len(df_BIOP_number['IPAnnualReimbursementAmt'])*100\n",
    "df_BIOP_number = df_BIOP_number.reset_index(drop = True)"
   ]
  },
  {
   "cell_type": "code",
   "execution_count": 72,
   "metadata": {
    "colab": {
     "base_uri": "https://localhost:8080/",
     "height": 270
    },
    "id": "yghGHwpn5VoF",
    "outputId": "c7a18bba-2ac6-413e-9a45-2d7efb72d8aa"
   },
   "outputs": [
    {
     "data": {
      "text/html": [
       "<div>\n",
       "<style scoped>\n",
       "    .dataframe tbody tr th:only-of-type {\n",
       "        vertical-align: middle;\n",
       "    }\n",
       "\n",
       "    .dataframe tbody tr th {\n",
       "        vertical-align: top;\n",
       "    }\n",
       "\n",
       "    .dataframe thead th {\n",
       "        text-align: right;\n",
       "    }\n",
       "</style>\n",
       "<table border=\"1\" class=\"dataframe\">\n",
       "  <thead>\n",
       "    <tr style=\"text-align: right;\">\n",
       "      <th></th>\n",
       "      <th>Gender</th>\n",
       "      <th>Race</th>\n",
       "      <th>RenalDiseaseIndicator</th>\n",
       "      <th>State</th>\n",
       "      <th>County</th>\n",
       "      <th>NoOfMonths_PartACov</th>\n",
       "      <th>NoOfMonths_PartBCov</th>\n",
       "      <th>ChronicCond_Alzheimer</th>\n",
       "      <th>ChronicCond_Heartfailure</th>\n",
       "      <th>ChronicCond_KidneyDisease</th>\n",
       "      <th>ChronicCond_Cancer</th>\n",
       "      <th>ChronicCond_ObstrPulmonary</th>\n",
       "      <th>ChronicCond_Depression</th>\n",
       "      <th>ChronicCond_Diabetes</th>\n",
       "      <th>ChronicCond_IschemicHeart</th>\n",
       "      <th>ChronicCond_Osteoporasis</th>\n",
       "      <th>ChronicCond_rheumatoidarthritis</th>\n",
       "      <th>ChronicCond_stroke</th>\n",
       "      <th>IPAnnualReimbursementAmt</th>\n",
       "      <th>IPAnnualDeductibleAmt</th>\n",
       "      <th>OPAnnualReimbursementAmt</th>\n",
       "      <th>OPAnnualDeductibleAmt</th>\n",
       "      <th>InscClaimAmtReimbursed</th>\n",
       "      <th>DeductibleAmtPaid</th>\n",
       "      <th>ClmProcedureCode_1</th>\n",
       "      <th>ClmProcedureCode_2</th>\n",
       "      <th>ClmProcedureCode_3</th>\n",
       "      <th>ClmProcedureCode_4</th>\n",
       "      <th>ClmProcedureCode_5</th>\n",
       "      <th>ClmProcedureCode_6</th>\n",
       "      <th>PotentialFraud</th>\n",
       "    </tr>\n",
       "  </thead>\n",
       "  <tbody>\n",
       "    <tr>\n",
       "      <th>0</th>\n",
       "      <td>1</td>\n",
       "      <td>1</td>\n",
       "      <td>0</td>\n",
       "      <td>39</td>\n",
       "      <td>230</td>\n",
       "      <td>12</td>\n",
       "      <td>12</td>\n",
       "      <td>1</td>\n",
       "      <td>2</td>\n",
       "      <td>1</td>\n",
       "      <td>2</td>\n",
       "      <td>2</td>\n",
       "      <td>1</td>\n",
       "      <td>1</td>\n",
       "      <td>1</td>\n",
       "      <td>2</td>\n",
       "      <td>1</td>\n",
       "      <td>1</td>\n",
       "      <td>36000</td>\n",
       "      <td>3204</td>\n",
       "      <td>60</td>\n",
       "      <td>70</td>\n",
       "      <td>26000</td>\n",
       "      <td>1068.0</td>\n",
       "      <td>NaN</td>\n",
       "      <td>NaN</td>\n",
       "      <td>NaN</td>\n",
       "      <td>NaN</td>\n",
       "      <td>NaN</td>\n",
       "      <td>NaN</td>\n",
       "      <td>1</td>\n",
       "    </tr>\n",
       "    <tr>\n",
       "      <th>1</th>\n",
       "      <td>2</td>\n",
       "      <td>1</td>\n",
       "      <td>0</td>\n",
       "      <td>39</td>\n",
       "      <td>230</td>\n",
       "      <td>12</td>\n",
       "      <td>12</td>\n",
       "      <td>1</td>\n",
       "      <td>1</td>\n",
       "      <td>1</td>\n",
       "      <td>2</td>\n",
       "      <td>1</td>\n",
       "      <td>2</td>\n",
       "      <td>2</td>\n",
       "      <td>1</td>\n",
       "      <td>2</td>\n",
       "      <td>2</td>\n",
       "      <td>2</td>\n",
       "      <td>19000</td>\n",
       "      <td>1068</td>\n",
       "      <td>100</td>\n",
       "      <td>20</td>\n",
       "      <td>19000</td>\n",
       "      <td>1068.0</td>\n",
       "      <td>7769.0</td>\n",
       "      <td>5849.0</td>\n",
       "      <td>NaN</td>\n",
       "      <td>NaN</td>\n",
       "      <td>NaN</td>\n",
       "      <td>NaN</td>\n",
       "      <td>1</td>\n",
       "    </tr>\n",
       "    <tr>\n",
       "      <th>2</th>\n",
       "      <td>1</td>\n",
       "      <td>1</td>\n",
       "      <td>0</td>\n",
       "      <td>39</td>\n",
       "      <td>600</td>\n",
       "      <td>12</td>\n",
       "      <td>12</td>\n",
       "      <td>2</td>\n",
       "      <td>2</td>\n",
       "      <td>2</td>\n",
       "      <td>2</td>\n",
       "      <td>2</td>\n",
       "      <td>2</td>\n",
       "      <td>2</td>\n",
       "      <td>1</td>\n",
       "      <td>1</td>\n",
       "      <td>2</td>\n",
       "      <td>2</td>\n",
       "      <td>17000</td>\n",
       "      <td>1068</td>\n",
       "      <td>1050</td>\n",
       "      <td>540</td>\n",
       "      <td>17000</td>\n",
       "      <td>1068.0</td>\n",
       "      <td>9338.0</td>\n",
       "      <td>NaN</td>\n",
       "      <td>NaN</td>\n",
       "      <td>NaN</td>\n",
       "      <td>NaN</td>\n",
       "      <td>NaN</td>\n",
       "      <td>1</td>\n",
       "    </tr>\n",
       "    <tr>\n",
       "      <th>3</th>\n",
       "      <td>2</td>\n",
       "      <td>1</td>\n",
       "      <td>0</td>\n",
       "      <td>39</td>\n",
       "      <td>280</td>\n",
       "      <td>12</td>\n",
       "      <td>12</td>\n",
       "      <td>2</td>\n",
       "      <td>1</td>\n",
       "      <td>2</td>\n",
       "      <td>2</td>\n",
       "      <td>1</td>\n",
       "      <td>2</td>\n",
       "      <td>1</td>\n",
       "      <td>1</td>\n",
       "      <td>1</td>\n",
       "      <td>1</td>\n",
       "      <td>2</td>\n",
       "      <td>27000</td>\n",
       "      <td>2136</td>\n",
       "      <td>450</td>\n",
       "      <td>160</td>\n",
       "      <td>13000</td>\n",
       "      <td>1068.0</td>\n",
       "      <td>8154.0</td>\n",
       "      <td>NaN</td>\n",
       "      <td>NaN</td>\n",
       "      <td>NaN</td>\n",
       "      <td>NaN</td>\n",
       "      <td>NaN</td>\n",
       "      <td>1</td>\n",
       "    </tr>\n",
       "    <tr>\n",
       "      <th>4</th>\n",
       "      <td>2</td>\n",
       "      <td>2</td>\n",
       "      <td>0</td>\n",
       "      <td>39</td>\n",
       "      <td>510</td>\n",
       "      <td>12</td>\n",
       "      <td>12</td>\n",
       "      <td>1</td>\n",
       "      <td>2</td>\n",
       "      <td>2</td>\n",
       "      <td>1</td>\n",
       "      <td>2</td>\n",
       "      <td>2</td>\n",
       "      <td>2</td>\n",
       "      <td>1</td>\n",
       "      <td>2</td>\n",
       "      <td>2</td>\n",
       "      <td>2</td>\n",
       "      <td>3000</td>\n",
       "      <td>1068</td>\n",
       "      <td>8900</td>\n",
       "      <td>740</td>\n",
       "      <td>3000</td>\n",
       "      <td>1068.0</td>\n",
       "      <td>8543.0</td>\n",
       "      <td>NaN</td>\n",
       "      <td>NaN</td>\n",
       "      <td>NaN</td>\n",
       "      <td>NaN</td>\n",
       "      <td>NaN</td>\n",
       "      <td>1</td>\n",
       "    </tr>\n",
       "  </tbody>\n",
       "</table>\n",
       "</div>"
      ],
      "text/plain": [
       "   Gender  Race  RenalDiseaseIndicator  State  County  NoOfMonths_PartACov  \\\n",
       "0       1     1                      0     39     230                   12   \n",
       "1       2     1                      0     39     230                   12   \n",
       "2       1     1                      0     39     600                   12   \n",
       "3       2     1                      0     39     280                   12   \n",
       "4       2     2                      0     39     510                   12   \n",
       "\n",
       "   NoOfMonths_PartBCov  ChronicCond_Alzheimer  ChronicCond_Heartfailure  \\\n",
       "0                   12                      1                         2   \n",
       "1                   12                      1                         1   \n",
       "2                   12                      2                         2   \n",
       "3                   12                      2                         1   \n",
       "4                   12                      1                         2   \n",
       "\n",
       "   ChronicCond_KidneyDisease  ChronicCond_Cancer  ChronicCond_ObstrPulmonary  \\\n",
       "0                          1                   2                           2   \n",
       "1                          1                   2                           1   \n",
       "2                          2                   2                           2   \n",
       "3                          2                   2                           1   \n",
       "4                          2                   1                           2   \n",
       "\n",
       "   ChronicCond_Depression  ChronicCond_Diabetes  ChronicCond_IschemicHeart  \\\n",
       "0                       1                     1                          1   \n",
       "1                       2                     2                          1   \n",
       "2                       2                     2                          1   \n",
       "3                       2                     1                          1   \n",
       "4                       2                     2                          1   \n",
       "\n",
       "   ChronicCond_Osteoporasis  ChronicCond_rheumatoidarthritis  \\\n",
       "0                         2                                1   \n",
       "1                         2                                2   \n",
       "2                         1                                2   \n",
       "3                         1                                1   \n",
       "4                         2                                2   \n",
       "\n",
       "   ChronicCond_stroke  IPAnnualReimbursementAmt  IPAnnualDeductibleAmt  \\\n",
       "0                   1                     36000                   3204   \n",
       "1                   2                     19000                   1068   \n",
       "2                   2                     17000                   1068   \n",
       "3                   2                     27000                   2136   \n",
       "4                   2                      3000                   1068   \n",
       "\n",
       "   OPAnnualReimbursementAmt  OPAnnualDeductibleAmt  InscClaimAmtReimbursed  \\\n",
       "0                        60                     70                   26000   \n",
       "1                       100                     20                   19000   \n",
       "2                      1050                    540                   17000   \n",
       "3                       450                    160                   13000   \n",
       "4                      8900                    740                    3000   \n",
       "\n",
       "   DeductibleAmtPaid  ClmProcedureCode_1  ClmProcedureCode_2  \\\n",
       "0             1068.0                 NaN                 NaN   \n",
       "1             1068.0              7769.0              5849.0   \n",
       "2             1068.0              9338.0                 NaN   \n",
       "3             1068.0              8154.0                 NaN   \n",
       "4             1068.0              8543.0                 NaN   \n",
       "\n",
       "   ClmProcedureCode_3  ClmProcedureCode_4  ClmProcedureCode_5  \\\n",
       "0                 NaN                 NaN                 NaN   \n",
       "1                 NaN                 NaN                 NaN   \n",
       "2                 NaN                 NaN                 NaN   \n",
       "3                 NaN                 NaN                 NaN   \n",
       "4                 NaN                 NaN                 NaN   \n",
       "\n",
       "   ClmProcedureCode_6  PotentialFraud  \n",
       "0                 NaN               1  \n",
       "1                 NaN               1  \n",
       "2                 NaN               1  \n",
       "3                 NaN               1  \n",
       "4                 NaN               1  "
      ]
     },
     "execution_count": 72,
     "metadata": {},
     "output_type": "execute_result"
    }
   ],
   "source": [
    "df_BIOP_number.head()"
   ]
  },
  {
   "cell_type": "markdown",
   "metadata": {
    "id": "XG94_HAtdvwG"
   },
   "source": [
    "## **Algorithmic approach for Treating Missing Values**"
   ]
  },
  {
   "cell_type": "code",
   "execution_count": 73,
   "metadata": {
    "colab": {
     "base_uri": "https://localhost:8080/"
    },
    "id": "9I9JFAvCuElL",
    "outputId": "68350fe9-cb78-4a5b-9892-90b340cb8099"
   },
   "outputs": [
    {
     "data": {
      "text/plain": [
       "Gender                               0.000000\n",
       "Race                                 0.000000\n",
       "RenalDiseaseIndicator                0.000000\n",
       "State                                0.000000\n",
       "County                               0.000000\n",
       "NoOfMonths_PartACov                  0.000000\n",
       "NoOfMonths_PartBCov                  0.000000\n",
       "ChronicCond_Alzheimer                0.000000\n",
       "ChronicCond_Heartfailure             0.000000\n",
       "ChronicCond_KidneyDisease            0.000000\n",
       "ChronicCond_Cancer                   0.000000\n",
       "ChronicCond_ObstrPulmonary           0.000000\n",
       "ChronicCond_Depression               0.000000\n",
       "ChronicCond_Diabetes                 0.000000\n",
       "ChronicCond_IschemicHeart            0.000000\n",
       "ChronicCond_Osteoporasis             0.000000\n",
       "ChronicCond_rheumatoidarthritis      0.000000\n",
       "ChronicCond_stroke                   0.000000\n",
       "IPAnnualReimbursementAmt             0.000000\n",
       "IPAnnualDeductibleAmt                0.000000\n",
       "OPAnnualReimbursementAmt             0.000000\n",
       "OPAnnualDeductibleAmt                0.000000\n",
       "InscClaimAmtReimbursed               0.000000\n",
       "DeductibleAmtPaid                    0.161050\n",
       "ClmProcedureCode_1                  95.824160\n",
       "ClmProcedureCode_2                  99.016501\n",
       "ClmProcedureCode_3                  99.826410\n",
       "ClmProcedureCode_4                  99.978861\n",
       "ClmProcedureCode_5                  99.998388\n",
       "ClmProcedureCode_6                 100.000000\n",
       "PotentialFraud                       0.000000\n",
       "dtype: float64"
      ]
     },
     "execution_count": 73,
     "metadata": {},
     "output_type": "execute_result"
    }
   ],
   "source": [
    "(df_BIOP_number.isnull().sum()/len(df_BIOP))*100"
   ]
  },
  {
   "cell_type": "code",
   "execution_count": 74,
   "metadata": {
    "colab": {
     "base_uri": "https://localhost:8080/"
    },
    "id": "_DdDWIQ8_rFH",
    "outputId": "4eb0c3ab-56ea-4609-e5a8-6a88d6955cfb"
   },
   "outputs": [
    {
     "name": "stdout",
     "output_type": "stream",
     "text": [
      "<class 'pandas.core.frame.DataFrame'>\n",
      "RangeIndex: 558211 entries, 0 to 558210\n",
      "Data columns (total 31 columns):\n",
      " #   Column                           Non-Null Count   Dtype  \n",
      "---  ------                           --------------   -----  \n",
      " 0   Gender                           558211 non-null  int64  \n",
      " 1   Race                             558211 non-null  int64  \n",
      " 2   RenalDiseaseIndicator            558211 non-null  int32  \n",
      " 3   State                            558211 non-null  int64  \n",
      " 4   County                           558211 non-null  int64  \n",
      " 5   NoOfMonths_PartACov              558211 non-null  int64  \n",
      " 6   NoOfMonths_PartBCov              558211 non-null  int64  \n",
      " 7   ChronicCond_Alzheimer            558211 non-null  int64  \n",
      " 8   ChronicCond_Heartfailure         558211 non-null  int64  \n",
      " 9   ChronicCond_KidneyDisease        558211 non-null  int64  \n",
      " 10  ChronicCond_Cancer               558211 non-null  int64  \n",
      " 11  ChronicCond_ObstrPulmonary       558211 non-null  int64  \n",
      " 12  ChronicCond_Depression           558211 non-null  int64  \n",
      " 13  ChronicCond_Diabetes             558211 non-null  int64  \n",
      " 14  ChronicCond_IschemicHeart        558211 non-null  int64  \n",
      " 15  ChronicCond_Osteoporasis         558211 non-null  int64  \n",
      " 16  ChronicCond_rheumatoidarthritis  558211 non-null  int64  \n",
      " 17  ChronicCond_stroke               558211 non-null  int64  \n",
      " 18  IPAnnualReimbursementAmt         558211 non-null  int64  \n",
      " 19  IPAnnualDeductibleAmt            558211 non-null  int64  \n",
      " 20  OPAnnualReimbursementAmt         558211 non-null  int64  \n",
      " 21  OPAnnualDeductibleAmt            558211 non-null  int64  \n",
      " 22  InscClaimAmtReimbursed           558211 non-null  int64  \n",
      " 23  DeductibleAmtPaid                557312 non-null  float64\n",
      " 24  ClmProcedureCode_1               23310 non-null   float64\n",
      " 25  ClmProcedureCode_2               5490 non-null    float64\n",
      " 26  ClmProcedureCode_3               969 non-null     float64\n",
      " 27  ClmProcedureCode_4               118 non-null     float64\n",
      " 28  ClmProcedureCode_5               9 non-null       float64\n",
      " 29  ClmProcedureCode_6               0 non-null       float64\n",
      " 30  PotentialFraud                   558211 non-null  int32  \n",
      "dtypes: float64(7), int32(2), int64(22)\n",
      "memory usage: 127.8 MB\n"
     ]
    }
   ],
   "source": [
    "df_BIOP_number.info()"
   ]
  },
  {
   "cell_type": "code",
   "execution_count": 75,
   "metadata": {
    "id": "oNUhueiG_B5o"
   },
   "outputs": [],
   "source": [
    "df_BIOP_number.drop(['ClmProcedureCode_1','ClmProcedureCode_2','ClmProcedureCode_3','ClmProcedureCode_4','ClmProcedureCode_5','ClmProcedureCode_6'],axis=1,inplace=True)"
   ]
  },
  {
   "cell_type": "code",
   "execution_count": 76,
   "metadata": {
    "id": "NbKKMAY8G8Zf"
   },
   "outputs": [],
   "source": [
    "df_BIOP.drop(['ClmProcedureCode_1','ClmProcedureCode_2','ClmProcedureCode_3','ClmProcedureCode_4','ClmProcedureCode_5','ClmProcedureCode_6'],axis=1,inplace=True)"
   ]
  },
  {
   "cell_type": "code",
   "execution_count": 77,
   "metadata": {
    "colab": {
     "base_uri": "https://localhost:8080/"
    },
    "id": "qA9G301JCV5-",
    "outputId": "46fca4b9-13d2-44c9-8d69-56f54d19df4e"
   },
   "outputs": [
    {
     "name": "stdout",
     "output_type": "stream",
     "text": [
      "<class 'pandas.core.frame.DataFrame'>\n",
      "RangeIndex: 558211 entries, 0 to 558210\n",
      "Data columns (total 25 columns):\n",
      " #   Column                           Non-Null Count   Dtype  \n",
      "---  ------                           --------------   -----  \n",
      " 0   Gender                           558211 non-null  int64  \n",
      " 1   Race                             558211 non-null  int64  \n",
      " 2   RenalDiseaseIndicator            558211 non-null  int32  \n",
      " 3   State                            558211 non-null  int64  \n",
      " 4   County                           558211 non-null  int64  \n",
      " 5   NoOfMonths_PartACov              558211 non-null  int64  \n",
      " 6   NoOfMonths_PartBCov              558211 non-null  int64  \n",
      " 7   ChronicCond_Alzheimer            558211 non-null  int64  \n",
      " 8   ChronicCond_Heartfailure         558211 non-null  int64  \n",
      " 9   ChronicCond_KidneyDisease        558211 non-null  int64  \n",
      " 10  ChronicCond_Cancer               558211 non-null  int64  \n",
      " 11  ChronicCond_ObstrPulmonary       558211 non-null  int64  \n",
      " 12  ChronicCond_Depression           558211 non-null  int64  \n",
      " 13  ChronicCond_Diabetes             558211 non-null  int64  \n",
      " 14  ChronicCond_IschemicHeart        558211 non-null  int64  \n",
      " 15  ChronicCond_Osteoporasis         558211 non-null  int64  \n",
      " 16  ChronicCond_rheumatoidarthritis  558211 non-null  int64  \n",
      " 17  ChronicCond_stroke               558211 non-null  int64  \n",
      " 18  IPAnnualReimbursementAmt         558211 non-null  int64  \n",
      " 19  IPAnnualDeductibleAmt            558211 non-null  int64  \n",
      " 20  OPAnnualReimbursementAmt         558211 non-null  int64  \n",
      " 21  OPAnnualDeductibleAmt            558211 non-null  int64  \n",
      " 22  InscClaimAmtReimbursed           558211 non-null  int64  \n",
      " 23  DeductibleAmtPaid                557312 non-null  float64\n",
      " 24  PotentialFraud                   558211 non-null  int32  \n",
      "dtypes: float64(1), int32(2), int64(22)\n",
      "memory usage: 102.2 MB\n"
     ]
    }
   ],
   "source": [
    "df_BIOP_number.info()"
   ]
  },
  {
   "cell_type": "code",
   "execution_count": 78,
   "metadata": {
    "colab": {
     "base_uri": "https://localhost:8080/"
    },
    "id": "CuQ9WYpnBPAA",
    "outputId": "903e8440-07ae-44c0-a9b3-381d94c1f921"
   },
   "outputs": [
    {
     "data": {
      "text/plain": [
       "BeneID                    0.000000\n",
       "DOB                       0.000000\n",
       "DOD                      99.259957\n",
       "ClaimID                   0.000000\n",
       "ClaimStartDt              0.000000\n",
       "ClaimEndDt                0.000000\n",
       "Provider                  0.000000\n",
       "AttendingPhysician        0.270149\n",
       "OperatingPhysician       79.497538\n",
       "OtherPhysician           64.218548\n",
       "AdmissionDt              92.749337\n",
       "ClmAdmitDiagnosisCode    73.863109\n",
       "DischargeDt              92.749337\n",
       "DiagnosisGroupCode       92.749337\n",
       "ClmDiagnosisCode_1        1.872589\n",
       "ClmDiagnosisCode_2       35.041588\n",
       "ClmDiagnosisCode_3       56.458221\n",
       "ClmDiagnosisCode_4       70.524407\n",
       "ClmDiagnosisCode_5       79.949517\n",
       "ClmDiagnosisCode_6       84.881702\n",
       "ClmDiagnosisCode_7       88.144805\n",
       "ClmDiagnosisCode_8       90.425843\n",
       "ClmDiagnosisCode_9       92.509105\n",
       "ClmDiagnosisCode_10      99.102490\n",
       "dtype: float64"
      ]
     },
     "execution_count": 78,
     "metadata": {},
     "output_type": "execute_result"
    }
   ],
   "source": [
    "(df_BIOP_cat.isnull().sum()/len(df_BIOP_cat))*100"
   ]
  },
  {
   "cell_type": "code",
   "execution_count": 79,
   "metadata": {
    "id": "uX6afQqaBO9W"
   },
   "outputs": [],
   "source": [
    "df_BIOP_cat.drop(['DOD','AdmissionDt','DischargeDt','DiagnosisGroupCode','ClmDiagnosisCode_6','ClmDiagnosisCode_7','ClmDiagnosisCode_8','ClmDiagnosisCode_9','ClmDiagnosisCode_10'],axis=1,inplace=True)"
   ]
  },
  {
   "cell_type": "code",
   "execution_count": 80,
   "metadata": {
    "id": "nlZFmSDFHFku"
   },
   "outputs": [],
   "source": [
    " df_BIOP.drop(['DOD','AdmissionDt','DischargeDt','DiagnosisGroupCode','ClmDiagnosisCode_6','ClmDiagnosisCode_7','ClmDiagnosisCode_8','ClmDiagnosisCode_9','ClmDiagnosisCode_10'],axis=1,inplace=True)"
   ]
  },
  {
   "cell_type": "code",
   "execution_count": 81,
   "metadata": {
    "colab": {
     "base_uri": "https://localhost:8080/"
    },
    "id": "98OfOpQuBO6t",
    "outputId": "36102e63-5c7c-4fd1-8bf5-e4bacb8dde87"
   },
   "outputs": [
    {
     "data": {
      "text/plain": [
       "BeneID                    0.000000\n",
       "DOB                       0.000000\n",
       "ClaimID                   0.000000\n",
       "ClaimStartDt              0.000000\n",
       "ClaimEndDt                0.000000\n",
       "Provider                  0.000000\n",
       "AttendingPhysician        0.270149\n",
       "OperatingPhysician       79.497538\n",
       "OtherPhysician           64.218548\n",
       "ClmAdmitDiagnosisCode    73.863109\n",
       "ClmDiagnosisCode_1        1.872589\n",
       "ClmDiagnosisCode_2       35.041588\n",
       "ClmDiagnosisCode_3       56.458221\n",
       "ClmDiagnosisCode_4       70.524407\n",
       "ClmDiagnosisCode_5       79.949517\n",
       "dtype: float64"
      ]
     },
     "execution_count": 81,
     "metadata": {},
     "output_type": "execute_result"
    }
   ],
   "source": [
    "(df_BIOP_cat.isnull().sum()/len(df_BIOP_cat))*100"
   ]
  },
  {
   "cell_type": "code",
   "execution_count": 82,
   "metadata": {
    "colab": {
     "base_uri": "https://localhost:8080/"
    },
    "id": "ByCv78iGDc-H",
    "outputId": "64ecde90-25ce-4b20-993d-b3e71f4c7666"
   },
   "outputs": [
    {
     "data": {
      "text/plain": [
       "PHY330576    424\n",
       "PHY424897    293\n",
       "PHY314027    256\n",
       "PHY423534    250\n",
       "PHY357120    249\n",
       "            ... \n",
       "PHY325611      1\n",
       "PHY337628      1\n",
       "PHY327505      1\n",
       "PHY377003      1\n",
       "PHY380208      1\n",
       "Name: OperatingPhysician, Length: 35315, dtype: int64"
      ]
     },
     "execution_count": 82,
     "metadata": {},
     "output_type": "execute_result"
    }
   ],
   "source": [
    "df_BIOP_cat['OperatingPhysician'].value_counts()"
   ]
  },
  {
   "cell_type": "code",
   "execution_count": 83,
   "metadata": {
    "id": "gAfROVQPDuEa"
   },
   "outputs": [],
   "source": [
    "df_BIOP_cat['OperatingPhysician']=df_BIOP_cat['OperatingPhysician'].replace(np.nan,'PHY330576')"
   ]
  },
  {
   "cell_type": "code",
   "execution_count": 84,
   "metadata": {
    "colab": {
     "base_uri": "https://localhost:8080/"
    },
    "id": "Zd6buzAAD5T4",
    "outputId": "2881fc32-7e02-4068-be6d-60789e24f562"
   },
   "outputs": [
    {
     "data": {
      "text/plain": [
       "PHY330576    2534\n",
       "PHY350277    1628\n",
       "PHY412132    1321\n",
       "PHY423534    1223\n",
       "PHY314027    1200\n",
       "             ... \n",
       "PHY406744       1\n",
       "PHY397331       1\n",
       "PHY419338       1\n",
       "PHY362188       1\n",
       "PHY392440       1\n",
       "Name: AttendingPhysician, Length: 82063, dtype: int64"
      ]
     },
     "execution_count": 84,
     "metadata": {},
     "output_type": "execute_result"
    }
   ],
   "source": [
    "df_BIOP_cat['AttendingPhysician'].value_counts()"
   ]
  },
  {
   "cell_type": "code",
   "execution_count": 85,
   "metadata": {
    "id": "8ps9Tjj4ECPx"
   },
   "outputs": [],
   "source": [
    "df_BIOP_cat['AttendingPhysician']=df_BIOP_cat['AttendingPhysician'].replace(np.nan,'PHY330576')"
   ]
  },
  {
   "cell_type": "code",
   "execution_count": 86,
   "metadata": {
    "colab": {
     "base_uri": "https://localhost:8080/"
    },
    "id": "LlibSKWgEK6c",
    "outputId": "dc1d0939-6dcc-4e0c-95e5-7ab10dac95b3"
   },
   "outputs": [
    {
     "data": {
      "text/plain": [
       "PHY412132    1247\n",
       "PHY341578    1098\n",
       "PHY338032    1070\n",
       "PHY337425    1041\n",
       "PHY347064     806\n",
       "             ... \n",
       "PHY405512       1\n",
       "PHY363943       1\n",
       "PHY401255       1\n",
       "PHY342357       1\n",
       "PHY392440       1\n",
       "Name: OtherPhysician, Length: 46457, dtype: int64"
      ]
     },
     "execution_count": 86,
     "metadata": {},
     "output_type": "execute_result"
    }
   ],
   "source": [
    "df_BIOP_cat['OtherPhysician'].value_counts()"
   ]
  },
  {
   "cell_type": "code",
   "execution_count": 87,
   "metadata": {
    "id": "WAkT9d8qEK3W"
   },
   "outputs": [],
   "source": [
    "df_BIOP_cat['OtherPhysician']=df_BIOP_cat['OtherPhysician'].replace(np.nan,'PHY412132')"
   ]
  },
  {
   "cell_type": "code",
   "execution_count": 88,
   "metadata": {
    "colab": {
     "base_uri": "https://localhost:8080/"
    },
    "id": "rms4HOClEK0y",
    "outputId": "28c86bad-ada6-49b8-a50d-a98dd5698e35"
   },
   "outputs": [
    {
     "data": {
      "text/plain": [
       "V7612    4074\n",
       "42731    3634\n",
       "78605    2992\n",
       "4019     2732\n",
       "25000    2368\n",
       "         ... \n",
       "4352        1\n",
       "80226       1\n",
       "3885        1\n",
       "71895       1\n",
       "5192        1\n",
       "Name: ClmAdmitDiagnosisCode, Length: 4098, dtype: int64"
      ]
     },
     "execution_count": 88,
     "metadata": {},
     "output_type": "execute_result"
    }
   ],
   "source": [
    "df_BIOP_cat['ClmAdmitDiagnosisCode'].value_counts()"
   ]
  },
  {
   "cell_type": "code",
   "execution_count": 89,
   "metadata": {
    "id": "QAoz3a-PEKyL"
   },
   "outputs": [],
   "source": [
    "df_BIOP_cat['ClmAdmitDiagnosisCode']=df_BIOP_cat['ClmAdmitDiagnosisCode'].replace(np.nan,'V7612')"
   ]
  },
  {
   "cell_type": "code",
   "execution_count": 90,
   "metadata": {
    "colab": {
     "base_uri": "https://localhost:8080/"
    },
    "id": "c1JtPb-eEKvf",
    "outputId": "d4271f62-857f-4c5b-bec4-2ef88c87a94f"
   },
   "outputs": [
    {
     "data": {
      "text/plain": [
       "4019     13886\n",
       "4011     12512\n",
       "2724      3606\n",
       "2720      3210\n",
       "2722      3028\n",
       "         ...  \n",
       "74344        1\n",
       "0261         1\n",
       "20192        1\n",
       "9792         1\n",
       "80123        1\n",
       "Name: ClmDiagnosisCode_1, Length: 10450, dtype: int64"
      ]
     },
     "execution_count": 90,
     "metadata": {},
     "output_type": "execute_result"
    }
   ],
   "source": [
    "df_BIOP_cat['ClmDiagnosisCode_1'].value_counts()"
   ]
  },
  {
   "cell_type": "code",
   "execution_count": 91,
   "metadata": {
    "id": "D672BvX5EKsp"
   },
   "outputs": [],
   "source": [
    "df_BIOP_cat['ClmDiagnosisCode_1']=df_BIOP_cat['ClmDiagnosisCode_1'].replace(np.nan,'4019')"
   ]
  },
  {
   "cell_type": "code",
   "execution_count": 92,
   "metadata": {
    "colab": {
     "base_uri": "https://localhost:8080/"
    },
    "id": "MAUl9SqvEKqL",
    "outputId": "5a67b158-29bb-4bf4-836f-30dfcff35503"
   },
   "outputs": [
    {
     "data": {
      "text/plain": [
       "4019     22378\n",
       "25000    11744\n",
       "2724     11272\n",
       "V5861     9716\n",
       "V5869     9669\n",
       "         ...  \n",
       "34440        1\n",
       "71807        1\n",
       "7049         1\n",
       "20260        1\n",
       "71525        1\n",
       "Name: ClmDiagnosisCode_2, Length: 5300, dtype: int64"
      ]
     },
     "execution_count": 92,
     "metadata": {},
     "output_type": "execute_result"
    }
   ],
   "source": [
    "df_BIOP_cat['ClmDiagnosisCode_2'].value_counts()"
   ]
  },
  {
   "cell_type": "code",
   "execution_count": 93,
   "metadata": {
    "id": "geuWP1sZEKmO"
   },
   "outputs": [],
   "source": [
    "df_BIOP_cat['ClmDiagnosisCode_2']=df_BIOP_cat['ClmDiagnosisCode_2'].replace(np.nan,'4019')"
   ]
  },
  {
   "cell_type": "code",
   "execution_count": 94,
   "metadata": {
    "colab": {
     "base_uri": "https://localhost:8080/"
    },
    "id": "L6Jju12lFs9r",
    "outputId": "d38bf96a-fdc3-4594-9125-a883f0dd9c5f"
   },
   "outputs": [
    {
     "data": {
      "text/plain": [
       "4019     14408\n",
       "25000     7946\n",
       "2724      7368\n",
       "V5869     6069\n",
       "V5861     4180\n",
       "         ...  \n",
       "5834         1\n",
       "73008        1\n",
       "0412         1\n",
       "83400        1\n",
       "3341         1\n",
       "Name: ClmDiagnosisCode_3, Length: 4756, dtype: int64"
      ]
     },
     "execution_count": 94,
     "metadata": {},
     "output_type": "execute_result"
    }
   ],
   "source": [
    "df_BIOP_cat['ClmDiagnosisCode_3'].value_counts()"
   ]
  },
  {
   "cell_type": "code",
   "execution_count": 95,
   "metadata": {
    "id": "WWukybt6EKjB"
   },
   "outputs": [],
   "source": [
    "df_BIOP_cat['ClmDiagnosisCode_3']=df_BIOP_cat['ClmDiagnosisCode_3'].replace(np.nan,'4019')"
   ]
  },
  {
   "cell_type": "code",
   "execution_count": 96,
   "metadata": {
    "colab": {
     "base_uri": "https://localhost:8080/"
    },
    "id": "55Qlz7ZZGG5X",
    "outputId": "1597abb1-fd14-426a-fb79-eb5396a60f8b"
   },
   "outputs": [
    {
     "data": {
      "text/plain": [
       "4019     9188\n",
       "25000    5250\n",
       "2724     4764\n",
       "V5869    3367\n",
       "2449     2523\n",
       "         ... \n",
       "5111        1\n",
       "2982        1\n",
       "72764       1\n",
       "24940       1\n",
       "27952       1\n",
       "Name: ClmDiagnosisCode_4, Length: 4359, dtype: int64"
      ]
     },
     "execution_count": 96,
     "metadata": {},
     "output_type": "execute_result"
    }
   ],
   "source": [
    "df_BIOP_cat['ClmDiagnosisCode_4'].value_counts()"
   ]
  },
  {
   "cell_type": "code",
   "execution_count": 97,
   "metadata": {
    "id": "p0w0vCE8GGwh"
   },
   "outputs": [],
   "source": [
    "df_BIOP_cat['ClmDiagnosisCode_4']=df_BIOP_cat['ClmDiagnosisCode_4'].replace(np.nan,'4019')"
   ]
  },
  {
   "cell_type": "code",
   "execution_count": 98,
   "metadata": {
    "colab": {
     "base_uri": "https://localhost:8080/"
    },
    "id": "pweD_jivEKWm",
    "outputId": "b1ef95bb-f02a-4e75-bc49-e18dab597b9d"
   },
   "outputs": [
    {
     "data": {
      "text/plain": [
       "4019     6005\n",
       "25000    3451\n",
       "2724     2945\n",
       "V5869    1921\n",
       "2449     1647\n",
       "         ... \n",
       "35801       1\n",
       "38812       1\n",
       "3342        1\n",
       "81221       1\n",
       "35571       1\n",
       "Name: ClmDiagnosisCode_5, Length: 3970, dtype: int64"
      ]
     },
     "execution_count": 98,
     "metadata": {},
     "output_type": "execute_result"
    }
   ],
   "source": [
    "df_BIOP_cat['ClmDiagnosisCode_5'].value_counts()"
   ]
  },
  {
   "cell_type": "code",
   "execution_count": 99,
   "metadata": {
    "id": "iFfEPUwdEKTc"
   },
   "outputs": [],
   "source": [
    "df_BIOP_cat['ClmDiagnosisCode_5']=df_BIOP_cat['ClmDiagnosisCode_5'].replace(np.nan,'4019')"
   ]
  },
  {
   "cell_type": "code",
   "execution_count": 100,
   "metadata": {
    "colab": {
     "base_uri": "https://localhost:8080/"
    },
    "id": "-JZ4QVmgBO38",
    "outputId": "9839c232-c0df-497f-b6b6-27515ddd5a61"
   },
   "outputs": [
    {
     "data": {
      "text/plain": [
       "BeneID                   0\n",
       "DOB                      0\n",
       "ClaimID                  0\n",
       "ClaimStartDt             0\n",
       "ClaimEndDt               0\n",
       "Provider                 0\n",
       "AttendingPhysician       0\n",
       "OperatingPhysician       0\n",
       "OtherPhysician           0\n",
       "ClmAdmitDiagnosisCode    0\n",
       "ClmDiagnosisCode_1       0\n",
       "ClmDiagnosisCode_2       0\n",
       "ClmDiagnosisCode_3       0\n",
       "ClmDiagnosisCode_4       0\n",
       "ClmDiagnosisCode_5       0\n",
       "dtype: int64"
      ]
     },
     "execution_count": 100,
     "metadata": {},
     "output_type": "execute_result"
    }
   ],
   "source": [
    "df_BIOP_cat.isnull().sum()"
   ]
  },
  {
   "cell_type": "code",
   "execution_count": 101,
   "metadata": {
    "colab": {
     "base_uri": "https://localhost:8080/"
    },
    "id": "Eg2W354RBO1L",
    "outputId": "666e6b09-9b7a-432e-b84a-a2082be0985c"
   },
   "outputs": [
    {
     "data": {
      "text/plain": [
       "Gender                               0\n",
       "Race                                 0\n",
       "RenalDiseaseIndicator                0\n",
       "State                                0\n",
       "County                               0\n",
       "NoOfMonths_PartACov                  0\n",
       "NoOfMonths_PartBCov                  0\n",
       "ChronicCond_Alzheimer                0\n",
       "ChronicCond_Heartfailure             0\n",
       "ChronicCond_KidneyDisease            0\n",
       "ChronicCond_Cancer                   0\n",
       "ChronicCond_ObstrPulmonary           0\n",
       "ChronicCond_Depression               0\n",
       "ChronicCond_Diabetes                 0\n",
       "ChronicCond_IschemicHeart            0\n",
       "ChronicCond_Osteoporasis             0\n",
       "ChronicCond_rheumatoidarthritis      0\n",
       "ChronicCond_stroke                   0\n",
       "IPAnnualReimbursementAmt             0\n",
       "IPAnnualDeductibleAmt                0\n",
       "OPAnnualReimbursementAmt             0\n",
       "OPAnnualDeductibleAmt                0\n",
       "InscClaimAmtReimbursed               0\n",
       "DeductibleAmtPaid                  899\n",
       "PotentialFraud                       0\n",
       "dtype: int64"
      ]
     },
     "execution_count": 101,
     "metadata": {},
     "output_type": "execute_result"
    }
   ],
   "source": [
    "df_BIOP_number.isnull().sum()"
   ]
  },
  {
   "cell_type": "code",
   "execution_count": 102,
   "metadata": {
    "colab": {
     "base_uri": "https://localhost:8080/"
    },
    "id": "tXfmUXCi8lLS",
    "outputId": "755850cb-4008-47cb-9402-7de8e2c009d6"
   },
   "outputs": [
    {
     "data": {
      "text/plain": [
       "BeneID                              0.000000\n",
       "DOB                                 0.000000\n",
       "Gender                              0.000000\n",
       "Race                                0.000000\n",
       "RenalDiseaseIndicator               0.000000\n",
       "State                               0.000000\n",
       "County                              0.000000\n",
       "NoOfMonths_PartACov                 0.000000\n",
       "NoOfMonths_PartBCov                 0.000000\n",
       "ChronicCond_Alzheimer               0.000000\n",
       "ChronicCond_Heartfailure            0.000000\n",
       "ChronicCond_KidneyDisease           0.000000\n",
       "ChronicCond_Cancer                  0.000000\n",
       "ChronicCond_ObstrPulmonary          0.000000\n",
       "ChronicCond_Depression              0.000000\n",
       "ChronicCond_Diabetes                0.000000\n",
       "ChronicCond_IschemicHeart           0.000000\n",
       "ChronicCond_Osteoporasis            0.000000\n",
       "ChronicCond_rheumatoidarthritis     0.000000\n",
       "ChronicCond_stroke                  0.000000\n",
       "IPAnnualReimbursementAmt            0.000000\n",
       "IPAnnualDeductibleAmt               0.000000\n",
       "OPAnnualReimbursementAmt            0.000000\n",
       "OPAnnualDeductibleAmt               0.000000\n",
       "ClaimID                             0.000000\n",
       "ClaimStartDt                        0.000000\n",
       "ClaimEndDt                          0.000000\n",
       "Provider                            0.000000\n",
       "InscClaimAmtReimbursed              0.000000\n",
       "AttendingPhysician                  0.270149\n",
       "OperatingPhysician                 79.497538\n",
       "OtherPhysician                     64.218548\n",
       "ClmAdmitDiagnosisCode              73.863109\n",
       "DeductibleAmtPaid                   0.161050\n",
       "ClmDiagnosisCode_1                  1.872589\n",
       "ClmDiagnosisCode_2                 35.041588\n",
       "ClmDiagnosisCode_3                 56.458221\n",
       "ClmDiagnosisCode_4                 70.524407\n",
       "ClmDiagnosisCode_5                 79.949517\n",
       "PotentialFraud                      0.000000\n",
       "dtype: float64"
      ]
     },
     "execution_count": 102,
     "metadata": {},
     "output_type": "execute_result"
    }
   ],
   "source": [
    "(df_BIOP.isnull().sum()/len(df_BIOP))*100"
   ]
  },
  {
   "cell_type": "code",
   "execution_count": 103,
   "metadata": {
    "id": "oJsI_rG5Kuqj"
   },
   "outputs": [],
   "source": [
    "df_BIOP['OperatingPhysician']=df_BIOP['OperatingPhysician'].replace(np.nan,'PHY330576')\n",
    "df_BIOP['AttendingPhysician']=df_BIOP['AttendingPhysician'].replace(np.nan,'PHY330576')\n",
    "df_BIOP['OtherPhysician']=df_BIOP['OtherPhysician'].replace(np.nan,'PHY412132')\n",
    "df_BIOP['ClmAdmitDiagnosisCode']=df_BIOP['ClmAdmitDiagnosisCode'].replace(np.nan,'V7612')\n",
    "df_BIOP['ClmDiagnosisCode_1']=df_BIOP['ClmDiagnosisCode_1'].replace(np.nan,'4019')\n",
    "df_BIOP['ClmDiagnosisCode_2']=df_BIOP['ClmDiagnosisCode_2'].replace(np.nan,'4019')\n",
    "df_BIOP['ClmDiagnosisCode_3']=df_BIOP['ClmDiagnosisCode_3'].replace(np.nan,'4019')\n",
    "df_BIOP['ClmDiagnosisCode_4']=df_BIOP['ClmDiagnosisCode_4'].replace(np.nan,'4019')\n",
    "df_BIOP['ClmDiagnosisCode_5']=df_BIOP['ClmDiagnosisCode_5'].replace(np.nan,'4019')"
   ]
  },
  {
   "cell_type": "code",
   "execution_count": 104,
   "metadata": {
    "colab": {
     "base_uri": "https://localhost:8080/"
    },
    "id": "1IJpB9YMAmXP",
    "outputId": "c7fd5f9e-7d2c-4579-c323-dc6f8a592cca"
   },
   "outputs": [
    {
     "data": {
      "text/plain": [
       "BeneID                               0\n",
       "DOB                                  0\n",
       "Gender                               0\n",
       "Race                                 0\n",
       "RenalDiseaseIndicator                0\n",
       "State                                0\n",
       "County                               0\n",
       "NoOfMonths_PartACov                  0\n",
       "NoOfMonths_PartBCov                  0\n",
       "ChronicCond_Alzheimer                0\n",
       "ChronicCond_Heartfailure             0\n",
       "ChronicCond_KidneyDisease            0\n",
       "ChronicCond_Cancer                   0\n",
       "ChronicCond_ObstrPulmonary           0\n",
       "ChronicCond_Depression               0\n",
       "ChronicCond_Diabetes                 0\n",
       "ChronicCond_IschemicHeart            0\n",
       "ChronicCond_Osteoporasis             0\n",
       "ChronicCond_rheumatoidarthritis      0\n",
       "ChronicCond_stroke                   0\n",
       "IPAnnualReimbursementAmt             0\n",
       "IPAnnualDeductibleAmt                0\n",
       "OPAnnualReimbursementAmt             0\n",
       "OPAnnualDeductibleAmt                0\n",
       "ClaimID                              0\n",
       "ClaimStartDt                         0\n",
       "ClaimEndDt                           0\n",
       "Provider                             0\n",
       "InscClaimAmtReimbursed               0\n",
       "AttendingPhysician                   0\n",
       "OperatingPhysician                   0\n",
       "OtherPhysician                       0\n",
       "ClmAdmitDiagnosisCode                0\n",
       "DeductibleAmtPaid                  899\n",
       "ClmDiagnosisCode_1                   0\n",
       "ClmDiagnosisCode_2                   0\n",
       "ClmDiagnosisCode_3                   0\n",
       "ClmDiagnosisCode_4                   0\n",
       "ClmDiagnosisCode_5                   0\n",
       "PotentialFraud                       0\n",
       "dtype: int64"
      ]
     },
     "execution_count": 104,
     "metadata": {},
     "output_type": "execute_result"
    }
   ],
   "source": [
    "df_BIOP.isnull().sum()"
   ]
  },
  {
   "cell_type": "code",
   "execution_count": 108,
   "metadata": {
    "id": "irGdG-1tLovy"
   },
   "outputs": [],
   "source": [
    "from fancyimpute import KNN,IterativeImputer"
   ]
  },
  {
   "cell_type": "code",
   "execution_count": 109,
   "metadata": {
    "id": "aAav8PXBMmE9"
   },
   "outputs": [],
   "source": [
    "knn=KNN()"
   ]
  },
  {
   "cell_type": "code",
   "execution_count": 110,
   "metadata": {
    "id": "temZHS5jMH9v"
   },
   "outputs": [],
   "source": [
    "df_BIOP_knn=df_BIOP.copy()"
   ]
  },
  {
   "cell_type": "code",
   "execution_count": 111,
   "metadata": {
    "colab": {
     "base_uri": "https://localhost:8080/"
    },
    "id": "e7yxtKbgNgXR",
    "outputId": "d122c917-627a-44ae-c072-a29b88e5c03d"
   },
   "outputs": [
    {
     "data": {
      "text/plain": [
       "899"
      ]
     },
     "execution_count": 111,
     "metadata": {},
     "output_type": "execute_result"
    }
   ],
   "source": [
    "df_BIOP_knn['DeductibleAmtPaid'].isnull().sum()"
   ]
  },
  {
   "cell_type": "code",
   "execution_count": 112,
   "metadata": {
    "id": "wdBWmqNgMqXH"
   },
   "outputs": [],
   "source": [
    "df_BIOP['DeductibleAmtPaid']=df_BIOP['DeductibleAmtPaid'].replace(np.nan,df_BIOP['DeductibleAmtPaid'].median())\n",
    "df_BIOP['InscClaimAmtReimbursed']=df_BIOP['InscClaimAmtReimbursed'].replace(np.nan,df_BIOP['InscClaimAmtReimbursed'].median())"
   ]
  },
  {
   "cell_type": "code",
   "execution_count": 113,
   "metadata": {
    "colab": {
     "base_uri": "https://localhost:8080/"
    },
    "id": "jvmuDNryM1TH",
    "outputId": "10813f52-0895-4cd6-c455-1c06f19d579b"
   },
   "outputs": [
    {
     "data": {
      "text/plain": [
       "BeneID                             0\n",
       "DOB                                0\n",
       "Gender                             0\n",
       "Race                               0\n",
       "RenalDiseaseIndicator              0\n",
       "State                              0\n",
       "County                             0\n",
       "NoOfMonths_PartACov                0\n",
       "NoOfMonths_PartBCov                0\n",
       "ChronicCond_Alzheimer              0\n",
       "ChronicCond_Heartfailure           0\n",
       "ChronicCond_KidneyDisease          0\n",
       "ChronicCond_Cancer                 0\n",
       "ChronicCond_ObstrPulmonary         0\n",
       "ChronicCond_Depression             0\n",
       "ChronicCond_Diabetes               0\n",
       "ChronicCond_IschemicHeart          0\n",
       "ChronicCond_Osteoporasis           0\n",
       "ChronicCond_rheumatoidarthritis    0\n",
       "ChronicCond_stroke                 0\n",
       "IPAnnualReimbursementAmt           0\n",
       "IPAnnualDeductibleAmt              0\n",
       "OPAnnualReimbursementAmt           0\n",
       "OPAnnualDeductibleAmt              0\n",
       "ClaimID                            0\n",
       "ClaimStartDt                       0\n",
       "ClaimEndDt                         0\n",
       "Provider                           0\n",
       "InscClaimAmtReimbursed             0\n",
       "AttendingPhysician                 0\n",
       "OperatingPhysician                 0\n",
       "OtherPhysician                     0\n",
       "ClmAdmitDiagnosisCode              0\n",
       "DeductibleAmtPaid                  0\n",
       "ClmDiagnosisCode_1                 0\n",
       "ClmDiagnosisCode_2                 0\n",
       "ClmDiagnosisCode_3                 0\n",
       "ClmDiagnosisCode_4                 0\n",
       "ClmDiagnosisCode_5                 0\n",
       "PotentialFraud                     0\n",
       "dtype: int64"
      ]
     },
     "execution_count": 113,
     "metadata": {},
     "output_type": "execute_result"
    }
   ],
   "source": [
    "df_BIOP.isnull().sum()"
   ]
  },
  {
   "cell_type": "code",
   "execution_count": 114,
   "metadata": {
    "colab": {
     "base_uri": "https://localhost:8080/",
     "height": 357
    },
    "id": "RsuAKa8AOUzq",
    "outputId": "95036499-aeb3-474e-e341-a93580134da7"
   },
   "outputs": [
    {
     "data": {
      "text/html": [
       "<div>\n",
       "<style scoped>\n",
       "    .dataframe tbody tr th:only-of-type {\n",
       "        vertical-align: middle;\n",
       "    }\n",
       "\n",
       "    .dataframe tbody tr th {\n",
       "        vertical-align: top;\n",
       "    }\n",
       "\n",
       "    .dataframe thead th {\n",
       "        text-align: right;\n",
       "    }\n",
       "</style>\n",
       "<table border=\"1\" class=\"dataframe\">\n",
       "  <thead>\n",
       "    <tr style=\"text-align: right;\">\n",
       "      <th></th>\n",
       "      <th>BeneID</th>\n",
       "      <th>DOB</th>\n",
       "      <th>Gender</th>\n",
       "      <th>Race</th>\n",
       "      <th>RenalDiseaseIndicator</th>\n",
       "      <th>State</th>\n",
       "      <th>County</th>\n",
       "      <th>NoOfMonths_PartACov</th>\n",
       "      <th>NoOfMonths_PartBCov</th>\n",
       "      <th>ChronicCond_Alzheimer</th>\n",
       "      <th>ChronicCond_Heartfailure</th>\n",
       "      <th>ChronicCond_KidneyDisease</th>\n",
       "      <th>ChronicCond_Cancer</th>\n",
       "      <th>ChronicCond_ObstrPulmonary</th>\n",
       "      <th>ChronicCond_Depression</th>\n",
       "      <th>ChronicCond_Diabetes</th>\n",
       "      <th>ChronicCond_IschemicHeart</th>\n",
       "      <th>ChronicCond_Osteoporasis</th>\n",
       "      <th>ChronicCond_rheumatoidarthritis</th>\n",
       "      <th>ChronicCond_stroke</th>\n",
       "      <th>IPAnnualReimbursementAmt</th>\n",
       "      <th>IPAnnualDeductibleAmt</th>\n",
       "      <th>OPAnnualReimbursementAmt</th>\n",
       "      <th>OPAnnualDeductibleAmt</th>\n",
       "      <th>ClaimID</th>\n",
       "      <th>ClaimStartDt</th>\n",
       "      <th>ClaimEndDt</th>\n",
       "      <th>Provider</th>\n",
       "      <th>InscClaimAmtReimbursed</th>\n",
       "      <th>AttendingPhysician</th>\n",
       "      <th>OperatingPhysician</th>\n",
       "      <th>OtherPhysician</th>\n",
       "      <th>ClmAdmitDiagnosisCode</th>\n",
       "      <th>DeductibleAmtPaid</th>\n",
       "      <th>ClmDiagnosisCode_1</th>\n",
       "      <th>ClmDiagnosisCode_2</th>\n",
       "      <th>ClmDiagnosisCode_3</th>\n",
       "      <th>ClmDiagnosisCode_4</th>\n",
       "      <th>ClmDiagnosisCode_5</th>\n",
       "      <th>PotentialFraud</th>\n",
       "    </tr>\n",
       "  </thead>\n",
       "  <tbody>\n",
       "    <tr>\n",
       "      <th>0</th>\n",
       "      <td>BENE11001</td>\n",
       "      <td>1943-01-01</td>\n",
       "      <td>1</td>\n",
       "      <td>1</td>\n",
       "      <td>0</td>\n",
       "      <td>39</td>\n",
       "      <td>230</td>\n",
       "      <td>12</td>\n",
       "      <td>12</td>\n",
       "      <td>1</td>\n",
       "      <td>2</td>\n",
       "      <td>1</td>\n",
       "      <td>2</td>\n",
       "      <td>2</td>\n",
       "      <td>1</td>\n",
       "      <td>1</td>\n",
       "      <td>1</td>\n",
       "      <td>2</td>\n",
       "      <td>1</td>\n",
       "      <td>1</td>\n",
       "      <td>36000</td>\n",
       "      <td>3204</td>\n",
       "      <td>60</td>\n",
       "      <td>70</td>\n",
       "      <td>CLM46614</td>\n",
       "      <td>2009-04-12</td>\n",
       "      <td>2009-04-18</td>\n",
       "      <td>PRV55912</td>\n",
       "      <td>26000</td>\n",
       "      <td>PHY390922</td>\n",
       "      <td>PHY330576</td>\n",
       "      <td>PHY412132</td>\n",
       "      <td>7866</td>\n",
       "      <td>1068.0</td>\n",
       "      <td>1970</td>\n",
       "      <td>4019</td>\n",
       "      <td>5853</td>\n",
       "      <td>7843</td>\n",
       "      <td>2768</td>\n",
       "      <td>1</td>\n",
       "    </tr>\n",
       "    <tr>\n",
       "      <th>1</th>\n",
       "      <td>BENE17521</td>\n",
       "      <td>1913-12-01</td>\n",
       "      <td>2</td>\n",
       "      <td>1</td>\n",
       "      <td>0</td>\n",
       "      <td>39</td>\n",
       "      <td>230</td>\n",
       "      <td>12</td>\n",
       "      <td>12</td>\n",
       "      <td>1</td>\n",
       "      <td>1</td>\n",
       "      <td>1</td>\n",
       "      <td>2</td>\n",
       "      <td>1</td>\n",
       "      <td>2</td>\n",
       "      <td>2</td>\n",
       "      <td>1</td>\n",
       "      <td>2</td>\n",
       "      <td>2</td>\n",
       "      <td>2</td>\n",
       "      <td>19000</td>\n",
       "      <td>1068</td>\n",
       "      <td>100</td>\n",
       "      <td>20</td>\n",
       "      <td>CLM34721</td>\n",
       "      <td>2009-01-20</td>\n",
       "      <td>2009-02-01</td>\n",
       "      <td>PRV55912</td>\n",
       "      <td>19000</td>\n",
       "      <td>PHY349293</td>\n",
       "      <td>PHY370861</td>\n",
       "      <td>PHY363291</td>\n",
       "      <td>45340</td>\n",
       "      <td>1068.0</td>\n",
       "      <td>4240</td>\n",
       "      <td>2639</td>\n",
       "      <td>2948</td>\n",
       "      <td>40390</td>\n",
       "      <td>45821</td>\n",
       "      <td>1</td>\n",
       "    </tr>\n",
       "    <tr>\n",
       "      <th>2</th>\n",
       "      <td>BENE21718</td>\n",
       "      <td>1922-10-01</td>\n",
       "      <td>1</td>\n",
       "      <td>1</td>\n",
       "      <td>0</td>\n",
       "      <td>39</td>\n",
       "      <td>600</td>\n",
       "      <td>12</td>\n",
       "      <td>12</td>\n",
       "      <td>2</td>\n",
       "      <td>2</td>\n",
       "      <td>2</td>\n",
       "      <td>2</td>\n",
       "      <td>2</td>\n",
       "      <td>2</td>\n",
       "      <td>2</td>\n",
       "      <td>1</td>\n",
       "      <td>1</td>\n",
       "      <td>2</td>\n",
       "      <td>2</td>\n",
       "      <td>17000</td>\n",
       "      <td>1068</td>\n",
       "      <td>1050</td>\n",
       "      <td>540</td>\n",
       "      <td>CLM72336</td>\n",
       "      <td>2009-10-17</td>\n",
       "      <td>2009-11-04</td>\n",
       "      <td>PRV55912</td>\n",
       "      <td>17000</td>\n",
       "      <td>PHY334706</td>\n",
       "      <td>PHY334706</td>\n",
       "      <td>PHY412132</td>\n",
       "      <td>V5789</td>\n",
       "      <td>1068.0</td>\n",
       "      <td>V5789</td>\n",
       "      <td>4168</td>\n",
       "      <td>73313</td>\n",
       "      <td>7812</td>\n",
       "      <td>7993</td>\n",
       "      <td>1</td>\n",
       "    </tr>\n",
       "    <tr>\n",
       "      <th>3</th>\n",
       "      <td>BENE22934</td>\n",
       "      <td>1930-07-01</td>\n",
       "      <td>2</td>\n",
       "      <td>1</td>\n",
       "      <td>0</td>\n",
       "      <td>39</td>\n",
       "      <td>280</td>\n",
       "      <td>12</td>\n",
       "      <td>12</td>\n",
       "      <td>2</td>\n",
       "      <td>1</td>\n",
       "      <td>2</td>\n",
       "      <td>2</td>\n",
       "      <td>1</td>\n",
       "      <td>2</td>\n",
       "      <td>1</td>\n",
       "      <td>1</td>\n",
       "      <td>1</td>\n",
       "      <td>1</td>\n",
       "      <td>2</td>\n",
       "      <td>27000</td>\n",
       "      <td>2136</td>\n",
       "      <td>450</td>\n",
       "      <td>160</td>\n",
       "      <td>CLM73394</td>\n",
       "      <td>2009-10-25</td>\n",
       "      <td>2009-10-29</td>\n",
       "      <td>PRV55912</td>\n",
       "      <td>13000</td>\n",
       "      <td>PHY390614</td>\n",
       "      <td>PHY323689</td>\n",
       "      <td>PHY363291</td>\n",
       "      <td>71946</td>\n",
       "      <td>1068.0</td>\n",
       "      <td>71535</td>\n",
       "      <td>71960</td>\n",
       "      <td>4019</td>\n",
       "      <td>V1202</td>\n",
       "      <td>4240</td>\n",
       "      <td>1</td>\n",
       "    </tr>\n",
       "    <tr>\n",
       "      <th>4</th>\n",
       "      <td>BENE24402</td>\n",
       "      <td>1925-09-01</td>\n",
       "      <td>2</td>\n",
       "      <td>2</td>\n",
       "      <td>0</td>\n",
       "      <td>39</td>\n",
       "      <td>510</td>\n",
       "      <td>12</td>\n",
       "      <td>12</td>\n",
       "      <td>1</td>\n",
       "      <td>2</td>\n",
       "      <td>2</td>\n",
       "      <td>1</td>\n",
       "      <td>2</td>\n",
       "      <td>2</td>\n",
       "      <td>2</td>\n",
       "      <td>1</td>\n",
       "      <td>2</td>\n",
       "      <td>2</td>\n",
       "      <td>2</td>\n",
       "      <td>3000</td>\n",
       "      <td>1068</td>\n",
       "      <td>8900</td>\n",
       "      <td>740</td>\n",
       "      <td>CLM32911</td>\n",
       "      <td>2009-01-08</td>\n",
       "      <td>2009-01-12</td>\n",
       "      <td>PRV55912</td>\n",
       "      <td>3000</td>\n",
       "      <td>PHY380413</td>\n",
       "      <td>PHY432598</td>\n",
       "      <td>PHY412132</td>\n",
       "      <td>1748</td>\n",
       "      <td>1068.0</td>\n",
       "      <td>2330</td>\n",
       "      <td>4019</td>\n",
       "      <td>4019</td>\n",
       "      <td>4019</td>\n",
       "      <td>4019</td>\n",
       "      <td>1</td>\n",
       "    </tr>\n",
       "  </tbody>\n",
       "</table>\n",
       "</div>"
      ],
      "text/plain": [
       "      BeneID         DOB  Gender  Race  RenalDiseaseIndicator  State  County  \\\n",
       "0  BENE11001  1943-01-01       1     1                      0     39     230   \n",
       "1  BENE17521  1913-12-01       2     1                      0     39     230   \n",
       "2  BENE21718  1922-10-01       1     1                      0     39     600   \n",
       "3  BENE22934  1930-07-01       2     1                      0     39     280   \n",
       "4  BENE24402  1925-09-01       2     2                      0     39     510   \n",
       "\n",
       "   NoOfMonths_PartACov  NoOfMonths_PartBCov  ChronicCond_Alzheimer  \\\n",
       "0                   12                   12                      1   \n",
       "1                   12                   12                      1   \n",
       "2                   12                   12                      2   \n",
       "3                   12                   12                      2   \n",
       "4                   12                   12                      1   \n",
       "\n",
       "   ChronicCond_Heartfailure  ChronicCond_KidneyDisease  ChronicCond_Cancer  \\\n",
       "0                         2                          1                   2   \n",
       "1                         1                          1                   2   \n",
       "2                         2                          2                   2   \n",
       "3                         1                          2                   2   \n",
       "4                         2                          2                   1   \n",
       "\n",
       "   ChronicCond_ObstrPulmonary  ChronicCond_Depression  ChronicCond_Diabetes  \\\n",
       "0                           2                       1                     1   \n",
       "1                           1                       2                     2   \n",
       "2                           2                       2                     2   \n",
       "3                           1                       2                     1   \n",
       "4                           2                       2                     2   \n",
       "\n",
       "   ChronicCond_IschemicHeart  ChronicCond_Osteoporasis  \\\n",
       "0                          1                         2   \n",
       "1                          1                         2   \n",
       "2                          1                         1   \n",
       "3                          1                         1   \n",
       "4                          1                         2   \n",
       "\n",
       "   ChronicCond_rheumatoidarthritis  ChronicCond_stroke  \\\n",
       "0                                1                   1   \n",
       "1                                2                   2   \n",
       "2                                2                   2   \n",
       "3                                1                   2   \n",
       "4                                2                   2   \n",
       "\n",
       "   IPAnnualReimbursementAmt  IPAnnualDeductibleAmt  OPAnnualReimbursementAmt  \\\n",
       "0                     36000                   3204                        60   \n",
       "1                     19000                   1068                       100   \n",
       "2                     17000                   1068                      1050   \n",
       "3                     27000                   2136                       450   \n",
       "4                      3000                   1068                      8900   \n",
       "\n",
       "   OPAnnualDeductibleAmt   ClaimID ClaimStartDt  ClaimEndDt  Provider  \\\n",
       "0                     70  CLM46614   2009-04-12  2009-04-18  PRV55912   \n",
       "1                     20  CLM34721   2009-01-20  2009-02-01  PRV55912   \n",
       "2                    540  CLM72336   2009-10-17  2009-11-04  PRV55912   \n",
       "3                    160  CLM73394   2009-10-25  2009-10-29  PRV55912   \n",
       "4                    740  CLM32911   2009-01-08  2009-01-12  PRV55912   \n",
       "\n",
       "   InscClaimAmtReimbursed AttendingPhysician OperatingPhysician  \\\n",
       "0                   26000          PHY390922          PHY330576   \n",
       "1                   19000          PHY349293          PHY370861   \n",
       "2                   17000          PHY334706          PHY334706   \n",
       "3                   13000          PHY390614          PHY323689   \n",
       "4                    3000          PHY380413          PHY432598   \n",
       "\n",
       "  OtherPhysician ClmAdmitDiagnosisCode  DeductibleAmtPaid ClmDiagnosisCode_1  \\\n",
       "0      PHY412132                  7866             1068.0               1970   \n",
       "1      PHY363291                 45340             1068.0               4240   \n",
       "2      PHY412132                 V5789             1068.0              V5789   \n",
       "3      PHY363291                 71946             1068.0              71535   \n",
       "4      PHY412132                  1748             1068.0               2330   \n",
       "\n",
       "  ClmDiagnosisCode_2 ClmDiagnosisCode_3 ClmDiagnosisCode_4 ClmDiagnosisCode_5  \\\n",
       "0               4019               5853               7843               2768   \n",
       "1               2639               2948              40390              45821   \n",
       "2               4168              73313               7812               7993   \n",
       "3              71960               4019              V1202               4240   \n",
       "4               4019               4019               4019               4019   \n",
       "\n",
       "   PotentialFraud  \n",
       "0               1  \n",
       "1               1  \n",
       "2               1  \n",
       "3               1  \n",
       "4               1  "
      ]
     },
     "execution_count": 114,
     "metadata": {},
     "output_type": "execute_result"
    }
   ],
   "source": [
    "df_BIOP.head()"
   ]
  },
  {
   "cell_type": "code",
   "execution_count": 115,
   "metadata": {
    "id": "4mW7RBKJPV-F"
   },
   "outputs": [],
   "source": [
    "df_BIOP['PatientRiskScore']=df_BIOP['ChronicCond_Alzheimer']+df_BIOP['ChronicCond_Cancer']+df_BIOP['ChronicCond_Depression']+df_BIOP['ChronicCond_Diabetes']+df_BIOP['ChronicCond_Heartfailure']+df_BIOP['ChronicCond_IschemicHeart']+df_BIOP['ChronicCond_KidneyDisease']+df_BIOP['ChronicCond_ObstrPulmonary']+df_BIOP['ChronicCond_Osteoporasis']+df_BIOP['ChronicCond_rheumatoidarthritis']+df_BIOP['ChronicCond_stroke']"
   ]
  },
  {
   "cell_type": "code",
   "execution_count": 116,
   "metadata": {
    "id": "S9pSBdFyh2Q5"
   },
   "outputs": [],
   "source": [
    "df_BIOP['TotalReimbursement']=df_BIOP['IPAnnualReimbursementAmt']+df_BIOP['OPAnnualReimbursementAmt']"
   ]
  },
  {
   "cell_type": "code",
   "execution_count": 117,
   "metadata": {
    "id": "e_VkttB-iRsZ"
   },
   "outputs": [],
   "source": [
    "df_BIOP['TotalDeductibleamount']=df_BIOP['IPAnnualDeductibleAmt']+df_BIOP['OPAnnualDeductibleAmt']"
   ]
  },
  {
   "cell_type": "code",
   "execution_count": 118,
   "metadata": {
    "colab": {
     "base_uri": "https://localhost:8080/"
    },
    "id": "LysymUnJik9X",
    "outputId": "f7120619-a2ce-4a16-dc32-67a82b12ff62"
   },
   "outputs": [
    {
     "data": {
      "text/plain": [
       "BeneID                             0\n",
       "DOB                                0\n",
       "Gender                             0\n",
       "Race                               0\n",
       "RenalDiseaseIndicator              0\n",
       "State                              0\n",
       "County                             0\n",
       "NoOfMonths_PartACov                0\n",
       "NoOfMonths_PartBCov                0\n",
       "ChronicCond_Alzheimer              0\n",
       "ChronicCond_Heartfailure           0\n",
       "ChronicCond_KidneyDisease          0\n",
       "ChronicCond_Cancer                 0\n",
       "ChronicCond_ObstrPulmonary         0\n",
       "ChronicCond_Depression             0\n",
       "ChronicCond_Diabetes               0\n",
       "ChronicCond_IschemicHeart          0\n",
       "ChronicCond_Osteoporasis           0\n",
       "ChronicCond_rheumatoidarthritis    0\n",
       "ChronicCond_stroke                 0\n",
       "IPAnnualReimbursementAmt           0\n",
       "IPAnnualDeductibleAmt              0\n",
       "OPAnnualReimbursementAmt           0\n",
       "OPAnnualDeductibleAmt              0\n",
       "ClaimID                            0\n",
       "ClaimStartDt                       0\n",
       "ClaimEndDt                         0\n",
       "Provider                           0\n",
       "InscClaimAmtReimbursed             0\n",
       "AttendingPhysician                 0\n",
       "OperatingPhysician                 0\n",
       "OtherPhysician                     0\n",
       "ClmAdmitDiagnosisCode              0\n",
       "DeductibleAmtPaid                  0\n",
       "ClmDiagnosisCode_1                 0\n",
       "ClmDiagnosisCode_2                 0\n",
       "ClmDiagnosisCode_3                 0\n",
       "ClmDiagnosisCode_4                 0\n",
       "ClmDiagnosisCode_5                 0\n",
       "PotentialFraud                     0\n",
       "PatientRiskScore                   0\n",
       "TotalReimbursement                 0\n",
       "TotalDeductibleamount              0\n",
       "dtype: int64"
      ]
     },
     "execution_count": 118,
     "metadata": {},
     "output_type": "execute_result"
    }
   ],
   "source": [
    "df_BIOP.isnull().sum()"
   ]
  },
  {
   "cell_type": "code",
   "execution_count": 119,
   "metadata": {
    "id": "UdYmkoVKiogt"
   },
   "outputs": [],
   "source": [
    "df_BIOP['Year of Birth'] = pd.DatetimeIndex(df_BIOP['DOB']).year"
   ]
  },
  {
   "cell_type": "code",
   "execution_count": 120,
   "metadata": {
    "colab": {
     "base_uri": "https://localhost:8080/",
     "height": 392
    },
    "id": "XcsEEmbXj6KU",
    "outputId": "4f1008fc-07f8-4567-d2c8-b7b85f23b473"
   },
   "outputs": [
    {
     "data": {
      "text/html": [
       "<div>\n",
       "<style scoped>\n",
       "    .dataframe tbody tr th:only-of-type {\n",
       "        vertical-align: middle;\n",
       "    }\n",
       "\n",
       "    .dataframe tbody tr th {\n",
       "        vertical-align: top;\n",
       "    }\n",
       "\n",
       "    .dataframe thead th {\n",
       "        text-align: right;\n",
       "    }\n",
       "</style>\n",
       "<table border=\"1\" class=\"dataframe\">\n",
       "  <thead>\n",
       "    <tr style=\"text-align: right;\">\n",
       "      <th></th>\n",
       "      <th>BeneID</th>\n",
       "      <th>DOB</th>\n",
       "      <th>Gender</th>\n",
       "      <th>Race</th>\n",
       "      <th>RenalDiseaseIndicator</th>\n",
       "      <th>State</th>\n",
       "      <th>County</th>\n",
       "      <th>NoOfMonths_PartACov</th>\n",
       "      <th>NoOfMonths_PartBCov</th>\n",
       "      <th>ChronicCond_Alzheimer</th>\n",
       "      <th>ChronicCond_Heartfailure</th>\n",
       "      <th>ChronicCond_KidneyDisease</th>\n",
       "      <th>ChronicCond_Cancer</th>\n",
       "      <th>ChronicCond_ObstrPulmonary</th>\n",
       "      <th>ChronicCond_Depression</th>\n",
       "      <th>ChronicCond_Diabetes</th>\n",
       "      <th>ChronicCond_IschemicHeart</th>\n",
       "      <th>ChronicCond_Osteoporasis</th>\n",
       "      <th>ChronicCond_rheumatoidarthritis</th>\n",
       "      <th>ChronicCond_stroke</th>\n",
       "      <th>IPAnnualReimbursementAmt</th>\n",
       "      <th>IPAnnualDeductibleAmt</th>\n",
       "      <th>OPAnnualReimbursementAmt</th>\n",
       "      <th>OPAnnualDeductibleAmt</th>\n",
       "      <th>ClaimID</th>\n",
       "      <th>ClaimStartDt</th>\n",
       "      <th>ClaimEndDt</th>\n",
       "      <th>Provider</th>\n",
       "      <th>InscClaimAmtReimbursed</th>\n",
       "      <th>AttendingPhysician</th>\n",
       "      <th>OperatingPhysician</th>\n",
       "      <th>OtherPhysician</th>\n",
       "      <th>ClmAdmitDiagnosisCode</th>\n",
       "      <th>DeductibleAmtPaid</th>\n",
       "      <th>ClmDiagnosisCode_1</th>\n",
       "      <th>ClmDiagnosisCode_2</th>\n",
       "      <th>ClmDiagnosisCode_3</th>\n",
       "      <th>ClmDiagnosisCode_4</th>\n",
       "      <th>ClmDiagnosisCode_5</th>\n",
       "      <th>PotentialFraud</th>\n",
       "      <th>PatientRiskScore</th>\n",
       "      <th>TotalReimbursement</th>\n",
       "      <th>TotalDeductibleamount</th>\n",
       "      <th>Year of Birth</th>\n",
       "    </tr>\n",
       "  </thead>\n",
       "  <tbody>\n",
       "    <tr>\n",
       "      <th>0</th>\n",
       "      <td>BENE11001</td>\n",
       "      <td>1943-01-01</td>\n",
       "      <td>1</td>\n",
       "      <td>1</td>\n",
       "      <td>0</td>\n",
       "      <td>39</td>\n",
       "      <td>230</td>\n",
       "      <td>12</td>\n",
       "      <td>12</td>\n",
       "      <td>1</td>\n",
       "      <td>2</td>\n",
       "      <td>1</td>\n",
       "      <td>2</td>\n",
       "      <td>2</td>\n",
       "      <td>1</td>\n",
       "      <td>1</td>\n",
       "      <td>1</td>\n",
       "      <td>2</td>\n",
       "      <td>1</td>\n",
       "      <td>1</td>\n",
       "      <td>36000</td>\n",
       "      <td>3204</td>\n",
       "      <td>60</td>\n",
       "      <td>70</td>\n",
       "      <td>CLM46614</td>\n",
       "      <td>2009-04-12</td>\n",
       "      <td>2009-04-18</td>\n",
       "      <td>PRV55912</td>\n",
       "      <td>26000</td>\n",
       "      <td>PHY390922</td>\n",
       "      <td>PHY330576</td>\n",
       "      <td>PHY412132</td>\n",
       "      <td>7866</td>\n",
       "      <td>1068.0</td>\n",
       "      <td>1970</td>\n",
       "      <td>4019</td>\n",
       "      <td>5853</td>\n",
       "      <td>7843</td>\n",
       "      <td>2768</td>\n",
       "      <td>1</td>\n",
       "      <td>15</td>\n",
       "      <td>36060</td>\n",
       "      <td>3274</td>\n",
       "      <td>1943</td>\n",
       "    </tr>\n",
       "    <tr>\n",
       "      <th>1</th>\n",
       "      <td>BENE17521</td>\n",
       "      <td>1913-12-01</td>\n",
       "      <td>2</td>\n",
       "      <td>1</td>\n",
       "      <td>0</td>\n",
       "      <td>39</td>\n",
       "      <td>230</td>\n",
       "      <td>12</td>\n",
       "      <td>12</td>\n",
       "      <td>1</td>\n",
       "      <td>1</td>\n",
       "      <td>1</td>\n",
       "      <td>2</td>\n",
       "      <td>1</td>\n",
       "      <td>2</td>\n",
       "      <td>2</td>\n",
       "      <td>1</td>\n",
       "      <td>2</td>\n",
       "      <td>2</td>\n",
       "      <td>2</td>\n",
       "      <td>19000</td>\n",
       "      <td>1068</td>\n",
       "      <td>100</td>\n",
       "      <td>20</td>\n",
       "      <td>CLM34721</td>\n",
       "      <td>2009-01-20</td>\n",
       "      <td>2009-02-01</td>\n",
       "      <td>PRV55912</td>\n",
       "      <td>19000</td>\n",
       "      <td>PHY349293</td>\n",
       "      <td>PHY370861</td>\n",
       "      <td>PHY363291</td>\n",
       "      <td>45340</td>\n",
       "      <td>1068.0</td>\n",
       "      <td>4240</td>\n",
       "      <td>2639</td>\n",
       "      <td>2948</td>\n",
       "      <td>40390</td>\n",
       "      <td>45821</td>\n",
       "      <td>1</td>\n",
       "      <td>17</td>\n",
       "      <td>19100</td>\n",
       "      <td>1088</td>\n",
       "      <td>1913</td>\n",
       "    </tr>\n",
       "    <tr>\n",
       "      <th>2</th>\n",
       "      <td>BENE21718</td>\n",
       "      <td>1922-10-01</td>\n",
       "      <td>1</td>\n",
       "      <td>1</td>\n",
       "      <td>0</td>\n",
       "      <td>39</td>\n",
       "      <td>600</td>\n",
       "      <td>12</td>\n",
       "      <td>12</td>\n",
       "      <td>2</td>\n",
       "      <td>2</td>\n",
       "      <td>2</td>\n",
       "      <td>2</td>\n",
       "      <td>2</td>\n",
       "      <td>2</td>\n",
       "      <td>2</td>\n",
       "      <td>1</td>\n",
       "      <td>1</td>\n",
       "      <td>2</td>\n",
       "      <td>2</td>\n",
       "      <td>17000</td>\n",
       "      <td>1068</td>\n",
       "      <td>1050</td>\n",
       "      <td>540</td>\n",
       "      <td>CLM72336</td>\n",
       "      <td>2009-10-17</td>\n",
       "      <td>2009-11-04</td>\n",
       "      <td>PRV55912</td>\n",
       "      <td>17000</td>\n",
       "      <td>PHY334706</td>\n",
       "      <td>PHY334706</td>\n",
       "      <td>PHY412132</td>\n",
       "      <td>V5789</td>\n",
       "      <td>1068.0</td>\n",
       "      <td>V5789</td>\n",
       "      <td>4168</td>\n",
       "      <td>73313</td>\n",
       "      <td>7812</td>\n",
       "      <td>7993</td>\n",
       "      <td>1</td>\n",
       "      <td>20</td>\n",
       "      <td>18050</td>\n",
       "      <td>1608</td>\n",
       "      <td>1922</td>\n",
       "    </tr>\n",
       "    <tr>\n",
       "      <th>3</th>\n",
       "      <td>BENE22934</td>\n",
       "      <td>1930-07-01</td>\n",
       "      <td>2</td>\n",
       "      <td>1</td>\n",
       "      <td>0</td>\n",
       "      <td>39</td>\n",
       "      <td>280</td>\n",
       "      <td>12</td>\n",
       "      <td>12</td>\n",
       "      <td>2</td>\n",
       "      <td>1</td>\n",
       "      <td>2</td>\n",
       "      <td>2</td>\n",
       "      <td>1</td>\n",
       "      <td>2</td>\n",
       "      <td>1</td>\n",
       "      <td>1</td>\n",
       "      <td>1</td>\n",
       "      <td>1</td>\n",
       "      <td>2</td>\n",
       "      <td>27000</td>\n",
       "      <td>2136</td>\n",
       "      <td>450</td>\n",
       "      <td>160</td>\n",
       "      <td>CLM73394</td>\n",
       "      <td>2009-10-25</td>\n",
       "      <td>2009-10-29</td>\n",
       "      <td>PRV55912</td>\n",
       "      <td>13000</td>\n",
       "      <td>PHY390614</td>\n",
       "      <td>PHY323689</td>\n",
       "      <td>PHY363291</td>\n",
       "      <td>71946</td>\n",
       "      <td>1068.0</td>\n",
       "      <td>71535</td>\n",
       "      <td>71960</td>\n",
       "      <td>4019</td>\n",
       "      <td>V1202</td>\n",
       "      <td>4240</td>\n",
       "      <td>1</td>\n",
       "      <td>16</td>\n",
       "      <td>27450</td>\n",
       "      <td>2296</td>\n",
       "      <td>1930</td>\n",
       "    </tr>\n",
       "    <tr>\n",
       "      <th>4</th>\n",
       "      <td>BENE24402</td>\n",
       "      <td>1925-09-01</td>\n",
       "      <td>2</td>\n",
       "      <td>2</td>\n",
       "      <td>0</td>\n",
       "      <td>39</td>\n",
       "      <td>510</td>\n",
       "      <td>12</td>\n",
       "      <td>12</td>\n",
       "      <td>1</td>\n",
       "      <td>2</td>\n",
       "      <td>2</td>\n",
       "      <td>1</td>\n",
       "      <td>2</td>\n",
       "      <td>2</td>\n",
       "      <td>2</td>\n",
       "      <td>1</td>\n",
       "      <td>2</td>\n",
       "      <td>2</td>\n",
       "      <td>2</td>\n",
       "      <td>3000</td>\n",
       "      <td>1068</td>\n",
       "      <td>8900</td>\n",
       "      <td>740</td>\n",
       "      <td>CLM32911</td>\n",
       "      <td>2009-01-08</td>\n",
       "      <td>2009-01-12</td>\n",
       "      <td>PRV55912</td>\n",
       "      <td>3000</td>\n",
       "      <td>PHY380413</td>\n",
       "      <td>PHY432598</td>\n",
       "      <td>PHY412132</td>\n",
       "      <td>1748</td>\n",
       "      <td>1068.0</td>\n",
       "      <td>2330</td>\n",
       "      <td>4019</td>\n",
       "      <td>4019</td>\n",
       "      <td>4019</td>\n",
       "      <td>4019</td>\n",
       "      <td>1</td>\n",
       "      <td>19</td>\n",
       "      <td>11900</td>\n",
       "      <td>1808</td>\n",
       "      <td>1925</td>\n",
       "    </tr>\n",
       "  </tbody>\n",
       "</table>\n",
       "</div>"
      ],
      "text/plain": [
       "      BeneID         DOB  Gender  Race  RenalDiseaseIndicator  State  County  \\\n",
       "0  BENE11001  1943-01-01       1     1                      0     39     230   \n",
       "1  BENE17521  1913-12-01       2     1                      0     39     230   \n",
       "2  BENE21718  1922-10-01       1     1                      0     39     600   \n",
       "3  BENE22934  1930-07-01       2     1                      0     39     280   \n",
       "4  BENE24402  1925-09-01       2     2                      0     39     510   \n",
       "\n",
       "   NoOfMonths_PartACov  NoOfMonths_PartBCov  ChronicCond_Alzheimer  \\\n",
       "0                   12                   12                      1   \n",
       "1                   12                   12                      1   \n",
       "2                   12                   12                      2   \n",
       "3                   12                   12                      2   \n",
       "4                   12                   12                      1   \n",
       "\n",
       "   ChronicCond_Heartfailure  ChronicCond_KidneyDisease  ChronicCond_Cancer  \\\n",
       "0                         2                          1                   2   \n",
       "1                         1                          1                   2   \n",
       "2                         2                          2                   2   \n",
       "3                         1                          2                   2   \n",
       "4                         2                          2                   1   \n",
       "\n",
       "   ChronicCond_ObstrPulmonary  ChronicCond_Depression  ChronicCond_Diabetes  \\\n",
       "0                           2                       1                     1   \n",
       "1                           1                       2                     2   \n",
       "2                           2                       2                     2   \n",
       "3                           1                       2                     1   \n",
       "4                           2                       2                     2   \n",
       "\n",
       "   ChronicCond_IschemicHeart  ChronicCond_Osteoporasis  \\\n",
       "0                          1                         2   \n",
       "1                          1                         2   \n",
       "2                          1                         1   \n",
       "3                          1                         1   \n",
       "4                          1                         2   \n",
       "\n",
       "   ChronicCond_rheumatoidarthritis  ChronicCond_stroke  \\\n",
       "0                                1                   1   \n",
       "1                                2                   2   \n",
       "2                                2                   2   \n",
       "3                                1                   2   \n",
       "4                                2                   2   \n",
       "\n",
       "   IPAnnualReimbursementAmt  IPAnnualDeductibleAmt  OPAnnualReimbursementAmt  \\\n",
       "0                     36000                   3204                        60   \n",
       "1                     19000                   1068                       100   \n",
       "2                     17000                   1068                      1050   \n",
       "3                     27000                   2136                       450   \n",
       "4                      3000                   1068                      8900   \n",
       "\n",
       "   OPAnnualDeductibleAmt   ClaimID ClaimStartDt  ClaimEndDt  Provider  \\\n",
       "0                     70  CLM46614   2009-04-12  2009-04-18  PRV55912   \n",
       "1                     20  CLM34721   2009-01-20  2009-02-01  PRV55912   \n",
       "2                    540  CLM72336   2009-10-17  2009-11-04  PRV55912   \n",
       "3                    160  CLM73394   2009-10-25  2009-10-29  PRV55912   \n",
       "4                    740  CLM32911   2009-01-08  2009-01-12  PRV55912   \n",
       "\n",
       "   InscClaimAmtReimbursed AttendingPhysician OperatingPhysician  \\\n",
       "0                   26000          PHY390922          PHY330576   \n",
       "1                   19000          PHY349293          PHY370861   \n",
       "2                   17000          PHY334706          PHY334706   \n",
       "3                   13000          PHY390614          PHY323689   \n",
       "4                    3000          PHY380413          PHY432598   \n",
       "\n",
       "  OtherPhysician ClmAdmitDiagnosisCode  DeductibleAmtPaid ClmDiagnosisCode_1  \\\n",
       "0      PHY412132                  7866             1068.0               1970   \n",
       "1      PHY363291                 45340             1068.0               4240   \n",
       "2      PHY412132                 V5789             1068.0              V5789   \n",
       "3      PHY363291                 71946             1068.0              71535   \n",
       "4      PHY412132                  1748             1068.0               2330   \n",
       "\n",
       "  ClmDiagnosisCode_2 ClmDiagnosisCode_3 ClmDiagnosisCode_4 ClmDiagnosisCode_5  \\\n",
       "0               4019               5853               7843               2768   \n",
       "1               2639               2948              40390              45821   \n",
       "2               4168              73313               7812               7993   \n",
       "3              71960               4019              V1202               4240   \n",
       "4               4019               4019               4019               4019   \n",
       "\n",
       "   PotentialFraud  PatientRiskScore  TotalReimbursement  \\\n",
       "0               1                15               36060   \n",
       "1               1                17               19100   \n",
       "2               1                20               18050   \n",
       "3               1                16               27450   \n",
       "4               1                19               11900   \n",
       "\n",
       "   TotalDeductibleamount  Year of Birth  \n",
       "0                   3274           1943  \n",
       "1                   1088           1913  \n",
       "2                   1608           1922  \n",
       "3                   2296           1930  \n",
       "4                   1808           1925  "
      ]
     },
     "execution_count": 120,
     "metadata": {},
     "output_type": "execute_result"
    }
   ],
   "source": [
    "df_BIOP.head()"
   ]
  },
  {
   "cell_type": "code",
   "execution_count": 121,
   "metadata": {
    "colab": {
     "base_uri": "https://localhost:8080/"
    },
    "id": "b9MTmHTsj8OZ",
    "outputId": "98401b88-3f9b-49a7-81ab-9c91dd056dd8",
    "scrolled": true
   },
   "outputs": [
    {
     "name": "stdout",
     "output_type": "stream",
     "text": [
      "<class 'pandas.core.frame.DataFrame'>\n",
      "Int64Index: 558211 entries, 0 to 558210\n",
      "Data columns (total 44 columns):\n",
      " #   Column                           Non-Null Count   Dtype  \n",
      "---  ------                           --------------   -----  \n",
      " 0   BeneID                           558211 non-null  object \n",
      " 1   DOB                              558211 non-null  object \n",
      " 2   Gender                           558211 non-null  int64  \n",
      " 3   Race                             558211 non-null  int64  \n",
      " 4   RenalDiseaseIndicator            558211 non-null  int32  \n",
      " 5   State                            558211 non-null  int64  \n",
      " 6   County                           558211 non-null  int64  \n",
      " 7   NoOfMonths_PartACov              558211 non-null  int64  \n",
      " 8   NoOfMonths_PartBCov              558211 non-null  int64  \n",
      " 9   ChronicCond_Alzheimer            558211 non-null  int64  \n",
      " 10  ChronicCond_Heartfailure         558211 non-null  int64  \n",
      " 11  ChronicCond_KidneyDisease        558211 non-null  int64  \n",
      " 12  ChronicCond_Cancer               558211 non-null  int64  \n",
      " 13  ChronicCond_ObstrPulmonary       558211 non-null  int64  \n",
      " 14  ChronicCond_Depression           558211 non-null  int64  \n",
      " 15  ChronicCond_Diabetes             558211 non-null  int64  \n",
      " 16  ChronicCond_IschemicHeart        558211 non-null  int64  \n",
      " 17  ChronicCond_Osteoporasis         558211 non-null  int64  \n",
      " 18  ChronicCond_rheumatoidarthritis  558211 non-null  int64  \n",
      " 19  ChronicCond_stroke               558211 non-null  int64  \n",
      " 20  IPAnnualReimbursementAmt         558211 non-null  int64  \n",
      " 21  IPAnnualDeductibleAmt            558211 non-null  int64  \n",
      " 22  OPAnnualReimbursementAmt         558211 non-null  int64  \n",
      " 23  OPAnnualDeductibleAmt            558211 non-null  int64  \n",
      " 24  ClaimID                          558211 non-null  object \n",
      " 25  ClaimStartDt                     558211 non-null  object \n",
      " 26  ClaimEndDt                       558211 non-null  object \n",
      " 27  Provider                         558211 non-null  object \n",
      " 28  InscClaimAmtReimbursed           558211 non-null  int64  \n",
      " 29  AttendingPhysician               558211 non-null  object \n",
      " 30  OperatingPhysician               558211 non-null  object \n",
      " 31  OtherPhysician                   558211 non-null  object \n",
      " 32  ClmAdmitDiagnosisCode            558211 non-null  object \n",
      " 33  DeductibleAmtPaid                558211 non-null  float64\n",
      " 34  ClmDiagnosisCode_1               558211 non-null  object \n",
      " 35  ClmDiagnosisCode_2               558211 non-null  object \n",
      " 36  ClmDiagnosisCode_3               558211 non-null  object \n",
      " 37  ClmDiagnosisCode_4               558211 non-null  object \n",
      " 38  ClmDiagnosisCode_5               558211 non-null  object \n",
      " 39  PotentialFraud                   558211 non-null  int32  \n",
      " 40  PatientRiskScore                 558211 non-null  int64  \n",
      " 41  TotalReimbursement               558211 non-null  int64  \n",
      " 42  TotalDeductibleamount            558211 non-null  int64  \n",
      " 43  Year of Birth                    558211 non-null  int64  \n",
      "dtypes: float64(1), int32(2), int64(26), object(15)\n",
      "memory usage: 187.4+ MB\n"
     ]
    }
   ],
   "source": [
    "df_BIOP.info()\n",
    "\n",
    "# Outliers are treated and the data is clean now\n"
   ]
  },
  {
   "cell_type": "markdown",
   "metadata": {
    "id": "VlQEQe2epqcK"
   },
   "source": [
    "## **Saving the Final dataframe**\n"
   ]
  },
  {
   "cell_type": "raw",
   "metadata": {
    "id": "q_wzxvQ3p1Le"
   },
   "source": [
    "df_final.to_csv('df_final.csv')"
   ]
  },
  {
   "cell_type": "markdown",
   "metadata": {
    "id": "Sr-30MzCe0ru"
   },
   "source": [
    "## **Making a copy of the Original Merged Dataset**"
   ]
  },
  {
   "cell_type": "code",
   "execution_count": 122,
   "metadata": {
    "id": "K-P_KeTKkBgT"
   },
   "outputs": [],
   "source": [
    "df_final=df_BIOP.copy()"
   ]
  },
  {
   "cell_type": "code",
   "execution_count": 123,
   "metadata": {
    "id": "OQthwd5ykQZM"
   },
   "outputs": [],
   "source": [
    "df_final=df_final.iloc[:,[27,0,1,43,2,3,5,6,7,8,4,9,10,11,12,13,14,15,16,17,18,19,40,20,22,41,28,21,23,42,33,24,25,26,29,30,31,32,34,35,36,37,38,39]]"
   ]
  },
  {
   "cell_type": "code",
   "execution_count": 124,
   "metadata": {
    "colab": {
     "base_uri": "https://localhost:8080/",
     "height": 392
    },
    "id": "JcVELyGymOHJ",
    "outputId": "c282b0a5-473a-4cb6-dde7-daf597064049"
   },
   "outputs": [
    {
     "data": {
      "text/html": [
       "<div>\n",
       "<style scoped>\n",
       "    .dataframe tbody tr th:only-of-type {\n",
       "        vertical-align: middle;\n",
       "    }\n",
       "\n",
       "    .dataframe tbody tr th {\n",
       "        vertical-align: top;\n",
       "    }\n",
       "\n",
       "    .dataframe thead th {\n",
       "        text-align: right;\n",
       "    }\n",
       "</style>\n",
       "<table border=\"1\" class=\"dataframe\">\n",
       "  <thead>\n",
       "    <tr style=\"text-align: right;\">\n",
       "      <th></th>\n",
       "      <th>Provider</th>\n",
       "      <th>BeneID</th>\n",
       "      <th>DOB</th>\n",
       "      <th>Year of Birth</th>\n",
       "      <th>Gender</th>\n",
       "      <th>Race</th>\n",
       "      <th>State</th>\n",
       "      <th>County</th>\n",
       "      <th>NoOfMonths_PartACov</th>\n",
       "      <th>NoOfMonths_PartBCov</th>\n",
       "      <th>RenalDiseaseIndicator</th>\n",
       "      <th>ChronicCond_Alzheimer</th>\n",
       "      <th>ChronicCond_Heartfailure</th>\n",
       "      <th>ChronicCond_KidneyDisease</th>\n",
       "      <th>ChronicCond_Cancer</th>\n",
       "      <th>ChronicCond_ObstrPulmonary</th>\n",
       "      <th>ChronicCond_Depression</th>\n",
       "      <th>ChronicCond_Diabetes</th>\n",
       "      <th>ChronicCond_IschemicHeart</th>\n",
       "      <th>ChronicCond_Osteoporasis</th>\n",
       "      <th>ChronicCond_rheumatoidarthritis</th>\n",
       "      <th>ChronicCond_stroke</th>\n",
       "      <th>PatientRiskScore</th>\n",
       "      <th>IPAnnualReimbursementAmt</th>\n",
       "      <th>OPAnnualReimbursementAmt</th>\n",
       "      <th>TotalReimbursement</th>\n",
       "      <th>InscClaimAmtReimbursed</th>\n",
       "      <th>IPAnnualDeductibleAmt</th>\n",
       "      <th>OPAnnualDeductibleAmt</th>\n",
       "      <th>TotalDeductibleamount</th>\n",
       "      <th>DeductibleAmtPaid</th>\n",
       "      <th>ClaimID</th>\n",
       "      <th>ClaimStartDt</th>\n",
       "      <th>ClaimEndDt</th>\n",
       "      <th>AttendingPhysician</th>\n",
       "      <th>OperatingPhysician</th>\n",
       "      <th>OtherPhysician</th>\n",
       "      <th>ClmAdmitDiagnosisCode</th>\n",
       "      <th>ClmDiagnosisCode_1</th>\n",
       "      <th>ClmDiagnosisCode_2</th>\n",
       "      <th>ClmDiagnosisCode_3</th>\n",
       "      <th>ClmDiagnosisCode_4</th>\n",
       "      <th>ClmDiagnosisCode_5</th>\n",
       "      <th>PotentialFraud</th>\n",
       "    </tr>\n",
       "  </thead>\n",
       "  <tbody>\n",
       "    <tr>\n",
       "      <th>0</th>\n",
       "      <td>PRV55912</td>\n",
       "      <td>BENE11001</td>\n",
       "      <td>1943-01-01</td>\n",
       "      <td>1943</td>\n",
       "      <td>1</td>\n",
       "      <td>1</td>\n",
       "      <td>39</td>\n",
       "      <td>230</td>\n",
       "      <td>12</td>\n",
       "      <td>12</td>\n",
       "      <td>0</td>\n",
       "      <td>1</td>\n",
       "      <td>2</td>\n",
       "      <td>1</td>\n",
       "      <td>2</td>\n",
       "      <td>2</td>\n",
       "      <td>1</td>\n",
       "      <td>1</td>\n",
       "      <td>1</td>\n",
       "      <td>2</td>\n",
       "      <td>1</td>\n",
       "      <td>1</td>\n",
       "      <td>15</td>\n",
       "      <td>36000</td>\n",
       "      <td>60</td>\n",
       "      <td>36060</td>\n",
       "      <td>26000</td>\n",
       "      <td>3204</td>\n",
       "      <td>70</td>\n",
       "      <td>3274</td>\n",
       "      <td>1068.0</td>\n",
       "      <td>CLM46614</td>\n",
       "      <td>2009-04-12</td>\n",
       "      <td>2009-04-18</td>\n",
       "      <td>PHY390922</td>\n",
       "      <td>PHY330576</td>\n",
       "      <td>PHY412132</td>\n",
       "      <td>7866</td>\n",
       "      <td>1970</td>\n",
       "      <td>4019</td>\n",
       "      <td>5853</td>\n",
       "      <td>7843</td>\n",
       "      <td>2768</td>\n",
       "      <td>1</td>\n",
       "    </tr>\n",
       "    <tr>\n",
       "      <th>1</th>\n",
       "      <td>PRV55912</td>\n",
       "      <td>BENE17521</td>\n",
       "      <td>1913-12-01</td>\n",
       "      <td>1913</td>\n",
       "      <td>2</td>\n",
       "      <td>1</td>\n",
       "      <td>39</td>\n",
       "      <td>230</td>\n",
       "      <td>12</td>\n",
       "      <td>12</td>\n",
       "      <td>0</td>\n",
       "      <td>1</td>\n",
       "      <td>1</td>\n",
       "      <td>1</td>\n",
       "      <td>2</td>\n",
       "      <td>1</td>\n",
       "      <td>2</td>\n",
       "      <td>2</td>\n",
       "      <td>1</td>\n",
       "      <td>2</td>\n",
       "      <td>2</td>\n",
       "      <td>2</td>\n",
       "      <td>17</td>\n",
       "      <td>19000</td>\n",
       "      <td>100</td>\n",
       "      <td>19100</td>\n",
       "      <td>19000</td>\n",
       "      <td>1068</td>\n",
       "      <td>20</td>\n",
       "      <td>1088</td>\n",
       "      <td>1068.0</td>\n",
       "      <td>CLM34721</td>\n",
       "      <td>2009-01-20</td>\n",
       "      <td>2009-02-01</td>\n",
       "      <td>PHY349293</td>\n",
       "      <td>PHY370861</td>\n",
       "      <td>PHY363291</td>\n",
       "      <td>45340</td>\n",
       "      <td>4240</td>\n",
       "      <td>2639</td>\n",
       "      <td>2948</td>\n",
       "      <td>40390</td>\n",
       "      <td>45821</td>\n",
       "      <td>1</td>\n",
       "    </tr>\n",
       "    <tr>\n",
       "      <th>2</th>\n",
       "      <td>PRV55912</td>\n",
       "      <td>BENE21718</td>\n",
       "      <td>1922-10-01</td>\n",
       "      <td>1922</td>\n",
       "      <td>1</td>\n",
       "      <td>1</td>\n",
       "      <td>39</td>\n",
       "      <td>600</td>\n",
       "      <td>12</td>\n",
       "      <td>12</td>\n",
       "      <td>0</td>\n",
       "      <td>2</td>\n",
       "      <td>2</td>\n",
       "      <td>2</td>\n",
       "      <td>2</td>\n",
       "      <td>2</td>\n",
       "      <td>2</td>\n",
       "      <td>2</td>\n",
       "      <td>1</td>\n",
       "      <td>1</td>\n",
       "      <td>2</td>\n",
       "      <td>2</td>\n",
       "      <td>20</td>\n",
       "      <td>17000</td>\n",
       "      <td>1050</td>\n",
       "      <td>18050</td>\n",
       "      <td>17000</td>\n",
       "      <td>1068</td>\n",
       "      <td>540</td>\n",
       "      <td>1608</td>\n",
       "      <td>1068.0</td>\n",
       "      <td>CLM72336</td>\n",
       "      <td>2009-10-17</td>\n",
       "      <td>2009-11-04</td>\n",
       "      <td>PHY334706</td>\n",
       "      <td>PHY334706</td>\n",
       "      <td>PHY412132</td>\n",
       "      <td>V5789</td>\n",
       "      <td>V5789</td>\n",
       "      <td>4168</td>\n",
       "      <td>73313</td>\n",
       "      <td>7812</td>\n",
       "      <td>7993</td>\n",
       "      <td>1</td>\n",
       "    </tr>\n",
       "    <tr>\n",
       "      <th>3</th>\n",
       "      <td>PRV55912</td>\n",
       "      <td>BENE22934</td>\n",
       "      <td>1930-07-01</td>\n",
       "      <td>1930</td>\n",
       "      <td>2</td>\n",
       "      <td>1</td>\n",
       "      <td>39</td>\n",
       "      <td>280</td>\n",
       "      <td>12</td>\n",
       "      <td>12</td>\n",
       "      <td>0</td>\n",
       "      <td>2</td>\n",
       "      <td>1</td>\n",
       "      <td>2</td>\n",
       "      <td>2</td>\n",
       "      <td>1</td>\n",
       "      <td>2</td>\n",
       "      <td>1</td>\n",
       "      <td>1</td>\n",
       "      <td>1</td>\n",
       "      <td>1</td>\n",
       "      <td>2</td>\n",
       "      <td>16</td>\n",
       "      <td>27000</td>\n",
       "      <td>450</td>\n",
       "      <td>27450</td>\n",
       "      <td>13000</td>\n",
       "      <td>2136</td>\n",
       "      <td>160</td>\n",
       "      <td>2296</td>\n",
       "      <td>1068.0</td>\n",
       "      <td>CLM73394</td>\n",
       "      <td>2009-10-25</td>\n",
       "      <td>2009-10-29</td>\n",
       "      <td>PHY390614</td>\n",
       "      <td>PHY323689</td>\n",
       "      <td>PHY363291</td>\n",
       "      <td>71946</td>\n",
       "      <td>71535</td>\n",
       "      <td>71960</td>\n",
       "      <td>4019</td>\n",
       "      <td>V1202</td>\n",
       "      <td>4240</td>\n",
       "      <td>1</td>\n",
       "    </tr>\n",
       "    <tr>\n",
       "      <th>4</th>\n",
       "      <td>PRV55912</td>\n",
       "      <td>BENE24402</td>\n",
       "      <td>1925-09-01</td>\n",
       "      <td>1925</td>\n",
       "      <td>2</td>\n",
       "      <td>2</td>\n",
       "      <td>39</td>\n",
       "      <td>510</td>\n",
       "      <td>12</td>\n",
       "      <td>12</td>\n",
       "      <td>0</td>\n",
       "      <td>1</td>\n",
       "      <td>2</td>\n",
       "      <td>2</td>\n",
       "      <td>1</td>\n",
       "      <td>2</td>\n",
       "      <td>2</td>\n",
       "      <td>2</td>\n",
       "      <td>1</td>\n",
       "      <td>2</td>\n",
       "      <td>2</td>\n",
       "      <td>2</td>\n",
       "      <td>19</td>\n",
       "      <td>3000</td>\n",
       "      <td>8900</td>\n",
       "      <td>11900</td>\n",
       "      <td>3000</td>\n",
       "      <td>1068</td>\n",
       "      <td>740</td>\n",
       "      <td>1808</td>\n",
       "      <td>1068.0</td>\n",
       "      <td>CLM32911</td>\n",
       "      <td>2009-01-08</td>\n",
       "      <td>2009-01-12</td>\n",
       "      <td>PHY380413</td>\n",
       "      <td>PHY432598</td>\n",
       "      <td>PHY412132</td>\n",
       "      <td>1748</td>\n",
       "      <td>2330</td>\n",
       "      <td>4019</td>\n",
       "      <td>4019</td>\n",
       "      <td>4019</td>\n",
       "      <td>4019</td>\n",
       "      <td>1</td>\n",
       "    </tr>\n",
       "  </tbody>\n",
       "</table>\n",
       "</div>"
      ],
      "text/plain": [
       "   Provider     BeneID         DOB  Year of Birth  Gender  Race  State  \\\n",
       "0  PRV55912  BENE11001  1943-01-01           1943       1     1     39   \n",
       "1  PRV55912  BENE17521  1913-12-01           1913       2     1     39   \n",
       "2  PRV55912  BENE21718  1922-10-01           1922       1     1     39   \n",
       "3  PRV55912  BENE22934  1930-07-01           1930       2     1     39   \n",
       "4  PRV55912  BENE24402  1925-09-01           1925       2     2     39   \n",
       "\n",
       "   County  NoOfMonths_PartACov  NoOfMonths_PartBCov  RenalDiseaseIndicator  \\\n",
       "0     230                   12                   12                      0   \n",
       "1     230                   12                   12                      0   \n",
       "2     600                   12                   12                      0   \n",
       "3     280                   12                   12                      0   \n",
       "4     510                   12                   12                      0   \n",
       "\n",
       "   ChronicCond_Alzheimer  ChronicCond_Heartfailure  ChronicCond_KidneyDisease  \\\n",
       "0                      1                         2                          1   \n",
       "1                      1                         1                          1   \n",
       "2                      2                         2                          2   \n",
       "3                      2                         1                          2   \n",
       "4                      1                         2                          2   \n",
       "\n",
       "   ChronicCond_Cancer  ChronicCond_ObstrPulmonary  ChronicCond_Depression  \\\n",
       "0                   2                           2                       1   \n",
       "1                   2                           1                       2   \n",
       "2                   2                           2                       2   \n",
       "3                   2                           1                       2   \n",
       "4                   1                           2                       2   \n",
       "\n",
       "   ChronicCond_Diabetes  ChronicCond_IschemicHeart  ChronicCond_Osteoporasis  \\\n",
       "0                     1                          1                         2   \n",
       "1                     2                          1                         2   \n",
       "2                     2                          1                         1   \n",
       "3                     1                          1                         1   \n",
       "4                     2                          1                         2   \n",
       "\n",
       "   ChronicCond_rheumatoidarthritis  ChronicCond_stroke  PatientRiskScore  \\\n",
       "0                                1                   1                15   \n",
       "1                                2                   2                17   \n",
       "2                                2                   2                20   \n",
       "3                                1                   2                16   \n",
       "4                                2                   2                19   \n",
       "\n",
       "   IPAnnualReimbursementAmt  OPAnnualReimbursementAmt  TotalReimbursement  \\\n",
       "0                     36000                        60               36060   \n",
       "1                     19000                       100               19100   \n",
       "2                     17000                      1050               18050   \n",
       "3                     27000                       450               27450   \n",
       "4                      3000                      8900               11900   \n",
       "\n",
       "   InscClaimAmtReimbursed  IPAnnualDeductibleAmt  OPAnnualDeductibleAmt  \\\n",
       "0                   26000                   3204                     70   \n",
       "1                   19000                   1068                     20   \n",
       "2                   17000                   1068                    540   \n",
       "3                   13000                   2136                    160   \n",
       "4                    3000                   1068                    740   \n",
       "\n",
       "   TotalDeductibleamount  DeductibleAmtPaid   ClaimID ClaimStartDt  \\\n",
       "0                   3274             1068.0  CLM46614   2009-04-12   \n",
       "1                   1088             1068.0  CLM34721   2009-01-20   \n",
       "2                   1608             1068.0  CLM72336   2009-10-17   \n",
       "3                   2296             1068.0  CLM73394   2009-10-25   \n",
       "4                   1808             1068.0  CLM32911   2009-01-08   \n",
       "\n",
       "   ClaimEndDt AttendingPhysician OperatingPhysician OtherPhysician  \\\n",
       "0  2009-04-18          PHY390922          PHY330576      PHY412132   \n",
       "1  2009-02-01          PHY349293          PHY370861      PHY363291   \n",
       "2  2009-11-04          PHY334706          PHY334706      PHY412132   \n",
       "3  2009-10-29          PHY390614          PHY323689      PHY363291   \n",
       "4  2009-01-12          PHY380413          PHY432598      PHY412132   \n",
       "\n",
       "  ClmAdmitDiagnosisCode ClmDiagnosisCode_1 ClmDiagnosisCode_2  \\\n",
       "0                  7866               1970               4019   \n",
       "1                 45340               4240               2639   \n",
       "2                 V5789              V5789               4168   \n",
       "3                 71946              71535              71960   \n",
       "4                  1748               2330               4019   \n",
       "\n",
       "  ClmDiagnosisCode_3 ClmDiagnosisCode_4 ClmDiagnosisCode_5  PotentialFraud  \n",
       "0               5853               7843               2768               1  \n",
       "1               2948              40390              45821               1  \n",
       "2              73313               7812               7993               1  \n",
       "3               4019              V1202               4240               1  \n",
       "4               4019               4019               4019               1  "
      ]
     },
     "execution_count": 124,
     "metadata": {},
     "output_type": "execute_result"
    }
   ],
   "source": [
    "df_final.head()"
   ]
  },
  {
   "cell_type": "code",
   "execution_count": 125,
   "metadata": {
    "colab": {
     "base_uri": "https://localhost:8080/"
    },
    "id": "rZBFkf3dmfGc",
    "outputId": "5f2865bf-1320-4612-db2d-db21ac2919be"
   },
   "outputs": [
    {
     "name": "stdout",
     "output_type": "stream",
     "text": [
      "<class 'pandas.core.frame.DataFrame'>\n",
      "Int64Index: 558211 entries, 0 to 558210\n",
      "Data columns (total 44 columns):\n",
      " #   Column                           Non-Null Count   Dtype  \n",
      "---  ------                           --------------   -----  \n",
      " 0   Provider                         558211 non-null  object \n",
      " 1   BeneID                           558211 non-null  object \n",
      " 2   DOB                              558211 non-null  object \n",
      " 3   Year of Birth                    558211 non-null  int64  \n",
      " 4   Gender                           558211 non-null  int64  \n",
      " 5   Race                             558211 non-null  int64  \n",
      " 6   State                            558211 non-null  int64  \n",
      " 7   County                           558211 non-null  int64  \n",
      " 8   NoOfMonths_PartACov              558211 non-null  int64  \n",
      " 9   NoOfMonths_PartBCov              558211 non-null  int64  \n",
      " 10  RenalDiseaseIndicator            558211 non-null  int32  \n",
      " 11  ChronicCond_Alzheimer            558211 non-null  int64  \n",
      " 12  ChronicCond_Heartfailure         558211 non-null  int64  \n",
      " 13  ChronicCond_KidneyDisease        558211 non-null  int64  \n",
      " 14  ChronicCond_Cancer               558211 non-null  int64  \n",
      " 15  ChronicCond_ObstrPulmonary       558211 non-null  int64  \n",
      " 16  ChronicCond_Depression           558211 non-null  int64  \n",
      " 17  ChronicCond_Diabetes             558211 non-null  int64  \n",
      " 18  ChronicCond_IschemicHeart        558211 non-null  int64  \n",
      " 19  ChronicCond_Osteoporasis         558211 non-null  int64  \n",
      " 20  ChronicCond_rheumatoidarthritis  558211 non-null  int64  \n",
      " 21  ChronicCond_stroke               558211 non-null  int64  \n",
      " 22  PatientRiskScore                 558211 non-null  int64  \n",
      " 23  IPAnnualReimbursementAmt         558211 non-null  int64  \n",
      " 24  OPAnnualReimbursementAmt         558211 non-null  int64  \n",
      " 25  TotalReimbursement               558211 non-null  int64  \n",
      " 26  InscClaimAmtReimbursed           558211 non-null  int64  \n",
      " 27  IPAnnualDeductibleAmt            558211 non-null  int64  \n",
      " 28  OPAnnualDeductibleAmt            558211 non-null  int64  \n",
      " 29  TotalDeductibleamount            558211 non-null  int64  \n",
      " 30  DeductibleAmtPaid                558211 non-null  float64\n",
      " 31  ClaimID                          558211 non-null  object \n",
      " 32  ClaimStartDt                     558211 non-null  object \n",
      " 33  ClaimEndDt                       558211 non-null  object \n",
      " 34  AttendingPhysician               558211 non-null  object \n",
      " 35  OperatingPhysician               558211 non-null  object \n",
      " 36  OtherPhysician                   558211 non-null  object \n",
      " 37  ClmAdmitDiagnosisCode            558211 non-null  object \n",
      " 38  ClmDiagnosisCode_1               558211 non-null  object \n",
      " 39  ClmDiagnosisCode_2               558211 non-null  object \n",
      " 40  ClmDiagnosisCode_3               558211 non-null  object \n",
      " 41  ClmDiagnosisCode_4               558211 non-null  object \n",
      " 42  ClmDiagnosisCode_5               558211 non-null  object \n",
      " 43  PotentialFraud                   558211 non-null  int32  \n",
      "dtypes: float64(1), int32(2), int64(26), object(15)\n",
      "memory usage: 187.4+ MB\n"
     ]
    }
   ],
   "source": [
    "df_final.info()"
   ]
  },
  {
   "cell_type": "markdown",
   "metadata": {
    "id": "7EF5qKq-fEkl"
   },
   "source": [
    "## **Separating the Target and Independent Variables**"
   ]
  },
  {
   "cell_type": "code",
   "execution_count": 126,
   "metadata": {
    "colab": {
     "base_uri": "https://localhost:8080/"
    },
    "id": "c-E5e2-ko_e1",
    "outputId": "1b83364c-aa08-420d-f051-1c60f8c95480"
   },
   "outputs": [
    {
     "data": {
      "text/plain": [
       "Index(['Year of Birth', 'Gender', 'Race', 'State', 'County',\n",
       "       'NoOfMonths_PartACov', 'NoOfMonths_PartBCov', 'RenalDiseaseIndicator',\n",
       "       'ChronicCond_Alzheimer', 'ChronicCond_Heartfailure',\n",
       "       'ChronicCond_KidneyDisease', 'ChronicCond_Cancer',\n",
       "       'ChronicCond_ObstrPulmonary', 'ChronicCond_Depression',\n",
       "       'ChronicCond_Diabetes', 'ChronicCond_IschemicHeart',\n",
       "       'ChronicCond_Osteoporasis', 'ChronicCond_rheumatoidarthritis',\n",
       "       'ChronicCond_stroke', 'PatientRiskScore', 'IPAnnualReimbursementAmt',\n",
       "       'OPAnnualReimbursementAmt', 'TotalReimbursement',\n",
       "       'InscClaimAmtReimbursed', 'IPAnnualDeductibleAmt',\n",
       "       'OPAnnualDeductibleAmt', 'TotalDeductibleamount', 'DeductibleAmtPaid',\n",
       "       'PotentialFraud'],\n",
       "      dtype='object')"
      ]
     },
     "execution_count": 126,
     "metadata": {},
     "output_type": "execute_result"
    }
   ],
   "source": [
    "# Numerical values in df_final_num\n",
    "\n",
    "df_final_num=df_final.select_dtypes(include=[np.number])\n",
    "df_final_num.columns"
   ]
  },
  {
   "cell_type": "code",
   "execution_count": 127,
   "metadata": {
    "colab": {
     "base_uri": "https://localhost:8080/"
    },
    "id": "CzwlOWwGo_hs",
    "outputId": "f073dda7-01a2-4fa0-f096-b828c65b1063",
    "scrolled": true
   },
   "outputs": [
    {
     "data": {
      "text/plain": [
       "Index(['Provider', 'BeneID', 'DOB', 'ClaimID', 'ClaimStartDt', 'ClaimEndDt',\n",
       "       'AttendingPhysician', 'OperatingPhysician', 'OtherPhysician',\n",
       "       'ClmAdmitDiagnosisCode', 'ClmDiagnosisCode_1', 'ClmDiagnosisCode_2',\n",
       "       'ClmDiagnosisCode_3', 'ClmDiagnosisCode_4', 'ClmDiagnosisCode_5'],\n",
       "      dtype='object')"
      ]
     },
     "execution_count": 127,
     "metadata": {},
     "output_type": "execute_result"
    }
   ],
   "source": [
    "# Categorical values in df_final_cat\n",
    "\n",
    "df_final_cat=df_final.select_dtypes(include=[object])\n",
    "df_final_cat.columns"
   ]
  },
  {
   "cell_type": "code",
   "execution_count": 128,
   "metadata": {
    "colab": {
     "base_uri": "https://localhost:8080/",
     "height": 305
    },
    "id": "lQr2tRTSlQ_G",
    "outputId": "d826e87a-a62c-4aa6-a2a2-4de2b6468edb",
    "scrolled": true
   },
   "outputs": [
    {
     "data": {
      "text/html": [
       "<div>\n",
       "<style scoped>\n",
       "    .dataframe tbody tr th:only-of-type {\n",
       "        vertical-align: middle;\n",
       "    }\n",
       "\n",
       "    .dataframe tbody tr th {\n",
       "        vertical-align: top;\n",
       "    }\n",
       "\n",
       "    .dataframe thead th {\n",
       "        text-align: right;\n",
       "    }\n",
       "</style>\n",
       "<table border=\"1\" class=\"dataframe\">\n",
       "  <thead>\n",
       "    <tr style=\"text-align: right;\">\n",
       "      <th></th>\n",
       "      <th>Year of Birth</th>\n",
       "      <th>Gender</th>\n",
       "      <th>Race</th>\n",
       "      <th>State</th>\n",
       "      <th>County</th>\n",
       "      <th>NoOfMonths_PartACov</th>\n",
       "      <th>NoOfMonths_PartBCov</th>\n",
       "      <th>RenalDiseaseIndicator</th>\n",
       "      <th>ChronicCond_Alzheimer</th>\n",
       "      <th>ChronicCond_Heartfailure</th>\n",
       "      <th>ChronicCond_KidneyDisease</th>\n",
       "      <th>ChronicCond_Cancer</th>\n",
       "      <th>ChronicCond_ObstrPulmonary</th>\n",
       "      <th>ChronicCond_Depression</th>\n",
       "      <th>ChronicCond_Diabetes</th>\n",
       "      <th>ChronicCond_IschemicHeart</th>\n",
       "      <th>ChronicCond_Osteoporasis</th>\n",
       "      <th>ChronicCond_rheumatoidarthritis</th>\n",
       "      <th>ChronicCond_stroke</th>\n",
       "      <th>PatientRiskScore</th>\n",
       "      <th>IPAnnualReimbursementAmt</th>\n",
       "      <th>OPAnnualReimbursementAmt</th>\n",
       "      <th>TotalReimbursement</th>\n",
       "      <th>InscClaimAmtReimbursed</th>\n",
       "      <th>IPAnnualDeductibleAmt</th>\n",
       "      <th>OPAnnualDeductibleAmt</th>\n",
       "      <th>TotalDeductibleamount</th>\n",
       "      <th>DeductibleAmtPaid</th>\n",
       "      <th>PotentialFraud</th>\n",
       "    </tr>\n",
       "  </thead>\n",
       "  <tbody>\n",
       "    <tr>\n",
       "      <th>0</th>\n",
       "      <td>1943</td>\n",
       "      <td>1</td>\n",
       "      <td>1</td>\n",
       "      <td>39</td>\n",
       "      <td>230</td>\n",
       "      <td>12</td>\n",
       "      <td>12</td>\n",
       "      <td>0</td>\n",
       "      <td>1</td>\n",
       "      <td>2</td>\n",
       "      <td>1</td>\n",
       "      <td>2</td>\n",
       "      <td>2</td>\n",
       "      <td>1</td>\n",
       "      <td>1</td>\n",
       "      <td>1</td>\n",
       "      <td>2</td>\n",
       "      <td>1</td>\n",
       "      <td>1</td>\n",
       "      <td>15</td>\n",
       "      <td>36000</td>\n",
       "      <td>60</td>\n",
       "      <td>36060</td>\n",
       "      <td>26000</td>\n",
       "      <td>3204</td>\n",
       "      <td>70</td>\n",
       "      <td>3274</td>\n",
       "      <td>1068.0</td>\n",
       "      <td>1</td>\n",
       "    </tr>\n",
       "    <tr>\n",
       "      <th>1</th>\n",
       "      <td>1913</td>\n",
       "      <td>2</td>\n",
       "      <td>1</td>\n",
       "      <td>39</td>\n",
       "      <td>230</td>\n",
       "      <td>12</td>\n",
       "      <td>12</td>\n",
       "      <td>0</td>\n",
       "      <td>1</td>\n",
       "      <td>1</td>\n",
       "      <td>1</td>\n",
       "      <td>2</td>\n",
       "      <td>1</td>\n",
       "      <td>2</td>\n",
       "      <td>2</td>\n",
       "      <td>1</td>\n",
       "      <td>2</td>\n",
       "      <td>2</td>\n",
       "      <td>2</td>\n",
       "      <td>17</td>\n",
       "      <td>19000</td>\n",
       "      <td>100</td>\n",
       "      <td>19100</td>\n",
       "      <td>19000</td>\n",
       "      <td>1068</td>\n",
       "      <td>20</td>\n",
       "      <td>1088</td>\n",
       "      <td>1068.0</td>\n",
       "      <td>1</td>\n",
       "    </tr>\n",
       "    <tr>\n",
       "      <th>2</th>\n",
       "      <td>1922</td>\n",
       "      <td>1</td>\n",
       "      <td>1</td>\n",
       "      <td>39</td>\n",
       "      <td>600</td>\n",
       "      <td>12</td>\n",
       "      <td>12</td>\n",
       "      <td>0</td>\n",
       "      <td>2</td>\n",
       "      <td>2</td>\n",
       "      <td>2</td>\n",
       "      <td>2</td>\n",
       "      <td>2</td>\n",
       "      <td>2</td>\n",
       "      <td>2</td>\n",
       "      <td>1</td>\n",
       "      <td>1</td>\n",
       "      <td>2</td>\n",
       "      <td>2</td>\n",
       "      <td>20</td>\n",
       "      <td>17000</td>\n",
       "      <td>1050</td>\n",
       "      <td>18050</td>\n",
       "      <td>17000</td>\n",
       "      <td>1068</td>\n",
       "      <td>540</td>\n",
       "      <td>1608</td>\n",
       "      <td>1068.0</td>\n",
       "      <td>1</td>\n",
       "    </tr>\n",
       "    <tr>\n",
       "      <th>3</th>\n",
       "      <td>1930</td>\n",
       "      <td>2</td>\n",
       "      <td>1</td>\n",
       "      <td>39</td>\n",
       "      <td>280</td>\n",
       "      <td>12</td>\n",
       "      <td>12</td>\n",
       "      <td>0</td>\n",
       "      <td>2</td>\n",
       "      <td>1</td>\n",
       "      <td>2</td>\n",
       "      <td>2</td>\n",
       "      <td>1</td>\n",
       "      <td>2</td>\n",
       "      <td>1</td>\n",
       "      <td>1</td>\n",
       "      <td>1</td>\n",
       "      <td>1</td>\n",
       "      <td>2</td>\n",
       "      <td>16</td>\n",
       "      <td>27000</td>\n",
       "      <td>450</td>\n",
       "      <td>27450</td>\n",
       "      <td>13000</td>\n",
       "      <td>2136</td>\n",
       "      <td>160</td>\n",
       "      <td>2296</td>\n",
       "      <td>1068.0</td>\n",
       "      <td>1</td>\n",
       "    </tr>\n",
       "    <tr>\n",
       "      <th>4</th>\n",
       "      <td>1925</td>\n",
       "      <td>2</td>\n",
       "      <td>2</td>\n",
       "      <td>39</td>\n",
       "      <td>510</td>\n",
       "      <td>12</td>\n",
       "      <td>12</td>\n",
       "      <td>0</td>\n",
       "      <td>1</td>\n",
       "      <td>2</td>\n",
       "      <td>2</td>\n",
       "      <td>1</td>\n",
       "      <td>2</td>\n",
       "      <td>2</td>\n",
       "      <td>2</td>\n",
       "      <td>1</td>\n",
       "      <td>2</td>\n",
       "      <td>2</td>\n",
       "      <td>2</td>\n",
       "      <td>19</td>\n",
       "      <td>3000</td>\n",
       "      <td>8900</td>\n",
       "      <td>11900</td>\n",
       "      <td>3000</td>\n",
       "      <td>1068</td>\n",
       "      <td>740</td>\n",
       "      <td>1808</td>\n",
       "      <td>1068.0</td>\n",
       "      <td>1</td>\n",
       "    </tr>\n",
       "  </tbody>\n",
       "</table>\n",
       "</div>"
      ],
      "text/plain": [
       "   Year of Birth  Gender  Race  State  County  NoOfMonths_PartACov  \\\n",
       "0           1943       1     1     39     230                   12   \n",
       "1           1913       2     1     39     230                   12   \n",
       "2           1922       1     1     39     600                   12   \n",
       "3           1930       2     1     39     280                   12   \n",
       "4           1925       2     2     39     510                   12   \n",
       "\n",
       "   NoOfMonths_PartBCov  RenalDiseaseIndicator  ChronicCond_Alzheimer  \\\n",
       "0                   12                      0                      1   \n",
       "1                   12                      0                      1   \n",
       "2                   12                      0                      2   \n",
       "3                   12                      0                      2   \n",
       "4                   12                      0                      1   \n",
       "\n",
       "   ChronicCond_Heartfailure  ChronicCond_KidneyDisease  ChronicCond_Cancer  \\\n",
       "0                         2                          1                   2   \n",
       "1                         1                          1                   2   \n",
       "2                         2                          2                   2   \n",
       "3                         1                          2                   2   \n",
       "4                         2                          2                   1   \n",
       "\n",
       "   ChronicCond_ObstrPulmonary  ChronicCond_Depression  ChronicCond_Diabetes  \\\n",
       "0                           2                       1                     1   \n",
       "1                           1                       2                     2   \n",
       "2                           2                       2                     2   \n",
       "3                           1                       2                     1   \n",
       "4                           2                       2                     2   \n",
       "\n",
       "   ChronicCond_IschemicHeart  ChronicCond_Osteoporasis  \\\n",
       "0                          1                         2   \n",
       "1                          1                         2   \n",
       "2                          1                         1   \n",
       "3                          1                         1   \n",
       "4                          1                         2   \n",
       "\n",
       "   ChronicCond_rheumatoidarthritis  ChronicCond_stroke  PatientRiskScore  \\\n",
       "0                                1                   1                15   \n",
       "1                                2                   2                17   \n",
       "2                                2                   2                20   \n",
       "3                                1                   2                16   \n",
       "4                                2                   2                19   \n",
       "\n",
       "   IPAnnualReimbursementAmt  OPAnnualReimbursementAmt  TotalReimbursement  \\\n",
       "0                     36000                        60               36060   \n",
       "1                     19000                       100               19100   \n",
       "2                     17000                      1050               18050   \n",
       "3                     27000                       450               27450   \n",
       "4                      3000                      8900               11900   \n",
       "\n",
       "   InscClaimAmtReimbursed  IPAnnualDeductibleAmt  OPAnnualDeductibleAmt  \\\n",
       "0                   26000                   3204                     70   \n",
       "1                   19000                   1068                     20   \n",
       "2                   17000                   1068                    540   \n",
       "3                   13000                   2136                    160   \n",
       "4                    3000                   1068                    740   \n",
       "\n",
       "   TotalDeductibleamount  DeductibleAmtPaid  PotentialFraud  \n",
       "0                   3274             1068.0               1  \n",
       "1                   1088             1068.0               1  \n",
       "2                   1608             1068.0               1  \n",
       "3                   2296             1068.0               1  \n",
       "4                   1808             1068.0               1  "
      ]
     },
     "execution_count": 128,
     "metadata": {},
     "output_type": "execute_result"
    }
   ],
   "source": [
    "df_final_num.head()"
   ]
  },
  {
   "cell_type": "code",
   "execution_count": 129,
   "metadata": {
    "id": "bj_JQPdomnHk"
   },
   "outputs": [],
   "source": [
    "# Seperating the traget and independent variables\n",
    "\n",
    "y = df_final_num.PotentialFraud\n",
    "x1 = df_final_num.drop('PotentialFraud',1)\n"
   ]
  },
  {
   "cell_type": "code",
   "execution_count": 130,
   "metadata": {
    "id": "jtKBTghzlQ_H"
   },
   "outputs": [],
   "source": [
    "from sklearn.preprocessing import RobustScaler\n",
    "rs = RobustScaler()\n",
    "\n",
    "# standardize all the columns of the dataframe 'df_ipl_dummy'\n",
    "num_scaled = rs.fit_transform(x1)"
   ]
  },
  {
   "cell_type": "raw",
   "metadata": {
    "id": "ubSlhb5qlQ_H"
   },
   "source": [
    "\n",
    "from sklearn.preprocessing import StandardScaler \n",
    "from sklearn.preprocessing import MinMaxScaler \n",
    "# initialize the standard scalar\n",
    "ms = MinMaxScaler()\n",
    "\n",
    "# standardize all the columns of the dataframe 'df_ipl_dummy'\n",
    "num_scaled = ms.fit_transform(x1)\n"
   ]
  },
  {
   "cell_type": "code",
   "execution_count": 131,
   "metadata": {
    "colab": {
     "base_uri": "https://localhost:8080/",
     "height": 288
    },
    "id": "hQ_wbh3plQ_H",
    "outputId": "54052692-c075-41ab-8f1e-94247f6fc6bd"
   },
   "outputs": [
    {
     "data": {
      "text/html": [
       "<div>\n",
       "<style scoped>\n",
       "    .dataframe tbody tr th:only-of-type {\n",
       "        vertical-align: middle;\n",
       "    }\n",
       "\n",
       "    .dataframe tbody tr th {\n",
       "        vertical-align: top;\n",
       "    }\n",
       "\n",
       "    .dataframe thead th {\n",
       "        text-align: right;\n",
       "    }\n",
       "</style>\n",
       "<table border=\"1\" class=\"dataframe\">\n",
       "  <thead>\n",
       "    <tr style=\"text-align: right;\">\n",
       "      <th></th>\n",
       "      <th>Year of Birth</th>\n",
       "      <th>Gender</th>\n",
       "      <th>Race</th>\n",
       "      <th>State</th>\n",
       "      <th>County</th>\n",
       "      <th>NoOfMonths_PartACov</th>\n",
       "      <th>NoOfMonths_PartBCov</th>\n",
       "      <th>RenalDiseaseIndicator</th>\n",
       "      <th>ChronicCond_Alzheimer</th>\n",
       "      <th>ChronicCond_Heartfailure</th>\n",
       "      <th>ChronicCond_KidneyDisease</th>\n",
       "      <th>ChronicCond_Cancer</th>\n",
       "      <th>ChronicCond_ObstrPulmonary</th>\n",
       "      <th>ChronicCond_Depression</th>\n",
       "      <th>ChronicCond_Diabetes</th>\n",
       "      <th>ChronicCond_IschemicHeart</th>\n",
       "      <th>ChronicCond_Osteoporasis</th>\n",
       "      <th>ChronicCond_rheumatoidarthritis</th>\n",
       "      <th>ChronicCond_stroke</th>\n",
       "      <th>PatientRiskScore</th>\n",
       "      <th>IPAnnualReimbursementAmt</th>\n",
       "      <th>OPAnnualReimbursementAmt</th>\n",
       "      <th>TotalReimbursement</th>\n",
       "      <th>InscClaimAmtReimbursed</th>\n",
       "      <th>IPAnnualDeductibleAmt</th>\n",
       "      <th>OPAnnualDeductibleAmt</th>\n",
       "      <th>TotalDeductibleamount</th>\n",
       "      <th>DeductibleAmtPaid</th>\n",
       "    </tr>\n",
       "  </thead>\n",
       "  <tbody>\n",
       "    <tr>\n",
       "      <th>0</th>\n",
       "      <td>0.571429</td>\n",
       "      <td>-1.0</td>\n",
       "      <td>0.0</td>\n",
       "      <td>0.555556</td>\n",
       "      <td>-0.285714</td>\n",
       "      <td>0.0</td>\n",
       "      <td>0.0</td>\n",
       "      <td>0.0</td>\n",
       "      <td>-1.0</td>\n",
       "      <td>1.0</td>\n",
       "      <td>-1.0</td>\n",
       "      <td>0.0</td>\n",
       "      <td>0.0</td>\n",
       "      <td>-1.0</td>\n",
       "      <td>0.0</td>\n",
       "      <td>0.0</td>\n",
       "      <td>0.0</td>\n",
       "      <td>-1.0</td>\n",
       "      <td>-1.0</td>\n",
       "      <td>-0.666667</td>\n",
       "      <td>6.000000</td>\n",
       "      <td>-0.521127</td>\n",
       "      <td>4.376135</td>\n",
       "      <td>99.692308</td>\n",
       "      <td>3.0</td>\n",
       "      <td>-0.402985</td>\n",
       "      <td>1.898507</td>\n",
       "      <td>1068.0</td>\n",
       "    </tr>\n",
       "    <tr>\n",
       "      <th>1</th>\n",
       "      <td>-1.571429</td>\n",
       "      <td>0.0</td>\n",
       "      <td>0.0</td>\n",
       "      <td>0.555556</td>\n",
       "      <td>-0.285714</td>\n",
       "      <td>0.0</td>\n",
       "      <td>0.0</td>\n",
       "      <td>0.0</td>\n",
       "      <td>-1.0</td>\n",
       "      <td>0.0</td>\n",
       "      <td>-1.0</td>\n",
       "      <td>0.0</td>\n",
       "      <td>-1.0</td>\n",
       "      <td>0.0</td>\n",
       "      <td>1.0</td>\n",
       "      <td>0.0</td>\n",
       "      <td>0.0</td>\n",
       "      <td>0.0</td>\n",
       "      <td>0.0</td>\n",
       "      <td>0.000000</td>\n",
       "      <td>3.166667</td>\n",
       "      <td>-0.502347</td>\n",
       "      <td>2.176394</td>\n",
       "      <td>72.769231</td>\n",
       "      <td>1.0</td>\n",
       "      <td>-0.477612</td>\n",
       "      <td>0.267164</td>\n",
       "      <td>1068.0</td>\n",
       "    </tr>\n",
       "    <tr>\n",
       "      <th>2</th>\n",
       "      <td>-0.928571</td>\n",
       "      <td>-1.0</td>\n",
       "      <td>0.0</td>\n",
       "      <td>0.555556</td>\n",
       "      <td>0.595238</td>\n",
       "      <td>0.0</td>\n",
       "      <td>0.0</td>\n",
       "      <td>0.0</td>\n",
       "      <td>0.0</td>\n",
       "      <td>1.0</td>\n",
       "      <td>0.0</td>\n",
       "      <td>0.0</td>\n",
       "      <td>0.0</td>\n",
       "      <td>0.0</td>\n",
       "      <td>1.0</td>\n",
       "      <td>0.0</td>\n",
       "      <td>-1.0</td>\n",
       "      <td>0.0</td>\n",
       "      <td>0.0</td>\n",
       "      <td>1.000000</td>\n",
       "      <td>2.833333</td>\n",
       "      <td>-0.056338</td>\n",
       "      <td>2.040208</td>\n",
       "      <td>65.076923</td>\n",
       "      <td>1.0</td>\n",
       "      <td>0.298507</td>\n",
       "      <td>0.655224</td>\n",
       "      <td>1068.0</td>\n",
       "    </tr>\n",
       "    <tr>\n",
       "      <th>3</th>\n",
       "      <td>-0.357143</td>\n",
       "      <td>0.0</td>\n",
       "      <td>0.0</td>\n",
       "      <td>0.555556</td>\n",
       "      <td>-0.166667</td>\n",
       "      <td>0.0</td>\n",
       "      <td>0.0</td>\n",
       "      <td>0.0</td>\n",
       "      <td>0.0</td>\n",
       "      <td>0.0</td>\n",
       "      <td>0.0</td>\n",
       "      <td>0.0</td>\n",
       "      <td>-1.0</td>\n",
       "      <td>0.0</td>\n",
       "      <td>0.0</td>\n",
       "      <td>0.0</td>\n",
       "      <td>-1.0</td>\n",
       "      <td>-1.0</td>\n",
       "      <td>0.0</td>\n",
       "      <td>-0.333333</td>\n",
       "      <td>4.500000</td>\n",
       "      <td>-0.338028</td>\n",
       "      <td>3.259403</td>\n",
       "      <td>49.692308</td>\n",
       "      <td>2.0</td>\n",
       "      <td>-0.268657</td>\n",
       "      <td>1.168657</td>\n",
       "      <td>1068.0</td>\n",
       "    </tr>\n",
       "    <tr>\n",
       "      <th>4</th>\n",
       "      <td>-0.714286</td>\n",
       "      <td>0.0</td>\n",
       "      <td>1.0</td>\n",
       "      <td>0.555556</td>\n",
       "      <td>0.380952</td>\n",
       "      <td>0.0</td>\n",
       "      <td>0.0</td>\n",
       "      <td>0.0</td>\n",
       "      <td>-1.0</td>\n",
       "      <td>1.0</td>\n",
       "      <td>0.0</td>\n",
       "      <td>-1.0</td>\n",
       "      <td>0.0</td>\n",
       "      <td>0.0</td>\n",
       "      <td>1.0</td>\n",
       "      <td>0.0</td>\n",
       "      <td>0.0</td>\n",
       "      <td>0.0</td>\n",
       "      <td>0.0</td>\n",
       "      <td>0.666667</td>\n",
       "      <td>0.500000</td>\n",
       "      <td>3.629108</td>\n",
       "      <td>1.242542</td>\n",
       "      <td>11.230769</td>\n",
       "      <td>1.0</td>\n",
       "      <td>0.597015</td>\n",
       "      <td>0.804478</td>\n",
       "      <td>1068.0</td>\n",
       "    </tr>\n",
       "  </tbody>\n",
       "</table>\n",
       "</div>"
      ],
      "text/plain": [
       "   Year of Birth  Gender  Race     State    County  NoOfMonths_PartACov  \\\n",
       "0       0.571429    -1.0   0.0  0.555556 -0.285714                  0.0   \n",
       "1      -1.571429     0.0   0.0  0.555556 -0.285714                  0.0   \n",
       "2      -0.928571    -1.0   0.0  0.555556  0.595238                  0.0   \n",
       "3      -0.357143     0.0   0.0  0.555556 -0.166667                  0.0   \n",
       "4      -0.714286     0.0   1.0  0.555556  0.380952                  0.0   \n",
       "\n",
       "   NoOfMonths_PartBCov  RenalDiseaseIndicator  ChronicCond_Alzheimer  \\\n",
       "0                  0.0                    0.0                   -1.0   \n",
       "1                  0.0                    0.0                   -1.0   \n",
       "2                  0.0                    0.0                    0.0   \n",
       "3                  0.0                    0.0                    0.0   \n",
       "4                  0.0                    0.0                   -1.0   \n",
       "\n",
       "   ChronicCond_Heartfailure  ChronicCond_KidneyDisease  ChronicCond_Cancer  \\\n",
       "0                       1.0                       -1.0                 0.0   \n",
       "1                       0.0                       -1.0                 0.0   \n",
       "2                       1.0                        0.0                 0.0   \n",
       "3                       0.0                        0.0                 0.0   \n",
       "4                       1.0                        0.0                -1.0   \n",
       "\n",
       "   ChronicCond_ObstrPulmonary  ChronicCond_Depression  ChronicCond_Diabetes  \\\n",
       "0                         0.0                    -1.0                   0.0   \n",
       "1                        -1.0                     0.0                   1.0   \n",
       "2                         0.0                     0.0                   1.0   \n",
       "3                        -1.0                     0.0                   0.0   \n",
       "4                         0.0                     0.0                   1.0   \n",
       "\n",
       "   ChronicCond_IschemicHeart  ChronicCond_Osteoporasis  \\\n",
       "0                        0.0                       0.0   \n",
       "1                        0.0                       0.0   \n",
       "2                        0.0                      -1.0   \n",
       "3                        0.0                      -1.0   \n",
       "4                        0.0                       0.0   \n",
       "\n",
       "   ChronicCond_rheumatoidarthritis  ChronicCond_stroke  PatientRiskScore  \\\n",
       "0                             -1.0                -1.0         -0.666667   \n",
       "1                              0.0                 0.0          0.000000   \n",
       "2                              0.0                 0.0          1.000000   \n",
       "3                             -1.0                 0.0         -0.333333   \n",
       "4                              0.0                 0.0          0.666667   \n",
       "\n",
       "   IPAnnualReimbursementAmt  OPAnnualReimbursementAmt  TotalReimbursement  \\\n",
       "0                  6.000000                 -0.521127            4.376135   \n",
       "1                  3.166667                 -0.502347            2.176394   \n",
       "2                  2.833333                 -0.056338            2.040208   \n",
       "3                  4.500000                 -0.338028            3.259403   \n",
       "4                  0.500000                  3.629108            1.242542   \n",
       "\n",
       "   InscClaimAmtReimbursed  IPAnnualDeductibleAmt  OPAnnualDeductibleAmt  \\\n",
       "0               99.692308                    3.0              -0.402985   \n",
       "1               72.769231                    1.0              -0.477612   \n",
       "2               65.076923                    1.0               0.298507   \n",
       "3               49.692308                    2.0              -0.268657   \n",
       "4               11.230769                    1.0               0.597015   \n",
       "\n",
       "   TotalDeductibleamount  DeductibleAmtPaid  \n",
       "0               1.898507             1068.0  \n",
       "1               0.267164             1068.0  \n",
       "2               0.655224             1068.0  \n",
       "3               1.168657             1068.0  \n",
       "4               0.804478             1068.0  "
      ]
     },
     "execution_count": 131,
     "metadata": {},
     "output_type": "execute_result"
    }
   ],
   "source": [
    "X = pd.DataFrame(num_scaled,columns = x1.columns)\n",
    "X.head()"
   ]
  },
  {
   "cell_type": "code",
   "execution_count": 132,
   "metadata": {
    "colab": {
     "base_uri": "https://localhost:8080/",
     "height": 288
    },
    "id": "7CgDNFnDnuMb",
    "outputId": "ebed1707-531d-4432-a697-4d7b1bd2cb9a",
    "scrolled": false
   },
   "outputs": [
    {
     "data": {
      "text/html": [
       "<div>\n",
       "<style scoped>\n",
       "    .dataframe tbody tr th:only-of-type {\n",
       "        vertical-align: middle;\n",
       "    }\n",
       "\n",
       "    .dataframe tbody tr th {\n",
       "        vertical-align: top;\n",
       "    }\n",
       "\n",
       "    .dataframe thead th {\n",
       "        text-align: right;\n",
       "    }\n",
       "</style>\n",
       "<table border=\"1\" class=\"dataframe\">\n",
       "  <thead>\n",
       "    <tr style=\"text-align: right;\">\n",
       "      <th></th>\n",
       "      <th>Year of Birth</th>\n",
       "      <th>Gender</th>\n",
       "      <th>Race</th>\n",
       "      <th>State</th>\n",
       "      <th>County</th>\n",
       "      <th>NoOfMonths_PartACov</th>\n",
       "      <th>NoOfMonths_PartBCov</th>\n",
       "      <th>RenalDiseaseIndicator</th>\n",
       "      <th>ChronicCond_Alzheimer</th>\n",
       "      <th>ChronicCond_Heartfailure</th>\n",
       "      <th>ChronicCond_KidneyDisease</th>\n",
       "      <th>ChronicCond_Cancer</th>\n",
       "      <th>ChronicCond_ObstrPulmonary</th>\n",
       "      <th>ChronicCond_Depression</th>\n",
       "      <th>ChronicCond_Diabetes</th>\n",
       "      <th>ChronicCond_IschemicHeart</th>\n",
       "      <th>ChronicCond_Osteoporasis</th>\n",
       "      <th>ChronicCond_rheumatoidarthritis</th>\n",
       "      <th>ChronicCond_stroke</th>\n",
       "      <th>PatientRiskScore</th>\n",
       "      <th>IPAnnualReimbursementAmt</th>\n",
       "      <th>OPAnnualReimbursementAmt</th>\n",
       "      <th>TotalReimbursement</th>\n",
       "      <th>InscClaimAmtReimbursed</th>\n",
       "      <th>IPAnnualDeductibleAmt</th>\n",
       "      <th>OPAnnualDeductibleAmt</th>\n",
       "      <th>TotalDeductibleamount</th>\n",
       "      <th>DeductibleAmtPaid</th>\n",
       "    </tr>\n",
       "  </thead>\n",
       "  <tbody>\n",
       "    <tr>\n",
       "      <th>0</th>\n",
       "      <td>0.571429</td>\n",
       "      <td>-1.0</td>\n",
       "      <td>0.0</td>\n",
       "      <td>0.555556</td>\n",
       "      <td>-0.285714</td>\n",
       "      <td>0.0</td>\n",
       "      <td>0.0</td>\n",
       "      <td>0.0</td>\n",
       "      <td>-1.0</td>\n",
       "      <td>1.0</td>\n",
       "      <td>-1.0</td>\n",
       "      <td>0.0</td>\n",
       "      <td>0.0</td>\n",
       "      <td>-1.0</td>\n",
       "      <td>0.0</td>\n",
       "      <td>0.0</td>\n",
       "      <td>0.0</td>\n",
       "      <td>-1.0</td>\n",
       "      <td>-1.0</td>\n",
       "      <td>-0.666667</td>\n",
       "      <td>6.000000</td>\n",
       "      <td>-0.521127</td>\n",
       "      <td>4.376135</td>\n",
       "      <td>99.692308</td>\n",
       "      <td>3.0</td>\n",
       "      <td>-0.402985</td>\n",
       "      <td>1.898507</td>\n",
       "      <td>1068.0</td>\n",
       "    </tr>\n",
       "    <tr>\n",
       "      <th>1</th>\n",
       "      <td>-1.571429</td>\n",
       "      <td>0.0</td>\n",
       "      <td>0.0</td>\n",
       "      <td>0.555556</td>\n",
       "      <td>-0.285714</td>\n",
       "      <td>0.0</td>\n",
       "      <td>0.0</td>\n",
       "      <td>0.0</td>\n",
       "      <td>-1.0</td>\n",
       "      <td>0.0</td>\n",
       "      <td>-1.0</td>\n",
       "      <td>0.0</td>\n",
       "      <td>-1.0</td>\n",
       "      <td>0.0</td>\n",
       "      <td>1.0</td>\n",
       "      <td>0.0</td>\n",
       "      <td>0.0</td>\n",
       "      <td>0.0</td>\n",
       "      <td>0.0</td>\n",
       "      <td>0.000000</td>\n",
       "      <td>3.166667</td>\n",
       "      <td>-0.502347</td>\n",
       "      <td>2.176394</td>\n",
       "      <td>72.769231</td>\n",
       "      <td>1.0</td>\n",
       "      <td>-0.477612</td>\n",
       "      <td>0.267164</td>\n",
       "      <td>1068.0</td>\n",
       "    </tr>\n",
       "    <tr>\n",
       "      <th>2</th>\n",
       "      <td>-0.928571</td>\n",
       "      <td>-1.0</td>\n",
       "      <td>0.0</td>\n",
       "      <td>0.555556</td>\n",
       "      <td>0.595238</td>\n",
       "      <td>0.0</td>\n",
       "      <td>0.0</td>\n",
       "      <td>0.0</td>\n",
       "      <td>0.0</td>\n",
       "      <td>1.0</td>\n",
       "      <td>0.0</td>\n",
       "      <td>0.0</td>\n",
       "      <td>0.0</td>\n",
       "      <td>0.0</td>\n",
       "      <td>1.0</td>\n",
       "      <td>0.0</td>\n",
       "      <td>-1.0</td>\n",
       "      <td>0.0</td>\n",
       "      <td>0.0</td>\n",
       "      <td>1.000000</td>\n",
       "      <td>2.833333</td>\n",
       "      <td>-0.056338</td>\n",
       "      <td>2.040208</td>\n",
       "      <td>65.076923</td>\n",
       "      <td>1.0</td>\n",
       "      <td>0.298507</td>\n",
       "      <td>0.655224</td>\n",
       "      <td>1068.0</td>\n",
       "    </tr>\n",
       "    <tr>\n",
       "      <th>3</th>\n",
       "      <td>-0.357143</td>\n",
       "      <td>0.0</td>\n",
       "      <td>0.0</td>\n",
       "      <td>0.555556</td>\n",
       "      <td>-0.166667</td>\n",
       "      <td>0.0</td>\n",
       "      <td>0.0</td>\n",
       "      <td>0.0</td>\n",
       "      <td>0.0</td>\n",
       "      <td>0.0</td>\n",
       "      <td>0.0</td>\n",
       "      <td>0.0</td>\n",
       "      <td>-1.0</td>\n",
       "      <td>0.0</td>\n",
       "      <td>0.0</td>\n",
       "      <td>0.0</td>\n",
       "      <td>-1.0</td>\n",
       "      <td>-1.0</td>\n",
       "      <td>0.0</td>\n",
       "      <td>-0.333333</td>\n",
       "      <td>4.500000</td>\n",
       "      <td>-0.338028</td>\n",
       "      <td>3.259403</td>\n",
       "      <td>49.692308</td>\n",
       "      <td>2.0</td>\n",
       "      <td>-0.268657</td>\n",
       "      <td>1.168657</td>\n",
       "      <td>1068.0</td>\n",
       "    </tr>\n",
       "    <tr>\n",
       "      <th>4</th>\n",
       "      <td>-0.714286</td>\n",
       "      <td>0.0</td>\n",
       "      <td>1.0</td>\n",
       "      <td>0.555556</td>\n",
       "      <td>0.380952</td>\n",
       "      <td>0.0</td>\n",
       "      <td>0.0</td>\n",
       "      <td>0.0</td>\n",
       "      <td>-1.0</td>\n",
       "      <td>1.0</td>\n",
       "      <td>0.0</td>\n",
       "      <td>-1.0</td>\n",
       "      <td>0.0</td>\n",
       "      <td>0.0</td>\n",
       "      <td>1.0</td>\n",
       "      <td>0.0</td>\n",
       "      <td>0.0</td>\n",
       "      <td>0.0</td>\n",
       "      <td>0.0</td>\n",
       "      <td>0.666667</td>\n",
       "      <td>0.500000</td>\n",
       "      <td>3.629108</td>\n",
       "      <td>1.242542</td>\n",
       "      <td>11.230769</td>\n",
       "      <td>1.0</td>\n",
       "      <td>0.597015</td>\n",
       "      <td>0.804478</td>\n",
       "      <td>1068.0</td>\n",
       "    </tr>\n",
       "  </tbody>\n",
       "</table>\n",
       "</div>"
      ],
      "text/plain": [
       "   Year of Birth  Gender  Race     State    County  NoOfMonths_PartACov  \\\n",
       "0       0.571429    -1.0   0.0  0.555556 -0.285714                  0.0   \n",
       "1      -1.571429     0.0   0.0  0.555556 -0.285714                  0.0   \n",
       "2      -0.928571    -1.0   0.0  0.555556  0.595238                  0.0   \n",
       "3      -0.357143     0.0   0.0  0.555556 -0.166667                  0.0   \n",
       "4      -0.714286     0.0   1.0  0.555556  0.380952                  0.0   \n",
       "\n",
       "   NoOfMonths_PartBCov  RenalDiseaseIndicator  ChronicCond_Alzheimer  \\\n",
       "0                  0.0                    0.0                   -1.0   \n",
       "1                  0.0                    0.0                   -1.0   \n",
       "2                  0.0                    0.0                    0.0   \n",
       "3                  0.0                    0.0                    0.0   \n",
       "4                  0.0                    0.0                   -1.0   \n",
       "\n",
       "   ChronicCond_Heartfailure  ChronicCond_KidneyDisease  ChronicCond_Cancer  \\\n",
       "0                       1.0                       -1.0                 0.0   \n",
       "1                       0.0                       -1.0                 0.0   \n",
       "2                       1.0                        0.0                 0.0   \n",
       "3                       0.0                        0.0                 0.0   \n",
       "4                       1.0                        0.0                -1.0   \n",
       "\n",
       "   ChronicCond_ObstrPulmonary  ChronicCond_Depression  ChronicCond_Diabetes  \\\n",
       "0                         0.0                    -1.0                   0.0   \n",
       "1                        -1.0                     0.0                   1.0   \n",
       "2                         0.0                     0.0                   1.0   \n",
       "3                        -1.0                     0.0                   0.0   \n",
       "4                         0.0                     0.0                   1.0   \n",
       "\n",
       "   ChronicCond_IschemicHeart  ChronicCond_Osteoporasis  \\\n",
       "0                        0.0                       0.0   \n",
       "1                        0.0                       0.0   \n",
       "2                        0.0                      -1.0   \n",
       "3                        0.0                      -1.0   \n",
       "4                        0.0                       0.0   \n",
       "\n",
       "   ChronicCond_rheumatoidarthritis  ChronicCond_stroke  PatientRiskScore  \\\n",
       "0                             -1.0                -1.0         -0.666667   \n",
       "1                              0.0                 0.0          0.000000   \n",
       "2                              0.0                 0.0          1.000000   \n",
       "3                             -1.0                 0.0         -0.333333   \n",
       "4                              0.0                 0.0          0.666667   \n",
       "\n",
       "   IPAnnualReimbursementAmt  OPAnnualReimbursementAmt  TotalReimbursement  \\\n",
       "0                  6.000000                 -0.521127            4.376135   \n",
       "1                  3.166667                 -0.502347            2.176394   \n",
       "2                  2.833333                 -0.056338            2.040208   \n",
       "3                  4.500000                 -0.338028            3.259403   \n",
       "4                  0.500000                  3.629108            1.242542   \n",
       "\n",
       "   InscClaimAmtReimbursed  IPAnnualDeductibleAmt  OPAnnualDeductibleAmt  \\\n",
       "0               99.692308                    3.0              -0.402985   \n",
       "1               72.769231                    1.0              -0.477612   \n",
       "2               65.076923                    1.0               0.298507   \n",
       "3               49.692308                    2.0              -0.268657   \n",
       "4               11.230769                    1.0               0.597015   \n",
       "\n",
       "   TotalDeductibleamount  DeductibleAmtPaid  \n",
       "0               1.898507             1068.0  \n",
       "1               0.267164             1068.0  \n",
       "2               0.655224             1068.0  \n",
       "3               1.168657             1068.0  \n",
       "4               0.804478             1068.0  "
      ]
     },
     "execution_count": 132,
     "metadata": {},
     "output_type": "execute_result"
    }
   ],
   "source": [
    "X.head()"
   ]
  },
  {
   "cell_type": "code",
   "execution_count": 133,
   "metadata": {
    "colab": {
     "base_uri": "https://localhost:8080/"
    },
    "id": "BwhvxZUQthwM",
    "outputId": "ae3ad9dd-de0f-401c-f8ae-24d4d6954212",
    "scrolled": true
   },
   "outputs": [
    {
     "data": {
      "text/plain": [
       "0    1\n",
       "1    1\n",
       "2    1\n",
       "3    1\n",
       "4    1\n",
       "Name: PotentialFraud, dtype: int32"
      ]
     },
     "execution_count": 133,
     "metadata": {},
     "output_type": "execute_result"
    }
   ],
   "source": [
    "y.head()"
   ]
  },
  {
   "cell_type": "code",
   "execution_count": 134,
   "metadata": {
    "colab": {
     "base_uri": "https://localhost:8080/"
    },
    "id": "BCo7-ChsEfs0",
    "outputId": "bcaa3f2d-8bad-47a8-8b26-23590f490001"
   },
   "outputs": [
    {
     "data": {
      "text/plain": [
       "Provider                            object\n",
       "BeneID                              object\n",
       "DOB                                 object\n",
       "Year of Birth                        int64\n",
       "Gender                               int64\n",
       "Race                                 int64\n",
       "State                                int64\n",
       "County                               int64\n",
       "NoOfMonths_PartACov                  int64\n",
       "NoOfMonths_PartBCov                  int64\n",
       "RenalDiseaseIndicator                int32\n",
       "ChronicCond_Alzheimer                int64\n",
       "ChronicCond_Heartfailure             int64\n",
       "ChronicCond_KidneyDisease            int64\n",
       "ChronicCond_Cancer                   int64\n",
       "ChronicCond_ObstrPulmonary           int64\n",
       "ChronicCond_Depression               int64\n",
       "ChronicCond_Diabetes                 int64\n",
       "ChronicCond_IschemicHeart            int64\n",
       "ChronicCond_Osteoporasis             int64\n",
       "ChronicCond_rheumatoidarthritis      int64\n",
       "ChronicCond_stroke                   int64\n",
       "PatientRiskScore                     int64\n",
       "IPAnnualReimbursementAmt             int64\n",
       "OPAnnualReimbursementAmt             int64\n",
       "TotalReimbursement                   int64\n",
       "InscClaimAmtReimbursed               int64\n",
       "IPAnnualDeductibleAmt                int64\n",
       "OPAnnualDeductibleAmt                int64\n",
       "TotalDeductibleamount                int64\n",
       "DeductibleAmtPaid                  float64\n",
       "ClaimID                             object\n",
       "ClaimStartDt                        object\n",
       "ClaimEndDt                          object\n",
       "AttendingPhysician                  object\n",
       "OperatingPhysician                  object\n",
       "OtherPhysician                      object\n",
       "ClmAdmitDiagnosisCode               object\n",
       "ClmDiagnosisCode_1                  object\n",
       "ClmDiagnosisCode_2                  object\n",
       "ClmDiagnosisCode_3                  object\n",
       "ClmDiagnosisCode_4                  object\n",
       "ClmDiagnosisCode_5                  object\n",
       "PotentialFraud                       int32\n",
       "dtype: object"
      ]
     },
     "execution_count": 134,
     "metadata": {},
     "output_type": "execute_result"
    }
   ],
   "source": [
    "df_final.dtypes"
   ]
  },
  {
   "cell_type": "code",
   "execution_count": 135,
   "metadata": {
    "id": "FWbwvl1DEpRa"
   },
   "outputs": [],
   "source": [
    "df_final.InscClaimAmtReimbursed = df_final.InscClaimAmtReimbursed.astype('int64')\n",
    "df_final.DeductibleAmtPaid = df_final.DeductibleAmtPaid.astype('int64')"
   ]
  },
  {
   "cell_type": "code",
   "execution_count": 136,
   "metadata": {
    "colab": {
     "base_uri": "https://localhost:8080/"
    },
    "id": "b2dBQHMoFFrB",
    "outputId": "60161cc0-b551-4670-a674-8bfebb4e5d14"
   },
   "outputs": [
    {
     "data": {
      "text/plain": [
       "Provider                           object\n",
       "BeneID                             object\n",
       "DOB                                object\n",
       "Year of Birth                       int64\n",
       "Gender                              int64\n",
       "Race                                int64\n",
       "State                               int64\n",
       "County                              int64\n",
       "NoOfMonths_PartACov                 int64\n",
       "NoOfMonths_PartBCov                 int64\n",
       "RenalDiseaseIndicator               int32\n",
       "ChronicCond_Alzheimer               int64\n",
       "ChronicCond_Heartfailure            int64\n",
       "ChronicCond_KidneyDisease           int64\n",
       "ChronicCond_Cancer                  int64\n",
       "ChronicCond_ObstrPulmonary          int64\n",
       "ChronicCond_Depression              int64\n",
       "ChronicCond_Diabetes                int64\n",
       "ChronicCond_IschemicHeart           int64\n",
       "ChronicCond_Osteoporasis            int64\n",
       "ChronicCond_rheumatoidarthritis     int64\n",
       "ChronicCond_stroke                  int64\n",
       "PatientRiskScore                    int64\n",
       "IPAnnualReimbursementAmt            int64\n",
       "OPAnnualReimbursementAmt            int64\n",
       "TotalReimbursement                  int64\n",
       "InscClaimAmtReimbursed              int64\n",
       "IPAnnualDeductibleAmt               int64\n",
       "OPAnnualDeductibleAmt               int64\n",
       "TotalDeductibleamount               int64\n",
       "DeductibleAmtPaid                   int64\n",
       "ClaimID                            object\n",
       "ClaimStartDt                       object\n",
       "ClaimEndDt                         object\n",
       "AttendingPhysician                 object\n",
       "OperatingPhysician                 object\n",
       "OtherPhysician                     object\n",
       "ClmAdmitDiagnosisCode              object\n",
       "ClmDiagnosisCode_1                 object\n",
       "ClmDiagnosisCode_2                 object\n",
       "ClmDiagnosisCode_3                 object\n",
       "ClmDiagnosisCode_4                 object\n",
       "ClmDiagnosisCode_5                 object\n",
       "PotentialFraud                      int32\n",
       "dtype: object"
      ]
     },
     "execution_count": 136,
     "metadata": {},
     "output_type": "execute_result"
    }
   ],
   "source": [
    "df_final.dtypes\n"
   ]
  },
  {
   "cell_type": "markdown",
   "metadata": {
    "id": "KpZvvK-94hKm"
   },
   "source": [
    "**Scaling and adding the constant column for Logistic Reg**"
   ]
  },
  {
   "cell_type": "code",
   "execution_count": 137,
   "metadata": {
    "id": "RwHaJg_olQ_J"
   },
   "outputs": [],
   "source": [
    "x_constant = X.copy()"
   ]
  },
  {
   "cell_type": "code",
   "execution_count": 138,
   "metadata": {
    "id": "o72n2JONlQ_J"
   },
   "outputs": [],
   "source": [
    "y = df_final_num.PotentialFraud"
   ]
  },
  {
   "cell_type": "code",
   "execution_count": 139,
   "metadata": {
    "colab": {
     "base_uri": "https://localhost:8080/",
     "height": 288
    },
    "id": "IpLkV9telQ_J",
    "outputId": "6315ec7c-1543-4bf3-fe29-df0074c558e8",
    "scrolled": true
   },
   "outputs": [
    {
     "data": {
      "text/html": [
       "<div>\n",
       "<style scoped>\n",
       "    .dataframe tbody tr th:only-of-type {\n",
       "        vertical-align: middle;\n",
       "    }\n",
       "\n",
       "    .dataframe tbody tr th {\n",
       "        vertical-align: top;\n",
       "    }\n",
       "\n",
       "    .dataframe thead th {\n",
       "        text-align: right;\n",
       "    }\n",
       "</style>\n",
       "<table border=\"1\" class=\"dataframe\">\n",
       "  <thead>\n",
       "    <tr style=\"text-align: right;\">\n",
       "      <th></th>\n",
       "      <th>const</th>\n",
       "      <th>Year of Birth</th>\n",
       "      <th>Gender</th>\n",
       "      <th>Race</th>\n",
       "      <th>State</th>\n",
       "      <th>County</th>\n",
       "      <th>NoOfMonths_PartACov</th>\n",
       "      <th>NoOfMonths_PartBCov</th>\n",
       "      <th>RenalDiseaseIndicator</th>\n",
       "      <th>ChronicCond_Alzheimer</th>\n",
       "      <th>ChronicCond_Heartfailure</th>\n",
       "      <th>ChronicCond_KidneyDisease</th>\n",
       "      <th>ChronicCond_Cancer</th>\n",
       "      <th>ChronicCond_ObstrPulmonary</th>\n",
       "      <th>ChronicCond_Depression</th>\n",
       "      <th>ChronicCond_Diabetes</th>\n",
       "      <th>ChronicCond_IschemicHeart</th>\n",
       "      <th>ChronicCond_Osteoporasis</th>\n",
       "      <th>ChronicCond_rheumatoidarthritis</th>\n",
       "      <th>ChronicCond_stroke</th>\n",
       "      <th>PatientRiskScore</th>\n",
       "      <th>IPAnnualReimbursementAmt</th>\n",
       "      <th>OPAnnualReimbursementAmt</th>\n",
       "      <th>TotalReimbursement</th>\n",
       "      <th>InscClaimAmtReimbursed</th>\n",
       "      <th>IPAnnualDeductibleAmt</th>\n",
       "      <th>OPAnnualDeductibleAmt</th>\n",
       "      <th>TotalDeductibleamount</th>\n",
       "      <th>DeductibleAmtPaid</th>\n",
       "    </tr>\n",
       "  </thead>\n",
       "  <tbody>\n",
       "    <tr>\n",
       "      <th>0</th>\n",
       "      <td>1.0</td>\n",
       "      <td>0.571429</td>\n",
       "      <td>-1.0</td>\n",
       "      <td>0.0</td>\n",
       "      <td>0.555556</td>\n",
       "      <td>-0.285714</td>\n",
       "      <td>0.0</td>\n",
       "      <td>0.0</td>\n",
       "      <td>0.0</td>\n",
       "      <td>-1.0</td>\n",
       "      <td>1.0</td>\n",
       "      <td>-1.0</td>\n",
       "      <td>0.0</td>\n",
       "      <td>0.0</td>\n",
       "      <td>-1.0</td>\n",
       "      <td>0.0</td>\n",
       "      <td>0.0</td>\n",
       "      <td>0.0</td>\n",
       "      <td>-1.0</td>\n",
       "      <td>-1.0</td>\n",
       "      <td>-0.666667</td>\n",
       "      <td>6.000000</td>\n",
       "      <td>-0.521127</td>\n",
       "      <td>4.376135</td>\n",
       "      <td>99.692308</td>\n",
       "      <td>3.0</td>\n",
       "      <td>-0.402985</td>\n",
       "      <td>1.898507</td>\n",
       "      <td>1068.0</td>\n",
       "    </tr>\n",
       "    <tr>\n",
       "      <th>1</th>\n",
       "      <td>1.0</td>\n",
       "      <td>-1.571429</td>\n",
       "      <td>0.0</td>\n",
       "      <td>0.0</td>\n",
       "      <td>0.555556</td>\n",
       "      <td>-0.285714</td>\n",
       "      <td>0.0</td>\n",
       "      <td>0.0</td>\n",
       "      <td>0.0</td>\n",
       "      <td>-1.0</td>\n",
       "      <td>0.0</td>\n",
       "      <td>-1.0</td>\n",
       "      <td>0.0</td>\n",
       "      <td>-1.0</td>\n",
       "      <td>0.0</td>\n",
       "      <td>1.0</td>\n",
       "      <td>0.0</td>\n",
       "      <td>0.0</td>\n",
       "      <td>0.0</td>\n",
       "      <td>0.0</td>\n",
       "      <td>0.000000</td>\n",
       "      <td>3.166667</td>\n",
       "      <td>-0.502347</td>\n",
       "      <td>2.176394</td>\n",
       "      <td>72.769231</td>\n",
       "      <td>1.0</td>\n",
       "      <td>-0.477612</td>\n",
       "      <td>0.267164</td>\n",
       "      <td>1068.0</td>\n",
       "    </tr>\n",
       "    <tr>\n",
       "      <th>2</th>\n",
       "      <td>1.0</td>\n",
       "      <td>-0.928571</td>\n",
       "      <td>-1.0</td>\n",
       "      <td>0.0</td>\n",
       "      <td>0.555556</td>\n",
       "      <td>0.595238</td>\n",
       "      <td>0.0</td>\n",
       "      <td>0.0</td>\n",
       "      <td>0.0</td>\n",
       "      <td>0.0</td>\n",
       "      <td>1.0</td>\n",
       "      <td>0.0</td>\n",
       "      <td>0.0</td>\n",
       "      <td>0.0</td>\n",
       "      <td>0.0</td>\n",
       "      <td>1.0</td>\n",
       "      <td>0.0</td>\n",
       "      <td>-1.0</td>\n",
       "      <td>0.0</td>\n",
       "      <td>0.0</td>\n",
       "      <td>1.000000</td>\n",
       "      <td>2.833333</td>\n",
       "      <td>-0.056338</td>\n",
       "      <td>2.040208</td>\n",
       "      <td>65.076923</td>\n",
       "      <td>1.0</td>\n",
       "      <td>0.298507</td>\n",
       "      <td>0.655224</td>\n",
       "      <td>1068.0</td>\n",
       "    </tr>\n",
       "    <tr>\n",
       "      <th>3</th>\n",
       "      <td>1.0</td>\n",
       "      <td>-0.357143</td>\n",
       "      <td>0.0</td>\n",
       "      <td>0.0</td>\n",
       "      <td>0.555556</td>\n",
       "      <td>-0.166667</td>\n",
       "      <td>0.0</td>\n",
       "      <td>0.0</td>\n",
       "      <td>0.0</td>\n",
       "      <td>0.0</td>\n",
       "      <td>0.0</td>\n",
       "      <td>0.0</td>\n",
       "      <td>0.0</td>\n",
       "      <td>-1.0</td>\n",
       "      <td>0.0</td>\n",
       "      <td>0.0</td>\n",
       "      <td>0.0</td>\n",
       "      <td>-1.0</td>\n",
       "      <td>-1.0</td>\n",
       "      <td>0.0</td>\n",
       "      <td>-0.333333</td>\n",
       "      <td>4.500000</td>\n",
       "      <td>-0.338028</td>\n",
       "      <td>3.259403</td>\n",
       "      <td>49.692308</td>\n",
       "      <td>2.0</td>\n",
       "      <td>-0.268657</td>\n",
       "      <td>1.168657</td>\n",
       "      <td>1068.0</td>\n",
       "    </tr>\n",
       "    <tr>\n",
       "      <th>4</th>\n",
       "      <td>1.0</td>\n",
       "      <td>-0.714286</td>\n",
       "      <td>0.0</td>\n",
       "      <td>1.0</td>\n",
       "      <td>0.555556</td>\n",
       "      <td>0.380952</td>\n",
       "      <td>0.0</td>\n",
       "      <td>0.0</td>\n",
       "      <td>0.0</td>\n",
       "      <td>-1.0</td>\n",
       "      <td>1.0</td>\n",
       "      <td>0.0</td>\n",
       "      <td>-1.0</td>\n",
       "      <td>0.0</td>\n",
       "      <td>0.0</td>\n",
       "      <td>1.0</td>\n",
       "      <td>0.0</td>\n",
       "      <td>0.0</td>\n",
       "      <td>0.0</td>\n",
       "      <td>0.0</td>\n",
       "      <td>0.666667</td>\n",
       "      <td>0.500000</td>\n",
       "      <td>3.629108</td>\n",
       "      <td>1.242542</td>\n",
       "      <td>11.230769</td>\n",
       "      <td>1.0</td>\n",
       "      <td>0.597015</td>\n",
       "      <td>0.804478</td>\n",
       "      <td>1068.0</td>\n",
       "    </tr>\n",
       "  </tbody>\n",
       "</table>\n",
       "</div>"
      ],
      "text/plain": [
       "   const  Year of Birth  Gender  Race     State    County  \\\n",
       "0    1.0       0.571429    -1.0   0.0  0.555556 -0.285714   \n",
       "1    1.0      -1.571429     0.0   0.0  0.555556 -0.285714   \n",
       "2    1.0      -0.928571    -1.0   0.0  0.555556  0.595238   \n",
       "3    1.0      -0.357143     0.0   0.0  0.555556 -0.166667   \n",
       "4    1.0      -0.714286     0.0   1.0  0.555556  0.380952   \n",
       "\n",
       "   NoOfMonths_PartACov  NoOfMonths_PartBCov  RenalDiseaseIndicator  \\\n",
       "0                  0.0                  0.0                    0.0   \n",
       "1                  0.0                  0.0                    0.0   \n",
       "2                  0.0                  0.0                    0.0   \n",
       "3                  0.0                  0.0                    0.0   \n",
       "4                  0.0                  0.0                    0.0   \n",
       "\n",
       "   ChronicCond_Alzheimer  ChronicCond_Heartfailure  ChronicCond_KidneyDisease  \\\n",
       "0                   -1.0                       1.0                       -1.0   \n",
       "1                   -1.0                       0.0                       -1.0   \n",
       "2                    0.0                       1.0                        0.0   \n",
       "3                    0.0                       0.0                        0.0   \n",
       "4                   -1.0                       1.0                        0.0   \n",
       "\n",
       "   ChronicCond_Cancer  ChronicCond_ObstrPulmonary  ChronicCond_Depression  \\\n",
       "0                 0.0                         0.0                    -1.0   \n",
       "1                 0.0                        -1.0                     0.0   \n",
       "2                 0.0                         0.0                     0.0   \n",
       "3                 0.0                        -1.0                     0.0   \n",
       "4                -1.0                         0.0                     0.0   \n",
       "\n",
       "   ChronicCond_Diabetes  ChronicCond_IschemicHeart  ChronicCond_Osteoporasis  \\\n",
       "0                   0.0                        0.0                       0.0   \n",
       "1                   1.0                        0.0                       0.0   \n",
       "2                   1.0                        0.0                      -1.0   \n",
       "3                   0.0                        0.0                      -1.0   \n",
       "4                   1.0                        0.0                       0.0   \n",
       "\n",
       "   ChronicCond_rheumatoidarthritis  ChronicCond_stroke  PatientRiskScore  \\\n",
       "0                             -1.0                -1.0         -0.666667   \n",
       "1                              0.0                 0.0          0.000000   \n",
       "2                              0.0                 0.0          1.000000   \n",
       "3                             -1.0                 0.0         -0.333333   \n",
       "4                              0.0                 0.0          0.666667   \n",
       "\n",
       "   IPAnnualReimbursementAmt  OPAnnualReimbursementAmt  TotalReimbursement  \\\n",
       "0                  6.000000                 -0.521127            4.376135   \n",
       "1                  3.166667                 -0.502347            2.176394   \n",
       "2                  2.833333                 -0.056338            2.040208   \n",
       "3                  4.500000                 -0.338028            3.259403   \n",
       "4                  0.500000                  3.629108            1.242542   \n",
       "\n",
       "   InscClaimAmtReimbursed  IPAnnualDeductibleAmt  OPAnnualDeductibleAmt  \\\n",
       "0               99.692308                    3.0              -0.402985   \n",
       "1               72.769231                    1.0              -0.477612   \n",
       "2               65.076923                    1.0               0.298507   \n",
       "3               49.692308                    2.0              -0.268657   \n",
       "4               11.230769                    1.0               0.597015   \n",
       "\n",
       "   TotalDeductibleamount  DeductibleAmtPaid  \n",
       "0               1.898507             1068.0  \n",
       "1               0.267164             1068.0  \n",
       "2               0.655224             1068.0  \n",
       "3               1.168657             1068.0  \n",
       "4               0.804478             1068.0  "
      ]
     },
     "execution_count": 139,
     "metadata": {},
     "output_type": "execute_result"
    }
   ],
   "source": [
    "x_constant = sm.add_constant(x_constant,has_constant ='skip')\n",
    "x_constant.head()"
   ]
  },
  {
   "cell_type": "markdown",
   "metadata": {
    "id": "P9P1N5xJpAhr"
   },
   "source": [
    "## **Train Test Split**"
   ]
  },
  {
   "cell_type": "markdown",
   "metadata": {
    "id": "bl8bb5PHXCKc"
   },
   "source": [
    "#### Before applying various classification techniques to predict the admission status of the student, let us split the dataset in train and test set.4"
   ]
  },
  {
   "cell_type": "code",
   "execution_count": 140,
   "metadata": {
    "colab": {
     "base_uri": "https://localhost:8080/"
    },
    "id": "cJ5QMkVan0XF",
    "outputId": "ae4371bc-4353-46b3-f506-d773755aacbd"
   },
   "outputs": [
    {
     "name": "stdout",
     "output_type": "stream",
     "text": [
      "X_train_const (446568, 29)\n",
      "y_train_const (446568,)\n",
      "X_test_const (111643, 29)\n",
      "y_test_const (111643,)\n"
     ]
    }
   ],
   "source": [
    "# this split is for the Logistic Regression with the constant column\n",
    "\n",
    "X_train_const,X_test_const,y_train_const,y_test_const = train_test_split(x_constant,y,test_size = 0.2,random_state = 10)\n",
    "\n",
    "print('X_train_const', X_train_const.shape)\n",
    "print('y_train_const', y_train_const.shape)\n",
    "\n",
    "# print dimension of test set\n",
    "print('X_test_const', X_test_const.shape)\n",
    "print('y_test_const', y_test_const.shape)"
   ]
  },
  {
   "cell_type": "code",
   "execution_count": 141,
   "metadata": {
    "colab": {
     "base_uri": "https://localhost:8080/",
     "height": 193
    },
    "id": "KlJd19TSlQ_K",
    "outputId": "fce0865d-8f53-4f05-80d6-7bfae76a82b2"
   },
   "outputs": [
    {
     "data": {
      "text/html": [
       "<div>\n",
       "<style scoped>\n",
       "    .dataframe tbody tr th:only-of-type {\n",
       "        vertical-align: middle;\n",
       "    }\n",
       "\n",
       "    .dataframe tbody tr th {\n",
       "        vertical-align: top;\n",
       "    }\n",
       "\n",
       "    .dataframe thead th {\n",
       "        text-align: right;\n",
       "    }\n",
       "</style>\n",
       "<table border=\"1\" class=\"dataframe\">\n",
       "  <thead>\n",
       "    <tr style=\"text-align: right;\">\n",
       "      <th></th>\n",
       "      <th>const</th>\n",
       "      <th>Year of Birth</th>\n",
       "      <th>Gender</th>\n",
       "      <th>Race</th>\n",
       "      <th>State</th>\n",
       "      <th>County</th>\n",
       "      <th>NoOfMonths_PartACov</th>\n",
       "      <th>NoOfMonths_PartBCov</th>\n",
       "      <th>RenalDiseaseIndicator</th>\n",
       "      <th>ChronicCond_Alzheimer</th>\n",
       "      <th>ChronicCond_Heartfailure</th>\n",
       "      <th>ChronicCond_KidneyDisease</th>\n",
       "      <th>ChronicCond_Cancer</th>\n",
       "      <th>ChronicCond_ObstrPulmonary</th>\n",
       "      <th>ChronicCond_Depression</th>\n",
       "      <th>ChronicCond_Diabetes</th>\n",
       "      <th>ChronicCond_IschemicHeart</th>\n",
       "      <th>ChronicCond_Osteoporasis</th>\n",
       "      <th>ChronicCond_rheumatoidarthritis</th>\n",
       "      <th>ChronicCond_stroke</th>\n",
       "      <th>PatientRiskScore</th>\n",
       "      <th>IPAnnualReimbursementAmt</th>\n",
       "      <th>OPAnnualReimbursementAmt</th>\n",
       "      <th>TotalReimbursement</th>\n",
       "      <th>InscClaimAmtReimbursed</th>\n",
       "      <th>IPAnnualDeductibleAmt</th>\n",
       "      <th>OPAnnualDeductibleAmt</th>\n",
       "      <th>TotalDeductibleamount</th>\n",
       "      <th>DeductibleAmtPaid</th>\n",
       "    </tr>\n",
       "  </thead>\n",
       "  <tbody>\n",
       "    <tr>\n",
       "      <th>551674</th>\n",
       "      <td>1.0</td>\n",
       "      <td>-0.928571</td>\n",
       "      <td>-1.0</td>\n",
       "      <td>0.0</td>\n",
       "      <td>0.259259</td>\n",
       "      <td>-0.071429</td>\n",
       "      <td>0.0</td>\n",
       "      <td>0.0</td>\n",
       "      <td>0.0</td>\n",
       "      <td>-1.0</td>\n",
       "      <td>0.0</td>\n",
       "      <td>-1.0</td>\n",
       "      <td>0.0</td>\n",
       "      <td>-1.0</td>\n",
       "      <td>-1.0</td>\n",
       "      <td>0.0</td>\n",
       "      <td>0.0</td>\n",
       "      <td>-1.0</td>\n",
       "      <td>-1.0</td>\n",
       "      <td>0.0</td>\n",
       "      <td>-1.333333</td>\n",
       "      <td>0.0</td>\n",
       "      <td>0.014085</td>\n",
       "      <td>-0.145266</td>\n",
       "      <td>0.461538</td>\n",
       "      <td>0.0</td>\n",
       "      <td>-0.283582</td>\n",
       "      <td>-0.432836</td>\n",
       "      <td>0.0</td>\n",
       "    </tr>\n",
       "    <tr>\n",
       "      <th>275479</th>\n",
       "      <td>1.0</td>\n",
       "      <td>-0.214286</td>\n",
       "      <td>0.0</td>\n",
       "      <td>0.0</td>\n",
       "      <td>0.259259</td>\n",
       "      <td>-0.595238</td>\n",
       "      <td>0.0</td>\n",
       "      <td>0.0</td>\n",
       "      <td>0.0</td>\n",
       "      <td>0.0</td>\n",
       "      <td>0.0</td>\n",
       "      <td>0.0</td>\n",
       "      <td>0.0</td>\n",
       "      <td>0.0</td>\n",
       "      <td>-1.0</td>\n",
       "      <td>0.0</td>\n",
       "      <td>0.0</td>\n",
       "      <td>0.0</td>\n",
       "      <td>0.0</td>\n",
       "      <td>-1.0</td>\n",
       "      <td>0.000000</td>\n",
       "      <td>0.0</td>\n",
       "      <td>-0.399061</td>\n",
       "      <td>-0.259403</td>\n",
       "      <td>-0.230769</td>\n",
       "      <td>0.0</td>\n",
       "      <td>-0.208955</td>\n",
       "      <td>-0.395522</td>\n",
       "      <td>0.0</td>\n",
       "    </tr>\n",
       "  </tbody>\n",
       "</table>\n",
       "</div>"
      ],
      "text/plain": [
       "        const  Year of Birth  Gender  Race     State    County  \\\n",
       "551674    1.0      -0.928571    -1.0   0.0  0.259259 -0.071429   \n",
       "275479    1.0      -0.214286     0.0   0.0  0.259259 -0.595238   \n",
       "\n",
       "        NoOfMonths_PartACov  NoOfMonths_PartBCov  RenalDiseaseIndicator  \\\n",
       "551674                  0.0                  0.0                    0.0   \n",
       "275479                  0.0                  0.0                    0.0   \n",
       "\n",
       "        ChronicCond_Alzheimer  ChronicCond_Heartfailure  \\\n",
       "551674                   -1.0                       0.0   \n",
       "275479                    0.0                       0.0   \n",
       "\n",
       "        ChronicCond_KidneyDisease  ChronicCond_Cancer  \\\n",
       "551674                       -1.0                 0.0   \n",
       "275479                        0.0                 0.0   \n",
       "\n",
       "        ChronicCond_ObstrPulmonary  ChronicCond_Depression  \\\n",
       "551674                        -1.0                    -1.0   \n",
       "275479                         0.0                    -1.0   \n",
       "\n",
       "        ChronicCond_Diabetes  ChronicCond_IschemicHeart  \\\n",
       "551674                   0.0                        0.0   \n",
       "275479                   0.0                        0.0   \n",
       "\n",
       "        ChronicCond_Osteoporasis  ChronicCond_rheumatoidarthritis  \\\n",
       "551674                      -1.0                             -1.0   \n",
       "275479                       0.0                              0.0   \n",
       "\n",
       "        ChronicCond_stroke  PatientRiskScore  IPAnnualReimbursementAmt  \\\n",
       "551674                 0.0         -1.333333                       0.0   \n",
       "275479                -1.0          0.000000                       0.0   \n",
       "\n",
       "        OPAnnualReimbursementAmt  TotalReimbursement  InscClaimAmtReimbursed  \\\n",
       "551674                  0.014085           -0.145266                0.461538   \n",
       "275479                 -0.399061           -0.259403               -0.230769   \n",
       "\n",
       "        IPAnnualDeductibleAmt  OPAnnualDeductibleAmt  TotalDeductibleamount  \\\n",
       "551674                    0.0              -0.283582              -0.432836   \n",
       "275479                    0.0              -0.208955              -0.395522   \n",
       "\n",
       "        DeductibleAmtPaid  \n",
       "551674                0.0  \n",
       "275479                0.0  "
      ]
     },
     "execution_count": 141,
     "metadata": {},
     "output_type": "execute_result"
    }
   ],
   "source": [
    "X_train_const.head(2)"
   ]
  },
  {
   "cell_type": "code",
   "execution_count": 142,
   "metadata": {
    "colab": {
     "base_uri": "https://localhost:8080/"
    },
    "id": "EgDJVhc2lQ_K",
    "outputId": "058c57fb-ff44-4c86-e1a3-085dcb98eb3e"
   },
   "outputs": [
    {
     "data": {
      "text/plain": [
       "551674    0\n",
       "275479    0\n",
       "Name: PotentialFraud, dtype: int32"
      ]
     },
     "execution_count": 142,
     "metadata": {},
     "output_type": "execute_result"
    }
   ],
   "source": [
    "y_train_const.head(2)"
   ]
  },
  {
   "cell_type": "code",
   "execution_count": 143,
   "metadata": {
    "colab": {
     "base_uri": "https://localhost:8080/",
     "height": 193
    },
    "id": "5Clzt84clQ_K",
    "outputId": "ff6e5db4-1327-4593-872c-01dba1b1594c"
   },
   "outputs": [
    {
     "data": {
      "text/html": [
       "<div>\n",
       "<style scoped>\n",
       "    .dataframe tbody tr th:only-of-type {\n",
       "        vertical-align: middle;\n",
       "    }\n",
       "\n",
       "    .dataframe tbody tr th {\n",
       "        vertical-align: top;\n",
       "    }\n",
       "\n",
       "    .dataframe thead th {\n",
       "        text-align: right;\n",
       "    }\n",
       "</style>\n",
       "<table border=\"1\" class=\"dataframe\">\n",
       "  <thead>\n",
       "    <tr style=\"text-align: right;\">\n",
       "      <th></th>\n",
       "      <th>const</th>\n",
       "      <th>Year of Birth</th>\n",
       "      <th>Gender</th>\n",
       "      <th>Race</th>\n",
       "      <th>State</th>\n",
       "      <th>County</th>\n",
       "      <th>NoOfMonths_PartACov</th>\n",
       "      <th>NoOfMonths_PartBCov</th>\n",
       "      <th>RenalDiseaseIndicator</th>\n",
       "      <th>ChronicCond_Alzheimer</th>\n",
       "      <th>ChronicCond_Heartfailure</th>\n",
       "      <th>ChronicCond_KidneyDisease</th>\n",
       "      <th>ChronicCond_Cancer</th>\n",
       "      <th>ChronicCond_ObstrPulmonary</th>\n",
       "      <th>ChronicCond_Depression</th>\n",
       "      <th>ChronicCond_Diabetes</th>\n",
       "      <th>ChronicCond_IschemicHeart</th>\n",
       "      <th>ChronicCond_Osteoporasis</th>\n",
       "      <th>ChronicCond_rheumatoidarthritis</th>\n",
       "      <th>ChronicCond_stroke</th>\n",
       "      <th>PatientRiskScore</th>\n",
       "      <th>IPAnnualReimbursementAmt</th>\n",
       "      <th>OPAnnualReimbursementAmt</th>\n",
       "      <th>TotalReimbursement</th>\n",
       "      <th>InscClaimAmtReimbursed</th>\n",
       "      <th>IPAnnualDeductibleAmt</th>\n",
       "      <th>OPAnnualDeductibleAmt</th>\n",
       "      <th>TotalDeductibleamount</th>\n",
       "      <th>DeductibleAmtPaid</th>\n",
       "    </tr>\n",
       "  </thead>\n",
       "  <tbody>\n",
       "    <tr>\n",
       "      <th>355816</th>\n",
       "      <td>1.0</td>\n",
       "      <td>-0.714286</td>\n",
       "      <td>0.0</td>\n",
       "      <td>0.0</td>\n",
       "      <td>-0.703704</td>\n",
       "      <td>-0.642857</td>\n",
       "      <td>0.0</td>\n",
       "      <td>0.0</td>\n",
       "      <td>0.0</td>\n",
       "      <td>-1.0</td>\n",
       "      <td>0.0</td>\n",
       "      <td>-1.0</td>\n",
       "      <td>0.0</td>\n",
       "      <td>0.0</td>\n",
       "      <td>-1.0</td>\n",
       "      <td>0.0</td>\n",
       "      <td>0.0</td>\n",
       "      <td>0.0</td>\n",
       "      <td>0.0</td>\n",
       "      <td>0.0</td>\n",
       "      <td>-0.333333</td>\n",
       "      <td>0.0</td>\n",
       "      <td>1.023474</td>\n",
       "      <td>0.133593</td>\n",
       "      <td>0.461538</td>\n",
       "      <td>0.0</td>\n",
       "      <td>0.328358</td>\n",
       "      <td>-0.126866</td>\n",
       "      <td>0.0</td>\n",
       "    </tr>\n",
       "    <tr>\n",
       "      <th>361712</th>\n",
       "      <td>1.0</td>\n",
       "      <td>-1.357143</td>\n",
       "      <td>0.0</td>\n",
       "      <td>0.0</td>\n",
       "      <td>0.296296</td>\n",
       "      <td>-0.666667</td>\n",
       "      <td>0.0</td>\n",
       "      <td>0.0</td>\n",
       "      <td>1.0</td>\n",
       "      <td>-1.0</td>\n",
       "      <td>0.0</td>\n",
       "      <td>-1.0</td>\n",
       "      <td>0.0</td>\n",
       "      <td>-1.0</td>\n",
       "      <td>0.0</td>\n",
       "      <td>0.0</td>\n",
       "      <td>0.0</td>\n",
       "      <td>-1.0</td>\n",
       "      <td>0.0</td>\n",
       "      <td>0.0</td>\n",
       "      <td>-0.666667</td>\n",
       "      <td>6.2</td>\n",
       "      <td>8.300469</td>\n",
       "      <td>6.968872</td>\n",
       "      <td>0.846154</td>\n",
       "      <td>3.0</td>\n",
       "      <td>6.104478</td>\n",
       "      <td>5.152239</td>\n",
       "      <td>0.0</td>\n",
       "    </tr>\n",
       "  </tbody>\n",
       "</table>\n",
       "</div>"
      ],
      "text/plain": [
       "        const  Year of Birth  Gender  Race     State    County  \\\n",
       "355816    1.0      -0.714286     0.0   0.0 -0.703704 -0.642857   \n",
       "361712    1.0      -1.357143     0.0   0.0  0.296296 -0.666667   \n",
       "\n",
       "        NoOfMonths_PartACov  NoOfMonths_PartBCov  RenalDiseaseIndicator  \\\n",
       "355816                  0.0                  0.0                    0.0   \n",
       "361712                  0.0                  0.0                    1.0   \n",
       "\n",
       "        ChronicCond_Alzheimer  ChronicCond_Heartfailure  \\\n",
       "355816                   -1.0                       0.0   \n",
       "361712                   -1.0                       0.0   \n",
       "\n",
       "        ChronicCond_KidneyDisease  ChronicCond_Cancer  \\\n",
       "355816                       -1.0                 0.0   \n",
       "361712                       -1.0                 0.0   \n",
       "\n",
       "        ChronicCond_ObstrPulmonary  ChronicCond_Depression  \\\n",
       "355816                         0.0                    -1.0   \n",
       "361712                        -1.0                     0.0   \n",
       "\n",
       "        ChronicCond_Diabetes  ChronicCond_IschemicHeart  \\\n",
       "355816                   0.0                        0.0   \n",
       "361712                   0.0                        0.0   \n",
       "\n",
       "        ChronicCond_Osteoporasis  ChronicCond_rheumatoidarthritis  \\\n",
       "355816                       0.0                              0.0   \n",
       "361712                      -1.0                              0.0   \n",
       "\n",
       "        ChronicCond_stroke  PatientRiskScore  IPAnnualReimbursementAmt  \\\n",
       "355816                 0.0         -0.333333                       0.0   \n",
       "361712                 0.0         -0.666667                       6.2   \n",
       "\n",
       "        OPAnnualReimbursementAmt  TotalReimbursement  InscClaimAmtReimbursed  \\\n",
       "355816                  1.023474            0.133593                0.461538   \n",
       "361712                  8.300469            6.968872                0.846154   \n",
       "\n",
       "        IPAnnualDeductibleAmt  OPAnnualDeductibleAmt  TotalDeductibleamount  \\\n",
       "355816                    0.0               0.328358              -0.126866   \n",
       "361712                    3.0               6.104478               5.152239   \n",
       "\n",
       "        DeductibleAmtPaid  \n",
       "355816                0.0  \n",
       "361712                0.0  "
      ]
     },
     "execution_count": 143,
     "metadata": {},
     "output_type": "execute_result"
    }
   ],
   "source": [
    "X_test_const.head(2)"
   ]
  },
  {
   "cell_type": "code",
   "execution_count": 144,
   "metadata": {
    "colab": {
     "base_uri": "https://localhost:8080/"
    },
    "id": "XzOGAoIwlQ_K",
    "outputId": "5eadb739-7891-4d1a-c1d5-b781a2be72a0"
   },
   "outputs": [
    {
     "data": {
      "text/plain": [
       "355816    1\n",
       "361712    0\n",
       "Name: PotentialFraud, dtype: int32"
      ]
     },
     "execution_count": 144,
     "metadata": {},
     "output_type": "execute_result"
    }
   ],
   "source": [
    "y_test_const.head(2)"
   ]
  },
  {
   "cell_type": "code",
   "execution_count": 145,
   "metadata": {
    "colab": {
     "base_uri": "https://localhost:8080/"
    },
    "id": "doFJ-JqnQduB",
    "outputId": "38611c38-7a5a-47e3-d1b3-849f4355ab9b",
    "scrolled": true
   },
   "outputs": [
    {
     "data": {
      "text/plain": [
       "const                              0\n",
       "Year of Birth                      0\n",
       "Gender                             0\n",
       "Race                               0\n",
       "State                              0\n",
       "County                             0\n",
       "NoOfMonths_PartACov                0\n",
       "NoOfMonths_PartBCov                0\n",
       "RenalDiseaseIndicator              0\n",
       "ChronicCond_Alzheimer              0\n",
       "ChronicCond_Heartfailure           0\n",
       "ChronicCond_KidneyDisease          0\n",
       "ChronicCond_Cancer                 0\n",
       "ChronicCond_ObstrPulmonary         0\n",
       "ChronicCond_Depression             0\n",
       "ChronicCond_Diabetes               0\n",
       "ChronicCond_IschemicHeart          0\n",
       "ChronicCond_Osteoporasis           0\n",
       "ChronicCond_rheumatoidarthritis    0\n",
       "ChronicCond_stroke                 0\n",
       "PatientRiskScore                   0\n",
       "IPAnnualReimbursementAmt           0\n",
       "OPAnnualReimbursementAmt           0\n",
       "TotalReimbursement                 0\n",
       "InscClaimAmtReimbursed             0\n",
       "IPAnnualDeductibleAmt              0\n",
       "OPAnnualDeductibleAmt              0\n",
       "TotalDeductibleamount              0\n",
       "DeductibleAmtPaid                  0\n",
       "dtype: int64"
      ]
     },
     "execution_count": 145,
     "metadata": {},
     "output_type": "execute_result"
    }
   ],
   "source": [
    "X_test_const.isnull().sum()"
   ]
  },
  {
   "cell_type": "markdown",
   "metadata": {
    "id": "VkJxxgaWlQ_L"
   },
   "source": [
    "## Models"
   ]
  },
  {
   "cell_type": "markdown",
   "metadata": {
    "id": "Z8RwCa6TlQ_L"
   },
   "source": [
    "#### Create a generalized function to create a dataframe containing the scores for the models."
   ]
  },
  {
   "cell_type": "code",
   "execution_count": 146,
   "metadata": {
    "id": "7aLsCHcHlQ_L"
   },
   "outputs": [],
   "source": [
    "\n",
    "score_card = pd.DataFrame(columns=['Model_Name','Probability Cutoff', 'AUC Score', 'Precision Score', 'Recall Score',\n",
    "                                       'Accuracy Score', 'Kappa Score', 'f1-score'])\n",
    "\n",
    "def update_score_card(algorithm_name,model, cutoff):\n",
    "    \n",
    "    # let 'y_pred_prob' be the predicted values of y\n",
    "    y_pred_prob = model.predict(X_test_const)\n",
    "\n",
    "    # convert probabilities to 0 and 1 using 'if_else'\n",
    "    y_pred = [ 0 if x < cutoff else 1 for x in y_pred_prob]\n",
    "    \n",
    "    # assign 'score_card' as global variable\n",
    "    global score_card\n",
    "\n",
    "    # append the results to the dataframe 'score_card'\n",
    "    # 'ignore_index = True' do not consider the index labels\n",
    "    score_card = score_card.append({'Model_Name': algorithm_name,\n",
    "                                    'Probability Cutoff': cutoff,\n",
    "                                    'AUC Score' : metrics.roc_auc_score(y_test_const, y_pred),\n",
    "                                    'Precision Score': metrics.precision_score(y_test_const, y_pred),\n",
    "                                    'Recall Score': metrics.recall_score(y_test_const, y_pred),\n",
    "                                    'Accuracy Score': metrics.accuracy_score(y_test_const, y_pred),\n",
    "                                    'Kappa Score':metrics.cohen_kappa_score(y_test_const, y_pred),\n",
    "                                    'f1-score': metrics.f1_score(y_test_const, y_pred)}, \n",
    "                                    ignore_index = True)"
   ]
  },
  {
   "cell_type": "markdown",
   "metadata": {
    "id": "0etGF_r-XCKg"
   },
   "source": [
    "### Logistic Full Model"
   ]
  },
  {
   "cell_type": "code",
   "execution_count": 147,
   "metadata": {
    "colab": {
     "base_uri": "https://localhost:8080/",
     "height": 75
    },
    "id": "sfb0vaR7PbNU",
    "outputId": "569b7ffd-535c-463e-8f58-d937e9cd2d69"
   },
   "outputs": [
    {
     "data": {
      "text/html": [
       "<style>#sk-container-id-1 {color: black;background-color: white;}#sk-container-id-1 pre{padding: 0;}#sk-container-id-1 div.sk-toggleable {background-color: white;}#sk-container-id-1 label.sk-toggleable__label {cursor: pointer;display: block;width: 100%;margin-bottom: 0;padding: 0.3em;box-sizing: border-box;text-align: center;}#sk-container-id-1 label.sk-toggleable__label-arrow:before {content: \"▸\";float: left;margin-right: 0.25em;color: #696969;}#sk-container-id-1 label.sk-toggleable__label-arrow:hover:before {color: black;}#sk-container-id-1 div.sk-estimator:hover label.sk-toggleable__label-arrow:before {color: black;}#sk-container-id-1 div.sk-toggleable__content {max-height: 0;max-width: 0;overflow: hidden;text-align: left;background-color: #f0f8ff;}#sk-container-id-1 div.sk-toggleable__content pre {margin: 0.2em;color: black;border-radius: 0.25em;background-color: #f0f8ff;}#sk-container-id-1 input.sk-toggleable__control:checked~div.sk-toggleable__content {max-height: 200px;max-width: 100%;overflow: auto;}#sk-container-id-1 input.sk-toggleable__control:checked~label.sk-toggleable__label-arrow:before {content: \"▾\";}#sk-container-id-1 div.sk-estimator input.sk-toggleable__control:checked~label.sk-toggleable__label {background-color: #d4ebff;}#sk-container-id-1 div.sk-label input.sk-toggleable__control:checked~label.sk-toggleable__label {background-color: #d4ebff;}#sk-container-id-1 input.sk-hidden--visually {border: 0;clip: rect(1px 1px 1px 1px);clip: rect(1px, 1px, 1px, 1px);height: 1px;margin: -1px;overflow: hidden;padding: 0;position: absolute;width: 1px;}#sk-container-id-1 div.sk-estimator {font-family: monospace;background-color: #f0f8ff;border: 1px dotted black;border-radius: 0.25em;box-sizing: border-box;margin-bottom: 0.5em;}#sk-container-id-1 div.sk-estimator:hover {background-color: #d4ebff;}#sk-container-id-1 div.sk-parallel-item::after {content: \"\";width: 100%;border-bottom: 1px solid gray;flex-grow: 1;}#sk-container-id-1 div.sk-label:hover label.sk-toggleable__label {background-color: #d4ebff;}#sk-container-id-1 div.sk-serial::before {content: \"\";position: absolute;border-left: 1px solid gray;box-sizing: border-box;top: 0;bottom: 0;left: 50%;z-index: 0;}#sk-container-id-1 div.sk-serial {display: flex;flex-direction: column;align-items: center;background-color: white;padding-right: 0.2em;padding-left: 0.2em;position: relative;}#sk-container-id-1 div.sk-item {position: relative;z-index: 1;}#sk-container-id-1 div.sk-parallel {display: flex;align-items: stretch;justify-content: center;background-color: white;position: relative;}#sk-container-id-1 div.sk-item::before, #sk-container-id-1 div.sk-parallel-item::before {content: \"\";position: absolute;border-left: 1px solid gray;box-sizing: border-box;top: 0;bottom: 0;left: 50%;z-index: -1;}#sk-container-id-1 div.sk-parallel-item {display: flex;flex-direction: column;z-index: 1;position: relative;background-color: white;}#sk-container-id-1 div.sk-parallel-item:first-child::after {align-self: flex-end;width: 50%;}#sk-container-id-1 div.sk-parallel-item:last-child::after {align-self: flex-start;width: 50%;}#sk-container-id-1 div.sk-parallel-item:only-child::after {width: 0;}#sk-container-id-1 div.sk-dashed-wrapped {border: 1px dashed gray;margin: 0 0.4em 0.5em 0.4em;box-sizing: border-box;padding-bottom: 0.4em;background-color: white;}#sk-container-id-1 div.sk-label label {font-family: monospace;font-weight: bold;display: inline-block;line-height: 1.2em;}#sk-container-id-1 div.sk-label-container {text-align: center;}#sk-container-id-1 div.sk-container {/* jupyter's `normalize.less` sets `[hidden] { display: none; }` but bootstrap.min.css set `[hidden] { display: none !important; }` so we also need the `!important` here to be able to override the default hidden behavior on the sphinx rendered scikit-learn.org. See: https://github.com/scikit-learn/scikit-learn/issues/21755 */display: inline-block !important;position: relative;}#sk-container-id-1 div.sk-text-repr-fallback {display: none;}</style><div id=\"sk-container-id-1\" class=\"sk-top-container\"><div class=\"sk-text-repr-fallback\"><pre>LogisticRegression()</pre><b>In a Jupyter environment, please rerun this cell to show the HTML representation or trust the notebook. <br />On GitHub, the HTML representation is unable to render, please try loading this page with nbviewer.org.</b></div><div class=\"sk-container\" hidden><div class=\"sk-item\"><div class=\"sk-estimator sk-toggleable\"><input class=\"sk-toggleable__control sk-hidden--visually\" id=\"sk-estimator-id-1\" type=\"checkbox\" checked><label for=\"sk-estimator-id-1\" class=\"sk-toggleable__label sk-toggleable__label-arrow\">LogisticRegression</label><div class=\"sk-toggleable__content\"><pre>LogisticRegression()</pre></div></div></div></div></div>"
      ],
      "text/plain": [
       "LogisticRegression()"
      ]
     },
     "execution_count": 147,
     "metadata": {},
     "output_type": "execute_result"
    }
   ],
   "source": [
    "logreg = LogisticRegression()\n",
    "logreg.fit(X_train_const,y_train_const)"
   ]
  },
  {
   "cell_type": "code",
   "execution_count": 148,
   "metadata": {
    "id": "n9d-3rZClQ_M"
   },
   "outputs": [],
   "source": [
    "# let 'y_pred_prob' be the predicted values of y\n",
    "y_pred_prob = logreg.predict(X_test_const)"
   ]
  },
  {
   "cell_type": "code",
   "execution_count": 149,
   "metadata": {
    "id": "ppt77EB8PbNU"
   },
   "outputs": [],
   "source": [
    "# convert probabilities to 0 and 1 using 'if_else'\n",
    "y_pred = [ 0 if x < 0.5 else 1 for x in y_pred_prob]"
   ]
  },
  {
   "cell_type": "code",
   "execution_count": 150,
   "metadata": {
    "colab": {
     "base_uri": "https://localhost:8080/"
    },
    "id": "tB3sVYixPbNV",
    "outputId": "53ab7e62-da09-4bef-837c-82752cb801e9"
   },
   "outputs": [
    {
     "name": "stdout",
     "output_type": "stream",
     "text": [
      "              precision    recall  f1-score   support\n",
      "\n",
      "           0       0.63      0.95      0.76     68820\n",
      "           1       0.58      0.11      0.18     42823\n",
      "\n",
      "    accuracy                           0.63    111643\n",
      "   macro avg       0.61      0.53      0.47    111643\n",
      "weighted avg       0.61      0.63      0.54    111643\n",
      "\n"
     ]
    }
   ],
   "source": [
    "acc_table = classification_report(y_test_const, y_pred)\n",
    "print(acc_table)"
   ]
  },
  {
   "cell_type": "code",
   "execution_count": 151,
   "metadata": {
    "colab": {
     "base_uri": "https://localhost:8080/"
    },
    "id": "A-meoCJvj-ld",
    "outputId": "ec518c9d-26f1-49a9-c81c-08616a46026e"
   },
   "outputs": [
    {
     "name": "stdout",
     "output_type": "stream",
     "text": [
      "roc_auc_score: 0.5299017409055691\n",
      "cohen_kappa_score: 0.07068653349066678\n",
      "precision_score: 0.5829964628600304\n",
      "accuracy_score: 0.6281988122855889\n",
      "recall_score: 0.10776918945426524\n",
      "f1_score: 0.1819113502434025\n"
     ]
    }
   ],
   "source": [
    "# printing the scores for the model\n",
    "\n",
    "print(\"roc_auc_score:\",metrics.roc_auc_score(y_test_const, y_pred))\n",
    "print(\"cohen_kappa_score:\",metrics.cohen_kappa_score(y_test_const, y_pred))\n",
    "print(\"precision_score:\",metrics.precision_score(y_test_const, y_pred))\n",
    "print(\"accuracy_score:\",metrics.accuracy_score(y_test_const, y_pred))\n",
    "print(\"recall_score:\",metrics.recall_score(y_test_const, y_pred))\n",
    "print(\"f1_score:\",metrics.f1_score(y_test_const, y_pred))"
   ]
  },
  {
   "cell_type": "code",
   "execution_count": 152,
   "metadata": {
    "colab": {
     "base_uri": "https://localhost:8080/",
     "height": 125
    },
    "id": "rdPo2XbWslyJ",
    "outputId": "2c38b4b4-74cf-484d-f568-20dc2528bef0"
   },
   "outputs": [
    {
     "data": {
      "text/html": [
       "<div>\n",
       "<style scoped>\n",
       "    .dataframe tbody tr th:only-of-type {\n",
       "        vertical-align: middle;\n",
       "    }\n",
       "\n",
       "    .dataframe tbody tr th {\n",
       "        vertical-align: top;\n",
       "    }\n",
       "\n",
       "    .dataframe thead th {\n",
       "        text-align: right;\n",
       "    }\n",
       "</style>\n",
       "<table border=\"1\" class=\"dataframe\">\n",
       "  <thead>\n",
       "    <tr style=\"text-align: right;\">\n",
       "      <th></th>\n",
       "      <th>Model_Name</th>\n",
       "      <th>Probability Cutoff</th>\n",
       "      <th>AUC Score</th>\n",
       "      <th>Precision Score</th>\n",
       "      <th>Recall Score</th>\n",
       "      <th>Accuracy Score</th>\n",
       "      <th>Kappa Score</th>\n",
       "      <th>f1-score</th>\n",
       "    </tr>\n",
       "  </thead>\n",
       "  <tbody>\n",
       "    <tr>\n",
       "      <th>0</th>\n",
       "      <td>Linear Regression</td>\n",
       "      <td>0.5</td>\n",
       "      <td>0.529902</td>\n",
       "      <td>0.582996</td>\n",
       "      <td>0.107769</td>\n",
       "      <td>0.628199</td>\n",
       "      <td>0.070687</td>\n",
       "      <td>0.181911</td>\n",
       "    </tr>\n",
       "  </tbody>\n",
       "</table>\n",
       "</div>"
      ],
      "text/plain": [
       "          Model_Name  Probability Cutoff  AUC Score  Precision Score  \\\n",
       "0  Linear Regression                 0.5   0.529902         0.582996   \n",
       "\n",
       "   Recall Score  Accuracy Score  Kappa Score  f1-score  \n",
       "0      0.107769        0.628199     0.070687  0.181911  "
      ]
     },
     "execution_count": 152,
     "metadata": {},
     "output_type": "execute_result"
    }
   ],
   "source": [
    "update_score_card(algorithm_name = 'Linear Regression', model = logreg,cutoff = 0.5)\n",
    "score_card"
   ]
  },
  {
   "cell_type": "code",
   "execution_count": 155,
   "metadata": {
    "id": "RlgL50_zPbNW"
   },
   "outputs": [],
   "source": [
    "#reference :https://stackoverflow.com/questions/8356501/python-format-tabular-output\n",
    "\n",
    "from beautifultable import BeautifulTable\n",
    "table = BeautifulTable()\n",
    "table.column_headers= [\"Model Name\",'Accuracy','Precision ','Recall', \"F1 Score\",\" AUC \",'Kappa']\n"
   ]
  },
  {
   "cell_type": "markdown",
   "metadata": {
    "id": "QmcEur3wPbNW"
   },
   "source": [
    "### 2. Log Reg - Youden's Index"
   ]
  },
  {
   "cell_type": "raw",
   "metadata": {
    "id": "zRtIktWqXCKi"
   },
   "source": [
    "To Identify the Best Cut-off Value , we perform Youden's Index\n",
    "\n",
    "Youden's Index is the classification cut-off probability for which the (Sensitivity + Specificity - 1) is maximized.\n",
    "Youden's Index = max(Sensitivity + Specificity - 1) = max(TPR + TNR - 1) = max(TPR - FPR)\n",
    "i.e. select the cut-off probability for which the (TPR - FPR) is maximum."
   ]
  },
  {
   "cell_type": "code",
   "execution_count": 156,
   "metadata": {
    "colab": {
     "base_uri": "https://localhost:8080/",
     "height": 75
    },
    "id": "N13U7QIRlQ_N",
    "outputId": "15017ac8-6933-4aad-8456-d6ab5d8fc2cf"
   },
   "outputs": [
    {
     "data": {
      "text/html": [
       "<style>#sk-container-id-2 {color: black;background-color: white;}#sk-container-id-2 pre{padding: 0;}#sk-container-id-2 div.sk-toggleable {background-color: white;}#sk-container-id-2 label.sk-toggleable__label {cursor: pointer;display: block;width: 100%;margin-bottom: 0;padding: 0.3em;box-sizing: border-box;text-align: center;}#sk-container-id-2 label.sk-toggleable__label-arrow:before {content: \"▸\";float: left;margin-right: 0.25em;color: #696969;}#sk-container-id-2 label.sk-toggleable__label-arrow:hover:before {color: black;}#sk-container-id-2 div.sk-estimator:hover label.sk-toggleable__label-arrow:before {color: black;}#sk-container-id-2 div.sk-toggleable__content {max-height: 0;max-width: 0;overflow: hidden;text-align: left;background-color: #f0f8ff;}#sk-container-id-2 div.sk-toggleable__content pre {margin: 0.2em;color: black;border-radius: 0.25em;background-color: #f0f8ff;}#sk-container-id-2 input.sk-toggleable__control:checked~div.sk-toggleable__content {max-height: 200px;max-width: 100%;overflow: auto;}#sk-container-id-2 input.sk-toggleable__control:checked~label.sk-toggleable__label-arrow:before {content: \"▾\";}#sk-container-id-2 div.sk-estimator input.sk-toggleable__control:checked~label.sk-toggleable__label {background-color: #d4ebff;}#sk-container-id-2 div.sk-label input.sk-toggleable__control:checked~label.sk-toggleable__label {background-color: #d4ebff;}#sk-container-id-2 input.sk-hidden--visually {border: 0;clip: rect(1px 1px 1px 1px);clip: rect(1px, 1px, 1px, 1px);height: 1px;margin: -1px;overflow: hidden;padding: 0;position: absolute;width: 1px;}#sk-container-id-2 div.sk-estimator {font-family: monospace;background-color: #f0f8ff;border: 1px dotted black;border-radius: 0.25em;box-sizing: border-box;margin-bottom: 0.5em;}#sk-container-id-2 div.sk-estimator:hover {background-color: #d4ebff;}#sk-container-id-2 div.sk-parallel-item::after {content: \"\";width: 100%;border-bottom: 1px solid gray;flex-grow: 1;}#sk-container-id-2 div.sk-label:hover label.sk-toggleable__label {background-color: #d4ebff;}#sk-container-id-2 div.sk-serial::before {content: \"\";position: absolute;border-left: 1px solid gray;box-sizing: border-box;top: 0;bottom: 0;left: 50%;z-index: 0;}#sk-container-id-2 div.sk-serial {display: flex;flex-direction: column;align-items: center;background-color: white;padding-right: 0.2em;padding-left: 0.2em;position: relative;}#sk-container-id-2 div.sk-item {position: relative;z-index: 1;}#sk-container-id-2 div.sk-parallel {display: flex;align-items: stretch;justify-content: center;background-color: white;position: relative;}#sk-container-id-2 div.sk-item::before, #sk-container-id-2 div.sk-parallel-item::before {content: \"\";position: absolute;border-left: 1px solid gray;box-sizing: border-box;top: 0;bottom: 0;left: 50%;z-index: -1;}#sk-container-id-2 div.sk-parallel-item {display: flex;flex-direction: column;z-index: 1;position: relative;background-color: white;}#sk-container-id-2 div.sk-parallel-item:first-child::after {align-self: flex-end;width: 50%;}#sk-container-id-2 div.sk-parallel-item:last-child::after {align-self: flex-start;width: 50%;}#sk-container-id-2 div.sk-parallel-item:only-child::after {width: 0;}#sk-container-id-2 div.sk-dashed-wrapped {border: 1px dashed gray;margin: 0 0.4em 0.5em 0.4em;box-sizing: border-box;padding-bottom: 0.4em;background-color: white;}#sk-container-id-2 div.sk-label label {font-family: monospace;font-weight: bold;display: inline-block;line-height: 1.2em;}#sk-container-id-2 div.sk-label-container {text-align: center;}#sk-container-id-2 div.sk-container {/* jupyter's `normalize.less` sets `[hidden] { display: none; }` but bootstrap.min.css set `[hidden] { display: none !important; }` so we also need the `!important` here to be able to override the default hidden behavior on the sphinx rendered scikit-learn.org. See: https://github.com/scikit-learn/scikit-learn/issues/21755 */display: inline-block !important;position: relative;}#sk-container-id-2 div.sk-text-repr-fallback {display: none;}</style><div id=\"sk-container-id-2\" class=\"sk-top-container\"><div class=\"sk-text-repr-fallback\"><pre>LogisticRegression()</pre><b>In a Jupyter environment, please rerun this cell to show the HTML representation or trust the notebook. <br />On GitHub, the HTML representation is unable to render, please try loading this page with nbviewer.org.</b></div><div class=\"sk-container\" hidden><div class=\"sk-item\"><div class=\"sk-estimator sk-toggleable\"><input class=\"sk-toggleable__control sk-hidden--visually\" id=\"sk-estimator-id-2\" type=\"checkbox\" checked><label for=\"sk-estimator-id-2\" class=\"sk-toggleable__label sk-toggleable__label-arrow\">LogisticRegression</label><div class=\"sk-toggleable__content\"><pre>LogisticRegression()</pre></div></div></div></div></div>"
      ],
      "text/plain": [
       "LogisticRegression()"
      ]
     },
     "execution_count": 156,
     "metadata": {},
     "output_type": "execute_result"
    }
   ],
   "source": [
    "logreg_youden = LogisticRegression()\n",
    "logreg_youden.fit(X_train_const,y_train_const)"
   ]
  },
  {
   "cell_type": "code",
   "execution_count": 157,
   "metadata": {
    "id": "HYliir8wPbNW",
    "scrolled": true
   },
   "outputs": [],
   "source": [
    "fpr, tpr, thresholds = roc_curve(y_test_const, y_pred_prob)"
   ]
  },
  {
   "cell_type": "code",
   "execution_count": 158,
   "metadata": {
    "colab": {
     "base_uri": "https://localhost:8080/",
     "height": 143
    },
    "id": "zUEKI7tcPbNX",
    "outputId": "9bd3079b-9adb-4401-f216-d021aa2d9504",
    "scrolled": true
   },
   "outputs": [
    {
     "data": {
      "text/html": [
       "<div>\n",
       "<style scoped>\n",
       "    .dataframe tbody tr th:only-of-type {\n",
       "        vertical-align: middle;\n",
       "    }\n",
       "\n",
       "    .dataframe tbody tr th {\n",
       "        vertical-align: top;\n",
       "    }\n",
       "\n",
       "    .dataframe thead th {\n",
       "        text-align: right;\n",
       "    }\n",
       "</style>\n",
       "<table border=\"1\" class=\"dataframe\">\n",
       "  <thead>\n",
       "    <tr style=\"text-align: right;\">\n",
       "      <th></th>\n",
       "      <th>TPR</th>\n",
       "      <th>FPR</th>\n",
       "      <th>Threshold</th>\n",
       "      <th>Difference</th>\n",
       "    </tr>\n",
       "  </thead>\n",
       "  <tbody>\n",
       "    <tr>\n",
       "      <th>0</th>\n",
       "      <td>0.107769</td>\n",
       "      <td>0.047966</td>\n",
       "      <td>1</td>\n",
       "      <td>0.059803</td>\n",
       "    </tr>\n",
       "    <tr>\n",
       "      <th>1</th>\n",
       "      <td>0.000000</td>\n",
       "      <td>0.000000</td>\n",
       "      <td>2</td>\n",
       "      <td>0.000000</td>\n",
       "    </tr>\n",
       "    <tr>\n",
       "      <th>2</th>\n",
       "      <td>1.000000</td>\n",
       "      <td>1.000000</td>\n",
       "      <td>0</td>\n",
       "      <td>0.000000</td>\n",
       "    </tr>\n",
       "  </tbody>\n",
       "</table>\n",
       "</div>"
      ],
      "text/plain": [
       "        TPR       FPR  Threshold  Difference\n",
       "0  0.107769  0.047966          1    0.059803\n",
       "1  0.000000  0.000000          2    0.000000\n",
       "2  1.000000  1.000000          0    0.000000"
      ]
     },
     "execution_count": 158,
     "metadata": {},
     "output_type": "execute_result"
    }
   ],
   "source": [
    "# create a dataframe to store the values for false positive rate, true positive rate and threshold\n",
    "youdens_table = pd.DataFrame({'TPR': tpr,\n",
    "                             'FPR': fpr,\n",
    "                             'Threshold': thresholds})\n",
    "\n",
    "# calculate the difference between TPR and FPR for each threshold and store the values in a new column 'Difference'\n",
    "youdens_table['Difference'] = youdens_table.TPR - youdens_table.FPR\n",
    "\n",
    "# sort the dataframe based on the values of difference \n",
    "# 'ascending = False' sorts the data in descending order\n",
    "# 'reset_index' resets the index of the dataframe\n",
    "# 'drop = True' drops the previous index\n",
    "youdens_table = youdens_table.sort_values('Difference', ascending = False).reset_index(drop = True)\n",
    "youdens_table.head()"
   ]
  },
  {
   "cell_type": "code",
   "execution_count": 159,
   "metadata": {
    "id": "bBEg-bEoPbNX"
   },
   "outputs": [],
   "source": [
    "# convert probabilities to 0 and 1 using 'if_else'\n",
    "y_pred_youden = [ 0 if x < 0.15 else 1 for x in y_pred_prob]"
   ]
  },
  {
   "cell_type": "code",
   "execution_count": 160,
   "metadata": {
    "colab": {
     "base_uri": "https://localhost:8080/"
    },
    "id": "rBNv8-tKPbNX",
    "outputId": "27434cb9-0367-484e-80d2-2245984759b8",
    "scrolled": true
   },
   "outputs": [
    {
     "name": "stdout",
     "output_type": "stream",
     "text": [
      "              precision    recall  f1-score   support\n",
      "\n",
      "           0       0.63      0.95      0.76     68820\n",
      "           1       0.58      0.11      0.18     42823\n",
      "\n",
      "    accuracy                           0.63    111643\n",
      "   macro avg       0.61      0.53      0.47    111643\n",
      "weighted avg       0.61      0.63      0.54    111643\n",
      "\n"
     ]
    }
   ],
   "source": [
    "# calculate various performance measures\n",
    "\n",
    "acc_table = classification_report(y_test_const, y_pred_youden)\n",
    "print(acc_table)"
   ]
  },
  {
   "cell_type": "code",
   "execution_count": 161,
   "metadata": {
    "colab": {
     "base_uri": "https://localhost:8080/"
    },
    "id": "gD0RhuoSlQ_O",
    "outputId": "d17e6afc-24c6-4839-e392-8a382248d110"
   },
   "outputs": [
    {
     "name": "stdout",
     "output_type": "stream",
     "text": [
      "f1_score: 0.1819113502434025\n"
     ]
    }
   ],
   "source": [
    "print(\"f1_score:\",f1_score(y_test_const, y_pred_youden))"
   ]
  },
  {
   "cell_type": "code",
   "execution_count": 162,
   "metadata": {
    "colab": {
     "base_uri": "https://localhost:8080/",
     "height": 156
    },
    "id": "1yuDPnO_t4xC",
    "outputId": "b6f702b3-8788-4fb1-e703-896e46eed666"
   },
   "outputs": [
    {
     "data": {
      "text/html": [
       "<div>\n",
       "<style scoped>\n",
       "    .dataframe tbody tr th:only-of-type {\n",
       "        vertical-align: middle;\n",
       "    }\n",
       "\n",
       "    .dataframe tbody tr th {\n",
       "        vertical-align: top;\n",
       "    }\n",
       "\n",
       "    .dataframe thead th {\n",
       "        text-align: right;\n",
       "    }\n",
       "</style>\n",
       "<table border=\"1\" class=\"dataframe\">\n",
       "  <thead>\n",
       "    <tr style=\"text-align: right;\">\n",
       "      <th></th>\n",
       "      <th>Model_Name</th>\n",
       "      <th>Probability Cutoff</th>\n",
       "      <th>AUC Score</th>\n",
       "      <th>Precision Score</th>\n",
       "      <th>Recall Score</th>\n",
       "      <th>Accuracy Score</th>\n",
       "      <th>Kappa Score</th>\n",
       "      <th>f1-score</th>\n",
       "    </tr>\n",
       "  </thead>\n",
       "  <tbody>\n",
       "    <tr>\n",
       "      <th>0</th>\n",
       "      <td>Linear Regression</td>\n",
       "      <td>0.50</td>\n",
       "      <td>0.529902</td>\n",
       "      <td>0.582996</td>\n",
       "      <td>0.107769</td>\n",
       "      <td>0.628199</td>\n",
       "      <td>0.070687</td>\n",
       "      <td>0.181911</td>\n",
       "    </tr>\n",
       "    <tr>\n",
       "      <th>1</th>\n",
       "      <td>Log Reg (cutoff)</td>\n",
       "      <td>0.19</td>\n",
       "      <td>0.529902</td>\n",
       "      <td>0.582996</td>\n",
       "      <td>0.107769</td>\n",
       "      <td>0.628199</td>\n",
       "      <td>0.070687</td>\n",
       "      <td>0.181911</td>\n",
       "    </tr>\n",
       "  </tbody>\n",
       "</table>\n",
       "</div>"
      ],
      "text/plain": [
       "          Model_Name  Probability Cutoff  AUC Score  Precision Score  \\\n",
       "0  Linear Regression                0.50   0.529902         0.582996   \n",
       "1  Log Reg (cutoff)                 0.19   0.529902         0.582996   \n",
       "\n",
       "   Recall Score  Accuracy Score  Kappa Score  f1-score  \n",
       "0      0.107769        0.628199     0.070687  0.181911  \n",
       "1      0.107769        0.628199     0.070687  0.181911  "
      ]
     },
     "execution_count": 162,
     "metadata": {},
     "output_type": "execute_result"
    }
   ],
   "source": [
    "update_score_card(algorithm_name = 'Log Reg (cutoff) ', model = logreg_youden,cutoff = 0.19)\n",
    "score_card"
   ]
  },
  {
   "cell_type": "code",
   "execution_count": 163,
   "metadata": {
    "colab": {
     "base_uri": "https://localhost:8080/"
    },
    "id": "hJ7lNv1NkxgC",
    "outputId": "fc5871be-9c24-4ec1-f27a-22d6459a0db0"
   },
   "outputs": [
    {
     "name": "stdout",
     "output_type": "stream",
     "text": [
      "roc_auc_score: 0.5299017409055691\n",
      "cohen_kappa_score: 0.07068653349066678\n"
     ]
    }
   ],
   "source": [
    "print(\"roc_auc_score:\",metrics.roc_auc_score(y_test_const, y_pred_youden))\n",
    "print(\"cohen_kappa_score:\",metrics.cohen_kappa_score(y_test_const, y_pred_youden))"
   ]
  },
  {
   "cell_type": "markdown",
   "metadata": {
    "id": "Ly9kdt6fPbNY"
   },
   "source": [
    "### 3. Log Reg - Recursive Feature Elimination (RFE)"
   ]
  },
  {
   "cell_type": "raw",
   "metadata": {
    "id": "MZF9t5-nXCKz"
   },
   "source": [
    "In the linear regression module, we learn about various techniques for selecting the significant features in the dataset.Let us consider the RFE method for feature selection."
   ]
  },
  {
   "cell_type": "code",
   "execution_count": 164,
   "metadata": {
    "colab": {
     "base_uri": "https://localhost:8080/"
    },
    "id": "QdkKFhnhPbNY",
    "outputId": "30f6fc39-7302-463d-bb56-1f2ff5ae7c20"
   },
   "outputs": [
    {
     "name": "stdout",
     "output_type": "stream",
     "text": [
      "Index(['Year of Birth', 'Race', 'State', 'County', 'ChronicCond_Depression',\n",
      "       'ChronicCond_Osteoporasis', 'TotalReimbursement',\n",
      "       'IPAnnualDeductibleAmt', 'OPAnnualDeductibleAmt',\n",
      "       'TotalDeductibleamount'],\n",
      "      dtype='object')\n"
     ]
    }
   ],
   "source": [
    "# consider the independent variables (without the intercept term)\n",
    "# as, X_train and X_test contains the intercept term\n",
    "# use 'iloc' to select the variables wthout intercept term \n",
    "\n",
    "X_train_rfe = X_train_const.iloc[:,1:]\n",
    "X_test_rfe = X_test_const.iloc[:,1:]\n",
    "\n",
    "# initiate logistic regression model to use in feature selection\n",
    "logreg = LogisticRegression()\n",
    "\n",
    "# build the RFE model\n",
    "# pass the logistic regression model to 'estimator'\n",
    "# pass number of required features to 'n_features_to_select'\n",
    "# if we do not pass the number of features, RFE considers half of the features\n",
    "rfe_model = RFE(estimator = logreg, n_features_to_select = 10)\n",
    "\n",
    "# fit the RFE model on the train dataset using fit()\n",
    "rfe_model = rfe_model.fit(X_train_rfe, y_train_const)\n",
    "\n",
    "# create a series containing feature and its corresponding rank obtained from RFE\n",
    "# 'ranking_' returns the rank of each variable after applying RFE\n",
    "# pass the ranks as the 'data' of a series\n",
    "# 'index' assigns feature names as index of a series \n",
    "feat_index = pd.Series(data = rfe_model.ranking_, index = X_train_rfe.columns)\n",
    "\n",
    "# select the features with rank = 1\n",
    "# 'index' returns the indices of a series (i.e. features with rank=1) \n",
    "signi_feat_rfe = feat_index[feat_index==1].index\n",
    "\n",
    "# print the significant features obtained from RFE\n",
    "print(signi_feat_rfe)"
   ]
  },
  {
   "cell_type": "markdown",
   "metadata": {
    "id": "JL1PjlgKPbNY"
   },
   "source": [
    "#### Build the logisitc regression model using the variables obtained from RFE."
   ]
  },
  {
   "cell_type": "code",
   "execution_count": 165,
   "metadata": {
    "colab": {
     "base_uri": "https://localhost:8080/"
    },
    "id": "QZk90qr0PbNY",
    "outputId": "cb527a6b-16b7-4219-a20b-50039fb441e4"
   },
   "outputs": [
    {
     "name": "stdout",
     "output_type": "stream",
     "text": [
      "Optimization terminated successfully.\n",
      "         Current function value: 0.667614\n",
      "         Iterations 4\n",
      "                           Logit Regression Results                           \n",
      "==============================================================================\n",
      "Dep. Variable:         PotentialFraud   No. Observations:               446568\n",
      "Model:                          Logit   Df Residuals:                   446558\n",
      "Method:                           MLE   Df Model:                            9\n",
      "Date:                Wed, 29 Mar 2023   Pseudo R-squ.:               -0.004887\n",
      "Time:                        10:49:55   Log-Likelihood:            -2.9813e+05\n",
      "converged:                       True   LL-Null:                   -2.9669e+05\n",
      "Covariance Type:            nonrobust   LLR p-value:                     1.000\n",
      "===================================================================================================\n",
      "                                      coef    std err          z      P>|z|      [0.025      0.975]\n",
      "---------------------------------------------------------------------------------------------------\n",
      "Race                                0.0194      0.004      4.590      0.000       0.011       0.028\n",
      "State                              -0.1727      0.006    -31.320      0.000      -0.184      -0.162\n",
      "County                              0.0391      0.005      7.995      0.000       0.030       0.049\n",
      "ChronicCond_Alzheimer               0.2913      0.006     48.377      0.000       0.279       0.303\n",
      "ChronicCond_Depression              0.3099      0.006     53.004      0.000       0.298       0.321\n",
      "ChronicCond_rheumatoidarthritis     0.2640      0.006     40.907      0.000       0.251       0.277\n",
      "PatientRiskScore                   -0.3069      0.004    -72.381      0.000      -0.315      -0.299\n",
      "TotalReimbursement                 -0.0106      0.003     -4.213      0.000      -0.016      -0.006\n",
      "OPAnnualDeductibleAmt              -0.0635      0.003    -21.324      0.000      -0.069      -0.058\n",
      "TotalDeductibleamount               0.0579      0.005     12.312      0.000       0.049       0.067\n",
      "===================================================================================================\n"
     ]
    }
   ],
   "source": [
    "# build the model on train data (X_train and y_train)\n",
    "# use fit() to fit the logistic regression model\n",
    "# consider the variables obtained from RFE method and the intercept term\n",
    "\n",
    "\n",
    "logreg_rfe = sm.Logit(y_train_const, X_train_const[['Race', 'State', 'County', 'ChronicCond_Alzheimer',\n",
    "       'ChronicCond_Depression', 'ChronicCond_rheumatoidarthritis',\n",
    "       'PatientRiskScore', 'TotalReimbursement', 'OPAnnualDeductibleAmt',\n",
    "       'TotalDeductibleamount']]).fit()\n",
    "\n",
    "# print the summary of the model\n",
    "print(logreg_rfe.summary())"
   ]
  },
  {
   "cell_type": "raw",
   "metadata": {
    "id": "eW32S32VXCK0"
   },
   "source": [
    "Interpretation: The Pseudo R-squ. obtained from the above model summary is the value of McFadden's R-squared. This value can be obtained from the formula:\n",
    "\n",
    "McFadden's R-squared =  1−𝐿𝑜𝑔−𝐿𝑖𝑘𝑒𝑙𝑖ℎ𝑜𝑜𝑑𝐿𝐿−𝑁𝑢𝑙𝑙 \n",
    "\n",
    "Where,\n",
    "Log-Likelihood: It is the maximum value of the log-likelihood function\n",
    "LL-Null: It is the maximum value of the log-likelihood function for the model containing only the intercept\n",
    "\n",
    "The LLR p-value is less than 0.05, implies that the model is significant.\n",
    "\n",
    "There are different types of pseudo R-squared such as Cox & Snell R-squared, Nagelkerke R-squared and so on."
   ]
  },
  {
   "cell_type": "code",
   "execution_count": 166,
   "metadata": {
    "colab": {
     "base_uri": "https://localhost:8080/"
    },
    "id": "yOcQMVlFPbNZ",
    "outputId": "bc1d5fae-c6c5-4848-9826-51c71468a120"
   },
   "outputs": [
    {
     "data": {
      "text/plain": [
       "355816    0.393618\n",
       "361712    0.418950\n",
       "68901     0.321580\n",
       "417661    0.399150\n",
       "252020    0.449854\n",
       "            ...   \n",
       "164731    0.301458\n",
       "90116     0.378489\n",
       "225146    0.447075\n",
       "312732    0.459660\n",
       "140237    0.285913\n",
       "Length: 111643, dtype: float64"
      ]
     },
     "execution_count": 166,
     "metadata": {},
     "output_type": "execute_result"
    }
   ],
   "source": [
    "y_pred_prob_rfe = logreg_rfe.predict(X_test_const[['Race', 'State', 'County', 'ChronicCond_Alzheimer',\n",
    "       'ChronicCond_Depression', 'ChronicCond_rheumatoidarthritis',\n",
    "       'PatientRiskScore', 'TotalReimbursement', 'OPAnnualDeductibleAmt',\n",
    "       'TotalDeductibleamount']])\n",
    "\n",
    "# print the y_pred_prob_rfe\n",
    "y_pred_prob_rfe"
   ]
  },
  {
   "cell_type": "code",
   "execution_count": 167,
   "metadata": {
    "id": "2Ij99qEwPbNZ"
   },
   "outputs": [],
   "source": [
    "# convert probabilities to 0 and 1 using 'if_else'\n",
    "y_pred_rfe = [ 0 if x < 0.62 else 1 for x in y_pred_prob_rfe]"
   ]
  },
  {
   "cell_type": "code",
   "execution_count": 168,
   "metadata": {
    "colab": {
     "base_uri": "https://localhost:8080/"
    },
    "id": "qGs9qe_CPbNZ",
    "outputId": "45b3e3bf-a85c-4a50-da39-6f9f6116d244",
    "scrolled": false
   },
   "outputs": [
    {
     "name": "stdout",
     "output_type": "stream",
     "text": [
      "              precision    recall  f1-score   support\n",
      "\n",
      "           0       0.62      1.00      0.76     68820\n",
      "           1       0.53      0.00      0.00     42823\n",
      "\n",
      "    accuracy                           0.62    111643\n",
      "   macro avg       0.57      0.50      0.38    111643\n",
      "weighted avg       0.58      0.62      0.47    111643\n",
      "\n"
     ]
    }
   ],
   "source": [
    "result = classification_report(y_test_const, y_pred_rfe)\n",
    "\n",
    "# print the result\n",
    "print(result)"
   ]
  },
  {
   "cell_type": "code",
   "execution_count": 169,
   "metadata": {
    "colab": {
     "base_uri": "https://localhost:8080/"
    },
    "id": "Rg6oxy4qlHLA",
    "outputId": "f98ba41a-0f35-4330-f5a8-7e70d7ff1339"
   },
   "outputs": [
    {
     "name": "stdout",
     "output_type": "stream",
     "text": [
      "roc_auc_score: 0.5001276513177527\n",
      "cohen_kappa_score: 0.0003146749752944711\n",
      "precision_score: 0.5333333333333333\n",
      "accuracy_score: 0.6164560250082853\n",
      "recall_score: 0.0005604464890362655\n",
      "f1_score: 0.001119716338527573\n"
     ]
    }
   ],
   "source": [
    "print(\"roc_auc_score:\",metrics.roc_auc_score(y_test_const, y_pred_rfe))\n",
    "print(\"cohen_kappa_score:\",metrics.cohen_kappa_score(y_test_const, y_pred_rfe))\n",
    "print(\"precision_score:\",metrics.precision_score(y_test_const, y_pred_rfe))\n",
    "print(\"accuracy_score:\",metrics.accuracy_score(y_test_const, y_pred_rfe))\n",
    "print(\"recall_score:\",metrics.recall_score(y_test_const, y_pred_rfe))\n",
    "print(\"f1_score:\",metrics.f1_score(y_test_const, y_pred_rfe))"
   ]
  },
  {
   "cell_type": "markdown",
   "metadata": {
    "id": "KRyNsTC4lQ_R"
   },
   "source": [
    "### 4. Log Reg - GridSearchCV"
   ]
  },
  {
   "cell_type": "markdown",
   "metadata": {
    "id": "hFyfTPowPbNZ"
   },
   "source": [
    "#### Use GridSearchCV to find best parameters for Logistic Regression"
   ]
  },
  {
   "cell_type": "code",
   "execution_count": 170,
   "metadata": {
    "colab": {
     "base_uri": "https://localhost:8080/",
     "height": 118
    },
    "id": "sf0UNTiOPbNZ",
    "outputId": "d7429969-e389-4e96-d858-0ccd5196fb61"
   },
   "outputs": [
    {
     "data": {
      "text/html": [
       "<style>#sk-container-id-3 {color: black;background-color: white;}#sk-container-id-3 pre{padding: 0;}#sk-container-id-3 div.sk-toggleable {background-color: white;}#sk-container-id-3 label.sk-toggleable__label {cursor: pointer;display: block;width: 100%;margin-bottom: 0;padding: 0.3em;box-sizing: border-box;text-align: center;}#sk-container-id-3 label.sk-toggleable__label-arrow:before {content: \"▸\";float: left;margin-right: 0.25em;color: #696969;}#sk-container-id-3 label.sk-toggleable__label-arrow:hover:before {color: black;}#sk-container-id-3 div.sk-estimator:hover label.sk-toggleable__label-arrow:before {color: black;}#sk-container-id-3 div.sk-toggleable__content {max-height: 0;max-width: 0;overflow: hidden;text-align: left;background-color: #f0f8ff;}#sk-container-id-3 div.sk-toggleable__content pre {margin: 0.2em;color: black;border-radius: 0.25em;background-color: #f0f8ff;}#sk-container-id-3 input.sk-toggleable__control:checked~div.sk-toggleable__content {max-height: 200px;max-width: 100%;overflow: auto;}#sk-container-id-3 input.sk-toggleable__control:checked~label.sk-toggleable__label-arrow:before {content: \"▾\";}#sk-container-id-3 div.sk-estimator input.sk-toggleable__control:checked~label.sk-toggleable__label {background-color: #d4ebff;}#sk-container-id-3 div.sk-label input.sk-toggleable__control:checked~label.sk-toggleable__label {background-color: #d4ebff;}#sk-container-id-3 input.sk-hidden--visually {border: 0;clip: rect(1px 1px 1px 1px);clip: rect(1px, 1px, 1px, 1px);height: 1px;margin: -1px;overflow: hidden;padding: 0;position: absolute;width: 1px;}#sk-container-id-3 div.sk-estimator {font-family: monospace;background-color: #f0f8ff;border: 1px dotted black;border-radius: 0.25em;box-sizing: border-box;margin-bottom: 0.5em;}#sk-container-id-3 div.sk-estimator:hover {background-color: #d4ebff;}#sk-container-id-3 div.sk-parallel-item::after {content: \"\";width: 100%;border-bottom: 1px solid gray;flex-grow: 1;}#sk-container-id-3 div.sk-label:hover label.sk-toggleable__label {background-color: #d4ebff;}#sk-container-id-3 div.sk-serial::before {content: \"\";position: absolute;border-left: 1px solid gray;box-sizing: border-box;top: 0;bottom: 0;left: 50%;z-index: 0;}#sk-container-id-3 div.sk-serial {display: flex;flex-direction: column;align-items: center;background-color: white;padding-right: 0.2em;padding-left: 0.2em;position: relative;}#sk-container-id-3 div.sk-item {position: relative;z-index: 1;}#sk-container-id-3 div.sk-parallel {display: flex;align-items: stretch;justify-content: center;background-color: white;position: relative;}#sk-container-id-3 div.sk-item::before, #sk-container-id-3 div.sk-parallel-item::before {content: \"\";position: absolute;border-left: 1px solid gray;box-sizing: border-box;top: 0;bottom: 0;left: 50%;z-index: -1;}#sk-container-id-3 div.sk-parallel-item {display: flex;flex-direction: column;z-index: 1;position: relative;background-color: white;}#sk-container-id-3 div.sk-parallel-item:first-child::after {align-self: flex-end;width: 50%;}#sk-container-id-3 div.sk-parallel-item:last-child::after {align-self: flex-start;width: 50%;}#sk-container-id-3 div.sk-parallel-item:only-child::after {width: 0;}#sk-container-id-3 div.sk-dashed-wrapped {border: 1px dashed gray;margin: 0 0.4em 0.5em 0.4em;box-sizing: border-box;padding-bottom: 0.4em;background-color: white;}#sk-container-id-3 div.sk-label label {font-family: monospace;font-weight: bold;display: inline-block;line-height: 1.2em;}#sk-container-id-3 div.sk-label-container {text-align: center;}#sk-container-id-3 div.sk-container {/* jupyter's `normalize.less` sets `[hidden] { display: none; }` but bootstrap.min.css set `[hidden] { display: none !important; }` so we also need the `!important` here to be able to override the default hidden behavior on the sphinx rendered scikit-learn.org. See: https://github.com/scikit-learn/scikit-learn/issues/21755 */display: inline-block !important;position: relative;}#sk-container-id-3 div.sk-text-repr-fallback {display: none;}</style><div id=\"sk-container-id-3\" class=\"sk-top-container\"><div class=\"sk-text-repr-fallback\"><pre>GridSearchCV(cv=5, estimator=LogisticRegression(), n_jobs=-1,\n",
       "             param_grid={&#x27;C&#x27;: array([1.e-03, 1.e-02, 1.e-01, 1.e+00, 1.e+01, 1.e+02, 1.e+03]),\n",
       "                         &#x27;penalty&#x27;: [&#x27;l1&#x27;, &#x27;l2&#x27;]},\n",
       "             return_train_score=True, scoring=&#x27;roc_auc&#x27;)</pre><b>In a Jupyter environment, please rerun this cell to show the HTML representation or trust the notebook. <br />On GitHub, the HTML representation is unable to render, please try loading this page with nbviewer.org.</b></div><div class=\"sk-container\" hidden><div class=\"sk-item sk-dashed-wrapped\"><div class=\"sk-label-container\"><div class=\"sk-label sk-toggleable\"><input class=\"sk-toggleable__control sk-hidden--visually\" id=\"sk-estimator-id-3\" type=\"checkbox\" ><label for=\"sk-estimator-id-3\" class=\"sk-toggleable__label sk-toggleable__label-arrow\">GridSearchCV</label><div class=\"sk-toggleable__content\"><pre>GridSearchCV(cv=5, estimator=LogisticRegression(), n_jobs=-1,\n",
       "             param_grid={&#x27;C&#x27;: array([1.e-03, 1.e-02, 1.e-01, 1.e+00, 1.e+01, 1.e+02, 1.e+03]),\n",
       "                         &#x27;penalty&#x27;: [&#x27;l1&#x27;, &#x27;l2&#x27;]},\n",
       "             return_train_score=True, scoring=&#x27;roc_auc&#x27;)</pre></div></div></div><div class=\"sk-parallel\"><div class=\"sk-parallel-item\"><div class=\"sk-item\"><div class=\"sk-label-container\"><div class=\"sk-label sk-toggleable\"><input class=\"sk-toggleable__control sk-hidden--visually\" id=\"sk-estimator-id-4\" type=\"checkbox\" ><label for=\"sk-estimator-id-4\" class=\"sk-toggleable__label sk-toggleable__label-arrow\">estimator: LogisticRegression</label><div class=\"sk-toggleable__content\"><pre>LogisticRegression()</pre></div></div></div><div class=\"sk-serial\"><div class=\"sk-item\"><div class=\"sk-estimator sk-toggleable\"><input class=\"sk-toggleable__control sk-hidden--visually\" id=\"sk-estimator-id-5\" type=\"checkbox\" ><label for=\"sk-estimator-id-5\" class=\"sk-toggleable__label sk-toggleable__label-arrow\">LogisticRegression</label><div class=\"sk-toggleable__content\"><pre>LogisticRegression()</pre></div></div></div></div></div></div></div></div></div></div>"
      ],
      "text/plain": [
       "GridSearchCV(cv=5, estimator=LogisticRegression(), n_jobs=-1,\n",
       "             param_grid={'C': array([1.e-03, 1.e-02, 1.e-01, 1.e+00, 1.e+01, 1.e+02, 1.e+03]),\n",
       "                         'penalty': ['l1', 'l2']},\n",
       "             return_train_score=True, scoring='roc_auc')"
      ]
     },
     "execution_count": 170,
     "metadata": {},
     "output_type": "execute_result"
    }
   ],
   "source": [
    "# https://www.kaggle.com/enespolat/grid-search-with-logistic-regression\n",
    "\n",
    "\n",
    "grid = {\"C\":np.logspace(-3,3,7), \"penalty\":[\"l1\",\"l2\"]}\n",
    "logreg = LogisticRegression()\n",
    "logreg_cv = GridSearchCV(logreg, grid, cv=5, scoring='roc_auc', n_jobs=-1, return_train_score=True)\n",
    "logreg_cv.fit(X_train_const, y_train_const)"
   ]
  },
  {
   "cell_type": "code",
   "execution_count": 171,
   "metadata": {
    "colab": {
     "base_uri": "https://localhost:8080/"
    },
    "id": "Gcl1PGUOPbNa",
    "outputId": "d288cadb-4d5a-4435-898c-de3ed0adcc0f"
   },
   "outputs": [
    {
     "name": "stdout",
     "output_type": "stream",
     "text": [
      "best parameters =  {'C': 1.0, 'penalty': 'l2'}\n",
      "roc_auc_score : 0.555488955248235\n"
     ]
    }
   ],
   "source": [
    "print(\"best parameters = \",logreg_cv.best_params_)\n",
    "print(\"roc_auc_score :\",logreg_cv.best_score_)"
   ]
  },
  {
   "cell_type": "markdown",
   "metadata": {
    "id": "flIUnLsJPbNa"
   },
   "source": [
    "#### Now train with best parameters using LogisticRegression"
   ]
  },
  {
   "cell_type": "code",
   "execution_count": 172,
   "metadata": {
    "colab": {
     "base_uri": "https://localhost:8080/",
     "height": 75
    },
    "id": "zF3SSRknPbNa",
    "outputId": "3b8b02d2-d611-46c1-c6cc-286545b7240f"
   },
   "outputs": [
    {
     "data": {
      "text/html": [
       "<style>#sk-container-id-4 {color: black;background-color: white;}#sk-container-id-4 pre{padding: 0;}#sk-container-id-4 div.sk-toggleable {background-color: white;}#sk-container-id-4 label.sk-toggleable__label {cursor: pointer;display: block;width: 100%;margin-bottom: 0;padding: 0.3em;box-sizing: border-box;text-align: center;}#sk-container-id-4 label.sk-toggleable__label-arrow:before {content: \"▸\";float: left;margin-right: 0.25em;color: #696969;}#sk-container-id-4 label.sk-toggleable__label-arrow:hover:before {color: black;}#sk-container-id-4 div.sk-estimator:hover label.sk-toggleable__label-arrow:before {color: black;}#sk-container-id-4 div.sk-toggleable__content {max-height: 0;max-width: 0;overflow: hidden;text-align: left;background-color: #f0f8ff;}#sk-container-id-4 div.sk-toggleable__content pre {margin: 0.2em;color: black;border-radius: 0.25em;background-color: #f0f8ff;}#sk-container-id-4 input.sk-toggleable__control:checked~div.sk-toggleable__content {max-height: 200px;max-width: 100%;overflow: auto;}#sk-container-id-4 input.sk-toggleable__control:checked~label.sk-toggleable__label-arrow:before {content: \"▾\";}#sk-container-id-4 div.sk-estimator input.sk-toggleable__control:checked~label.sk-toggleable__label {background-color: #d4ebff;}#sk-container-id-4 div.sk-label input.sk-toggleable__control:checked~label.sk-toggleable__label {background-color: #d4ebff;}#sk-container-id-4 input.sk-hidden--visually {border: 0;clip: rect(1px 1px 1px 1px);clip: rect(1px, 1px, 1px, 1px);height: 1px;margin: -1px;overflow: hidden;padding: 0;position: absolute;width: 1px;}#sk-container-id-4 div.sk-estimator {font-family: monospace;background-color: #f0f8ff;border: 1px dotted black;border-radius: 0.25em;box-sizing: border-box;margin-bottom: 0.5em;}#sk-container-id-4 div.sk-estimator:hover {background-color: #d4ebff;}#sk-container-id-4 div.sk-parallel-item::after {content: \"\";width: 100%;border-bottom: 1px solid gray;flex-grow: 1;}#sk-container-id-4 div.sk-label:hover label.sk-toggleable__label {background-color: #d4ebff;}#sk-container-id-4 div.sk-serial::before {content: \"\";position: absolute;border-left: 1px solid gray;box-sizing: border-box;top: 0;bottom: 0;left: 50%;z-index: 0;}#sk-container-id-4 div.sk-serial {display: flex;flex-direction: column;align-items: center;background-color: white;padding-right: 0.2em;padding-left: 0.2em;position: relative;}#sk-container-id-4 div.sk-item {position: relative;z-index: 1;}#sk-container-id-4 div.sk-parallel {display: flex;align-items: stretch;justify-content: center;background-color: white;position: relative;}#sk-container-id-4 div.sk-item::before, #sk-container-id-4 div.sk-parallel-item::before {content: \"\";position: absolute;border-left: 1px solid gray;box-sizing: border-box;top: 0;bottom: 0;left: 50%;z-index: -1;}#sk-container-id-4 div.sk-parallel-item {display: flex;flex-direction: column;z-index: 1;position: relative;background-color: white;}#sk-container-id-4 div.sk-parallel-item:first-child::after {align-self: flex-end;width: 50%;}#sk-container-id-4 div.sk-parallel-item:last-child::after {align-self: flex-start;width: 50%;}#sk-container-id-4 div.sk-parallel-item:only-child::after {width: 0;}#sk-container-id-4 div.sk-dashed-wrapped {border: 1px dashed gray;margin: 0 0.4em 0.5em 0.4em;box-sizing: border-box;padding-bottom: 0.4em;background-color: white;}#sk-container-id-4 div.sk-label label {font-family: monospace;font-weight: bold;display: inline-block;line-height: 1.2em;}#sk-container-id-4 div.sk-label-container {text-align: center;}#sk-container-id-4 div.sk-container {/* jupyter's `normalize.less` sets `[hidden] { display: none; }` but bootstrap.min.css set `[hidden] { display: none !important; }` so we also need the `!important` here to be able to override the default hidden behavior on the sphinx rendered scikit-learn.org. See: https://github.com/scikit-learn/scikit-learn/issues/21755 */display: inline-block !important;position: relative;}#sk-container-id-4 div.sk-text-repr-fallback {display: none;}</style><div id=\"sk-container-id-4\" class=\"sk-top-container\"><div class=\"sk-text-repr-fallback\"><pre>LogisticRegression()</pre><b>In a Jupyter environment, please rerun this cell to show the HTML representation or trust the notebook. <br />On GitHub, the HTML representation is unable to render, please try loading this page with nbviewer.org.</b></div><div class=\"sk-container\" hidden><div class=\"sk-item\"><div class=\"sk-estimator sk-toggleable\"><input class=\"sk-toggleable__control sk-hidden--visually\" id=\"sk-estimator-id-6\" type=\"checkbox\" checked><label for=\"sk-estimator-id-6\" class=\"sk-toggleable__label sk-toggleable__label-arrow\">LogisticRegression</label><div class=\"sk-toggleable__content\"><pre>LogisticRegression()</pre></div></div></div></div></div>"
      ],
      "text/plain": [
       "LogisticRegression()"
      ]
     },
     "execution_count": 172,
     "metadata": {},
     "output_type": "execute_result"
    }
   ],
   "source": [
    "log_reg = LogisticRegression(C = 1.0, penalty='l2')\n",
    "log_reg.fit(X_train_const, y_train_const)"
   ]
  },
  {
   "cell_type": "code",
   "execution_count": 173,
   "metadata": {
    "id": "dQSXlktTPbNa"
   },
   "outputs": [],
   "source": [
    "def pred_prob(clf, data): \n",
    "    # predicts the probabability of class label using the model\n",
    "    y_pred = clf.predict_proba(data)[:,1]\n",
    "    return y_pred\n",
    "\n",
    "def draw_roc(train_fpr, train_tpr, test_fpr, test_tpr):\n",
    "    # calculate auc for train and test\n",
    "    train_auc = auc(train_fpr, train_tpr)\n",
    "    test_auc = auc(test_fpr, test_tpr)\n",
    "    plt.plot(train_fpr, train_tpr, label=\"Train AUC =\"+\"{:.4f}\".format(train_auc))\n",
    "    plt.plot(test_fpr, test_tpr, label=\"Test AUC =\"+\"{:.4f}\".format(test_auc))\n",
    "    plt.legend()\n",
    "    plt.xlabel(\"False Positive Rate(FPR)\", size = 14)\n",
    "    plt.ylabel(\"True Positive Rate(TPR)\", size = 14)\n",
    "    plt.title(\"Area Under Curve\", size = 16)\n",
    "    plt.grid(visible=True, which='major', color='g', linestyle='-')\n",
    "    plt.show()\n",
    "    \n",
    "def find_best_threshold(threshold, fpr, tpr):\n",
    "    t = threshold[np.argmax(tpr*(1-fpr))]\n",
    "#     print(\"max(tpr*(1-fpr)) = \", max(tpr*(1-fpr)), \"for threshold = \", np.round(t,3))\n",
    "    return t\n",
    "\n",
    "def predict_with_best_t(proba, threshold):\n",
    "    predictions = []\n",
    "    for i in proba:\n",
    "        if i>=threshold:\n",
    "            predictions.append(1)\n",
    "        else:\n",
    "            predictions.append(0)\n",
    "    return predictions"
   ]
  },
  {
   "cell_type": "code",
   "execution_count": 174,
   "metadata": {
    "id": "3Y6EzN1bPbNb"
   },
   "outputs": [],
   "source": [
    "from sklearn.metrics import confusion_matrix\n",
    "def draw_confusion_matrix(best_t, X_train_const, x_test_const, y_train_const, y_test_const, y_train_pred, y_test_pred):\n",
    "    # Confusion matrix for train and test dataset\n",
    "    fig, ax = plt.subplots(1,2, figsize=(20,6))\n",
    "\n",
    "    train_prediction = predict_with_best_t(y_train_pred, best_t)\n",
    "    cm = confusion_matrix(y_train_const, train_prediction)\n",
    "    sns.heatmap(cm, annot=True, fmt='d', ax=ax[0])\n",
    "    ax[0].set_title('Train Dataset Confusion Matrix', size = 16)\n",
    "    ax[0].set_xlabel(\"Predicted Label\", size = 14)\n",
    "    ax[0].set_ylabel(\"Actual Label\", size = 14)\n",
    "\n",
    "    test_prediction = predict_with_best_t(y_test_pred, best_t)\n",
    "    cm = confusion_matrix(y_test_const, test_prediction)\n",
    "    sns.heatmap(cm, annot=True, fmt='d', ax=ax[1])\n",
    "    ax[1].set_title('Test Dataset Confusion Matrix', size = 16)\n",
    "    ax[1].set_xlabel(\"Predicted Label\", size = 14)\n",
    "    ax[1].set_ylabel(\"Actual Label\", size = 14)\n",
    "    plt.grid()\n",
    "    plt.show()\n",
    "    \n",
    "    return train_prediction, test_prediction"
   ]
  },
  {
   "cell_type": "code",
   "execution_count": 175,
   "metadata": {
    "id": "S7gVzKEIPbNb"
   },
   "outputs": [],
   "source": [
    "def validate_model(clf, x_train_const, x_test_const, y_train_const, y_test_const):\n",
    "    # predict the probability of train data\n",
    "    y_train_pred = pred_prob(clf, x_train_const)\n",
    "    # predict the probability of test data\n",
    "    y_test_pred = pred_prob(clf, x_test_const)\n",
    "    # calculate tpr, fpr for diffeent thresholds using roc_curve\n",
    "    train_fpr, train_tpr, tr_thresholds = roc_curve(y_train_const, y_train_pred)\n",
    "    test_fpr, test_tpr, te_thresholds = roc_curve(y_test_const, y_test_pred)\n",
    "    \n",
    "    # calculate auc for train and test\n",
    "    train_auc = auc(train_fpr, train_tpr)\n",
    "    print(\"Train AUC = \", train_auc)\n",
    "    test_auc = auc(test_fpr, test_tpr)\n",
    "    print(\"Test AUC = \", test_auc)\n",
    "    \n",
    "    draw_roc(train_fpr, train_tpr, test_fpr, test_tpr)\n",
    "    \n",
    "    best_t = find_best_threshold(tr_thresholds, train_fpr, train_tpr)\n",
    "    \n",
    "    train_prediction, test_prediction = draw_confusion_matrix(best_t, x_train_const, x_test_const, y_train_const, y_test_const, y_train_pred, y_test_pred)\n",
    "#     print(len(test_prediction))\n",
    "    \n",
    "    train_f1_score = f1_score(y_train_const, train_prediction)\n",
    "    test_f1_score = f1_score(y_test_const, test_prediction)\n",
    "    \n",
    "    return test_auc, test_f1_score, best_t"
   ]
  },
  {
   "cell_type": "code",
   "execution_count": 176,
   "metadata": {
    "colab": {
     "base_uri": "https://localhost:8080/",
     "height": 712
    },
    "id": "zfZZuI1TPbNc",
    "outputId": "991378b2-fcd7-4508-c85a-837aadc4aae6"
   },
   "outputs": [
    {
     "name": "stdout",
     "output_type": "stream",
     "text": [
      "Train AUC =  0.5557223070003738\n",
      "Test AUC =  0.5547039738868746\n"
     ]
    },
    {
     "data": {
      "image/png": "[encoded data removed]",
      "text/plain": [
       "<Figure size 640x480 with 1 Axes>"
      ]
     },
     "metadata": {},
     "output_type": "display_data"
    },
    {
     "data": {
      "image/png": "[encoded data removed]",
      "text/plain": [
       "<Figure size 2000x600 with 4 Axes>"
      ]
     },
     "metadata": {},
     "output_type": "display_data"
    },
    {
     "name": "stdout",
     "output_type": "stream",
     "text": [
      "Best Threshold = 0.3743\n",
      "Model AUC is : 0.5547\n",
      "Model F1 Score is : 0.4495\n"
     ]
    }
   ],
   "source": [
    "# Validate LogisticRegression model\n",
    "test_auc, test_f1_score, best_t = validate_model(log_reg, X_train_const, X_test_const, y_train_const, y_test_const)\n",
    "\n",
    "print(\"Best Threshold = {:.4f}\".format(best_t))\n",
    "print(\"Model AUC is : {:.4f}\".format(test_auc))\n",
    "print(\"Model F1 Score is : {:.4f}\".format(test_f1_score))"
   ]
  },
  {
   "cell_type": "code",
   "execution_count": 177,
   "metadata": {
    "id": "gGf0dAQzPbNc"
   },
   "outputs": [],
   "source": [
    "#Predict the response for test dataset\n",
    "y_pred = log_reg.predict(X_test_const)"
   ]
  },
  {
   "cell_type": "code",
   "execution_count": 178,
   "metadata": {
    "id": "obenNkO8iA6b"
   },
   "outputs": [],
   "source": [
    "# convert probabilities to 0 and 1 using 'if_else'\n",
    "y_pred_Log_cv = [ 0 if x < 0.37 else 1 for x in y_pred]"
   ]
  },
  {
   "cell_type": "code",
   "execution_count": 179,
   "metadata": {
    "colab": {
     "base_uri": "https://localhost:8080/"
    },
    "id": "GqkoEbmoiA9B",
    "outputId": "d0729585-93df-4e07-a63c-4f68f806f28a"
   },
   "outputs": [
    {
     "name": "stdout",
     "output_type": "stream",
     "text": [
      "              precision    recall  f1-score   support\n",
      "\n",
      "           0       0.63      0.95      0.76     68820\n",
      "           1       0.58      0.11      0.18     42823\n",
      "\n",
      "    accuracy                           0.63    111643\n",
      "   macro avg       0.61      0.53      0.47    111643\n",
      "weighted avg       0.61      0.63      0.54    111643\n",
      "\n"
     ]
    }
   ],
   "source": [
    "acc_table = classification_report(y_test_const, y_pred_Log_cv)\n",
    "print(acc_table)"
   ]
  },
  {
   "cell_type": "code",
   "execution_count": 180,
   "metadata": {
    "colab": {
     "base_uri": "https://localhost:8080/",
     "height": 222
    },
    "id": "et1OfSln1MFg",
    "outputId": "b22dbaa8-916b-452b-d360-704900b2d900"
   },
   "outputs": [
    {
     "data": {
      "text/html": [
       "<div>\n",
       "<style scoped>\n",
       "    .dataframe tbody tr th:only-of-type {\n",
       "        vertical-align: middle;\n",
       "    }\n",
       "\n",
       "    .dataframe tbody tr th {\n",
       "        vertical-align: top;\n",
       "    }\n",
       "\n",
       "    .dataframe thead th {\n",
       "        text-align: right;\n",
       "    }\n",
       "</style>\n",
       "<table border=\"1\" class=\"dataframe\">\n",
       "  <thead>\n",
       "    <tr style=\"text-align: right;\">\n",
       "      <th></th>\n",
       "      <th>Model_Name</th>\n",
       "      <th>Probability Cutoff</th>\n",
       "      <th>AUC Score</th>\n",
       "      <th>Precision Score</th>\n",
       "      <th>Recall Score</th>\n",
       "      <th>Accuracy Score</th>\n",
       "      <th>Kappa Score</th>\n",
       "      <th>f1-score</th>\n",
       "    </tr>\n",
       "  </thead>\n",
       "  <tbody>\n",
       "    <tr>\n",
       "      <th>0</th>\n",
       "      <td>Linear Regression</td>\n",
       "      <td>0.50</td>\n",
       "      <td>0.529902</td>\n",
       "      <td>0.582996</td>\n",
       "      <td>0.107769</td>\n",
       "      <td>0.628199</td>\n",
       "      <td>0.070687</td>\n",
       "      <td>0.181911</td>\n",
       "    </tr>\n",
       "    <tr>\n",
       "      <th>1</th>\n",
       "      <td>Log Reg (cutoff)</td>\n",
       "      <td>0.19</td>\n",
       "      <td>0.529902</td>\n",
       "      <td>0.582996</td>\n",
       "      <td>0.107769</td>\n",
       "      <td>0.628199</td>\n",
       "      <td>0.070687</td>\n",
       "      <td>0.181911</td>\n",
       "    </tr>\n",
       "    <tr>\n",
       "      <th>2</th>\n",
       "      <td>Log Reg Grid Search CV</td>\n",
       "      <td>0.37</td>\n",
       "      <td>0.529902</td>\n",
       "      <td>0.582996</td>\n",
       "      <td>0.107769</td>\n",
       "      <td>0.628199</td>\n",
       "      <td>0.070687</td>\n",
       "      <td>0.181911</td>\n",
       "    </tr>\n",
       "  </tbody>\n",
       "</table>\n",
       "</div>"
      ],
      "text/plain": [
       "                Model_Name  Probability Cutoff  AUC Score  Precision Score  \\\n",
       "0        Linear Regression                0.50   0.529902         0.582996   \n",
       "1        Log Reg (cutoff)                 0.19   0.529902         0.582996   \n",
       "2  Log Reg Grid Search CV                 0.37   0.529902         0.582996   \n",
       "\n",
       "   Recall Score  Accuracy Score  Kappa Score  f1-score  \n",
       "0      0.107769        0.628199     0.070687  0.181911  \n",
       "1      0.107769        0.628199     0.070687  0.181911  \n",
       "2      0.107769        0.628199     0.070687  0.181911  "
      ]
     },
     "execution_count": 180,
     "metadata": {},
     "output_type": "execute_result"
    }
   ],
   "source": [
    "update_score_card(algorithm_name = 'Log Reg Grid Search CV ', model = log_reg,cutoff = 0.37)\n",
    "score_card"
   ]
  },
  {
   "cell_type": "code",
   "execution_count": 181,
   "metadata": {
    "colab": {
     "base_uri": "https://localhost:8080/"
    },
    "id": "uco-kNNbiBBI",
    "outputId": "e6038a1e-da1a-425f-8aec-8db99fcbb321"
   },
   "outputs": [
    {
     "name": "stdout",
     "output_type": "stream",
     "text": [
      "roc_auc_score: 0.5299017409055691\n",
      "cohen_kappa_score: 0.07068653349066678\n"
     ]
    }
   ],
   "source": [
    "print(\"roc_auc_score:\",metrics.roc_auc_score(y_test_const, y_pred))\n",
    "print(\"cohen_kappa_score:\",metrics.cohen_kappa_score(y_test_const, y_pred))"
   ]
  },
  {
   "cell_type": "markdown",
   "metadata": {
    "id": "w8HfLOiIPbNc"
   },
   "source": [
    "### 5. Base Decision Tree "
   ]
  },
  {
   "cell_type": "raw",
   "metadata": {
    "id": "ZFVgG48BXCK-"
   },
   "source": [
    "Decision Tree for Classification\n",
    "Decision Tree is a non-parametric supervised learning method. It builds a model in the form of a tree structure. It breaks down a dataset into smaller and smaller subsets, which is called splitting. A decision node is a node on which a decision of split is to be made. A node that can not be split further is known as the terminal/leaf node. A leaf node represents the decision. A decision tree can work with both numerical and categorical variables.\n",
    "\n",
    "A decision tree for classification is built using criteria like the Gini index and entropy."
   ]
  },
  {
   "cell_type": "code",
   "execution_count": 182,
   "metadata": {
    "id": "cLC-kLSllQ_U"
   },
   "outputs": [],
   "source": [
    "y = df_final_num.PotentialFraud"
   ]
  },
  {
   "cell_type": "code",
   "execution_count": 183,
   "metadata": {
    "colab": {
     "base_uri": "https://localhost:8080/",
     "height": 288
    },
    "id": "te402MzYlQ_U",
    "outputId": "00268c4f-cfb2-4955-9908-9425ee1c98ad"
   },
   "outputs": [
    {
     "data": {
      "text/html": [
       "<div>\n",
       "<style scoped>\n",
       "    .dataframe tbody tr th:only-of-type {\n",
       "        vertical-align: middle;\n",
       "    }\n",
       "\n",
       "    .dataframe tbody tr th {\n",
       "        vertical-align: top;\n",
       "    }\n",
       "\n",
       "    .dataframe thead th {\n",
       "        text-align: right;\n",
       "    }\n",
       "</style>\n",
       "<table border=\"1\" class=\"dataframe\">\n",
       "  <thead>\n",
       "    <tr style=\"text-align: right;\">\n",
       "      <th></th>\n",
       "      <th>Year of Birth</th>\n",
       "      <th>Gender</th>\n",
       "      <th>Race</th>\n",
       "      <th>State</th>\n",
       "      <th>County</th>\n",
       "      <th>NoOfMonths_PartACov</th>\n",
       "      <th>NoOfMonths_PartBCov</th>\n",
       "      <th>RenalDiseaseIndicator</th>\n",
       "      <th>ChronicCond_Alzheimer</th>\n",
       "      <th>ChronicCond_Heartfailure</th>\n",
       "      <th>ChronicCond_KidneyDisease</th>\n",
       "      <th>ChronicCond_Cancer</th>\n",
       "      <th>ChronicCond_ObstrPulmonary</th>\n",
       "      <th>ChronicCond_Depression</th>\n",
       "      <th>ChronicCond_Diabetes</th>\n",
       "      <th>ChronicCond_IschemicHeart</th>\n",
       "      <th>ChronicCond_Osteoporasis</th>\n",
       "      <th>ChronicCond_rheumatoidarthritis</th>\n",
       "      <th>ChronicCond_stroke</th>\n",
       "      <th>PatientRiskScore</th>\n",
       "      <th>IPAnnualReimbursementAmt</th>\n",
       "      <th>OPAnnualReimbursementAmt</th>\n",
       "      <th>TotalReimbursement</th>\n",
       "      <th>InscClaimAmtReimbursed</th>\n",
       "      <th>IPAnnualDeductibleAmt</th>\n",
       "      <th>OPAnnualDeductibleAmt</th>\n",
       "      <th>TotalDeductibleamount</th>\n",
       "      <th>DeductibleAmtPaid</th>\n",
       "    </tr>\n",
       "  </thead>\n",
       "  <tbody>\n",
       "    <tr>\n",
       "      <th>0</th>\n",
       "      <td>0.571429</td>\n",
       "      <td>-1.0</td>\n",
       "      <td>0.0</td>\n",
       "      <td>0.555556</td>\n",
       "      <td>-0.285714</td>\n",
       "      <td>0.0</td>\n",
       "      <td>0.0</td>\n",
       "      <td>0.0</td>\n",
       "      <td>-1.0</td>\n",
       "      <td>1.0</td>\n",
       "      <td>-1.0</td>\n",
       "      <td>0.0</td>\n",
       "      <td>0.0</td>\n",
       "      <td>-1.0</td>\n",
       "      <td>0.0</td>\n",
       "      <td>0.0</td>\n",
       "      <td>0.0</td>\n",
       "      <td>-1.0</td>\n",
       "      <td>-1.0</td>\n",
       "      <td>-0.666667</td>\n",
       "      <td>6.000000</td>\n",
       "      <td>-0.521127</td>\n",
       "      <td>4.376135</td>\n",
       "      <td>99.692308</td>\n",
       "      <td>3.0</td>\n",
       "      <td>-0.402985</td>\n",
       "      <td>1.898507</td>\n",
       "      <td>1068.0</td>\n",
       "    </tr>\n",
       "    <tr>\n",
       "      <th>1</th>\n",
       "      <td>-1.571429</td>\n",
       "      <td>0.0</td>\n",
       "      <td>0.0</td>\n",
       "      <td>0.555556</td>\n",
       "      <td>-0.285714</td>\n",
       "      <td>0.0</td>\n",
       "      <td>0.0</td>\n",
       "      <td>0.0</td>\n",
       "      <td>-1.0</td>\n",
       "      <td>0.0</td>\n",
       "      <td>-1.0</td>\n",
       "      <td>0.0</td>\n",
       "      <td>-1.0</td>\n",
       "      <td>0.0</td>\n",
       "      <td>1.0</td>\n",
       "      <td>0.0</td>\n",
       "      <td>0.0</td>\n",
       "      <td>0.0</td>\n",
       "      <td>0.0</td>\n",
       "      <td>0.000000</td>\n",
       "      <td>3.166667</td>\n",
       "      <td>-0.502347</td>\n",
       "      <td>2.176394</td>\n",
       "      <td>72.769231</td>\n",
       "      <td>1.0</td>\n",
       "      <td>-0.477612</td>\n",
       "      <td>0.267164</td>\n",
       "      <td>1068.0</td>\n",
       "    </tr>\n",
       "    <tr>\n",
       "      <th>2</th>\n",
       "      <td>-0.928571</td>\n",
       "      <td>-1.0</td>\n",
       "      <td>0.0</td>\n",
       "      <td>0.555556</td>\n",
       "      <td>0.595238</td>\n",
       "      <td>0.0</td>\n",
       "      <td>0.0</td>\n",
       "      <td>0.0</td>\n",
       "      <td>0.0</td>\n",
       "      <td>1.0</td>\n",
       "      <td>0.0</td>\n",
       "      <td>0.0</td>\n",
       "      <td>0.0</td>\n",
       "      <td>0.0</td>\n",
       "      <td>1.0</td>\n",
       "      <td>0.0</td>\n",
       "      <td>-1.0</td>\n",
       "      <td>0.0</td>\n",
       "      <td>0.0</td>\n",
       "      <td>1.000000</td>\n",
       "      <td>2.833333</td>\n",
       "      <td>-0.056338</td>\n",
       "      <td>2.040208</td>\n",
       "      <td>65.076923</td>\n",
       "      <td>1.0</td>\n",
       "      <td>0.298507</td>\n",
       "      <td>0.655224</td>\n",
       "      <td>1068.0</td>\n",
       "    </tr>\n",
       "    <tr>\n",
       "      <th>3</th>\n",
       "      <td>-0.357143</td>\n",
       "      <td>0.0</td>\n",
       "      <td>0.0</td>\n",
       "      <td>0.555556</td>\n",
       "      <td>-0.166667</td>\n",
       "      <td>0.0</td>\n",
       "      <td>0.0</td>\n",
       "      <td>0.0</td>\n",
       "      <td>0.0</td>\n",
       "      <td>0.0</td>\n",
       "      <td>0.0</td>\n",
       "      <td>0.0</td>\n",
       "      <td>-1.0</td>\n",
       "      <td>0.0</td>\n",
       "      <td>0.0</td>\n",
       "      <td>0.0</td>\n",
       "      <td>-1.0</td>\n",
       "      <td>-1.0</td>\n",
       "      <td>0.0</td>\n",
       "      <td>-0.333333</td>\n",
       "      <td>4.500000</td>\n",
       "      <td>-0.338028</td>\n",
       "      <td>3.259403</td>\n",
       "      <td>49.692308</td>\n",
       "      <td>2.0</td>\n",
       "      <td>-0.268657</td>\n",
       "      <td>1.168657</td>\n",
       "      <td>1068.0</td>\n",
       "    </tr>\n",
       "    <tr>\n",
       "      <th>4</th>\n",
       "      <td>-0.714286</td>\n",
       "      <td>0.0</td>\n",
       "      <td>1.0</td>\n",
       "      <td>0.555556</td>\n",
       "      <td>0.380952</td>\n",
       "      <td>0.0</td>\n",
       "      <td>0.0</td>\n",
       "      <td>0.0</td>\n",
       "      <td>-1.0</td>\n",
       "      <td>1.0</td>\n",
       "      <td>0.0</td>\n",
       "      <td>-1.0</td>\n",
       "      <td>0.0</td>\n",
       "      <td>0.0</td>\n",
       "      <td>1.0</td>\n",
       "      <td>0.0</td>\n",
       "      <td>0.0</td>\n",
       "      <td>0.0</td>\n",
       "      <td>0.0</td>\n",
       "      <td>0.666667</td>\n",
       "      <td>0.500000</td>\n",
       "      <td>3.629108</td>\n",
       "      <td>1.242542</td>\n",
       "      <td>11.230769</td>\n",
       "      <td>1.0</td>\n",
       "      <td>0.597015</td>\n",
       "      <td>0.804478</td>\n",
       "      <td>1068.0</td>\n",
       "    </tr>\n",
       "  </tbody>\n",
       "</table>\n",
       "</div>"
      ],
      "text/plain": [
       "   Year of Birth  Gender  Race     State    County  NoOfMonths_PartACov  \\\n",
       "0       0.571429    -1.0   0.0  0.555556 -0.285714                  0.0   \n",
       "1      -1.571429     0.0   0.0  0.555556 -0.285714                  0.0   \n",
       "2      -0.928571    -1.0   0.0  0.555556  0.595238                  0.0   \n",
       "3      -0.357143     0.0   0.0  0.555556 -0.166667                  0.0   \n",
       "4      -0.714286     0.0   1.0  0.555556  0.380952                  0.0   \n",
       "\n",
       "   NoOfMonths_PartBCov  RenalDiseaseIndicator  ChronicCond_Alzheimer  \\\n",
       "0                  0.0                    0.0                   -1.0   \n",
       "1                  0.0                    0.0                   -1.0   \n",
       "2                  0.0                    0.0                    0.0   \n",
       "3                  0.0                    0.0                    0.0   \n",
       "4                  0.0                    0.0                   -1.0   \n",
       "\n",
       "   ChronicCond_Heartfailure  ChronicCond_KidneyDisease  ChronicCond_Cancer  \\\n",
       "0                       1.0                       -1.0                 0.0   \n",
       "1                       0.0                       -1.0                 0.0   \n",
       "2                       1.0                        0.0                 0.0   \n",
       "3                       0.0                        0.0                 0.0   \n",
       "4                       1.0                        0.0                -1.0   \n",
       "\n",
       "   ChronicCond_ObstrPulmonary  ChronicCond_Depression  ChronicCond_Diabetes  \\\n",
       "0                         0.0                    -1.0                   0.0   \n",
       "1                        -1.0                     0.0                   1.0   \n",
       "2                         0.0                     0.0                   1.0   \n",
       "3                        -1.0                     0.0                   0.0   \n",
       "4                         0.0                     0.0                   1.0   \n",
       "\n",
       "   ChronicCond_IschemicHeart  ChronicCond_Osteoporasis  \\\n",
       "0                        0.0                       0.0   \n",
       "1                        0.0                       0.0   \n",
       "2                        0.0                      -1.0   \n",
       "3                        0.0                      -1.0   \n",
       "4                        0.0                       0.0   \n",
       "\n",
       "   ChronicCond_rheumatoidarthritis  ChronicCond_stroke  PatientRiskScore  \\\n",
       "0                             -1.0                -1.0         -0.666667   \n",
       "1                              0.0                 0.0          0.000000   \n",
       "2                              0.0                 0.0          1.000000   \n",
       "3                             -1.0                 0.0         -0.333333   \n",
       "4                              0.0                 0.0          0.666667   \n",
       "\n",
       "   IPAnnualReimbursementAmt  OPAnnualReimbursementAmt  TotalReimbursement  \\\n",
       "0                  6.000000                 -0.521127            4.376135   \n",
       "1                  3.166667                 -0.502347            2.176394   \n",
       "2                  2.833333                 -0.056338            2.040208   \n",
       "3                  4.500000                 -0.338028            3.259403   \n",
       "4                  0.500000                  3.629108            1.242542   \n",
       "\n",
       "   InscClaimAmtReimbursed  IPAnnualDeductibleAmt  OPAnnualDeductibleAmt  \\\n",
       "0               99.692308                    3.0              -0.402985   \n",
       "1               72.769231                    1.0              -0.477612   \n",
       "2               65.076923                    1.0               0.298507   \n",
       "3               49.692308                    2.0              -0.268657   \n",
       "4               11.230769                    1.0               0.597015   \n",
       "\n",
       "   TotalDeductibleamount  DeductibleAmtPaid  \n",
       "0               1.898507             1068.0  \n",
       "1               0.267164             1068.0  \n",
       "2               0.655224             1068.0  \n",
       "3               1.168657             1068.0  \n",
       "4               0.804478             1068.0  "
      ]
     },
     "execution_count": 183,
     "metadata": {},
     "output_type": "execute_result"
    }
   ],
   "source": [
    "X.head()"
   ]
  },
  {
   "cell_type": "raw",
   "metadata": {
    "id": "dZfgyf4bXCK_"
   },
   "source": [
    "Before applying various classification techniques to predict the admission status of the student, let us split the dataset in train and test set."
   ]
  },
  {
   "cell_type": "code",
   "execution_count": 184,
   "metadata": {
    "colab": {
     "base_uri": "https://localhost:8080/"
    },
    "id": "iryvddh2lQ_U",
    "outputId": "3a236a1d-ec92-42d9-b756-69def7b06ddd"
   },
   "outputs": [
    {
     "name": "stdout",
     "output_type": "stream",
     "text": [
      "X_train (446568, 28)\n",
      "y_train (446568,)\n",
      "X_test (111643, 28)\n",
      "y_test (111643,)\n"
     ]
    }
   ],
   "source": [
    "y = df_final_num.PotentialFraud\n",
    "\n",
    "X_train,X_test,y_train,y_test = train_test_split(X,y,test_size = 0.2,random_state = 10)\n",
    "\n",
    "print('X_train', X_train.shape)\n",
    "print('y_train', y_train.shape)\n",
    "\n",
    "# print dimension of test set\n",
    "print('X_test', X_test.shape)\n",
    "print('y_test', y_test.shape)"
   ]
  },
  {
   "cell_type": "code",
   "execution_count": 185,
   "metadata": {
    "colab": {
     "base_uri": "https://localhost:8080/",
     "height": 288
    },
    "id": "T2Xs5dAAlQ_U",
    "outputId": "e17165cd-580b-4728-ec22-9e3d35190750"
   },
   "outputs": [
    {
     "data": {
      "text/html": [
       "<div>\n",
       "<style scoped>\n",
       "    .dataframe tbody tr th:only-of-type {\n",
       "        vertical-align: middle;\n",
       "    }\n",
       "\n",
       "    .dataframe tbody tr th {\n",
       "        vertical-align: top;\n",
       "    }\n",
       "\n",
       "    .dataframe thead th {\n",
       "        text-align: right;\n",
       "    }\n",
       "</style>\n",
       "<table border=\"1\" class=\"dataframe\">\n",
       "  <thead>\n",
       "    <tr style=\"text-align: right;\">\n",
       "      <th></th>\n",
       "      <th>Year of Birth</th>\n",
       "      <th>Gender</th>\n",
       "      <th>Race</th>\n",
       "      <th>State</th>\n",
       "      <th>County</th>\n",
       "      <th>NoOfMonths_PartACov</th>\n",
       "      <th>NoOfMonths_PartBCov</th>\n",
       "      <th>RenalDiseaseIndicator</th>\n",
       "      <th>ChronicCond_Alzheimer</th>\n",
       "      <th>ChronicCond_Heartfailure</th>\n",
       "      <th>ChronicCond_KidneyDisease</th>\n",
       "      <th>ChronicCond_Cancer</th>\n",
       "      <th>ChronicCond_ObstrPulmonary</th>\n",
       "      <th>ChronicCond_Depression</th>\n",
       "      <th>ChronicCond_Diabetes</th>\n",
       "      <th>ChronicCond_IschemicHeart</th>\n",
       "      <th>ChronicCond_Osteoporasis</th>\n",
       "      <th>ChronicCond_rheumatoidarthritis</th>\n",
       "      <th>ChronicCond_stroke</th>\n",
       "      <th>PatientRiskScore</th>\n",
       "      <th>IPAnnualReimbursementAmt</th>\n",
       "      <th>OPAnnualReimbursementAmt</th>\n",
       "      <th>TotalReimbursement</th>\n",
       "      <th>InscClaimAmtReimbursed</th>\n",
       "      <th>IPAnnualDeductibleAmt</th>\n",
       "      <th>OPAnnualDeductibleAmt</th>\n",
       "      <th>TotalDeductibleamount</th>\n",
       "      <th>DeductibleAmtPaid</th>\n",
       "    </tr>\n",
       "  </thead>\n",
       "  <tbody>\n",
       "    <tr>\n",
       "      <th>551674</th>\n",
       "      <td>-0.928571</td>\n",
       "      <td>-1.0</td>\n",
       "      <td>0.0</td>\n",
       "      <td>0.259259</td>\n",
       "      <td>-0.071429</td>\n",
       "      <td>0.0</td>\n",
       "      <td>0.0</td>\n",
       "      <td>0.0</td>\n",
       "      <td>-1.0</td>\n",
       "      <td>0.0</td>\n",
       "      <td>-1.0</td>\n",
       "      <td>0.0</td>\n",
       "      <td>-1.0</td>\n",
       "      <td>-1.0</td>\n",
       "      <td>0.0</td>\n",
       "      <td>0.0</td>\n",
       "      <td>-1.0</td>\n",
       "      <td>-1.0</td>\n",
       "      <td>0.0</td>\n",
       "      <td>-1.333333</td>\n",
       "      <td>0.0</td>\n",
       "      <td>0.014085</td>\n",
       "      <td>-0.145266</td>\n",
       "      <td>0.461538</td>\n",
       "      <td>0.0</td>\n",
       "      <td>-0.283582</td>\n",
       "      <td>-0.432836</td>\n",
       "      <td>0.0</td>\n",
       "    </tr>\n",
       "    <tr>\n",
       "      <th>275479</th>\n",
       "      <td>-0.214286</td>\n",
       "      <td>0.0</td>\n",
       "      <td>0.0</td>\n",
       "      <td>0.259259</td>\n",
       "      <td>-0.595238</td>\n",
       "      <td>0.0</td>\n",
       "      <td>0.0</td>\n",
       "      <td>0.0</td>\n",
       "      <td>0.0</td>\n",
       "      <td>0.0</td>\n",
       "      <td>0.0</td>\n",
       "      <td>0.0</td>\n",
       "      <td>0.0</td>\n",
       "      <td>-1.0</td>\n",
       "      <td>0.0</td>\n",
       "      <td>0.0</td>\n",
       "      <td>0.0</td>\n",
       "      <td>0.0</td>\n",
       "      <td>-1.0</td>\n",
       "      <td>0.000000</td>\n",
       "      <td>0.0</td>\n",
       "      <td>-0.399061</td>\n",
       "      <td>-0.259403</td>\n",
       "      <td>-0.230769</td>\n",
       "      <td>0.0</td>\n",
       "      <td>-0.208955</td>\n",
       "      <td>-0.395522</td>\n",
       "      <td>0.0</td>\n",
       "    </tr>\n",
       "    <tr>\n",
       "      <th>335968</th>\n",
       "      <td>0.500000</td>\n",
       "      <td>-1.0</td>\n",
       "      <td>0.0</td>\n",
       "      <td>-0.074074</td>\n",
       "      <td>-0.785714</td>\n",
       "      <td>0.0</td>\n",
       "      <td>0.0</td>\n",
       "      <td>0.0</td>\n",
       "      <td>0.0</td>\n",
       "      <td>0.0</td>\n",
       "      <td>0.0</td>\n",
       "      <td>0.0</td>\n",
       "      <td>0.0</td>\n",
       "      <td>0.0</td>\n",
       "      <td>0.0</td>\n",
       "      <td>0.0</td>\n",
       "      <td>0.0</td>\n",
       "      <td>0.0</td>\n",
       "      <td>0.0</td>\n",
       "      <td>0.666667</td>\n",
       "      <td>0.0</td>\n",
       "      <td>1.568075</td>\n",
       "      <td>0.284047</td>\n",
       "      <td>-0.076923</td>\n",
       "      <td>0.0</td>\n",
       "      <td>0.000000</td>\n",
       "      <td>-0.291045</td>\n",
       "      <td>0.0</td>\n",
       "    </tr>\n",
       "    <tr>\n",
       "      <th>222105</th>\n",
       "      <td>0.285714</td>\n",
       "      <td>0.0</td>\n",
       "      <td>0.0</td>\n",
       "      <td>0.814815</td>\n",
       "      <td>-0.214286</td>\n",
       "      <td>0.0</td>\n",
       "      <td>0.0</td>\n",
       "      <td>0.0</td>\n",
       "      <td>0.0</td>\n",
       "      <td>0.0</td>\n",
       "      <td>0.0</td>\n",
       "      <td>0.0</td>\n",
       "      <td>0.0</td>\n",
       "      <td>0.0</td>\n",
       "      <td>0.0</td>\n",
       "      <td>1.0</td>\n",
       "      <td>0.0</td>\n",
       "      <td>0.0</td>\n",
       "      <td>0.0</td>\n",
       "      <td>1.000000</td>\n",
       "      <td>0.0</td>\n",
       "      <td>-0.248826</td>\n",
       "      <td>-0.217899</td>\n",
       "      <td>0.000000</td>\n",
       "      <td>0.0</td>\n",
       "      <td>-0.358209</td>\n",
       "      <td>-0.470149</td>\n",
       "      <td>0.0</td>\n",
       "    </tr>\n",
       "    <tr>\n",
       "      <th>391239</th>\n",
       "      <td>-0.285714</td>\n",
       "      <td>0.0</td>\n",
       "      <td>0.0</td>\n",
       "      <td>-0.481481</td>\n",
       "      <td>0.571429</td>\n",
       "      <td>0.0</td>\n",
       "      <td>0.0</td>\n",
       "      <td>0.0</td>\n",
       "      <td>-1.0</td>\n",
       "      <td>1.0</td>\n",
       "      <td>0.0</td>\n",
       "      <td>0.0</td>\n",
       "      <td>-1.0</td>\n",
       "      <td>0.0</td>\n",
       "      <td>0.0</td>\n",
       "      <td>0.0</td>\n",
       "      <td>0.0</td>\n",
       "      <td>0.0</td>\n",
       "      <td>0.0</td>\n",
       "      <td>0.333333</td>\n",
       "      <td>0.0</td>\n",
       "      <td>0.220657</td>\n",
       "      <td>-0.088197</td>\n",
       "      <td>0.076923</td>\n",
       "      <td>0.0</td>\n",
       "      <td>-0.179104</td>\n",
       "      <td>-0.380597</td>\n",
       "      <td>0.0</td>\n",
       "    </tr>\n",
       "  </tbody>\n",
       "</table>\n",
       "</div>"
      ],
      "text/plain": [
       "        Year of Birth  Gender  Race     State    County  NoOfMonths_PartACov  \\\n",
       "551674      -0.928571    -1.0   0.0  0.259259 -0.071429                  0.0   \n",
       "275479      -0.214286     0.0   0.0  0.259259 -0.595238                  0.0   \n",
       "335968       0.500000    -1.0   0.0 -0.074074 -0.785714                  0.0   \n",
       "222105       0.285714     0.0   0.0  0.814815 -0.214286                  0.0   \n",
       "391239      -0.285714     0.0   0.0 -0.481481  0.571429                  0.0   \n",
       "\n",
       "        NoOfMonths_PartBCov  RenalDiseaseIndicator  ChronicCond_Alzheimer  \\\n",
       "551674                  0.0                    0.0                   -1.0   \n",
       "275479                  0.0                    0.0                    0.0   \n",
       "335968                  0.0                    0.0                    0.0   \n",
       "222105                  0.0                    0.0                    0.0   \n",
       "391239                  0.0                    0.0                   -1.0   \n",
       "\n",
       "        ChronicCond_Heartfailure  ChronicCond_KidneyDisease  \\\n",
       "551674                       0.0                       -1.0   \n",
       "275479                       0.0                        0.0   \n",
       "335968                       0.0                        0.0   \n",
       "222105                       0.0                        0.0   \n",
       "391239                       1.0                        0.0   \n",
       "\n",
       "        ChronicCond_Cancer  ChronicCond_ObstrPulmonary  \\\n",
       "551674                 0.0                        -1.0   \n",
       "275479                 0.0                         0.0   \n",
       "335968                 0.0                         0.0   \n",
       "222105                 0.0                         0.0   \n",
       "391239                 0.0                        -1.0   \n",
       "\n",
       "        ChronicCond_Depression  ChronicCond_Diabetes  \\\n",
       "551674                    -1.0                   0.0   \n",
       "275479                    -1.0                   0.0   \n",
       "335968                     0.0                   0.0   \n",
       "222105                     0.0                   0.0   \n",
       "391239                     0.0                   0.0   \n",
       "\n",
       "        ChronicCond_IschemicHeart  ChronicCond_Osteoporasis  \\\n",
       "551674                        0.0                      -1.0   \n",
       "275479                        0.0                       0.0   \n",
       "335968                        0.0                       0.0   \n",
       "222105                        1.0                       0.0   \n",
       "391239                        0.0                       0.0   \n",
       "\n",
       "        ChronicCond_rheumatoidarthritis  ChronicCond_stroke  PatientRiskScore  \\\n",
       "551674                             -1.0                 0.0         -1.333333   \n",
       "275479                              0.0                -1.0          0.000000   \n",
       "335968                              0.0                 0.0          0.666667   \n",
       "222105                              0.0                 0.0          1.000000   \n",
       "391239                              0.0                 0.0          0.333333   \n",
       "\n",
       "        IPAnnualReimbursementAmt  OPAnnualReimbursementAmt  \\\n",
       "551674                       0.0                  0.014085   \n",
       "275479                       0.0                 -0.399061   \n",
       "335968                       0.0                  1.568075   \n",
       "222105                       0.0                 -0.248826   \n",
       "391239                       0.0                  0.220657   \n",
       "\n",
       "        TotalReimbursement  InscClaimAmtReimbursed  IPAnnualDeductibleAmt  \\\n",
       "551674           -0.145266                0.461538                    0.0   \n",
       "275479           -0.259403               -0.230769                    0.0   \n",
       "335968            0.284047               -0.076923                    0.0   \n",
       "222105           -0.217899                0.000000                    0.0   \n",
       "391239           -0.088197                0.076923                    0.0   \n",
       "\n",
       "        OPAnnualDeductibleAmt  TotalDeductibleamount  DeductibleAmtPaid  \n",
       "551674              -0.283582              -0.432836                0.0  \n",
       "275479              -0.208955              -0.395522                0.0  \n",
       "335968               0.000000              -0.291045                0.0  \n",
       "222105              -0.358209              -0.470149                0.0  \n",
       "391239              -0.179104              -0.380597                0.0  "
      ]
     },
     "execution_count": 185,
     "metadata": {},
     "output_type": "execute_result"
    }
   ],
   "source": [
    "X_train.head()"
   ]
  },
  {
   "cell_type": "markdown",
   "metadata": {
    "id": "vl-MLLqwlQ_U"
   },
   "source": [
    "#### Create a generalized function to create a dataframe containing the scores for the models.\n"
   ]
  },
  {
   "cell_type": "code",
   "execution_count": 186,
   "metadata": {
    "id": "E4UEKRpYlQ_V"
   },
   "outputs": [],
   "source": [
    "score_card = pd.DataFrame(columns=['Model_Name', 'AUC Score', 'Precision Score', 'Recall Score',\n",
    "                                       'Accuracy Score', 'Kappa Score', 'f1-score'])\n",
    "\n",
    "def update_score_card(algorithm_name,model):\n",
    "    \n",
    "    # let 'y_pred_prob' be the predicted values of y\n",
    "    y_pred_prob = model.predict(X_test)\n",
    "\n",
    "    # convert probabilities to 0 and 1 using 'if_else'\n",
    "    y_pred = [ 0 if x < 0.5 else 1 for x in y_pred_prob]\n",
    "    \n",
    "    # assign 'score_card' as global variable\n",
    "    global score_card\n",
    "\n",
    "    # append the results to the dataframe 'score_card'\n",
    "    # 'ignore_index = True' do not consider the index labels\n",
    "    score_card = score_card.append({'Model_Name': algorithm_name,\n",
    "                                  \n",
    "                                    'AUC Score' : metrics.roc_auc_score(y_test, y_pred),\n",
    "                                    'Precision Score': metrics.precision_score(y_test, y_pred),\n",
    "                                    'Recall Score': metrics.recall_score(y_test, y_pred),\n",
    "                                    'Accuracy Score': metrics.accuracy_score(y_test, y_pred),\n",
    "                                    'Kappa Score':metrics.cohen_kappa_score(y_test, y_pred),\n",
    "                                    'f1-score': metrics.f1_score(y_test, y_pred)}, \n",
    "                                    ignore_index = True)"
   ]
  },
  {
   "cell_type": "markdown",
   "metadata": {
    "id": "rDZehjJiPbNc"
   },
   "source": [
    "#### Create a generalized function to calculate the metrics for the train and the test set."
   ]
  },
  {
   "cell_type": "code",
   "execution_count": 187,
   "metadata": {
    "id": "e8D4yfHRPbNc"
   },
   "outputs": [],
   "source": [
    "# create a generalized function to calculate the metrics values for train set\n",
    "def get_train_report(model):\n",
    "    \n",
    "    # for training set:\n",
    "    # train_pred: prediction made by the model on the train dataset 'X_train'\n",
    "    # y_train: actual values of the target variable for the train dataset\n",
    "\n",
    "    # predict the output of the target variable from the train data \n",
    "    train_pred = model.predict(X_train)\n",
    "\n",
    "    # return the performace measures on train set\n",
    "    return(classification_report(y_train, train_pred))"
   ]
  },
  {
   "cell_type": "code",
   "execution_count": 188,
   "metadata": {
    "id": "vvKzfUd9PbNd"
   },
   "outputs": [],
   "source": [
    "# create a generalized function to calculate the metrics values for test set\n",
    "def get_test_report(model):\n",
    "    \n",
    "    # for test set:\n",
    "    # test_pred: prediction made by the model on the test dataset 'X_test'\n",
    "    # y_test: actual values of the target variable for the test dataset\n",
    "\n",
    "    # predict the output of the target variable from the test data \n",
    "    test_pred = model.predict(X_test)\n",
    "\n",
    "    # return the performace measures on test set\n",
    "    return(classification_report(y_test, test_pred))"
   ]
  },
  {
   "cell_type": "raw",
   "metadata": {
    "id": "cgjbnH0NXCLB"
   },
   "source": [
    "The decision tree is said to be over-fitted if it tries to perfectly fit all the observations in the training data. We can calculate the difference between the train and test accuracy to identify if there is over-fitting."
   ]
  },
  {
   "cell_type": "markdown",
   "metadata": {
    "id": "T2ia_mhUPbNd"
   },
   "source": [
    "### Over-fitting in Decision Tree"
   ]
  },
  {
   "cell_type": "code",
   "execution_count": 189,
   "metadata": {
    "id": "afHk1SzFPbNd"
   },
   "outputs": [],
   "source": [
    "# Build a full decision tree model on a train dataset using 'gini'.\n",
    "decision_tree_classification = DecisionTreeClassifier(criterion = 'gini', random_state = 10)\n",
    "decision_tree = decision_tree_classification.fit(X_train, y_train)"
   ]
  },
  {
   "cell_type": "code",
   "execution_count": 190,
   "metadata": {
    "colab": {
     "base_uri": "https://localhost:8080/"
    },
    "id": "BupwoO09PbNd",
    "outputId": "fad64e9b-d602-48e6-e9b3-a9a72179cace",
    "scrolled": true
   },
   "outputs": [
    {
     "name": "stdout",
     "output_type": "stream",
     "text": [
      "              precision    recall  f1-score   support\n",
      "\n",
      "           0       0.96      1.00      0.98    276595\n",
      "           1       0.99      0.94      0.96    169973\n",
      "\n",
      "    accuracy                           0.97    446568\n",
      "   macro avg       0.98      0.97      0.97    446568\n",
      "weighted avg       0.97      0.97      0.97    446568\n",
      "\n"
     ]
    }
   ],
   "source": [
    "train_report = get_train_report(decision_tree)\n",
    "print(train_report)"
   ]
  },
  {
   "cell_type": "code",
   "execution_count": 191,
   "metadata": {
    "id": "TzDhJXWVlQ_a"
   },
   "outputs": [],
   "source": [
    "y_pred = decision_tree.predict(X_test)\n",
    "y_pred_dtrcv = [ 0 if x < 0.5 else 1 for x in y_pred]"
   ]
  },
  {
   "cell_type": "code",
   "execution_count": 192,
   "metadata": {
    "colab": {
     "base_uri": "https://localhost:8080/"
    },
    "id": "TE31DCeqlQ_a",
    "outputId": "f3ab8ba7-5f80-4511-c4e4-ee0e48bdbd39"
   },
   "outputs": [
    {
     "name": "stdout",
     "output_type": "stream",
     "text": [
      "roc_auc_score: 0.679894795044609\n",
      "cohen_kappa_score: 0.36109397457499737\n"
     ]
    }
   ],
   "source": [
    "print(\"roc_auc_score:\",metrics.roc_auc_score(y_test, y_pred_dtrcv))\n",
    "print(\"cohen_kappa_score:\",metrics.cohen_kappa_score(y_test, y_pred_dtrcv))"
   ]
  },
  {
   "cell_type": "code",
   "execution_count": 193,
   "metadata": {
    "colab": {
     "base_uri": "https://localhost:8080/",
     "height": 81
    },
    "id": "ypldFGEBznIn",
    "outputId": "2a89f5dd-ad52-4e32-a9d9-2dab8f3ce9d7"
   },
   "outputs": [
    {
     "data": {
      "text/html": [
       "<div>\n",
       "<style scoped>\n",
       "    .dataframe tbody tr th:only-of-type {\n",
       "        vertical-align: middle;\n",
       "    }\n",
       "\n",
       "    .dataframe tbody tr th {\n",
       "        vertical-align: top;\n",
       "    }\n",
       "\n",
       "    .dataframe thead th {\n",
       "        text-align: right;\n",
       "    }\n",
       "</style>\n",
       "<table border=\"1\" class=\"dataframe\">\n",
       "  <thead>\n",
       "    <tr style=\"text-align: right;\">\n",
       "      <th></th>\n",
       "      <th>Model_Name</th>\n",
       "      <th>AUC Score</th>\n",
       "      <th>Precision Score</th>\n",
       "      <th>Recall Score</th>\n",
       "      <th>Accuracy Score</th>\n",
       "      <th>Kappa Score</th>\n",
       "      <th>f1-score</th>\n",
       "    </tr>\n",
       "  </thead>\n",
       "  <tbody>\n",
       "    <tr>\n",
       "      <th>0</th>\n",
       "      <td>Bayes Decision Tree</td>\n",
       "      <td>0.679895</td>\n",
       "      <td>0.60968</td>\n",
       "      <td>0.59802</td>\n",
       "      <td>0.69896</td>\n",
       "      <td>0.361094</td>\n",
       "      <td>0.603794</td>\n",
       "    </tr>\n",
       "  </tbody>\n",
       "</table>\n",
       "</div>"
      ],
      "text/plain": [
       "             Model_Name  AUC Score  Precision Score  Recall Score  \\\n",
       "0  Bayes Decision Tree    0.679895          0.60968       0.59802   \n",
       "\n",
       "   Accuracy Score  Kappa Score  f1-score  \n",
       "0         0.69896     0.361094  0.603794  "
      ]
     },
     "execution_count": 193,
     "metadata": {},
     "output_type": "execute_result"
    }
   ],
   "source": [
    "update_score_card(algorithm_name = 'Bayes Decision Tree ', model = decision_tree)\n",
    "score_card"
   ]
  },
  {
   "cell_type": "code",
   "execution_count": 194,
   "metadata": {
    "id": "RnxJggiRXCLD"
   },
   "outputs": [],
   "source": [
    "# Interpretation: From the above output, we can see that there is a difference between the train and test accuracy; \n",
    "# thus, we can conclude that the decision tree is over-fitted on the train data.\n",
    "\n",
    "# If we tune the hyperparameters in the decision tree, it helps to avoid the over-fitting of the tree."
   ]
  },
  {
   "cell_type": "markdown",
   "metadata": {
    "id": "36-oQcqTlQ_a"
   },
   "source": [
    "### 6. Decision Tree (basic tuning)"
   ]
  },
  {
   "cell_type": "markdown",
   "metadata": {
    "id": "XVnH1TddPbNd"
   },
   "source": [
    "#### Build a decision tree using 'criterion = gini', 'max_depth = 70', 'min_samples_split = 60', 'max_leaf_nodes = 85'"
   ]
  },
  {
   "cell_type": "code",
   "execution_count": 195,
   "metadata": {
    "colab": {
     "base_uri": "https://localhost:8080/"
    },
    "id": "QBdjFvAkPbNe",
    "outputId": "1bf267da-34f3-467a-8a55-1fc5e885ab79",
    "scrolled": true
   },
   "outputs": [
    {
     "name": "stdout",
     "output_type": "stream",
     "text": [
      "Test data:\n",
      "               precision    recall  f1-score   support\n",
      "\n",
      "           0       0.74      0.85      0.79     68820\n",
      "           1       0.67      0.51      0.58     42823\n",
      "\n",
      "    accuracy                           0.72    111643\n",
      "   macro avg       0.71      0.68      0.69    111643\n",
      "weighted avg       0.71      0.72      0.71    111643\n",
      "\n"
     ]
    }
   ],
   "source": [
    "# pass the criteria 'gini' to the parameter, 'criterion' \n",
    "# max_depth: that assigns maximum depth of the tree\n",
    "# min_samples_split: assigns minimum number of samples to split an internal node\n",
    "# max_leaf_nodes': assigns maximum number of leaf nodes in the tree\n",
    "# pass the 'random_state' to obtain the same samples for each time you run the code\n",
    "\n",
    "dt_model = DecisionTreeClassifier(criterion = 'gini',\n",
    "                                  max_depth = 70,\n",
    "                                  min_samples_split = 60,\n",
    "                                  max_leaf_nodes = 85,\n",
    "                                  random_state = 10)\n",
    "\n",
    "# fit the model using fit() on train data\n",
    "decision_tree1 = dt_model.fit(X_train, y_train)\n",
    "\n",
    "# compute the performance measures on train data\n",
    "# call the function 'get_train_report'\n",
    "# pass the decision tree to the function\n",
    "train_report = get_train_report(decision_tree1)\n",
    "\n",
    "\n",
    "# compute the performance measures on test data\n",
    "# call the function 'get_test_report'\n",
    "# pass the decision tree to the function\n",
    "test_report = get_test_report(decision_tree1)\n",
    "\n",
    "\n",
    "# print the performance measures\n",
    "print('Test data:\\n', test_report)"
   ]
  },
  {
   "cell_type": "raw",
   "metadata": {
    "id": "mQSyzWqCXCLE"
   },
   "source": [
    "Interpretation: From the above output, we can see that there is slight significant difference between the train and test accuracy; thus, we can conclude that the decision tree is less over-fiited after specifying some of the hyperparameters."
   ]
  },
  {
   "cell_type": "code",
   "execution_count": 196,
   "metadata": {
    "colab": {
     "base_uri": "https://localhost:8080/",
     "height": 712
    },
    "id": "nuq6TEON3TTC",
    "outputId": "594cd412-3ec0-4f82-e2f9-52787310e0f4"
   },
   "outputs": [
    {
     "name": "stdout",
     "output_type": "stream",
     "text": [
      "Train AUC =  0.7458124818957557\n",
      "Test AUC =  0.7436806529839517\n"
     ]
    },
    {
     "data": {
      "image/png": "[encoded data removed]",
      "text/plain": [
       "<Figure size 640x480 with 1 Axes>"
      ]
     },
     "metadata": {},
     "output_type": "display_data"
    },
    {
     "data": {
      "image/png": "[encoded data removed]",
      "text/plain": [
       "<Figure size 2000x600 with 4 Axes>"
      ]
     },
     "metadata": {},
     "output_type": "display_data"
    },
    {
     "name": "stdout",
     "output_type": "stream",
     "text": [
      "Best Threshold = 0.3607\n",
      "Model AUC is : 0.7437\n",
      "Model F1 Score is : 0.6265\n"
     ]
    }
   ],
   "source": [
    "test_auc, test_f1_score, best_t = validate_model(decision_tree1, X_train, X_test, y_train, y_test)\n",
    "\n",
    "print(\"Best Threshold = {:.4f}\".format(best_t))\n",
    "print(\"Model AUC is : {:.4f}\".format(test_auc))\n",
    "print(\"Model F1 Score is : {:.4f}\".format(test_f1_score))"
   ]
  },
  {
   "cell_type": "code",
   "execution_count": 197,
   "metadata": {
    "id": "2_bsGJbtlQ_b"
   },
   "outputs": [],
   "source": [
    "y_pred = decision_tree1.predict(X_test)\n",
    "y_pred_dt1 = [ 0 if x < 0.5 else 1 for x in y_pred]"
   ]
  },
  {
   "cell_type": "code",
   "execution_count": 198,
   "metadata": {
    "colab": {
     "base_uri": "https://localhost:8080/",
     "height": 112
    },
    "id": "3y4kwOjN9PcX",
    "outputId": "cc71d0ae-4f53-4a40-a63f-bf9a03581327"
   },
   "outputs": [
    {
     "data": {
      "text/html": [
       "<div>\n",
       "<style scoped>\n",
       "    .dataframe tbody tr th:only-of-type {\n",
       "        vertical-align: middle;\n",
       "    }\n",
       "\n",
       "    .dataframe tbody tr th {\n",
       "        vertical-align: top;\n",
       "    }\n",
       "\n",
       "    .dataframe thead th {\n",
       "        text-align: right;\n",
       "    }\n",
       "</style>\n",
       "<table border=\"1\" class=\"dataframe\">\n",
       "  <thead>\n",
       "    <tr style=\"text-align: right;\">\n",
       "      <th></th>\n",
       "      <th>Model_Name</th>\n",
       "      <th>AUC Score</th>\n",
       "      <th>Precision Score</th>\n",
       "      <th>Recall Score</th>\n",
       "      <th>Accuracy Score</th>\n",
       "      <th>Kappa Score</th>\n",
       "      <th>f1-score</th>\n",
       "    </tr>\n",
       "  </thead>\n",
       "  <tbody>\n",
       "    <tr>\n",
       "      <th>0</th>\n",
       "      <td>Bayes Decision Tree</td>\n",
       "      <td>0.679895</td>\n",
       "      <td>0.609680</td>\n",
       "      <td>0.598020</td>\n",
       "      <td>0.698960</td>\n",
       "      <td>0.361094</td>\n",
       "      <td>0.603794</td>\n",
       "    </tr>\n",
       "    <tr>\n",
       "      <th>1</th>\n",
       "      <td>Decision Tree (tuning)</td>\n",
       "      <td>0.679470</td>\n",
       "      <td>0.674297</td>\n",
       "      <td>0.513182</td>\n",
       "      <td>0.718191</td>\n",
       "      <td>0.375904</td>\n",
       "      <td>0.582810</td>\n",
       "    </tr>\n",
       "  </tbody>\n",
       "</table>\n",
       "</div>"
      ],
      "text/plain": [
       "                Model_Name  AUC Score  Precision Score  Recall Score  \\\n",
       "0     Bayes Decision Tree    0.679895         0.609680      0.598020   \n",
       "1  Decision Tree (tuning)    0.679470         0.674297      0.513182   \n",
       "\n",
       "   Accuracy Score  Kappa Score  f1-score  \n",
       "0        0.698960     0.361094  0.603794  \n",
       "1        0.718191     0.375904  0.582810  "
      ]
     },
     "execution_count": 198,
     "metadata": {},
     "output_type": "execute_result"
    }
   ],
   "source": [
    "update_score_card(algorithm_name = 'Decision Tree (tuning) ', model = decision_tree1)\n",
    "score_card"
   ]
  },
  {
   "cell_type": "code",
   "execution_count": 199,
   "metadata": {
    "colab": {
     "base_uri": "https://localhost:8080/"
    },
    "id": "iBrGk2yWlQ_b",
    "outputId": "11b6697e-1f88-4d5c-b40c-9318e1574d3a"
   },
   "outputs": [
    {
     "name": "stdout",
     "output_type": "stream",
     "text": [
      "roc_auc_score: 0.6794696079154122\n",
      "cohen_kappa_score: 0.37590361632195257\n"
     ]
    }
   ],
   "source": [
    "print(\"roc_auc_score:\",metrics.roc_auc_score(y_test, y_pred_dt1))\n",
    "print(\"cohen_kappa_score:\",metrics.cohen_kappa_score(y_test, y_pred_dt1))"
   ]
  },
  {
   "cell_type": "markdown",
   "metadata": {
    "id": "AQ04QzX-lQ_b"
   },
   "source": [
    "### 7. Decision Tree - RandomizedSearchCV"
   ]
  },
  {
   "cell_type": "code",
   "execution_count": 200,
   "metadata": {
    "colab": {
     "base_uri": "https://localhost:8080/",
     "height": 118
    },
    "id": "c8j3fiCulQ_c",
    "outputId": "13bfb594-2729-4512-acac-1988db51e4e7",
    "scrolled": true
   },
   "outputs": [
    {
     "data": {
      "text/html": [
       "<style>#sk-container-id-5 {color: black;background-color: white;}#sk-container-id-5 pre{padding: 0;}#sk-container-id-5 div.sk-toggleable {background-color: white;}#sk-container-id-5 label.sk-toggleable__label {cursor: pointer;display: block;width: 100%;margin-bottom: 0;padding: 0.3em;box-sizing: border-box;text-align: center;}#sk-container-id-5 label.sk-toggleable__label-arrow:before {content: \"▸\";float: left;margin-right: 0.25em;color: #696969;}#sk-container-id-5 label.sk-toggleable__label-arrow:hover:before {color: black;}#sk-container-id-5 div.sk-estimator:hover label.sk-toggleable__label-arrow:before {color: black;}#sk-container-id-5 div.sk-toggleable__content {max-height: 0;max-width: 0;overflow: hidden;text-align: left;background-color: #f0f8ff;}#sk-container-id-5 div.sk-toggleable__content pre {margin: 0.2em;color: black;border-radius: 0.25em;background-color: #f0f8ff;}#sk-container-id-5 input.sk-toggleable__control:checked~div.sk-toggleable__content {max-height: 200px;max-width: 100%;overflow: auto;}#sk-container-id-5 input.sk-toggleable__control:checked~label.sk-toggleable__label-arrow:before {content: \"▾\";}#sk-container-id-5 div.sk-estimator input.sk-toggleable__control:checked~label.sk-toggleable__label {background-color: #d4ebff;}#sk-container-id-5 div.sk-label input.sk-toggleable__control:checked~label.sk-toggleable__label {background-color: #d4ebff;}#sk-container-id-5 input.sk-hidden--visually {border: 0;clip: rect(1px 1px 1px 1px);clip: rect(1px, 1px, 1px, 1px);height: 1px;margin: -1px;overflow: hidden;padding: 0;position: absolute;width: 1px;}#sk-container-id-5 div.sk-estimator {font-family: monospace;background-color: #f0f8ff;border: 1px dotted black;border-radius: 0.25em;box-sizing: border-box;margin-bottom: 0.5em;}#sk-container-id-5 div.sk-estimator:hover {background-color: #d4ebff;}#sk-container-id-5 div.sk-parallel-item::after {content: \"\";width: 100%;border-bottom: 1px solid gray;flex-grow: 1;}#sk-container-id-5 div.sk-label:hover label.sk-toggleable__label {background-color: #d4ebff;}#sk-container-id-5 div.sk-serial::before {content: \"\";position: absolute;border-left: 1px solid gray;box-sizing: border-box;top: 0;bottom: 0;left: 50%;z-index: 0;}#sk-container-id-5 div.sk-serial {display: flex;flex-direction: column;align-items: center;background-color: white;padding-right: 0.2em;padding-left: 0.2em;position: relative;}#sk-container-id-5 div.sk-item {position: relative;z-index: 1;}#sk-container-id-5 div.sk-parallel {display: flex;align-items: stretch;justify-content: center;background-color: white;position: relative;}#sk-container-id-5 div.sk-item::before, #sk-container-id-5 div.sk-parallel-item::before {content: \"\";position: absolute;border-left: 1px solid gray;box-sizing: border-box;top: 0;bottom: 0;left: 50%;z-index: -1;}#sk-container-id-5 div.sk-parallel-item {display: flex;flex-direction: column;z-index: 1;position: relative;background-color: white;}#sk-container-id-5 div.sk-parallel-item:first-child::after {align-self: flex-end;width: 50%;}#sk-container-id-5 div.sk-parallel-item:last-child::after {align-self: flex-start;width: 50%;}#sk-container-id-5 div.sk-parallel-item:only-child::after {width: 0;}#sk-container-id-5 div.sk-dashed-wrapped {border: 1px dashed gray;margin: 0 0.4em 0.5em 0.4em;box-sizing: border-box;padding-bottom: 0.4em;background-color: white;}#sk-container-id-5 div.sk-label label {font-family: monospace;font-weight: bold;display: inline-block;line-height: 1.2em;}#sk-container-id-5 div.sk-label-container {text-align: center;}#sk-container-id-5 div.sk-container {/* jupyter's `normalize.less` sets `[hidden] { display: none; }` but bootstrap.min.css set `[hidden] { display: none !important; }` so we also need the `!important` here to be able to override the default hidden behavior on the sphinx rendered scikit-learn.org. See: https://github.com/scikit-learn/scikit-learn/issues/21755 */display: inline-block !important;position: relative;}#sk-container-id-5 div.sk-text-repr-fallback {display: none;}</style><div id=\"sk-container-id-5\" class=\"sk-top-container\"><div class=\"sk-text-repr-fallback\"><pre>RandomizedSearchCV(cv=5, estimator=DecisionTreeClassifier(), n_jobs=-1,\n",
       "                   param_distributions={&#x27;criterion&#x27;: [&#x27;gini&#x27;, &#x27;entropy&#x27;],\n",
       "                                        &#x27;max_depth&#x27;: [5, 10, 50, 100, 150, 200,\n",
       "                                                      250, 500],\n",
       "                                        &#x27;min_samples_split&#x27;: [5, 10, 50, 100,\n",
       "                                                              150, 200, 250,\n",
       "                                                              500]},\n",
       "                   return_train_score=True, scoring=&#x27;roc_auc&#x27;)</pre><b>In a Jupyter environment, please rerun this cell to show the HTML representation or trust the notebook. <br />On GitHub, the HTML representation is unable to render, please try loading this page with nbviewer.org.</b></div><div class=\"sk-container\" hidden><div class=\"sk-item sk-dashed-wrapped\"><div class=\"sk-label-container\"><div class=\"sk-label sk-toggleable\"><input class=\"sk-toggleable__control sk-hidden--visually\" id=\"sk-estimator-id-7\" type=\"checkbox\" ><label for=\"sk-estimator-id-7\" class=\"sk-toggleable__label sk-toggleable__label-arrow\">RandomizedSearchCV</label><div class=\"sk-toggleable__content\"><pre>RandomizedSearchCV(cv=5, estimator=DecisionTreeClassifier(), n_jobs=-1,\n",
       "                   param_distributions={&#x27;criterion&#x27;: [&#x27;gini&#x27;, &#x27;entropy&#x27;],\n",
       "                                        &#x27;max_depth&#x27;: [5, 10, 50, 100, 150, 200,\n",
       "                                                      250, 500],\n",
       "                                        &#x27;min_samples_split&#x27;: [5, 10, 50, 100,\n",
       "                                                              150, 200, 250,\n",
       "                                                              500]},\n",
       "                   return_train_score=True, scoring=&#x27;roc_auc&#x27;)</pre></div></div></div><div class=\"sk-parallel\"><div class=\"sk-parallel-item\"><div class=\"sk-item\"><div class=\"sk-label-container\"><div class=\"sk-label sk-toggleable\"><input class=\"sk-toggleable__control sk-hidden--visually\" id=\"sk-estimator-id-8\" type=\"checkbox\" ><label for=\"sk-estimator-id-8\" class=\"sk-toggleable__label sk-toggleable__label-arrow\">estimator: DecisionTreeClassifier</label><div class=\"sk-toggleable__content\"><pre>DecisionTreeClassifier()</pre></div></div></div><div class=\"sk-serial\"><div class=\"sk-item\"><div class=\"sk-estimator sk-toggleable\"><input class=\"sk-toggleable__control sk-hidden--visually\" id=\"sk-estimator-id-9\" type=\"checkbox\" ><label for=\"sk-estimator-id-9\" class=\"sk-toggleable__label sk-toggleable__label-arrow\">DecisionTreeClassifier</label><div class=\"sk-toggleable__content\"><pre>DecisionTreeClassifier()</pre></div></div></div></div></div></div></div></div></div></div>"
      ],
      "text/plain": [
       "RandomizedSearchCV(cv=5, estimator=DecisionTreeClassifier(), n_jobs=-1,\n",
       "                   param_distributions={'criterion': ['gini', 'entropy'],\n",
       "                                        'max_depth': [5, 10, 50, 100, 150, 200,\n",
       "                                                      250, 500],\n",
       "                                        'min_samples_split': [5, 10, 50, 100,\n",
       "                                                              150, 200, 250,\n",
       "                                                              500]},\n",
       "                   return_train_score=True, scoring='roc_auc')"
      ]
     },
     "execution_count": 200,
     "metadata": {},
     "output_type": "execute_result"
    }
   ],
   "source": [
    "decisiontree = DecisionTreeClassifier() #class_weight = 'balanced'\n",
    "\n",
    "parameters = {'criterion':['gini','entropy'], 'max_depth': [5, 10, 50, 100, 150, 200, 250, 500], \n",
    "              'min_samples_split': [5, 10, 50, 100, 150, 200, 250, 500]}\n",
    "\n",
    "decisiontree_cv = RandomizedSearchCV(decisiontree, parameters, cv=5, scoring='roc_auc', n_jobs=-1, return_train_score=True)\n",
    "decisiontree_cv.fit(X_train, y_train)"
   ]
  },
  {
   "cell_type": "code",
   "execution_count": 201,
   "metadata": {
    "colab": {
     "base_uri": "https://localhost:8080/"
    },
    "id": "fCZmbUi5lQ_c",
    "outputId": "3c52194d-f2dc-4094-deec-b024cac60a47"
   },
   "outputs": [
    {
     "name": "stdout",
     "output_type": "stream",
     "text": [
      "best parameters =  {'min_samples_split': 250, 'max_depth': 500, 'criterion': 'entropy'}\n",
      "roc_auc_score : 0.8265647426217113\n"
     ]
    }
   ],
   "source": [
    "print(\"best parameters = \",decisiontree_cv.best_params_)\n",
    "print(\"roc_auc_score :\",decisiontree_cv.best_score_)"
   ]
  },
  {
   "cell_type": "code",
   "execution_count": 202,
   "metadata": {
    "colab": {
     "base_uri": "https://localhost:8080/"
    },
    "id": "4bu-lAYU-OsO",
    "outputId": "f73dfeb9-9c33-451a-a9de-11d5379349f5"
   },
   "outputs": [
    {
     "name": "stdout",
     "output_type": "stream",
     "text": [
      "Test data:\n",
      "               precision    recall  f1-score   support\n",
      "\n",
      "           0       0.76      0.85      0.80     68820\n",
      "           1       0.70      0.58      0.64     42823\n",
      "\n",
      "    accuracy                           0.75    111643\n",
      "   macro avg       0.73      0.71      0.72    111643\n",
      "weighted avg       0.74      0.75      0.74    111643\n",
      "\n"
     ]
    }
   ],
   "source": [
    "dt_model1 = DecisionTreeClassifier(criterion = 'gini',\n",
    "                                  max_depth = 50,\n",
    "                                  min_samples_split = 250,\n",
    "                                  max_leaf_nodes = 200,\n",
    "                                  random_state = 10)\n",
    "\n",
    "decision_tree2 = dt_model1.fit(X_train, y_train)\n",
    "\n",
    "train_report = get_train_report(decision_tree2)\n",
    "test_report = get_test_report(decision_tree2)\n",
    "print('Test data:\\n', test_report)"
   ]
  },
  {
   "cell_type": "code",
   "execution_count": 203,
   "metadata": {
    "colab": {
     "base_uri": "https://localhost:8080/"
    },
    "id": "-xwAjttvXCLJ",
    "outputId": "0f31db51-6916-4c80-ecdc-6adfde83cdb7"
   },
   "outputs": [
    {
     "name": "stdout",
     "output_type": "stream",
     "text": [
      "Test data:\n",
      "               precision    recall  f1-score   support\n",
      "\n",
      "           0       0.75      0.84      0.79     68820\n",
      "           1       0.68      0.55      0.61     42823\n",
      "\n",
      "    accuracy                           0.73    111643\n",
      "   macro avg       0.71      0.69      0.70    111643\n",
      "weighted avg       0.72      0.73      0.72    111643\n",
      "\n"
     ]
    }
   ],
   "source": [
    "dt_model1 = DecisionTreeClassifier(criterion = 'entropy',\n",
    "                                  max_depth = 50,\n",
    "                                  min_samples_split = 200,\n",
    "                                  max_leaf_nodes = 120,\n",
    "                                  random_state = 10)\n",
    "\n",
    "decision_tree2 = dt_model1.fit(X_train, y_train)\n",
    "\n",
    "train_report = get_train_report(decision_tree2)\n",
    "test_report = get_test_report(decision_tree2)\n",
    "print('Test data:\\n', test_report)"
   ]
  },
  {
   "cell_type": "code",
   "execution_count": 204,
   "metadata": {
    "id": "3HB2JBK6lQ_c"
   },
   "outputs": [],
   "source": [
    "#Predict the response for test dataset\n",
    "y_pred = decisiontree_cv.predict(X_test)"
   ]
  },
  {
   "cell_type": "code",
   "execution_count": 205,
   "metadata": {
    "colab": {
     "base_uri": "https://localhost:8080/",
     "height": 143
    },
    "id": "l66fcYTUC2RI",
    "outputId": "9256574d-f413-46a5-ac5f-216b3a29254e"
   },
   "outputs": [
    {
     "data": {
      "text/html": [
       "<div>\n",
       "<style scoped>\n",
       "    .dataframe tbody tr th:only-of-type {\n",
       "        vertical-align: middle;\n",
       "    }\n",
       "\n",
       "    .dataframe tbody tr th {\n",
       "        vertical-align: top;\n",
       "    }\n",
       "\n",
       "    .dataframe thead th {\n",
       "        text-align: right;\n",
       "    }\n",
       "</style>\n",
       "<table border=\"1\" class=\"dataframe\">\n",
       "  <thead>\n",
       "    <tr style=\"text-align: right;\">\n",
       "      <th></th>\n",
       "      <th>Model_Name</th>\n",
       "      <th>AUC Score</th>\n",
       "      <th>Precision Score</th>\n",
       "      <th>Recall Score</th>\n",
       "      <th>Accuracy Score</th>\n",
       "      <th>Kappa Score</th>\n",
       "      <th>f1-score</th>\n",
       "    </tr>\n",
       "  </thead>\n",
       "  <tbody>\n",
       "    <tr>\n",
       "      <th>0</th>\n",
       "      <td>Bayes Decision Tree</td>\n",
       "      <td>0.679895</td>\n",
       "      <td>0.609680</td>\n",
       "      <td>0.598020</td>\n",
       "      <td>0.698960</td>\n",
       "      <td>0.361094</td>\n",
       "      <td>0.603794</td>\n",
       "    </tr>\n",
       "    <tr>\n",
       "      <th>1</th>\n",
       "      <td>Decision Tree (tuning)</td>\n",
       "      <td>0.679470</td>\n",
       "      <td>0.674297</td>\n",
       "      <td>0.513182</td>\n",
       "      <td>0.718191</td>\n",
       "      <td>0.375904</td>\n",
       "      <td>0.582810</td>\n",
       "    </tr>\n",
       "    <tr>\n",
       "      <th>2</th>\n",
       "      <td>Decision Tree RandomizedSearchCV</td>\n",
       "      <td>0.693624</td>\n",
       "      <td>0.678145</td>\n",
       "      <td>0.549541</td>\n",
       "      <td>0.727175</td>\n",
       "      <td>0.401634</td>\n",
       "      <td>0.607107</td>\n",
       "    </tr>\n",
       "  </tbody>\n",
       "</table>\n",
       "</div>"
      ],
      "text/plain": [
       "                          Model_Name  AUC Score  Precision Score  \\\n",
       "0               Bayes Decision Tree    0.679895         0.609680   \n",
       "1            Decision Tree (tuning)    0.679470         0.674297   \n",
       "2  Decision Tree RandomizedSearchCV    0.693624         0.678145   \n",
       "\n",
       "   Recall Score  Accuracy Score  Kappa Score  f1-score  \n",
       "0      0.598020        0.698960     0.361094  0.603794  \n",
       "1      0.513182        0.718191     0.375904  0.582810  \n",
       "2      0.549541        0.727175     0.401634  0.607107  "
      ]
     },
     "execution_count": 205,
     "metadata": {},
     "output_type": "execute_result"
    }
   ],
   "source": [
    "update_score_card(algorithm_name = 'Decision Tree RandomizedSearchCV ', model = decision_tree2)\n",
    "score_card"
   ]
  },
  {
   "cell_type": "code",
   "execution_count": 206,
   "metadata": {
    "id": "eBqFRvYglQ_c"
   },
   "outputs": [],
   "source": [
    "# convert probabilities to 0 and 1 using 'if_else'\n",
    "y_pred_prob = [ 0 if x < 0.5 else 1 for x in y_pred]"
   ]
  },
  {
   "cell_type": "code",
   "execution_count": 207,
   "metadata": {
    "colab": {
     "base_uri": "https://localhost:8080/",
     "height": 712
    },
    "id": "4E4uoV4O4As4",
    "outputId": "60143031-74b0-4660-c023-8794b5efbbfe"
   },
   "outputs": [
    {
     "name": "stdout",
     "output_type": "stream",
     "text": [
      "Train AUC =  0.8620232194434699\n",
      "Test AUC =  0.8323083741641036\n"
     ]
    },
    {
     "data": {
      "image/png": "[encoded data removed]",
      "text/plain": [
       "<Figure size 640x480 with 1 Axes>"
      ]
     },
     "metadata": {},
     "output_type": "display_data"
    },
    {
     "data": {
      "image/png": "[encoded data removed]",
      "text/plain": [
       "<Figure size 2000x600 with 4 Axes>"
      ]
     },
     "metadata": {},
     "output_type": "display_data"
    },
    {
     "name": "stdout",
     "output_type": "stream",
     "text": [
      "Best Threshold = 0.3814\n",
      "Model AUC is : 0.8323\n",
      "Model F1 Score is : 0.7066\n"
     ]
    }
   ],
   "source": [
    "\n",
    "test_auc, test_f1_score, best_t = validate_model(decisiontree_cv, X_train, X_test, y_train, y_test)\n",
    "\n",
    "print(\"Best Threshold = {:.4f}\".format(best_t))\n",
    "print(\"Model AUC is : {:.4f}\".format(test_auc))\n",
    "print(\"Model F1 Score is : {:.4f}\".format(test_f1_score))"
   ]
  },
  {
   "cell_type": "code",
   "execution_count": 208,
   "metadata": {
    "colab": {
     "base_uri": "https://localhost:8080/"
    },
    "id": "2mHgY23DlQ_c",
    "outputId": "e4ce2049-2212-4b9e-96f8-93fc211843e0"
   },
   "outputs": [
    {
     "name": "stdout",
     "output_type": "stream",
     "text": [
      "roc_auc_score: 0.747393435545868\n",
      "cohen_kappa_score: 0.5052427261571046\n"
     ]
    }
   ],
   "source": [
    "print(\"roc_auc_score:\",metrics.roc_auc_score(y_test, y_pred_prob))\n",
    "print(\"cohen_kappa_score:\",metrics.cohen_kappa_score(y_test, y_pred_prob))"
   ]
  },
  {
   "cell_type": "code",
   "execution_count": 209,
   "metadata": {
    "colab": {
     "base_uri": "https://localhost:8080/"
    },
    "id": "ZKK1T-sJlQ_c",
    "outputId": "f1eb8e97-f235-42b9-8b8f-b18ce9ffa8da",
    "scrolled": true
   },
   "outputs": [
    {
     "name": "stdout",
     "output_type": "stream",
     "text": [
      "              precision    recall  f1-score   support\n",
      "\n",
      "           0       0.79      0.85      0.82     68820\n",
      "           1       0.73      0.65      0.68     42823\n",
      "\n",
      "    accuracy                           0.77    111643\n",
      "   macro avg       0.76      0.75      0.75    111643\n",
      "weighted avg       0.77      0.77      0.77    111643\n",
      "\n"
     ]
    }
   ],
   "source": [
    "acc_table = classification_report(y_test, y_pred_prob)\n",
    "\n",
    "# print the table\n",
    "print(acc_table)"
   ]
  },
  {
   "cell_type": "markdown",
   "metadata": {
    "id": "2ajczmeolQ_d"
   },
   "source": [
    "### 8. Decision Tree - GridSearchCV "
   ]
  },
  {
   "cell_type": "raw",
   "metadata": {
    "id": "VDlCFqFWXCLN"
   },
   "source": [
    "Tune the Hyperparameters using GridSearchCV (Decision Tree)\n",
    "Hyperparameters are the parameters in the model that are preset by the user. GridSearch considers all the combinations of hyperparameters and returns the best hyperparameter values. We pass some of the hyperparameters in the decision tree to the GridSearchCV() and build the tree using the optimal values obtained using GridSearch method."
   ]
  },
  {
   "cell_type": "markdown",
   "metadata": {
    "id": "i5edlQdnfAn3"
   },
   "source": [
    "Use GridSearchCV for DecisionTreeClassifier"
   ]
  },
  {
   "cell_type": "code",
   "execution_count": 210,
   "metadata": {
    "colab": {
     "base_uri": "https://localhost:8080/",
     "height": 345
    },
    "id": "p8l6tKIUcbOF",
    "outputId": "16c8d846-63fb-4925-cfbd-1987f7c59905"
   },
   "outputs": [
    {
     "data": {
      "text/html": [
       "<style>#sk-container-id-6 {color: black;background-color: white;}#sk-container-id-6 pre{padding: 0;}#sk-container-id-6 div.sk-toggleable {background-color: white;}#sk-container-id-6 label.sk-toggleable__label {cursor: pointer;display: block;width: 100%;margin-bottom: 0;padding: 0.3em;box-sizing: border-box;text-align: center;}#sk-container-id-6 label.sk-toggleable__label-arrow:before {content: \"▸\";float: left;margin-right: 0.25em;color: #696969;}#sk-container-id-6 label.sk-toggleable__label-arrow:hover:before {color: black;}#sk-container-id-6 div.sk-estimator:hover label.sk-toggleable__label-arrow:before {color: black;}#sk-container-id-6 div.sk-toggleable__content {max-height: 0;max-width: 0;overflow: hidden;text-align: left;background-color: #f0f8ff;}#sk-container-id-6 div.sk-toggleable__content pre {margin: 0.2em;color: black;border-radius: 0.25em;background-color: #f0f8ff;}#sk-container-id-6 input.sk-toggleable__control:checked~div.sk-toggleable__content {max-height: 200px;max-width: 100%;overflow: auto;}#sk-container-id-6 input.sk-toggleable__control:checked~label.sk-toggleable__label-arrow:before {content: \"▾\";}#sk-container-id-6 div.sk-estimator input.sk-toggleable__control:checked~label.sk-toggleable__label {background-color: #d4ebff;}#sk-container-id-6 div.sk-label input.sk-toggleable__control:checked~label.sk-toggleable__label {background-color: #d4ebff;}#sk-container-id-6 input.sk-hidden--visually {border: 0;clip: rect(1px 1px 1px 1px);clip: rect(1px, 1px, 1px, 1px);height: 1px;margin: -1px;overflow: hidden;padding: 0;position: absolute;width: 1px;}#sk-container-id-6 div.sk-estimator {font-family: monospace;background-color: #f0f8ff;border: 1px dotted black;border-radius: 0.25em;box-sizing: border-box;margin-bottom: 0.5em;}#sk-container-id-6 div.sk-estimator:hover {background-color: #d4ebff;}#sk-container-id-6 div.sk-parallel-item::after {content: \"\";width: 100%;border-bottom: 1px solid gray;flex-grow: 1;}#sk-container-id-6 div.sk-label:hover label.sk-toggleable__label {background-color: #d4ebff;}#sk-container-id-6 div.sk-serial::before {content: \"\";position: absolute;border-left: 1px solid gray;box-sizing: border-box;top: 0;bottom: 0;left: 50%;z-index: 0;}#sk-container-id-6 div.sk-serial {display: flex;flex-direction: column;align-items: center;background-color: white;padding-right: 0.2em;padding-left: 0.2em;position: relative;}#sk-container-id-6 div.sk-item {position: relative;z-index: 1;}#sk-container-id-6 div.sk-parallel {display: flex;align-items: stretch;justify-content: center;background-color: white;position: relative;}#sk-container-id-6 div.sk-item::before, #sk-container-id-6 div.sk-parallel-item::before {content: \"\";position: absolute;border-left: 1px solid gray;box-sizing: border-box;top: 0;bottom: 0;left: 50%;z-index: -1;}#sk-container-id-6 div.sk-parallel-item {display: flex;flex-direction: column;z-index: 1;position: relative;background-color: white;}#sk-container-id-6 div.sk-parallel-item:first-child::after {align-self: flex-end;width: 50%;}#sk-container-id-6 div.sk-parallel-item:last-child::after {align-self: flex-start;width: 50%;}#sk-container-id-6 div.sk-parallel-item:only-child::after {width: 0;}#sk-container-id-6 div.sk-dashed-wrapped {border: 1px dashed gray;margin: 0 0.4em 0.5em 0.4em;box-sizing: border-box;padding-bottom: 0.4em;background-color: white;}#sk-container-id-6 div.sk-label label {font-family: monospace;font-weight: bold;display: inline-block;line-height: 1.2em;}#sk-container-id-6 div.sk-label-container {text-align: center;}#sk-container-id-6 div.sk-container {/* jupyter's `normalize.less` sets `[hidden] { display: none; }` but bootstrap.min.css set `[hidden] { display: none !important; }` so we also need the `!important` here to be able to override the default hidden behavior on the sphinx rendered scikit-learn.org. See: https://github.com/scikit-learn/scikit-learn/issues/21755 */display: inline-block !important;position: relative;}#sk-container-id-6 div.sk-text-repr-fallback {display: none;}</style><div id=\"sk-container-id-6\" class=\"sk-top-container\"><div class=\"sk-text-repr-fallback\"><pre>GridSearchCV(cv=5, estimator=DecisionTreeClassifier(), n_jobs=-1,\n",
       "             param_grid={&#x27;criterion&#x27;: [&#x27;gini&#x27;, &#x27;entropy&#x27;],\n",
       "                         &#x27;max_depth&#x27;: [5, 10, 50, 100, 150, 200, 250, 500],\n",
       "                         &#x27;min_samples_split&#x27;: [5, 10, 50, 100, 150, 200, 250,\n",
       "                                               500]},\n",
       "             return_train_score=True, scoring=&#x27;roc_auc&#x27;)</pre><b>In a Jupyter environment, please rerun this cell to show the HTML representation or trust the notebook. <br />On GitHub, the HTML representation is unable to render, please try loading this page with nbviewer.org.</b></div><div class=\"sk-container\" hidden><div class=\"sk-item sk-dashed-wrapped\"><div class=\"sk-label-container\"><div class=\"sk-label sk-toggleable\"><input class=\"sk-toggleable__control sk-hidden--visually\" id=\"sk-estimator-id-10\" type=\"checkbox\" ><label for=\"sk-estimator-id-10\" class=\"sk-toggleable__label sk-toggleable__label-arrow\">GridSearchCV</label><div class=\"sk-toggleable__content\"><pre>GridSearchCV(cv=5, estimator=DecisionTreeClassifier(), n_jobs=-1,\n",
       "             param_grid={&#x27;criterion&#x27;: [&#x27;gini&#x27;, &#x27;entropy&#x27;],\n",
       "                         &#x27;max_depth&#x27;: [5, 10, 50, 100, 150, 200, 250, 500],\n",
       "                         &#x27;min_samples_split&#x27;: [5, 10, 50, 100, 150, 200, 250,\n",
       "                                               500]},\n",
       "             return_train_score=True, scoring=&#x27;roc_auc&#x27;)</pre></div></div></div><div class=\"sk-parallel\"><div class=\"sk-parallel-item\"><div class=\"sk-item\"><div class=\"sk-label-container\"><div class=\"sk-label sk-toggleable\"><input class=\"sk-toggleable__control sk-hidden--visually\" id=\"sk-estimator-id-11\" type=\"checkbox\" ><label for=\"sk-estimator-id-11\" class=\"sk-toggleable__label sk-toggleable__label-arrow\">estimator: DecisionTreeClassifier</label><div class=\"sk-toggleable__content\"><pre>DecisionTreeClassifier()</pre></div></div></div><div class=\"sk-serial\"><div class=\"sk-item\"><div class=\"sk-estimator sk-toggleable\"><input class=\"sk-toggleable__control sk-hidden--visually\" id=\"sk-estimator-id-12\" type=\"checkbox\" ><label for=\"sk-estimator-id-12\" class=\"sk-toggleable__label sk-toggleable__label-arrow\">DecisionTreeClassifier</label><div class=\"sk-toggleable__content\"><pre>DecisionTreeClassifier()</pre></div></div></div></div></div></div></div></div></div></div>"
      ],
      "text/plain": [
       "GridSearchCV(cv=5, estimator=DecisionTreeClassifier(), n_jobs=-1,\n",
       "             param_grid={'criterion': ['gini', 'entropy'],\n",
       "                         'max_depth': [5, 10, 50, 100, 150, 200, 250, 500],\n",
       "                         'min_samples_split': [5, 10, 50, 100, 150, 200, 250,\n",
       "                                               500]},\n",
       "             return_train_score=True, scoring='roc_auc')"
      ]
     },
     "execution_count": 210,
     "metadata": {},
     "output_type": "execute_result"
    }
   ],
   "source": [
    "# create a dictionary with hyperparameters and its values\n",
    "# pass the criteria 'entropy' and 'gini' to the parameter, 'criterion' \n",
    "# pass the range of values to 'max_depth' that assigns maximum depth of the tree\n",
    "# 'max_features' assigns maximum number of features to consider for the best split. We pass the string 'sqrt' and 'log2'\n",
    "# 'sqrt' considers maximum number of features equal to the square root of total features\n",
    "# 'log2' considers maximum number of features equal to the log of total features with base 2\n",
    "# pass the range of values to 'min_samples_split' that assigns minimum number of samples to split an internal node\n",
    "# pass the range of values to 'min_samples_leaf' that assigns minimum number of samples required at the terminal/leaf node\n",
    "# pass the range of values to 'max_leaf_nodes' that assigns maximum number of leaf nodes in the tree\n",
    "\n",
    "decisiontree = DecisionTreeClassifier() #class_weight = 'balanced'\n",
    "\n",
    "parameters = {'criterion':['gini','entropy'], 'max_depth': [5, 10, 50, 100, 150, 200, 250, 500], 'min_samples_split': [5, 10, 50, 100, 150, 200, 250, 500]}\n",
    "\n",
    "# use GridSearchCV() to find the optimal value of the hyperparameters\n",
    "# estimator: pass the decision tree classifier model\n",
    "# param_grid: pass the list 'tuned_parameters'\n",
    "# cv: number of folds in k-fold i.e. here cv = 5\n",
    "decisiontree_gs = GridSearchCV(decisiontree, parameters, cv=5, scoring='roc_auc', n_jobs=-1, return_train_score=True)\n",
    "\n",
    "\n",
    "# fit the model on X_train and y_train using fit()\n",
    "decisiontree_gs.fit(X_train, y_train)"
   ]
  },
  {
   "cell_type": "code",
   "execution_count": 211,
   "metadata": {
    "id": "B0JYxZU8cbQY"
   },
   "outputs": [
    {
     "name": "stdout",
     "output_type": "stream",
     "text": [
      "best parameters =  {'criterion': 'gini', 'max_depth': 100, 'min_samples_split': 250}\n",
      "roc_auc_score : 0.8268386965074601\n"
     ]
    }
   ],
   "source": [
    "print(\"best parameters = \",decisiontree_gs.best_params_)\n",
    "print(\"roc_auc_score :\",decisiontree_gs.best_score_)"
   ]
  },
  {
   "cell_type": "code",
   "execution_count": 212,
   "metadata": {
    "id": "Mam0YaKWo7TJ"
   },
   "outputs": [
    {
     "name": "stdout",
     "output_type": "stream",
     "text": [
      "Test data:\n",
      "               precision    recall  f1-score   support\n",
      "\n",
      "           0       0.78      0.84      0.81     68820\n",
      "           1       0.71      0.62      0.66     42823\n",
      "\n",
      "    accuracy                           0.76    111643\n",
      "   macro avg       0.75      0.73      0.74    111643\n",
      "weighted avg       0.75      0.76      0.75    111643\n",
      "\n"
     ]
    }
   ],
   "source": [
    "dt_model1 = DecisionTreeClassifier(criterion = 'gini',\n",
    "                                  max_depth = 250,\n",
    "                                  min_samples_split = 250,\n",
    "                                  max_leaf_nodes = 300,\n",
    "                                  random_state = 10)\n",
    "\n",
    "decision_tree2 = dt_model1.fit(X_train, y_train)\n",
    "\n",
    "train_report = get_train_report(decision_tree2)\n",
    "test_report = get_test_report(decision_tree2)\n",
    "print('Test data:\\n', test_report)"
   ]
  },
  {
   "cell_type": "code",
   "execution_count": 213,
   "metadata": {
    "id": "ayR4h06jg5-M"
   },
   "outputs": [],
   "source": [
    "#Predict the response for test dataset\n",
    "y_pred = decisiontree_gs.predict(X_test)"
   ]
  },
  {
   "cell_type": "code",
   "execution_count": 214,
   "metadata": {
    "id": "c-9h5EX1hi0j"
   },
   "outputs": [],
   "source": [
    "# convert probabilities to 0 and 1 using 'if_else'\n",
    "y_pred_prob = [ 0 if x < 0.5 else 1 for x in y_pred]"
   ]
  },
  {
   "cell_type": "code",
   "execution_count": 215,
   "metadata": {
    "id": "5MR64OFRhi3F"
   },
   "outputs": [
    {
     "name": "stdout",
     "output_type": "stream",
     "text": [
      "              precision    recall  f1-score   support\n",
      "\n",
      "           0       0.79      0.85      0.82     68820\n",
      "           1       0.73      0.65      0.68     42823\n",
      "\n",
      "    accuracy                           0.77    111643\n",
      "   macro avg       0.76      0.75      0.75    111643\n",
      "weighted avg       0.77      0.77      0.77    111643\n",
      "\n"
     ]
    }
   ],
   "source": [
    "acc_table = classification_report(y_test, y_pred_prob)\n",
    "print(acc_table)"
   ]
  },
  {
   "cell_type": "code",
   "execution_count": 216,
   "metadata": {
    "id": "VWa3_qA3cbSv"
   },
   "outputs": [
    {
     "name": "stdout",
     "output_type": "stream",
     "text": [
      "Accuracy: 0.7700348432055749\n",
      "roc_auc_score: 0.7464414455811339\n"
     ]
    }
   ],
   "source": [
    "print(\"Accuracy:\",metrics.accuracy_score(y_test, y_pred_prob))\n",
    "print(\"roc_auc_score:\",metrics.roc_auc_score(y_test, y_pred_prob))"
   ]
  },
  {
   "cell_type": "raw",
   "metadata": {
    "id": "Jh4FNKrJXCLQ"
   },
   "source": [
    "Interpretation: The accuracy of the test dataset increased from 0.76 to 0.77 after tuning of the hyperparameters. Also, the sensitivity and specificity of the model are balanced."
   ]
  },
  {
   "cell_type": "raw",
   "metadata": {
    "id": "0bYFV1LYXCLQ"
   },
   "source": [
    "It is the method of constructing multiple decision trees on randomly selected data samples. We can use the bootstrap sampling method to select the random samples of the same size from the dataset to construct multiple trees. This method is used for both regression and classification analysis. The random forest returns the prediction based on all the individual decision trees prediction. For regression, it returns the average of all the predicted values; and for classification, it returns the class, which is the mode of all the predicted classes.\n",
    "\n",
    "It avoids the over-fitting problem as it considers a random data sample to construct a decision tree."
   ]
  },
  {
   "cell_type": "markdown",
   "metadata": {
    "id": "zFeKMeHI1aeT"
   },
   "source": [
    "###  Base Random Forest Model"
   ]
  },
  {
   "cell_type": "code",
   "execution_count": 217,
   "metadata": {
    "id": "n1FHfYGW1Yrj"
   },
   "outputs": [],
   "source": [
    "rf_classification = RandomForestClassifier(n_estimators = 10, random_state = 10)\n",
    "# use fit() to fit the model on the train set\n",
    "rf_model = rf_classification.fit(X_train, y_train)"
   ]
  },
  {
   "cell_type": "code",
   "execution_count": 218,
   "metadata": {
    "id": "cTh7Y3sH1Yx5"
   },
   "outputs": [
    {
     "name": "stdout",
     "output_type": "stream",
     "text": [
      "              precision    recall  f1-score   support\n",
      "\n",
      "           0       0.75      0.80      0.77     68820\n",
      "           1       0.63      0.56      0.60     42823\n",
      "\n",
      "    accuracy                           0.71    111643\n",
      "   macro avg       0.69      0.68      0.68    111643\n",
      "weighted avg       0.70      0.71      0.70    111643\n",
      "\n"
     ]
    }
   ],
   "source": [
    "# Calculate performance measures on the test set.\n",
    "test_report = get_test_report(rf_model)\n",
    "print(test_report) "
   ]
  },
  {
   "cell_type": "code",
   "execution_count": 219,
   "metadata": {
    "id": "HmZJ_9hS1Yuy"
   },
   "outputs": [
    {
     "name": "stdout",
     "output_type": "stream",
     "text": [
      "              precision    recall  f1-score   support\n",
      "\n",
      "           0       0.95      0.97      0.96    276595\n",
      "           1       0.96      0.92      0.94    169973\n",
      "\n",
      "    accuracy                           0.95    446568\n",
      "   macro avg       0.95      0.95      0.95    446568\n",
      "weighted avg       0.95      0.95      0.95    446568\n",
      "\n"
     ]
    }
   ],
   "source": [
    "train_report = get_train_report(rf_model)\n",
    "\n",
    "# print the performace measures\n",
    "print(train_report) "
   ]
  },
  {
   "cell_type": "raw",
   "metadata": {
    "id": "6_L6XqRsXCLR"
   },
   "source": [
    "Interpretation: The accuracy of the test dataset is 0.77 after tuning of the hyperparameters."
   ]
  },
  {
   "cell_type": "markdown",
   "metadata": {
    "id": "npIHyFqylQ_f"
   },
   "source": [
    "### 9. Random Forest (tuning)"
   ]
  },
  {
   "cell_type": "code",
   "execution_count": 220,
   "metadata": {
    "id": "o90TyJXN1Y1A"
   },
   "outputs": [
    {
     "name": "stdout",
     "output_type": "stream",
     "text": [
      "Train data:\n",
      "               precision    recall  f1-score   support\n",
      "\n",
      "           0       0.64      0.94      0.76    276595\n",
      "           1       0.62      0.16      0.25    169973\n",
      "\n",
      "    accuracy                           0.64    446568\n",
      "   macro avg       0.63      0.55      0.51    446568\n",
      "weighted avg       0.63      0.64      0.57    446568\n",
      "\n",
      "Test data:\n",
      "               precision    recall  f1-score   support\n",
      "\n",
      "           0       0.64      0.94      0.76     68820\n",
      "           1       0.61      0.15      0.25     42823\n",
      "\n",
      "    accuracy                           0.64    111643\n",
      "   macro avg       0.63      0.55      0.50    111643\n",
      "weighted avg       0.63      0.64      0.56    111643\n",
      "\n"
     ]
    }
   ],
   "source": [
    "rf_model = RandomForestClassifier(criterion = 'gini',\n",
    "                                  max_depth = 50,\n",
    "                                  min_samples_split = 30,\n",
    "                                  max_leaf_nodes = 65,\n",
    "                                  random_state = 10)\n",
    "random_forest = rf_model.fit(X_train, y_train)\n",
    "\n",
    "train_report = get_train_report(random_forest)\n",
    "print('Train data:\\n', train_report)\n",
    "\n",
    "test_report = get_test_report(random_forest)\n",
    "print('Test data:\\n', test_report)"
   ]
  },
  {
   "cell_type": "code",
   "execution_count": 221,
   "metadata": {
    "id": "HLUfCaeN6c59"
   },
   "outputs": [
    {
     "name": "stdout",
     "output_type": "stream",
     "text": [
      "              precision    recall  f1-score   support\n",
      "\n",
      "           0       0.64      0.94      0.76     68820\n",
      "           1       0.61      0.15      0.25     42823\n",
      "\n",
      "    accuracy                           0.64    111643\n",
      "   macro avg       0.63      0.55      0.50    111643\n",
      "weighted avg       0.63      0.64      0.56    111643\n",
      "\n",
      "roc_auc_score: 0.5471526140294732\n",
      "cohen_kappa_score: 0.10983048789117023\n"
     ]
    }
   ],
   "source": [
    "y_pred = random_forest.predict(X_test)\n",
    "y_pred_prob = [ 0 if x < 0.5 else 1 for x in y_pred]\n",
    "\n",
    "\n",
    "acc_table = classification_report(y_test, y_pred_prob)\n",
    "print(acc_table)\n",
    "\n",
    "print(\"roc_auc_score:\",metrics.roc_auc_score(y_test, y_pred_prob))\n",
    "print(\"cohen_kappa_score:\",metrics.cohen_kappa_score(y_test, y_pred_prob))"
   ]
  },
  {
   "cell_type": "code",
   "execution_count": null,
   "metadata": {
    "id": "iGB7D0DSlQ_f"
   },
   "outputs": [],
   "source": [
    "# Interpretation: The accuracy of the test dataset is 0.64."
   ]
  },
  {
   "cell_type": "markdown",
   "metadata": {
    "id": "OXBNeLdFlQ_f"
   },
   "source": [
    "### 10. Random Forest - RandomizedSearchCV"
   ]
  },
  {
   "cell_type": "code",
   "execution_count": null,
   "metadata": {
    "id": "h5TSbk3klQ_f"
   },
   "outputs": [],
   "source": [
    "randomforest = RandomForestClassifier() #class_weight = 'balanced'\n",
    "\n",
    "parameters = {'criterion':['gini','entropy'], 'max_depth': [5, 10, 50, 100, 150, 200, 250, 500], 'min_samples_split': [5, 10, 50, 100, 150, 200, 250, 500]}\n",
    "\n",
    "randomforest_rc = RandomizedSearchCV(randomforest, parameters, cv=5, scoring='roc_auc', n_jobs=-1, return_train_score=True)\n",
    "randomforest_rc.fit(X_train, y_train)"
   ]
  },
  {
   "cell_type": "code",
   "execution_count": null,
   "metadata": {
    "id": "rTQYM2bSlQ_g"
   },
   "outputs": [],
   "source": [
    "print(\"best parameters = \",decisiontree_cv.best_params_)\n",
    "print(\"roc_auc_score :\",decisiontree_cv.best_score_)\n"
   ]
  },
  {
   "cell_type": "code",
   "execution_count": null,
   "metadata": {
    "id": "EGagmmqu-osG"
   },
   "outputs": [],
   "source": [
    "rf_model1 = RandomForestClassifier(criterion = 'gini',\n",
    "                                  max_depth = 50,\n",
    "                                  min_samples_split = 250,\n",
    "                                  max_leaf_nodes = 200,\n",
    "                                  random_state = 10)\n",
    "\n",
    "random_forest2 = rf_model1.fit(X_train, y_train)\n",
    "\n",
    "train_report = get_train_report(random_forest2)\n",
    "test_report = get_test_report(random_forest2)\n",
    "print('Test data:\\n', test_report)"
   ]
  },
  {
   "cell_type": "markdown",
   "metadata": {
    "id": "32PSnCzxPzkt"
   },
   "source": [
    " Random Forest - GridSearchCV (not running)"
   ]
  },
  {
   "cell_type": "code",
   "execution_count": null,
   "metadata": {
    "id": "YquhBl0KlQ_g"
   },
   "outputs": [],
   "source": [
    "randomforest1 = RandomForestClassifier() #class_weight = 'balanced'\n",
    "\n",
    "parameters = {'criterion':['gini','entropy'], 'max_depth': [5, 10, 50, 100, 150, 200, 250, 500], 'min_samples_split': [5, 10, 50, 100, 150, 200, 250, 500]}\n",
    "\n",
    "randomforest_gc = GridSearchCV(randomforest1, parameters, cv=5, scoring='roc_auc', n_jobs=-1, return_train_score=True)\n",
    "randomforest_gc.fit(X_train, y_train)"
   ]
  },
  {
   "cell_type": "markdown",
   "metadata": {
    "id": "AeDvIQ5M9zuG"
   },
   "source": [
    "## 11. Random Forest tuned with important Features "
   ]
  },
  {
   "cell_type": "raw",
   "metadata": {
    "id": "i87nq9jiXCLV"
   },
   "source": [
    "Let us create a barplot to identify the important feature in the dataset.\n",
    "\n",
    "The method feature_importances_ returns the value corresponding to each feature which is defined as the ratio of total decrease in Gini impurity across every tree in the forest where the feature is used to the total count of trees in the forest. This is also caled as, Gini Importance.\n",
    "\n",
    "There is another accuracy-based method. It calculates the average decrease in the accuracy calculated on the out-of-bag samples, with and without shuffling the variable across all the trees in the random forest. The out-of-bag samples are the samples in the training dataset which are not considered whild building a tree."
   ]
  },
  {
   "cell_type": "code",
   "execution_count": null,
   "metadata": {
    "id": "3H65DyAT1ZC2"
   },
   "outputs": [],
   "source": [
    "# create a dataframe that stores the feature names and their importance\n",
    "# 'feature_importances_' returns the features based on the gini importance\n",
    "\n",
    "random_forest_tuned_model = RandomForestClassifier(criterion = 'entropy', max_depth = 15, \n",
    "                                                   min_samples_split = 2, n_estimators = 90,\n",
    "                                                   random_state = 10)\n",
    "\n",
    "random_forest_tuned_model = random_forest_tuned_model.fit(X_train, y_train)\n",
    "\n",
    "important_features = pd.DataFrame({'Features': X_train.columns, \n",
    "                                   'Importance': random_forest_tuned_model.feature_importances_})\n",
    "\n",
    "important_features = important_features.sort_values('Importance', ascending = False)\n",
    "\n",
    "sns.barplot(x = 'Importance', y = 'Features', data = important_features)\n",
    "\n",
    "plt.title('Feature Importance', fontsize = 15)\n",
    "plt.xlabel('Importance', fontsize = 15)\n",
    "plt.ylabel('Features', fontsize = 15)\n",
    "\n",
    "plt.show()"
   ]
  },
  {
   "cell_type": "code",
   "execution_count": null,
   "metadata": {
    "id": "nEz2LxAd1ZE7"
   },
   "outputs": [],
   "source": [
    "# Interpretation: From the above bar plot, we can see that State is the most important feature in the dataset."
   ]
  },
  {
   "cell_type": "code",
   "execution_count": null,
   "metadata": {
    "id": "kk1ttAYL1ZGw"
   },
   "outputs": [],
   "source": [
    "train_report = get_train_report(random_forest_tuned_model)\n",
    "print('Train data:\\n', train_report)\n",
    "\n",
    "test_report = get_test_report(random_forest_tuned_model)\n",
    "print('Test data:\\n', test_report)"
   ]
  },
  {
   "cell_type": "code",
   "execution_count": null,
   "metadata": {
    "id": "OgWaWxTr_DAp"
   },
   "outputs": [],
   "source": [
    "#Predict the response for test dataset\n",
    "y_pred = random_forest_tuned_model.predict(X_test)\n",
    "\n",
    "\n",
    "# convert probabilities to 0 and 1 using 'if_else'\n",
    "y_pred_prob = [ 0 if x < 0.5 else 1 for x in y_pred]\n",
    "\n",
    "\n",
    "acc_table = classification_report(y_test, y_pred_prob)\n",
    "\n",
    "# print the table\n",
    "print(acc_table)\n",
    "\n",
    "print(\"roc_auc_score:\",metrics.roc_auc_score(y_test, y_pred_prob))\n",
    "print(\"cohen_kappa_score:\",metrics.cohen_kappa_score(y_test, y_pred_prob))"
   ]
  },
  {
   "cell_type": "raw",
   "metadata": {
    "id": "SqFOohFXADq4"
   },
   "source": [
    "Interpretation: The accuracy of the test dataset is 0.68"
   ]
  },
  {
   "cell_type": "raw",
   "metadata": {
    "id": "bORve25AXCLW"
   },
   "source": [
    "Boosting Methods\n",
    "The Ensemble technique considers multiple models for predicting the results. Bagging and Boosting are two of the types of ensembles. The bagging methods construct the multiple models in parallel; whereas, the boosting methods construct the models sequentially.\n",
    "\n",
    "Earlier, we have studied one of the bagging (bootstrap aggregating) technique i.e. Random Forest.\n",
    "\n",
    "The boosting method fits multiple weak classifiers to create a strong classifier. In this method, the model tries to correct the errors in the previous model. In this section, we learn some of the boosting methods such as AdaBoost, Gradient Boosting and XGBoost."
   ]
  },
  {
   "cell_type": "markdown",
   "metadata": {
    "id": "J2lLDbjeAEva"
   },
   "source": [
    "## 12. AdaBoost"
   ]
  },
  {
   "cell_type": "raw",
   "metadata": {
    "id": "3SRpccv8XCLX"
   },
   "source": [
    "Let us build the AdaBoost classifier with decision trees. The model creates several stumps (decision tree with only a single decision node and two leaf nodes) on the train set and predicts the class based on these weak learners (stumps). For the first model, it assigns equal weights to each sample. It assigns the higher weight for the wrongly predicted samples and lower weight for the correctly predicted samples. This method continues till all the observations are correctly classified or the predefined number of stumps is created."
   ]
  },
  {
   "cell_type": "markdown",
   "metadata": {
    "id": "5VFMUjtvXCLX"
   },
   "source": [
    "### AdaBoost"
   ]
  },
  {
   "cell_type": "code",
   "execution_count": null,
   "metadata": {
    "id": "g3pUODXA-C7S"
   },
   "outputs": [],
   "source": [
    "ada_model = AdaBoostClassifier(n_estimators = 40, \n",
    "                               random_state = 10)\n",
    "ada_model.fit(X_train, y_train)"
   ]
  },
  {
   "cell_type": "code",
   "execution_count": null,
   "metadata": {
    "id": "5AvHbsRmFqtn"
   },
   "outputs": [],
   "source": [
    "# Predict the response for test dataset\n",
    "y_pred = ada_model.predict(X_test)\n",
    "# convert probabilities to 0 and 1 using 'if_else'\n",
    "y_pred_prob = [ 0 if x < 0.5 else 1 for x in y_pred]\n",
    "acc_table = classification_report(y_test, y_pred_prob)\n",
    "print(acc_table)"
   ]
  },
  {
   "cell_type": "code",
   "execution_count": null,
   "metadata": {
    "id": "iwMH_CMeXCLZ"
   },
   "outputs": [],
   "source": [
    "\n",
    "print(\"roc_auc_score:\",metrics.roc_auc_score(y_test, y_pred))\n",
    "print(\"cohen_kappa_score:\",metrics.cohen_kappa_score(y_test, y_pred))"
   ]
  },
  {
   "cell_type": "raw",
   "metadata": {
    "id": "BJWQcSNbXCLa"
   },
   "source": [
    "Let us understand the parameters in the AdaBoostClassifier():\n",
    "\n",
    "algorithm=SAMME.R: It is the default boosting algorithm. This algorithm uses predicted class probabilities to build the stumps.\n",
    "\n",
    "base_estimator=None: By default, the estimator is a decision tree with a maximum depth equal to 1 (stump).\n",
    "\n",
    "learning_rate=1.0: It considers the contribution of each estimator in the classifier.\n",
    "\n",
    "n_estimators=40: It is the number of estimators at which boosting is terminated.\n",
    "\n",
    "random_state=10: It returns the same set of samples for each code implementation."
   ]
  },
  {
   "cell_type": "code",
   "execution_count": null,
   "metadata": {
    "id": "Zw49okJp-C-B"
   },
   "outputs": [],
   "source": [
    "test_report = get_test_report(ada_model)\n",
    "print(test_report)"
   ]
  },
  {
   "cell_type": "raw",
   "metadata": {
    "id": "I0EaGDHpXCLa"
   },
   "source": [
    "Interpretation: The output shows that the model is 64% accurate."
   ]
  },
  {
   "cell_type": "markdown",
   "metadata": {
    "id": "TS8xT7GnAbcD"
   },
   "source": [
    "## 13. Gradient Boosting"
   ]
  },
  {
   "cell_type": "raw",
   "metadata": {
    "id": "3VCXBpMnXCLb"
   },
   "source": [
    "This method optimizes the differentiable loss function by building the number of weak learners (decision trees) sequentially. It considers the residuals from the previous model and fits the next model to the residuals. The algorithm uses a gradient descent method to minimize the error."
   ]
  },
  {
   "cell_type": "code",
   "execution_count": null,
   "metadata": {
    "id": "C2JVo1Pm-DC1"
   },
   "outputs": [],
   "source": [
    "gboost_model = GradientBoostingClassifier(n_estimators = 150, max_depth = 10, random_state = 10)\n",
    "\n",
    "# fit the model using fit() on train data\n",
    "gboost_model.fit(X_train, y_train)"
   ]
  },
  {
   "cell_type": "code",
   "execution_count": null,
   "metadata": {
    "id": "0m3jbsh0F48_"
   },
   "outputs": [],
   "source": [
    "#Predict the response for test dataset\n",
    "y_pred = gboost_model.predict(X_test)\n",
    "\n",
    "\n",
    "# convert probabilities to 0 and 1 using 'if_else'\n",
    "y_pred_prob = [ 0 if x < 0.5 else 1 for x in y_pred]\n",
    "\n",
    "\n",
    "acc_table = classification_report(y_test, y_pred_prob)\n",
    "\n",
    "# print the table\n",
    "print(acc_table)\n",
    "\n",
    "print(\"roc_auc_score:\",metrics.roc_auc_score(y_test, y_pred))\n",
    "print(\"cohen_kappa_score:\",metrics.cohen_kappa_score(y_test, y_pred))"
   ]
  },
  {
   "cell_type": "code",
   "execution_count": null,
   "metadata": {
    "id": "2qTfjRDqD8M_"
   },
   "outputs": [],
   "source": [
    "test_report = get_test_report(gboost_model)\n",
    "\n",
    "# print the performance measures\n",
    "print(test_report)"
   ]
  },
  {
   "cell_type": "raw",
   "metadata": {
    "id": "9uTKE7T3XCLc"
   },
   "source": [
    "Interpretation: The classification report shows that the model is 77% accurate. Also, the sensitivity and specificity are equal."
   ]
  },
  {
   "cell_type": "markdown",
   "metadata": {
    "id": "HsGlSUjzGR_l"
   },
   "source": [
    "## 14. XGBoost"
   ]
  },
  {
   "cell_type": "raw",
   "metadata": {
    "id": "TQm3t1xvXCLd"
   },
   "source": [
    "XGBoost (extreme gradient boost) is an alternative form of gradient boosting method. This method generally considers the initial prediction as 0.5 and build the decision tree to predict the residuals. It considers the regularization parameter to avoid overfitting."
   ]
  },
  {
   "cell_type": "markdown",
   "metadata": {
    "id": "aIk0ANE4Eo9I"
   },
   "source": [
    "## 15. knn model on a training dataset using euclidean distance (Standardized Data)"
   ]
  },
  {
   "cell_type": "raw",
   "metadata": {
    "id": "y4SW9aT6XCLg"
   },
   "source": [
    "KNN is a classification machine learning algorithm used to identify the class of the observation. This algorithm search for K nearest points to determine the class of an observation. To identify the nearest points, it considers the distance metrics like Euclidean, Manhattan, Chebyshev, Hamming, and so on."
   ]
  },
  {
   "cell_type": "code",
   "execution_count": null,
   "metadata": {
    "id": "BRAYyKf2D8gX"
   },
   "outputs": [],
   "source": [
    "from sklearn.neighbors import KNeighborsClassifier"
   ]
  },
  {
   "cell_type": "code",
   "execution_count": null,
   "metadata": {
    "id": "ucKv1Jf1FTQA"
   },
   "outputs": [],
   "source": [
    "knn_classification = KNeighborsClassifier(n_neighbors = 3)\n",
    "\n",
    "# fit the model using fit() on train data\n",
    "knn_model = knn_classification.fit(X_train, y_train)"
   ]
  },
  {
   "cell_type": "code",
   "execution_count": null,
   "metadata": {
    "id": "OFcNM7SHXCLh"
   },
   "outputs": [],
   "source": [
    "#Predict the response for test dataset\n",
    "y_pred = knn_model.predict(X_test)\n",
    "\n",
    "\n",
    "# convert probabilities to 0 and 1 using 'if_else'\n",
    "y_pred_prob = [ 0 if x < 0.5 else 1 for x in y_pred]\n",
    "\n",
    "\n",
    "acc_table = classification_report(y_test, y_pred_prob)\n",
    "\n",
    "# print the table\n",
    "print(acc_table)\n",
    "\n",
    "print(\"roc_auc_score:\",metrics.roc_auc_score(y_test, y_pred))\n",
    "print(\"cohen_kappa_score:\",metrics.cohen_kappa_score(y_test, y_pred))"
   ]
  },
  {
   "cell_type": "code",
   "execution_count": null,
   "metadata": {
    "id": "uKuKVLEMFTSl"
   },
   "outputs": [],
   "source": [
    "test_report = get_test_report(knn_model)\n",
    "\n",
    "# print the performace measures\n",
    "print(test_report)"
   ]
  },
  {
   "cell_type": "raw",
   "metadata": {
    "id": "4qIDE2ArXCLi"
   },
   "source": [
    "Interpretation: The accuracy is 66% for this model."
   ]
  },
  {
   "cell_type": "markdown",
   "metadata": {
    "id": "5kwUDt9xIGFH"
   },
   "source": [
    "## 16. GaussianNB Classifier"
   ]
  },
  {
   "cell_type": "code",
   "execution_count": null,
   "metadata": {
    "id": "-NWW41WwJhVs"
   },
   "outputs": [],
   "source": [
    "from beautifultable import BeautifulTable\n",
    "table = BeautifulTable()\n",
    "table.column_headers= [\"Model Name\",'Accuracy','Precision ','Recall', \"F1 Score\",\" AUC \",'Kappa']\n",
    "table.append_row([\"Log Reg\", \"0.63\", \"0.63\",\"0.95\", \"0.76\",'0.53','0.07'])\n",
    "table.append_row([\"Log Reg (cutoff)\", \"0.64\", \"0.64\",\"0.85\", \"0.75\",'0.53','0.07'])\n",
    "table.append_row([\"Log Reg RFE\", \"0.62\", \"0.62\",\"1.00\", \"0.76\",'0.50','0.005'])\n",
    "table.append_row([\"Log Reg GridSearchCV\", \"0.69\", \"0.64\",\"0.72\", \"0.70\",'0.60','0.019'])\n",
    "table.append_row([\"Base Decision Tree \", \"0.98\", \"0.97\",\"1.00\", \"0.98\",'0.74','0.500'])\n",
    "table.append_row([\"Decision Tree (basic tuning) \", \"0.72\", \"0.74\",\"0.85\", \"0.79\",'0.68','0.387'])\n",
    "table.append_row([\"Decision Tree RandomizedSearchCV \", \"0.75\", \"0.76\",\"0.85\", \"0.80\",'0.86','0.832'])\n",
    "table.append_row([\"Decision Tree GridSearchCV \", \"0.77\", \"0.80\",\"0.85\", \"0.82\",'0.807','0.764'])\n",
    "table.append_row([\"Random Forest (basic tuning) \", \"0.65\", \"0.65\",\"0.94\", \"0.77\",'0.55','0.131'])\n",
    "table.append_row([\"Random Forest RandomizedSearchCV \", \"0.66\", \"0.76\",\"0.92\", \"0.77\",'0.82','0.458'])\n",
    "table.append_row([\"Random Forest tuned with important Features \", \"0.68\", \"0.68\",\"0.90\", \"0.78\",'0.60','0.45'])\n",
    "table.append_row([\"Gradient Boosting\", \"0.75\", \"0.77\",\"0.82\", \"0.79\",'0.73','0.472'])\n",
    "table.append_row([\"Knn\", \"0.66\", \"0.71\",\"0.72\", \"0.71\",'0.64','0.296'])\n",
    "\n",
    "print(table)\n"
   ]
  },
  {
   "cell_type": "raw",
   "metadata": {
    "id": "bApvo3W1FTVb"
   },
   "source": [
    "We tried using Youden's index after the logistic regression base model produced a minimal outcome, and it produced a decent result with a 64 percent accuracy and 75 percent F1 score. Further research using RFE indicates that the logistic regression does not appear to function well, despite having a high recall value score. Finally, logistic regression was used to tune with GridsearchCV parameters, and the results were good, with an accuracy score of 69 percent, a recall value of 72 percent, and an F1 score of 70 percent.\n",
    "\n",
    "Second, when the decision tree methods were used, the basic model was overfit. To address this overfitting problem, we first tried simple parameter adjustment, which produced acceptable results. Next, we tried randomised search CV and grid search CV to work more closely with the decision tree model. These two parameter tuning models yielded nearly identical scores, with the randomised search false behind the grid search scoring 0.5 and the great search scoring 0.7. The auc score and the recall numbers are also different from one another.\n",
    "\n",
    "The random forest approaches are then used, where the same flow process is used to build a base model, a randomised search CV, and a random forest model with the key features. With an accuracy score of 74%, an F1 score of 79%, and a recall value of 81%, the random forest with randomised search CV appears to provide a decent outcome. The issue that we would like to address here is that despite having a large quantity of data, we were unable to effectively execute the random forest grid search CV, which may have resulted in a high score.\n",
    "\n",
    "Finally, we moved on to the procedures for boosting where the XG boost and add a boost were completed. A respectable accuracy score of 75% is provided by gradient boosting and extreme boosting in comparison. The attempt on XG boost with the key elements actually had an F1 score of 83 percent, a 76 percent accuracy score, and a 76 percent overall performance. A simple KNN and Gaussian NB model was tried, and it produced an accuracy value of roughly 65%.The test dataset is used to evaluate each of these scores.\n"
   ]
  },
  {
   "cell_type": "markdown",
   "metadata": {
    "id": "XXs4vHQ5XCLk"
   },
   "source": [
    "### Selection of Model"
   ]
  },
  {
   "cell_type": "raw",
   "metadata": {
    "id": "XiDjYAiWFTX4"
   },
   "source": [
    "After evaluating all the models on the test dataset, we can conclude that the Decision Tree - GridsearchCV model works well on the data set with an accuracy score of 77 percent, recall value of 84 percent, F1 score of 82 percent, and kappa score of 74 percent."
   ]
  },
  {
   "cell_type": "markdown",
   "metadata": {
    "id": "L0mWrtVPXCLk"
   },
   "source": [
    "### Results & Discussion"
   ]
  },
  {
   "cell_type": "raw",
   "metadata": {
    "id": "iGIzJu6FFTas"
   },
   "source": [
    "In order to discuss the results in detail, the decision tree model with GridsearchCV, which has an accuracy score of 77%, was ultimately chosen. 77% of the predictions made by the model were accurate. A model is better when its accuracy value is relatively high.\n",
    "\n",
    "The percentage of positive cases that were accurately anticipated is 80% when it comes to the precision value. Once more, our model's relatively greater precision value adds something to make it a superior model to the competition.\n",
    "The F1 score is 76 percent, which is a harmonic mean of the precision and recall values for our classification model. The true positive rate for our model is 84 percent, which is comparatively higher than any other model's value. As the F1 score is a useful metric for balancing precision and recall, and as it is currently 82 percent, we can state with confidence that our model provides the highest F1 score.\n",
    "\n",
    "The chosen model's kappa score is 0.746, which is very close to 0.8, and we can infer that the inter-rater reliability is high. The measure of separability between the classes in a target variable is 76 percent according to the auc score, which is around 76 percent. The auc score in the grid search CV is higher than the scores of the other models. One issue we would like to address is the fact that because the data set is so large, codes like hyper parameter tuning,selecting important feature and even GridsearchCV often have trouble running or take too long to complete, which prevents us from testing new strategies constantly."
   ]
  },
  {
   "cell_type": "markdown",
   "metadata": {
    "id": "PPvThNrmXCLk"
   },
   "source": [
    "### Conclusion"
   ]
  },
  {
   "cell_type": "raw",
   "metadata": {
    "id": "vWBajSzvXCLl"
   },
   "source": [
    "As previously discussed, the decision tree group search model produces a comparatively better output, with an accuracy score of 77% and an F1 score of 82%. The kapas score of 0.76 indicates that the model's interated reliability is significant\n",
    "\n",
    "We would like to improve our models by using the unsupervised clustering method to see how the data is distributed in clusters and then performing classification models based on the acquired information. Another issue we encountered was that because the data was so large, we were unable to test hyper parameter tuning and future importance on some models. Further advancements would include attempting to upsample the data in various combinations and testing the models."
   ]
  }
 ],
 "metadata": {
  "colab": {
   "provenance": [],
   "toc_visible": true
  },
  "gpuClass": "standard",
  "kernelspec": {
   "display_name": "Python 3 (ipykernel)",
   "language": "python",
   "name": "python3"
  },
  "language_info": {
   "codemirror_mode": {
    "name": "ipython",
    "version": 3
   },
   "file_extension": ".py",
   "mimetype": "text/x-python",
   "name": "python",
   "nbconvert_exporter": "python",
   "pygments_lexer": "ipython3",
   "version": "3.10.6"
  }
 },
 "nbformat": 4,
 "nbformat_minor": 1
}
