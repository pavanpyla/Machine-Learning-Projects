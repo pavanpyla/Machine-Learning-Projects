{
  "metadata": {
    "kernelspec": {
      "language": "python",
      "display_name": "Python 3",
      "name": "python3"
    },
    "language_info": {
      "name": "python",
      "version": "3.7.12",
      "mimetype": "text/x-python",
      "codemirror_mode": {
        "name": "ipython",
        "version": 3
      },
      "pygments_lexer": "ipython3",
      "nbconvert_exporter": "python",
      "file_extension": ".py"
    },
    "colab": {
      "provenance": []
    }
  },
  "nbformat_minor": 0,
  "nbformat": 4,
  "cells": [
    {
      "cell_type": "code",
      "source": [
        "import pandas as pd\n",
        "import numpy as np\n",
        "import matplotlib.pyplot as plt\n",
        "from sklearn.model_selection import train_test_split\n",
        "from sklearn.ensemble import GradientBoostingClassifier\n",
        "from sklearn.metrics import accuracy_score\n",
        "\n",
        "# Load the breast cancer dataset\n",
        "data=pd.read_csv('/kaggle/input/data1/data.csv')\n",
        "import warnings\n",
        "warnings.filterwarnings('ignore', category=FutureWarning)\n"
      ],
      "metadata": {
        "execution": {
          "iopub.status.busy": "2023-05-03T14:44:27.033335Z",
          "iopub.execute_input": "2023-05-03T14:44:27.033733Z",
          "iopub.status.idle": "2023-05-03T14:44:28.567980Z",
          "shell.execute_reply.started": "2023-05-03T14:44:27.033699Z",
          "shell.execute_reply": "2023-05-03T14:44:28.566521Z"
        },
        "trusted": true,
        "id": "r-dsDWAceQeW"
      },
      "execution_count": null,
      "outputs": []
    },
    {
      "cell_type": "code",
      "source": [
        "X=data.iloc[:,:-1]\n",
        "X\n",
        "Y=data.iloc[:,-1]\n",
        "Y"
      ],
      "metadata": {
        "execution": {
          "iopub.status.busy": "2023-05-03T14:44:28.570878Z",
          "iopub.execute_input": "2023-05-03T14:44:28.571363Z",
          "iopub.status.idle": "2023-05-03T14:44:28.593102Z",
          "shell.execute_reply.started": "2023-05-03T14:44:28.571313Z",
          "shell.execute_reply": "2023-05-03T14:44:28.590389Z"
        },
        "trusted": true,
        "id": "6Y6RNQZ_eQeX",
        "outputId": "3e431785-0a7a-41cc-ae20-f18ec44de95c"
      },
      "execution_count": null,
      "outputs": [
        {
          "execution_count": 2,
          "output_type": "execute_result",
          "data": {
            "text/plain": "0      7.0\n1      9.0\n2      7.6\n3      7.7\n4      7.3\n      ... \n135    6.3\n136    7.4\n137    7.6\n138    9.0\n139    6.9\nName: GPA, Length: 140, dtype: float64"
          },
          "metadata": {}
        }
      ]
    },
    {
      "cell_type": "code",
      "source": [
        "X=X.drop('one_vector',axis=1)"
      ],
      "metadata": {
        "execution": {
          "iopub.status.busy": "2023-05-03T14:44:28.595283Z",
          "iopub.execute_input": "2023-05-03T14:44:28.596260Z",
          "iopub.status.idle": "2023-05-03T14:44:28.608169Z",
          "shell.execute_reply.started": "2023-05-03T14:44:28.596181Z",
          "shell.execute_reply": "2023-05-03T14:44:28.606895Z"
        },
        "trusted": true,
        "id": "qZtDd4_oeQeY"
      },
      "execution_count": null,
      "outputs": []
    },
    {
      "cell_type": "code",
      "source": [
        "X"
      ],
      "metadata": {
        "execution": {
          "iopub.status.busy": "2023-05-03T14:44:28.611710Z",
          "iopub.execute_input": "2023-05-03T14:44:28.613074Z",
          "iopub.status.idle": "2023-05-03T14:44:28.644446Z",
          "shell.execute_reply.started": "2023-05-03T14:44:28.613024Z",
          "shell.execute_reply": "2023-05-03T14:44:28.643219Z"
        },
        "trusted": true,
        "id": "FAinCywreQeY",
        "outputId": "a21f1d91-849f-4bb8-a44b-516ebcb9fc6d"
      },
      "execution_count": null,
      "outputs": [
        {
          "execution_count": 4,
          "output_type": "execute_result",
          "data": {
            "text/plain": "     total_courses  study_hrs  play_hrs  understanding  difficulty\n0                5       3.00       3.0            3.0        3.00\n1                5       2.50       1.0            4.0        3.75\n2                3       1.00       0.5            3.0        3.90\n3                7       1.00       2.0            3.0        3.00\n4                7       1.00       1.0            3.5        3.00\n..             ...        ...       ...            ...         ...\n135              5       0.35       0.1            2.2        4.00\n136              5       1.00       1.5            3.5        4.23\n137              4       0.80       0.5            3.5        4.80\n138              5       2.00       0.5            4.0        4.00\n139              8       3.00       2.0            3.5        4.00\n\n[140 rows x 5 columns]",
            "text/html": "<div>\n<style scoped>\n    .dataframe tbody tr th:only-of-type {\n        vertical-align: middle;\n    }\n\n    .dataframe tbody tr th {\n        vertical-align: top;\n    }\n\n    .dataframe thead th {\n        text-align: right;\n    }\n</style>\n<table border=\"1\" class=\"dataframe\">\n  <thead>\n    <tr style=\"text-align: right;\">\n      <th></th>\n      <th>total_courses</th>\n      <th>study_hrs</th>\n      <th>play_hrs</th>\n      <th>understanding</th>\n      <th>difficulty</th>\n    </tr>\n  </thead>\n  <tbody>\n    <tr>\n      <th>0</th>\n      <td>5</td>\n      <td>3.00</td>\n      <td>3.0</td>\n      <td>3.0</td>\n      <td>3.00</td>\n    </tr>\n    <tr>\n      <th>1</th>\n      <td>5</td>\n      <td>2.50</td>\n      <td>1.0</td>\n      <td>4.0</td>\n      <td>3.75</td>\n    </tr>\n    <tr>\n      <th>2</th>\n      <td>3</td>\n      <td>1.00</td>\n      <td>0.5</td>\n      <td>3.0</td>\n      <td>3.90</td>\n    </tr>\n    <tr>\n      <th>3</th>\n      <td>7</td>\n      <td>1.00</td>\n      <td>2.0</td>\n      <td>3.0</td>\n      <td>3.00</td>\n    </tr>\n    <tr>\n      <th>4</th>\n      <td>7</td>\n      <td>1.00</td>\n      <td>1.0</td>\n      <td>3.5</td>\n      <td>3.00</td>\n    </tr>\n    <tr>\n      <th>...</th>\n      <td>...</td>\n      <td>...</td>\n      <td>...</td>\n      <td>...</td>\n      <td>...</td>\n    </tr>\n    <tr>\n      <th>135</th>\n      <td>5</td>\n      <td>0.35</td>\n      <td>0.1</td>\n      <td>2.2</td>\n      <td>4.00</td>\n    </tr>\n    <tr>\n      <th>136</th>\n      <td>5</td>\n      <td>1.00</td>\n      <td>1.5</td>\n      <td>3.5</td>\n      <td>4.23</td>\n    </tr>\n    <tr>\n      <th>137</th>\n      <td>4</td>\n      <td>0.80</td>\n      <td>0.5</td>\n      <td>3.5</td>\n      <td>4.80</td>\n    </tr>\n    <tr>\n      <th>138</th>\n      <td>5</td>\n      <td>2.00</td>\n      <td>0.5</td>\n      <td>4.0</td>\n      <td>4.00</td>\n    </tr>\n    <tr>\n      <th>139</th>\n      <td>8</td>\n      <td>3.00</td>\n      <td>2.0</td>\n      <td>3.5</td>\n      <td>4.00</td>\n    </tr>\n  </tbody>\n</table>\n<p>140 rows × 5 columns</p>\n</div>"
          },
          "metadata": {}
        }
      ]
    },
    {
      "cell_type": "code",
      "source": [
        "target = Y\n",
        "\n",
        "# Round off the values in the target variable\n",
        "target_rounded = [round(x) for x in target]\n",
        "\n",
        "# Print the rounded target variable\n",
        "print(target_rounded)\n",
        "Y=target_rounded"
      ],
      "metadata": {
        "execution": {
          "iopub.status.busy": "2023-05-03T14:44:28.645722Z",
          "iopub.execute_input": "2023-05-03T14:44:28.646059Z",
          "iopub.status.idle": "2023-05-03T14:44:28.653677Z",
          "shell.execute_reply.started": "2023-05-03T14:44:28.646026Z",
          "shell.execute_reply": "2023-05-03T14:44:28.652294Z"
        },
        "trusted": true,
        "id": "I4G0En40eQeY",
        "outputId": "6e4ff5ab-2aee-4bc6-9e44-a2ec73d8ccc4"
      },
      "execution_count": null,
      "outputs": [
        {
          "name": "stdout",
          "text": "[7, 9, 8, 8, 7, 8, 9, 8, 8, 8, 9, 8, 7, 8, 7, 7, 8, 7, 7, 7, 8, 8, 7, 6, 7, 6, 8, 8, 7, 7, 8, 7, 8, 6, 7, 8, 8, 7, 8, 8, 7, 7, 6, 8, 7, 8, 7, 7, 8, 6, 8, 6, 6, 8, 7, 8, 7, 8, 8, 8, 8, 8, 6, 6, 6, 7, 6, 6, 8, 6, 6, 6, 6, 6, 7, 7, 6, 6, 8, 9, 7, 9, 9, 6, 8, 6, 6, 8, 8, 5, 7, 7, 7, 8, 8, 8, 8, 8, 8, 9, 8, 8, 7, 7, 7, 7, 7, 6, 8, 8, 6, 6, 6, 7, 6, 7, 8, 8, 5, 7, 7, 7, 7, 7, 7, 7, 8, 8, 8, 8, 7, 6, 7, 8, 8, 6, 7, 8, 9, 7]\n",
          "output_type": "stream"
        }
      ]
    },
    {
      "cell_type": "code",
      "source": [
        "# Split the dataset into training and testing sets\n",
        "X_train, X_test, y_train, y_test = train_test_split(X, Y, test_size=0.3, random_state=42)\n",
        "\n",
        "\n",
        "model = GradientBoostingClassifier(n_estimators=100, learning_rate=0.1, max_depth=3, random_state=42)\n",
        "model.fit(X_train, y_train)\n",
        "\n",
        "y_pred = model.predict(X_test)\n",
        "\n",
        "\n",
        "accuracy = accuracy_score(y_test, y_pred)\n",
        "print(\"Accuracy:\", accuracy)\n"
      ],
      "metadata": {
        "execution": {
          "iopub.status.busy": "2023-05-03T14:44:28.655168Z",
          "iopub.execute_input": "2023-05-03T14:44:28.655542Z",
          "iopub.status.idle": "2023-05-03T14:44:29.068488Z",
          "shell.execute_reply.started": "2023-05-03T14:44:28.655489Z",
          "shell.execute_reply": "2023-05-03T14:44:29.067309Z"
        },
        "trusted": true,
        "id": "3YgN3sPxeQeZ",
        "outputId": "cbebe200-165e-4413-f763-0ae2bb5b71bb"
      },
      "execution_count": null,
      "outputs": [
        {
          "name": "stdout",
          "text": "Accuracy: 0.5\n",
          "output_type": "stream"
        }
      ]
    },
    {
      "cell_type": "code",
      "source": [
        "X_test['grade_actual']= y_test"
      ],
      "metadata": {
        "execution": {
          "iopub.status.busy": "2023-05-03T14:44:29.069987Z",
          "iopub.execute_input": "2023-05-03T14:44:29.070700Z",
          "iopub.status.idle": "2023-05-03T14:44:29.082971Z",
          "shell.execute_reply.started": "2023-05-03T14:44:29.070661Z",
          "shell.execute_reply": "2023-05-03T14:44:29.081745Z"
        },
        "trusted": true,
        "id": "cSKM56mreQeZ"
      },
      "execution_count": null,
      "outputs": []
    },
    {
      "cell_type": "code",
      "source": [
        "X_test['grade_predicted']= y_pred"
      ],
      "metadata": {
        "execution": {
          "iopub.status.busy": "2023-05-03T14:44:29.084577Z",
          "iopub.execute_input": "2023-05-03T14:44:29.086592Z",
          "iopub.status.idle": "2023-05-03T14:44:29.098622Z",
          "shell.execute_reply.started": "2023-05-03T14:44:29.086533Z",
          "shell.execute_reply": "2023-05-03T14:44:29.097122Z"
        },
        "trusted": true,
        "id": "KZxm3ETieQeZ"
      },
      "execution_count": null,
      "outputs": []
    },
    {
      "cell_type": "code",
      "source": [
        "X_test"
      ],
      "metadata": {
        "execution": {
          "iopub.status.busy": "2023-05-03T14:44:29.100271Z",
          "iopub.execute_input": "2023-05-03T14:44:29.101445Z",
          "iopub.status.idle": "2023-05-03T14:44:29.132949Z",
          "shell.execute_reply.started": "2023-05-03T14:44:29.101389Z",
          "shell.execute_reply": "2023-05-03T14:44:29.131562Z"
        },
        "trusted": true,
        "id": "ftXP35UleQeZ",
        "outputId": "b0b3c52a-37bb-49c3-e5c5-97ddfcd4199c"
      },
      "execution_count": null,
      "outputs": [
        {
          "execution_count": 9,
          "output_type": "execute_result",
          "data": {
            "text/plain": "     total_courses  study_hrs  play_hrs  understanding  difficulty  \\\n108              5        1.5       2.0           3.50        3.00   \n67               7        2.0       1.0           3.00        1.00   \n31               8        1.0       3.0           3.50        4.00   \n119              6        5.0       2.0           4.00        4.00   \n42               8        1.0       2.0           5.00        4.00   \n12               7        2.5       1.0           3.00        4.00   \n81               9        5.0       1.0           3.00        4.50   \n69               8        4.0       2.0           4.00        3.00   \n104              6        6.0       1.0           4.25        4.50   \n109              6        1.0       0.5           5.00        4.50   \n113              6        2.0       2.0           4.00        3.00   \n56               7        0.4       1.2           3.00        4.70   \n66               6        2.0       1.0           4.00        2.00   \n19               8        1.0       1.0           4.00        4.00   \n132              5        1.5       2.0           3.50        3.75   \n78               8        4.0       2.0           3.00        4.00   \n11               7        1.5       0.5           4.00        2.00   \n27               6        2.0       2.0           4.00        4.00   \n127              9        1.0       2.5           4.30        4.50   \n110              6        3.0       3.0           4.00        2.00   \n36               8        1.5       1.0           4.00        4.00   \n118              7        1.0       2.0           4.00        5.00   \n60               5        5.0       3.5           3.00        4.00   \n4                7        1.0       1.0           3.50        3.00   \n131              7        2.0       3.0           3.00        1.00   \n26               8        1.5       1.0           3.00        4.00   \n138              5        2.0       0.5           4.00        4.00   \n96               5        1.0       2.0           4.50        3.00   \n16               5        1.0       2.5           3.75        3.50   \n18               8        1.0       3.0           3.50        4.00   \n10               7        2.0       0.5           3.00        3.00   \n111              6        2.0       2.0           4.00        3.00   \n101              5        0.5       0.5           4.00        5.00   \n94               5        1.0       2.0           4.00        4.00   \n51               7        1.5       2.0           4.00        2.50   \n45               6        1.5       2.5           4.25        3.50   \n82               9        3.0       0.5           3.50        4.00   \n136              5        1.0       1.5           3.50        4.23   \n65               6        2.0       1.0           4.00        5.00   \n0                5        3.0       3.0           3.00        3.00   \n55               8        1.0       1.0           3.00        5.00   \n28               3        1.5       2.0           3.00        4.00   \n\n     grade_actual  grade_predicted  \n108             8                7  \n67              6                7  \n31              7                7  \n119             7                7  \n42              6                8  \n12              7                7  \n81              9                8  \n69              6                6  \n104             7                8  \n109             8                8  \n113             7                6  \n56              7                8  \n66              6                7  \n19              7                7  \n132             7                8  \n78              8                7  \n11              8                9  \n27              8                7  \n127             8                8  \n110             6                7  \n36              8                8  \n118             5                8  \n60              8                7  \n4               7                8  \n131             6                6  \n26              8                7  \n138             9                8  \n96              8                8  \n16              8                8  \n18              7                7  \n10              9                9  \n111             6                6  \n101             8                8  \n94              8                6  \n51              6                8  \n45              8                8  \n82              9                9  \n136             7                7  \n65              7                8  \n0               7                7  \n55              8                8  \n28              7                7  ",
            "text/html": "<div>\n<style scoped>\n    .dataframe tbody tr th:only-of-type {\n        vertical-align: middle;\n    }\n\n    .dataframe tbody tr th {\n        vertical-align: top;\n    }\n\n    .dataframe thead th {\n        text-align: right;\n    }\n</style>\n<table border=\"1\" class=\"dataframe\">\n  <thead>\n    <tr style=\"text-align: right;\">\n      <th></th>\n      <th>total_courses</th>\n      <th>study_hrs</th>\n      <th>play_hrs</th>\n      <th>understanding</th>\n      <th>difficulty</th>\n      <th>grade_actual</th>\n      <th>grade_predicted</th>\n    </tr>\n  </thead>\n  <tbody>\n    <tr>\n      <th>108</th>\n      <td>5</td>\n      <td>1.5</td>\n      <td>2.0</td>\n      <td>3.50</td>\n      <td>3.00</td>\n      <td>8</td>\n      <td>7</td>\n    </tr>\n    <tr>\n      <th>67</th>\n      <td>7</td>\n      <td>2.0</td>\n      <td>1.0</td>\n      <td>3.00</td>\n      <td>1.00</td>\n      <td>6</td>\n      <td>7</td>\n    </tr>\n    <tr>\n      <th>31</th>\n      <td>8</td>\n      <td>1.0</td>\n      <td>3.0</td>\n      <td>3.50</td>\n      <td>4.00</td>\n      <td>7</td>\n      <td>7</td>\n    </tr>\n    <tr>\n      <th>119</th>\n      <td>6</td>\n      <td>5.0</td>\n      <td>2.0</td>\n      <td>4.00</td>\n      <td>4.00</td>\n      <td>7</td>\n      <td>7</td>\n    </tr>\n    <tr>\n      <th>42</th>\n      <td>8</td>\n      <td>1.0</td>\n      <td>2.0</td>\n      <td>5.00</td>\n      <td>4.00</td>\n      <td>6</td>\n      <td>8</td>\n    </tr>\n    <tr>\n      <th>12</th>\n      <td>7</td>\n      <td>2.5</td>\n      <td>1.0</td>\n      <td>3.00</td>\n      <td>4.00</td>\n      <td>7</td>\n      <td>7</td>\n    </tr>\n    <tr>\n      <th>81</th>\n      <td>9</td>\n      <td>5.0</td>\n      <td>1.0</td>\n      <td>3.00</td>\n      <td>4.50</td>\n      <td>9</td>\n      <td>8</td>\n    </tr>\n    <tr>\n      <th>69</th>\n      <td>8</td>\n      <td>4.0</td>\n      <td>2.0</td>\n      <td>4.00</td>\n      <td>3.00</td>\n      <td>6</td>\n      <td>6</td>\n    </tr>\n    <tr>\n      <th>104</th>\n      <td>6</td>\n      <td>6.0</td>\n      <td>1.0</td>\n      <td>4.25</td>\n      <td>4.50</td>\n      <td>7</td>\n      <td>8</td>\n    </tr>\n    <tr>\n      <th>109</th>\n      <td>6</td>\n      <td>1.0</td>\n      <td>0.5</td>\n      <td>5.00</td>\n      <td>4.50</td>\n      <td>8</td>\n      <td>8</td>\n    </tr>\n    <tr>\n      <th>113</th>\n      <td>6</td>\n      <td>2.0</td>\n      <td>2.0</td>\n      <td>4.00</td>\n      <td>3.00</td>\n      <td>7</td>\n      <td>6</td>\n    </tr>\n    <tr>\n      <th>56</th>\n      <td>7</td>\n      <td>0.4</td>\n      <td>1.2</td>\n      <td>3.00</td>\n      <td>4.70</td>\n      <td>7</td>\n      <td>8</td>\n    </tr>\n    <tr>\n      <th>66</th>\n      <td>6</td>\n      <td>2.0</td>\n      <td>1.0</td>\n      <td>4.00</td>\n      <td>2.00</td>\n      <td>6</td>\n      <td>7</td>\n    </tr>\n    <tr>\n      <th>19</th>\n      <td>8</td>\n      <td>1.0</td>\n      <td>1.0</td>\n      <td>4.00</td>\n      <td>4.00</td>\n      <td>7</td>\n      <td>7</td>\n    </tr>\n    <tr>\n      <th>132</th>\n      <td>5</td>\n      <td>1.5</td>\n      <td>2.0</td>\n      <td>3.50</td>\n      <td>3.75</td>\n      <td>7</td>\n      <td>8</td>\n    </tr>\n    <tr>\n      <th>78</th>\n      <td>8</td>\n      <td>4.0</td>\n      <td>2.0</td>\n      <td>3.00</td>\n      <td>4.00</td>\n      <td>8</td>\n      <td>7</td>\n    </tr>\n    <tr>\n      <th>11</th>\n      <td>7</td>\n      <td>1.5</td>\n      <td>0.5</td>\n      <td>4.00</td>\n      <td>2.00</td>\n      <td>8</td>\n      <td>9</td>\n    </tr>\n    <tr>\n      <th>27</th>\n      <td>6</td>\n      <td>2.0</td>\n      <td>2.0</td>\n      <td>4.00</td>\n      <td>4.00</td>\n      <td>8</td>\n      <td>7</td>\n    </tr>\n    <tr>\n      <th>127</th>\n      <td>9</td>\n      <td>1.0</td>\n      <td>2.5</td>\n      <td>4.30</td>\n      <td>4.50</td>\n      <td>8</td>\n      <td>8</td>\n    </tr>\n    <tr>\n      <th>110</th>\n      <td>6</td>\n      <td>3.0</td>\n      <td>3.0</td>\n      <td>4.00</td>\n      <td>2.00</td>\n      <td>6</td>\n      <td>7</td>\n    </tr>\n    <tr>\n      <th>36</th>\n      <td>8</td>\n      <td>1.5</td>\n      <td>1.0</td>\n      <td>4.00</td>\n      <td>4.00</td>\n      <td>8</td>\n      <td>8</td>\n    </tr>\n    <tr>\n      <th>118</th>\n      <td>7</td>\n      <td>1.0</td>\n      <td>2.0</td>\n      <td>4.00</td>\n      <td>5.00</td>\n      <td>5</td>\n      <td>8</td>\n    </tr>\n    <tr>\n      <th>60</th>\n      <td>5</td>\n      <td>5.0</td>\n      <td>3.5</td>\n      <td>3.00</td>\n      <td>4.00</td>\n      <td>8</td>\n      <td>7</td>\n    </tr>\n    <tr>\n      <th>4</th>\n      <td>7</td>\n      <td>1.0</td>\n      <td>1.0</td>\n      <td>3.50</td>\n      <td>3.00</td>\n      <td>7</td>\n      <td>8</td>\n    </tr>\n    <tr>\n      <th>131</th>\n      <td>7</td>\n      <td>2.0</td>\n      <td>3.0</td>\n      <td>3.00</td>\n      <td>1.00</td>\n      <td>6</td>\n      <td>6</td>\n    </tr>\n    <tr>\n      <th>26</th>\n      <td>8</td>\n      <td>1.5</td>\n      <td>1.0</td>\n      <td>3.00</td>\n      <td>4.00</td>\n      <td>8</td>\n      <td>7</td>\n    </tr>\n    <tr>\n      <th>138</th>\n      <td>5</td>\n      <td>2.0</td>\n      <td>0.5</td>\n      <td>4.00</td>\n      <td>4.00</td>\n      <td>9</td>\n      <td>8</td>\n    </tr>\n    <tr>\n      <th>96</th>\n      <td>5</td>\n      <td>1.0</td>\n      <td>2.0</td>\n      <td>4.50</td>\n      <td>3.00</td>\n      <td>8</td>\n      <td>8</td>\n    </tr>\n    <tr>\n      <th>16</th>\n      <td>5</td>\n      <td>1.0</td>\n      <td>2.5</td>\n      <td>3.75</td>\n      <td>3.50</td>\n      <td>8</td>\n      <td>8</td>\n    </tr>\n    <tr>\n      <th>18</th>\n      <td>8</td>\n      <td>1.0</td>\n      <td>3.0</td>\n      <td>3.50</td>\n      <td>4.00</td>\n      <td>7</td>\n      <td>7</td>\n    </tr>\n    <tr>\n      <th>10</th>\n      <td>7</td>\n      <td>2.0</td>\n      <td>0.5</td>\n      <td>3.00</td>\n      <td>3.00</td>\n      <td>9</td>\n      <td>9</td>\n    </tr>\n    <tr>\n      <th>111</th>\n      <td>6</td>\n      <td>2.0</td>\n      <td>2.0</td>\n      <td>4.00</td>\n      <td>3.00</td>\n      <td>6</td>\n      <td>6</td>\n    </tr>\n    <tr>\n      <th>101</th>\n      <td>5</td>\n      <td>0.5</td>\n      <td>0.5</td>\n      <td>4.00</td>\n      <td>5.00</td>\n      <td>8</td>\n      <td>8</td>\n    </tr>\n    <tr>\n      <th>94</th>\n      <td>5</td>\n      <td>1.0</td>\n      <td>2.0</td>\n      <td>4.00</td>\n      <td>4.00</td>\n      <td>8</td>\n      <td>6</td>\n    </tr>\n    <tr>\n      <th>51</th>\n      <td>7</td>\n      <td>1.5</td>\n      <td>2.0</td>\n      <td>4.00</td>\n      <td>2.50</td>\n      <td>6</td>\n      <td>8</td>\n    </tr>\n    <tr>\n      <th>45</th>\n      <td>6</td>\n      <td>1.5</td>\n      <td>2.5</td>\n      <td>4.25</td>\n      <td>3.50</td>\n      <td>8</td>\n      <td>8</td>\n    </tr>\n    <tr>\n      <th>82</th>\n      <td>9</td>\n      <td>3.0</td>\n      <td>0.5</td>\n      <td>3.50</td>\n      <td>4.00</td>\n      <td>9</td>\n      <td>9</td>\n    </tr>\n    <tr>\n      <th>136</th>\n      <td>5</td>\n      <td>1.0</td>\n      <td>1.5</td>\n      <td>3.50</td>\n      <td>4.23</td>\n      <td>7</td>\n      <td>7</td>\n    </tr>\n    <tr>\n      <th>65</th>\n      <td>6</td>\n      <td>2.0</td>\n      <td>1.0</td>\n      <td>4.00</td>\n      <td>5.00</td>\n      <td>7</td>\n      <td>8</td>\n    </tr>\n    <tr>\n      <th>0</th>\n      <td>5</td>\n      <td>3.0</td>\n      <td>3.0</td>\n      <td>3.00</td>\n      <td>3.00</td>\n      <td>7</td>\n      <td>7</td>\n    </tr>\n    <tr>\n      <th>55</th>\n      <td>8</td>\n      <td>1.0</td>\n      <td>1.0</td>\n      <td>3.00</td>\n      <td>5.00</td>\n      <td>8</td>\n      <td>8</td>\n    </tr>\n    <tr>\n      <th>28</th>\n      <td>3</td>\n      <td>1.5</td>\n      <td>2.0</td>\n      <td>3.00</td>\n      <td>4.00</td>\n      <td>7</td>\n      <td>7</td>\n    </tr>\n  </tbody>\n</table>\n</div>"
          },
          "metadata": {}
        }
      ]
    },
    {
      "cell_type": "code",
      "source": [
        "# total_courses=int(input(\"Enter Total No of Courses :\"))\n",
        "# study_hr=float(input(\"Enter Total No of Study Hours Per Day :\"))\n",
        "# play_hrs=float(input(\"Enter Total No of Play Hours :\"))\n",
        "# understanding=float(input(\"What is your Understanding (1 to 5) :\"))\n",
        "# difficulty=float(input(\"What is Difficulty Level  (1 to 5) :\"))\n",
        "# X_new=[[total_courses,study_hr,play_hrs,understanding,difficulty]]\n",
        "# result = model.predict(X_new)\n",
        "# print('Score For this Semester will be ',result[0])"
      ],
      "metadata": {
        "execution": {
          "iopub.status.busy": "2023-05-03T14:44:29.138171Z",
          "iopub.execute_input": "2023-05-03T14:44:29.139687Z",
          "iopub.status.idle": "2023-05-03T14:44:29.144824Z",
          "shell.execute_reply.started": "2023-05-03T14:44:29.139632Z",
          "shell.execute_reply": "2023-05-03T14:44:29.143924Z"
        },
        "trusted": true,
        "id": "-YGL_468eQeZ"
      },
      "execution_count": null,
      "outputs": []
    },
    {
      "cell_type": "code",
      "source": [
        "from sklearn.datasets import load_breast_cancer\n",
        "from sklearn.model_selection import train_test_split\n",
        "from sklearn.ensemble import GradientBoostingClassifier\n",
        "from sklearn.ensemble import RandomForestClassifier\n",
        "from sklearn.metrics import accuracy_score,precision_score,recall_score,f1_score\n"
      ],
      "metadata": {
        "execution": {
          "iopub.status.busy": "2023-05-03T14:44:29.146213Z",
          "iopub.execute_input": "2023-05-03T14:44:29.147234Z",
          "iopub.status.idle": "2023-05-03T14:44:29.231897Z",
          "shell.execute_reply.started": "2023-05-03T14:44:29.147169Z",
          "shell.execute_reply": "2023-05-03T14:44:29.230645Z"
        },
        "trusted": true,
        "id": "o-r3XEWgeQea"
      },
      "execution_count": null,
      "outputs": []
    },
    {
      "cell_type": "code",
      "source": [
        "\n",
        "data = load_breast_cancer()   # Loading the Data set and Splitting the Train test split\n",
        "X_train, X_test, y_train, y_test = train_test_split(data.data, data.target, test_size=0.2)\n",
        "\n",
        "\n"
      ],
      "metadata": {
        "execution": {
          "iopub.status.busy": "2023-05-03T14:44:29.233648Z",
          "iopub.execute_input": "2023-05-03T14:44:29.234140Z",
          "iopub.status.idle": "2023-05-03T14:44:29.254001Z",
          "shell.execute_reply.started": "2023-05-03T14:44:29.234091Z",
          "shell.execute_reply": "2023-05-03T14:44:29.252816Z"
        },
        "trusted": true,
        "id": "vj6kL_aveQea"
      },
      "execution_count": null,
      "outputs": []
    },
    {
      "cell_type": "markdown",
      "source": [
        "## Checking the running time of the Random Forest Algorithm"
      ],
      "metadata": {
        "id": "kxJZNg7jeQea"
      }
    },
    {
      "cell_type": "code",
      "source": [
        "import time\n",
        "\n",
        "start_time = time.time()\n",
        "\n",
        "# Train a Random Forest Classifier model\n",
        "model = RandomForestClassifier(n_estimators=100, random_state=42)\n",
        "model.fit(X_train, y_train)\n",
        "\n",
        "# Make predictions on the test set\n",
        "y_pred = model.predict(X_test)\n",
        "print('Accuracy',accuracy_score(y_test,y_pred))\n",
        "# print(\"Precision:\", precision_score(y_test,y_pred))\n",
        "# print(\"Recall:\", recall_score(y_test,y_pred))\n",
        "# print(\"F1 Score:\", f1_score(y_test,y_pred))\n",
        "\n",
        "end_time = time.time()\n",
        "\n",
        "running_time = end_time - start_time\n",
        "print(\"Running time:\", running_time)\n",
        "\n"
      ],
      "metadata": {
        "execution": {
          "iopub.status.busy": "2023-05-03T14:44:29.255706Z",
          "iopub.execute_input": "2023-05-03T14:44:29.256575Z",
          "iopub.status.idle": "2023-05-03T14:44:29.512443Z",
          "shell.execute_reply.started": "2023-05-03T14:44:29.256519Z",
          "shell.execute_reply": "2023-05-03T14:44:29.510957Z"
        },
        "trusted": true,
        "id": "tjYXhdbYeQeb",
        "outputId": "1c76d4a3-fca0-41a0-9333-98e63970bcf5"
      },
      "execution_count": null,
      "outputs": [
        {
          "name": "stdout",
          "text": "Accuracy 0.9649122807017544\nRunning time: 0.2467784881591797\n",
          "output_type": "stream"
        }
      ]
    },
    {
      "cell_type": "markdown",
      "source": [
        "## Checking the Running Time of Gradient Boosting Algorithm"
      ],
      "metadata": {
        "id": "TK4bLwFueQeb"
      }
    },
    {
      "cell_type": "code",
      "source": [
        "import time\n",
        "\n",
        "start_time = time.time()\n",
        "modelxg = GradientBoostingClassifier(n_estimators=100)\n",
        "modelxg.fit(X_train, y_train)\n",
        "\n",
        "y_pred1 = modelxg.predict(X_test)\n",
        "print('Accuracy',accuracy_score(y_test,y_pred1))\n",
        "# print(\"Precision:\", precision_score(y_test,y_pred1))\n",
        "# print(\"Recall:\", recall_score(y_test,y_pred1))\n",
        "# print(\"F1 Score:\", f1_score(y_test,y_pred1))\n",
        "\n",
        "end_time = time.time()\n",
        "\n",
        "running_time = end_time - start_time\n",
        "print(\"Running time:\", running_time)\n"
      ],
      "metadata": {
        "execution": {
          "iopub.status.busy": "2023-05-03T14:44:29.514423Z",
          "iopub.execute_input": "2023-05-03T14:44:29.514896Z",
          "iopub.status.idle": "2023-05-03T14:44:29.944273Z",
          "shell.execute_reply.started": "2023-05-03T14:44:29.514849Z",
          "shell.execute_reply": "2023-05-03T14:44:29.942920Z"
        },
        "trusted": true,
        "id": "riI-KN_2eQeb",
        "outputId": "ab710fa7-6245-4d99-c8ad-95e7231c4dfc"
      },
      "execution_count": null,
      "outputs": [
        {
          "name": "stdout",
          "text": "Accuracy 0.9649122807017544\nRunning time: 0.4225742816925049\n",
          "output_type": "stream"
        }
      ]
    },
    {
      "cell_type": "markdown",
      "source": [
        "# Gradient Boost from Scratch\n"
      ],
      "metadata": {
        "id": "qnmPKXQ7eQeb"
      }
    },
    {
      "cell_type": "code",
      "source": [
        "import numpy as np\n",
        "\n",
        "class DecisionTreeRegressor1:\n",
        "\n",
        "    def __init__(self, max_depth=10, min_samples_split=2):\n",
        "        self.max_depth = max_depth\n",
        "        self.min_samples_split = min_samples_split\n",
        "\n",
        "    def mse(self, y):\n",
        "        return np.mean((y - np.mean(y))**2)\n",
        "\n",
        "    def split(self, X, y, feature, threshold):\n",
        "        left_idx = np.where(X[:, feature] <= threshold)[0]\n",
        "        right_idx = np.where(X[:, feature] > threshold)[0]\n",
        "        if len(left_idx) == 0 or len(right_idx) == 0:\n",
        "            return None, None\n",
        "        left_y, right_y = y[left_idx], y[right_idx]\n",
        "        left_mse, right_mse = self.mse(left_y), self.mse(right_y)\n",
        "        return left_mse, right_mse\n",
        "\n",
        "    def best_split(self, X, y):\n",
        "        best_feature, best_threshold, best_mse = None, None, np.inf\n",
        "        for feature in range(X.shape[1]):\n",
        "            thresholds = np.unique(X[:, feature])\n",
        "            for threshold in thresholds:\n",
        "                left_mse, right_mse = self.split(X, y, feature, threshold)\n",
        "                if left_mse is None:\n",
        "                    continue\n",
        "                mse = (len(left_mse)*left_mse + len(right_mse)*right_mse) / len(y)\n",
        "                if mse < best_mse:\n",
        "                    best_feature, best_threshold, best_mse = feature, threshold, mse\n",
        "        return best_feature, best_threshold, best_mse\n",
        "\n",
        "    def build_tree(self, X, y, depth):\n",
        "        if depth == self.max_depth or len(X) < self.min_samples_split:\n",
        "            return np.mean(y)\n",
        "        feature, threshold, mse = self.best_split(X, y)\n",
        "        if feature is None:\n",
        "            return np.mean(y)\n",
        "        left_idx = np.where(X[:, feature] <= threshold)[0]\n",
        "        right_idx = np.where(X[:, feature] > threshold)[0]\n",
        "        tree = {'feature': feature, 'threshold': threshold}\n",
        "        tree['left'] = self.build_tree(X[left_idx], y[left_idx], depth+1)\n",
        "        tree['right'] = self.build_tree(X[right_idx], y[right_idx], depth+1)\n",
        "        return tree\n",
        "\n",
        "    def fit(self, X, y):\n",
        "        self.tree = self.build_tree(X, y, 0)\n",
        "\n",
        "    def predict_sample(self, tree, x):\n",
        "        if isinstance(tree, float):\n",
        "            return tree\n",
        "        feature, threshold = tree['feature'], tree['threshold']\n",
        "        if x[feature] <= threshold:\n",
        "            return self.predict_sample(tree['left'], x)\n",
        "        else:\n",
        "            return self.predict_sample(tree['right'], x)\n",
        "\n",
        "    def predict(self, X):\n",
        "        return np.array([self.predict_sample(self.tree, x) for x in X])"
      ],
      "metadata": {
        "execution": {
          "iopub.status.busy": "2023-05-03T14:44:29.945909Z",
          "iopub.execute_input": "2023-05-03T14:44:29.946378Z",
          "iopub.status.idle": "2023-05-03T14:44:29.966987Z",
          "shell.execute_reply.started": "2023-05-03T14:44:29.946334Z",
          "shell.execute_reply": "2023-05-03T14:44:29.965491Z"
        },
        "trusted": true,
        "id": "l7-v-EROeQec"
      },
      "execution_count": null,
      "outputs": []
    },
    {
      "cell_type": "code",
      "source": [
        "import numpy as np\n",
        "\n",
        "class AdaBoostRegressor:\n",
        "\n",
        "    def __init__(self, n_estimators=100, learning_rate=0.1):\n",
        "        self.n_estimators = n_estimators\n",
        "        self.learning_rate = learning_rate\n",
        "        self.estimators = []\n",
        "        self.weights = []\n",
        "\n",
        "    def fit(self, X, y):\n",
        "        sample_weights = np.full(X.shape[0], 1/X.shape[0])\n",
        "\n",
        "        for i in range(self.n_estimators):\n",
        "            tree = DecisionTreeRegressor1(max_depth=1)\n",
        "            tree.fit(X, y, sample_weight=sample_weights)\n",
        "            self.estimators.append(tree)\n",
        "\n",
        "            y_pred = tree.predict(X)\n",
        "            weighted_error = np.sum(sample_weights * np.abs(y - y_pred))\n",
        "            alpha = self.learning_rate * np.log((1 - weighted_error) / weighted_error) / 2\n",
        "            self.weights.append(alpha)\n",
        "\n",
        "            sample_weights *= np.exp(-alpha * y * y_pred)\n",
        "            sample_weights /= np.sum(sample_weights)\n",
        "\n",
        "    def predict(self, X):\n",
        "        y_pred = np.zeros(X.shape[0])\n",
        "\n",
        "        for i, tree in enumerate(self.estimators):\n",
        "            y_pred += self.weights[i] * tree.predict(X)\n",
        "\n",
        "\n",
        "        return y_pred\n",
        "\n"
      ],
      "metadata": {
        "execution": {
          "iopub.status.busy": "2023-05-03T14:44:29.968352Z",
          "iopub.execute_input": "2023-05-03T14:44:29.968691Z",
          "iopub.status.idle": "2023-05-03T14:44:29.982811Z",
          "shell.execute_reply.started": "2023-05-03T14:44:29.968658Z",
          "shell.execute_reply": "2023-05-03T14:44:29.981544Z"
        },
        "trusted": true,
        "id": "PEs8oq1eeQec"
      },
      "execution_count": null,
      "outputs": []
    },
    {
      "cell_type": "code",
      "source": [],
      "metadata": {
        "trusted": true,
        "id": "2rfx-3_ceQec"
      },
      "execution_count": null,
      "outputs": []
    },
    {
      "cell_type": "code",
      "source": [
        "import numpy as np\n",
        "from sklearn.datasets import load_boston\n",
        "from sklearn.metrics import mean_squared_error\n",
        "from sklearn.model_selection import train_test_split\n",
        "from sklearn.ensemble import AdaBoostRegressor\n",
        "\n",
        "# Load Boston Housing dataset\n",
        "# X, Y = load_boston(return_X_y=True)\n",
        "\n",
        "# Split the data into training and testing sets\n",
        "X_train, X_test, y_train, y_test = train_test_split(X, Y, test_size=0.2, random_state=42)\n",
        "\n",
        "# Create an AdaBoostRegressor object with default parameters\n",
        "gb = AdaBoostRegressor()\n",
        "\n",
        "# Train the model on the training data\n",
        "gb.fit(X_train, y_train)\n",
        "\n",
        "# Make predictions on the testing data\n",
        "y_pred = gb.predict(X_test)\n",
        "\n",
        "# Compute the mean squared error\n",
        "mse = mean_squared_error(y_test, y_pred)\n",
        "print(\"Mean squared error: {:.2f}\".format(mse))\n",
        "\n",
        "\n"
      ],
      "metadata": {
        "execution": {
          "iopub.status.busy": "2023-05-03T14:44:29.984283Z",
          "iopub.execute_input": "2023-05-03T14:44:29.984603Z",
          "iopub.status.idle": "2023-05-03T14:44:30.048147Z",
          "shell.execute_reply.started": "2023-05-03T14:44:29.984573Z",
          "shell.execute_reply": "2023-05-03T14:44:30.046931Z"
        },
        "trusted": true,
        "id": "s4_7YLAXeQec",
        "outputId": "a4ad15fb-0370-4313-b632-0a9c10fca87d"
      },
      "execution_count": null,
      "outputs": [
        {
          "name": "stdout",
          "text": "Mean squared error: 0.90\n",
          "output_type": "stream"
        }
      ]
    },
    {
      "cell_type": "code",
      "source": [
        "y_pred    # GPAs of test data"
      ],
      "metadata": {
        "execution": {
          "iopub.status.busy": "2023-05-03T14:44:30.050020Z",
          "iopub.execute_input": "2023-05-03T14:44:30.050527Z",
          "iopub.status.idle": "2023-05-03T14:44:30.058741Z",
          "shell.execute_reply.started": "2023-05-03T14:44:30.050477Z",
          "shell.execute_reply": "2023-05-03T14:44:30.057271Z"
        },
        "trusted": true,
        "id": "HBK6c_-eeQec",
        "outputId": "d173d32b-7975-4c6f-b5f9-35ff0d6a0fa5"
      },
      "execution_count": null,
      "outputs": [
        {
          "execution_count": 18,
          "output_type": "execute_result",
          "data": {
            "text/plain": "array([6.91525424, 6.625     , 7.26923077, 6.92307692, 7.22222222,\n       7.        , 7.        , 6.75757576, 7.67567568, 7.975     ,\n       6.80645161, 7.43137255, 7.5       , 7.53846154, 6.94736842,\n       6.92307692, 7.975     , 6.91525424, 7.35185185, 6.94736842,\n       7.53846154, 7.35185185, 6.90909091, 7.53846154, 6.90909091,\n       7.07142857, 8.        , 7.17910448])"
          },
          "metadata": {}
        }
      ]
    },
    {
      "cell_type": "code",
      "source": [
        "\n"
      ],
      "metadata": {
        "trusted": true,
        "id": "7UQ4h39ceQed"
      },
      "execution_count": null,
      "outputs": []
    },
    {
      "cell_type": "code",
      "source": [
        "\n"
      ],
      "metadata": {
        "id": "9Lv92EYQeQed"
      },
      "execution_count": null,
      "outputs": []
    }
  ]
}